{
 "cells": [
  {
   "cell_type": "markdown",
   "id": "ee34203f",
   "metadata": {},
   "source": [
    "# КОММЕНТАРИЙ РЕВЬЮВЕРА\n",
    "Привет Александр 👋!)\n",
    "\n",
    "Меня зовут Сибирев Владислав, я осуществлял проверку проекта. Может перейдем сразу на <b>ты</b>? Если это неприемлемо, то обязательно дай знать)\n",
    "\n",
    "Далее по ходу работы ты сможешь встретить мои комментарии, они будут отмечены разными цветами:\n",
    "\n",
    "<div class=\"alert alert-block alert-success\">\n",
    " ✔️ Похвала и возможности развития\n",
    "</div>\n",
    "<div class=\"alert alert-block alert-warning\">\n",
    "⚠️ Некритичные замечания, но стоит обратить внимание\n",
    "</div>\n",
    "<div class=\"alert alert-block alert-danger\">\n",
    "❌ Грубая ошибка, необходимо исправить\n",
    "</div>\n",
    "\n",
    "\n",
    "Заранее прошу не удалять мои комментарии, это важно. Если у тебя возникнут вопросы, обозначь их, я с радостью тебе помогу!)\n",
    "\n",
    "Как вариант, можешь обозначить их так:\n",
    "<div class=\"alert alert-block alert-info\">\n",
    "<b>КОММЕНТАРИЙ СТУДЕНТА: </b>"
   ]
  },
  {
   "cell_type": "markdown",
   "id": "1101b31c",
   "metadata": {
    "deletable": false,
    "editable": false,
    "id": "c81daeeb"
   },
   "source": [
    "# Исследование надежности заемщиков\n"
   ]
  },
  {
   "cell_type": "markdown",
   "id": "e479039a",
   "metadata": {
    "deletable": false,
    "editable": false,
    "id": "827c20bf"
   },
   "source": [
    "Во второй части проекта вы выполните шаги 3 и 4. Их вручную проверит ревьюер.\n",
    "Чтобы вам не пришлось писать код заново для шагов 1 и 2, мы добавили авторские решения в ячейки с кодом. \n",
    "\n"
   ]
  },
  {
   "cell_type": "markdown",
   "id": "4063fd9d",
   "metadata": {},
   "source": [
    "<div class=\"alert alert-block alert-success\">\n",
    "<b>Комментарий ревьюера:</b> \n",
    "\n",
    "✔️ В следующих проектах не забывай про описание проекта, это очень важно, нужно указать цель и задачи исследования, какие данные изучаются)) \n"
   ]
  },
  {
   "cell_type": "markdown",
   "id": "6ad602c1",
   "metadata": {},
   "source": [
    "<div class=\"alert alert-block alert-info\">\n",
    "<b>КОММЕНТАРИЙ СТУДЕНТА: </b>\n",
    "   \n",
    "    \n",
    "Привет. Спасибо за подробные комментарии. \n",
    "Хочу отметить, что части 1 и 2 проекта были предоставлены \"Практикумом\". Т.е. мое мсполнение этх заданий осталось в части, которай проверялась автоматически, а здесь, вплоть до 3 части, была заполнено. Что и указано на 2 коментария выше.  \n"
   ]
  },
  {
   "cell_type": "markdown",
   "id": "b23b5f63",
   "metadata": {},
   "source": [
    "<div class=\"alert alert-block alert-success\">\n",
    "<b>Комментарий ревьюера_V2:</b> \n",
    "\n",
    "✔️ Я знаю это комментарии на будущее, для использования в следующих проектах)) \n"
   ]
  },
  {
   "cell_type": "markdown",
   "id": "89908a58",
   "metadata": {
    "deletable": false,
    "editable": false,
    "id": "744d7639"
   },
   "source": [
    "## Откройте таблицу и изучите общую информацию о данных"
   ]
  },
  {
   "cell_type": "markdown",
   "id": "2b285020",
   "metadata": {
    "deletable": false,
    "editable": false,
    "id": "e7a14c31"
   },
   "source": [
    "**Задание 1. Импортируйте библиотеку pandas. Считайте данные из csv-файла в датафрейм и сохраните в переменную `data`. Путь к файлу:**\n",
    "\n",
    "`/datasets/data.csv`"
   ]
  },
  {
   "cell_type": "code",
   "execution_count": 2,
   "id": "e8f7fd1a",
   "metadata": {
    "deletable": false,
    "id": "7bcf75c9"
   },
   "outputs": [],
   "source": [
    "import pandas as pd\n",
    "\n",
    "try:\n",
    "    data = pd.read_csv('/datasets/data.csv')\n",
    "except:\n",
    "    data = pd.read_csv('https://code.s3.yandex.net/datasets/data.csv')"
   ]
  },
  {
   "cell_type": "markdown",
   "id": "f6f0afec",
   "metadata": {},
   "source": [
    "<div class=\"alert alert-block alert-success\">\n",
    "<b>Комментарий ревьюера:</b> \n",
    "\n",
    "✔️ Молодец, что используешь конструкцию __try и except__<br>\n",
    "P.S. Для следующих проектов нужно импортировать библиотеки в отдельной ячейке) Это позволяет быстро сориентироваться, что нужно для запуска проекта, если кто-то будет запускать его в другом окружении.\n"
   ]
  },
  {
   "cell_type": "markdown",
   "id": "43d52c7e",
   "metadata": {},
   "source": [
    "<div class=\"alert alert-block alert-info\">\n",
    "<b>КОММЕНТАРИЙ СТУДЕНТА: </b>\n",
    "    \n",
    "В уроках не объяснялось, как лучше обрабатывать rad_csv. И обработка исключений выше не является для меня чем-то очевидным. Будет ли ссылка под __except__<br> работать во всех проектах или она действительна только под этот конктретный файл?"
   ]
  },
  {
   "cell_type": "markdown",
   "id": "2e9d5894",
   "metadata": {},
   "source": [
    "<div class=\"alert alert-block alert-success\">\n",
    "<b>Комментарий ревьюера_V2:</b> \n",
    "\n",
    "✔️ __Try except__ это обработка исключений, то есть если одно действие не срабатывает, то другое должно исполниться, или если что-то не срабатывает, то тогда выполняется второе действие, то есть в данном случае это если `data = pd.read_csv('/datasets/data.csv')` не срабатывает, то исполнится `data = pd.read_csv('https://code.s3.yandex.net/datasets/data.csv')`\n",
    "   \n"
   ]
  },
  {
   "cell_type": "markdown",
   "id": "391d43bc",
   "metadata": {},
   "source": [
    "<div class=\"alert alert-block alert-info\">\n",
    "<b>КОММЕНТАРИЙ СТУДЕНТА_V2: </b>\n",
    "    \n",
    "Вопрос другой был. Эта сылка инвариантна для датасетов во всех проектов или она каждый раз меняется?"
   ]
  },
  {
   "cell_type": "markdown",
   "id": "97953d35",
   "metadata": {},
   "source": [
    "<div class=\"alert alert-block alert-success\">\n",
    "<b>Комментарий ревьюера_V3:</b> \n",
    "\n",
    "✔️ Для каждого проекта, будет своя ссылка, но `/datasets/` будет использоваться для всех проектов))\n",
    "   "
   ]
  },
  {
   "cell_type": "markdown",
   "id": "c36ec059",
   "metadata": {
    "deletable": false,
    "editable": false,
    "id": "b8038fe3"
   },
   "source": [
    "**Задание 2. Выведите первые 20 строчек датафрейма `data` на экран.**"
   ]
  },
  {
   "cell_type": "code",
   "execution_count": 3,
   "id": "0fb4639b",
   "metadata": {
    "deletable": false,
    "id": "2a7cab99",
    "outputId": "1a8f3ef2-d323-4ec2-ddf7-89670b5944c4"
   },
   "outputs": [
    {
     "data": {
      "text/html": [
       "<div>\n",
       "<style scoped>\n",
       "    .dataframe tbody tr th:only-of-type {\n",
       "        vertical-align: middle;\n",
       "    }\n",
       "\n",
       "    .dataframe tbody tr th {\n",
       "        vertical-align: top;\n",
       "    }\n",
       "\n",
       "    .dataframe thead th {\n",
       "        text-align: right;\n",
       "    }\n",
       "</style>\n",
       "<table border=\"1\" class=\"dataframe\">\n",
       "  <thead>\n",
       "    <tr style=\"text-align: right;\">\n",
       "      <th></th>\n",
       "      <th>children</th>\n",
       "      <th>days_employed</th>\n",
       "      <th>dob_years</th>\n",
       "      <th>education</th>\n",
       "      <th>education_id</th>\n",
       "      <th>family_status</th>\n",
       "      <th>family_status_id</th>\n",
       "      <th>gender</th>\n",
       "      <th>income_type</th>\n",
       "      <th>debt</th>\n",
       "      <th>total_income</th>\n",
       "      <th>purpose</th>\n",
       "    </tr>\n",
       "  </thead>\n",
       "  <tbody>\n",
       "    <tr>\n",
       "      <th>0</th>\n",
       "      <td>1</td>\n",
       "      <td>-8437.673028</td>\n",
       "      <td>42</td>\n",
       "      <td>высшее</td>\n",
       "      <td>0</td>\n",
       "      <td>женат / замужем</td>\n",
       "      <td>0</td>\n",
       "      <td>F</td>\n",
       "      <td>сотрудник</td>\n",
       "      <td>0</td>\n",
       "      <td>253875.639453</td>\n",
       "      <td>покупка жилья</td>\n",
       "    </tr>\n",
       "    <tr>\n",
       "      <th>1</th>\n",
       "      <td>1</td>\n",
       "      <td>-4024.803754</td>\n",
       "      <td>36</td>\n",
       "      <td>среднее</td>\n",
       "      <td>1</td>\n",
       "      <td>женат / замужем</td>\n",
       "      <td>0</td>\n",
       "      <td>F</td>\n",
       "      <td>сотрудник</td>\n",
       "      <td>0</td>\n",
       "      <td>112080.014102</td>\n",
       "      <td>приобретение автомобиля</td>\n",
       "    </tr>\n",
       "    <tr>\n",
       "      <th>2</th>\n",
       "      <td>0</td>\n",
       "      <td>-5623.422610</td>\n",
       "      <td>33</td>\n",
       "      <td>Среднее</td>\n",
       "      <td>1</td>\n",
       "      <td>женат / замужем</td>\n",
       "      <td>0</td>\n",
       "      <td>M</td>\n",
       "      <td>сотрудник</td>\n",
       "      <td>0</td>\n",
       "      <td>145885.952297</td>\n",
       "      <td>покупка жилья</td>\n",
       "    </tr>\n",
       "    <tr>\n",
       "      <th>3</th>\n",
       "      <td>3</td>\n",
       "      <td>-4124.747207</td>\n",
       "      <td>32</td>\n",
       "      <td>среднее</td>\n",
       "      <td>1</td>\n",
       "      <td>женат / замужем</td>\n",
       "      <td>0</td>\n",
       "      <td>M</td>\n",
       "      <td>сотрудник</td>\n",
       "      <td>0</td>\n",
       "      <td>267628.550329</td>\n",
       "      <td>дополнительное образование</td>\n",
       "    </tr>\n",
       "    <tr>\n",
       "      <th>4</th>\n",
       "      <td>0</td>\n",
       "      <td>340266.072047</td>\n",
       "      <td>53</td>\n",
       "      <td>среднее</td>\n",
       "      <td>1</td>\n",
       "      <td>гражданский брак</td>\n",
       "      <td>1</td>\n",
       "      <td>F</td>\n",
       "      <td>пенсионер</td>\n",
       "      <td>0</td>\n",
       "      <td>158616.077870</td>\n",
       "      <td>сыграть свадьбу</td>\n",
       "    </tr>\n",
       "    <tr>\n",
       "      <th>5</th>\n",
       "      <td>0</td>\n",
       "      <td>-926.185831</td>\n",
       "      <td>27</td>\n",
       "      <td>высшее</td>\n",
       "      <td>0</td>\n",
       "      <td>гражданский брак</td>\n",
       "      <td>1</td>\n",
       "      <td>M</td>\n",
       "      <td>компаньон</td>\n",
       "      <td>0</td>\n",
       "      <td>255763.565419</td>\n",
       "      <td>покупка жилья</td>\n",
       "    </tr>\n",
       "    <tr>\n",
       "      <th>6</th>\n",
       "      <td>0</td>\n",
       "      <td>-2879.202052</td>\n",
       "      <td>43</td>\n",
       "      <td>высшее</td>\n",
       "      <td>0</td>\n",
       "      <td>женат / замужем</td>\n",
       "      <td>0</td>\n",
       "      <td>F</td>\n",
       "      <td>компаньон</td>\n",
       "      <td>0</td>\n",
       "      <td>240525.971920</td>\n",
       "      <td>операции с жильем</td>\n",
       "    </tr>\n",
       "    <tr>\n",
       "      <th>7</th>\n",
       "      <td>0</td>\n",
       "      <td>-152.779569</td>\n",
       "      <td>50</td>\n",
       "      <td>СРЕДНЕЕ</td>\n",
       "      <td>1</td>\n",
       "      <td>женат / замужем</td>\n",
       "      <td>0</td>\n",
       "      <td>M</td>\n",
       "      <td>сотрудник</td>\n",
       "      <td>0</td>\n",
       "      <td>135823.934197</td>\n",
       "      <td>образование</td>\n",
       "    </tr>\n",
       "    <tr>\n",
       "      <th>8</th>\n",
       "      <td>2</td>\n",
       "      <td>-6929.865299</td>\n",
       "      <td>35</td>\n",
       "      <td>ВЫСШЕЕ</td>\n",
       "      <td>0</td>\n",
       "      <td>гражданский брак</td>\n",
       "      <td>1</td>\n",
       "      <td>F</td>\n",
       "      <td>сотрудник</td>\n",
       "      <td>0</td>\n",
       "      <td>95856.832424</td>\n",
       "      <td>на проведение свадьбы</td>\n",
       "    </tr>\n",
       "    <tr>\n",
       "      <th>9</th>\n",
       "      <td>0</td>\n",
       "      <td>-2188.756445</td>\n",
       "      <td>41</td>\n",
       "      <td>среднее</td>\n",
       "      <td>1</td>\n",
       "      <td>женат / замужем</td>\n",
       "      <td>0</td>\n",
       "      <td>M</td>\n",
       "      <td>сотрудник</td>\n",
       "      <td>0</td>\n",
       "      <td>144425.938277</td>\n",
       "      <td>покупка жилья для семьи</td>\n",
       "    </tr>\n",
       "    <tr>\n",
       "      <th>10</th>\n",
       "      <td>2</td>\n",
       "      <td>-4171.483647</td>\n",
       "      <td>36</td>\n",
       "      <td>высшее</td>\n",
       "      <td>0</td>\n",
       "      <td>женат / замужем</td>\n",
       "      <td>0</td>\n",
       "      <td>M</td>\n",
       "      <td>компаньон</td>\n",
       "      <td>0</td>\n",
       "      <td>113943.491460</td>\n",
       "      <td>покупка недвижимости</td>\n",
       "    </tr>\n",
       "    <tr>\n",
       "      <th>11</th>\n",
       "      <td>0</td>\n",
       "      <td>-792.701887</td>\n",
       "      <td>40</td>\n",
       "      <td>среднее</td>\n",
       "      <td>1</td>\n",
       "      <td>женат / замужем</td>\n",
       "      <td>0</td>\n",
       "      <td>F</td>\n",
       "      <td>сотрудник</td>\n",
       "      <td>0</td>\n",
       "      <td>77069.234271</td>\n",
       "      <td>покупка коммерческой недвижимости</td>\n",
       "    </tr>\n",
       "    <tr>\n",
       "      <th>12</th>\n",
       "      <td>0</td>\n",
       "      <td>NaN</td>\n",
       "      <td>65</td>\n",
       "      <td>среднее</td>\n",
       "      <td>1</td>\n",
       "      <td>гражданский брак</td>\n",
       "      <td>1</td>\n",
       "      <td>M</td>\n",
       "      <td>пенсионер</td>\n",
       "      <td>0</td>\n",
       "      <td>NaN</td>\n",
       "      <td>сыграть свадьбу</td>\n",
       "    </tr>\n",
       "    <tr>\n",
       "      <th>13</th>\n",
       "      <td>0</td>\n",
       "      <td>-1846.641941</td>\n",
       "      <td>54</td>\n",
       "      <td>неоконченное высшее</td>\n",
       "      <td>2</td>\n",
       "      <td>женат / замужем</td>\n",
       "      <td>0</td>\n",
       "      <td>F</td>\n",
       "      <td>сотрудник</td>\n",
       "      <td>0</td>\n",
       "      <td>130458.228857</td>\n",
       "      <td>приобретение автомобиля</td>\n",
       "    </tr>\n",
       "    <tr>\n",
       "      <th>14</th>\n",
       "      <td>0</td>\n",
       "      <td>-1844.956182</td>\n",
       "      <td>56</td>\n",
       "      <td>высшее</td>\n",
       "      <td>0</td>\n",
       "      <td>гражданский брак</td>\n",
       "      <td>1</td>\n",
       "      <td>F</td>\n",
       "      <td>компаньон</td>\n",
       "      <td>1</td>\n",
       "      <td>165127.911772</td>\n",
       "      <td>покупка жилой недвижимости</td>\n",
       "    </tr>\n",
       "    <tr>\n",
       "      <th>15</th>\n",
       "      <td>1</td>\n",
       "      <td>-972.364419</td>\n",
       "      <td>26</td>\n",
       "      <td>среднее</td>\n",
       "      <td>1</td>\n",
       "      <td>женат / замужем</td>\n",
       "      <td>0</td>\n",
       "      <td>F</td>\n",
       "      <td>сотрудник</td>\n",
       "      <td>0</td>\n",
       "      <td>116820.904450</td>\n",
       "      <td>строительство собственной недвижимости</td>\n",
       "    </tr>\n",
       "    <tr>\n",
       "      <th>16</th>\n",
       "      <td>0</td>\n",
       "      <td>-1719.934226</td>\n",
       "      <td>35</td>\n",
       "      <td>среднее</td>\n",
       "      <td>1</td>\n",
       "      <td>женат / замужем</td>\n",
       "      <td>0</td>\n",
       "      <td>F</td>\n",
       "      <td>сотрудник</td>\n",
       "      <td>0</td>\n",
       "      <td>289202.704229</td>\n",
       "      <td>недвижимость</td>\n",
       "    </tr>\n",
       "    <tr>\n",
       "      <th>17</th>\n",
       "      <td>0</td>\n",
       "      <td>-2369.999720</td>\n",
       "      <td>33</td>\n",
       "      <td>высшее</td>\n",
       "      <td>0</td>\n",
       "      <td>гражданский брак</td>\n",
       "      <td>1</td>\n",
       "      <td>M</td>\n",
       "      <td>сотрудник</td>\n",
       "      <td>0</td>\n",
       "      <td>90410.586745</td>\n",
       "      <td>строительство недвижимости</td>\n",
       "    </tr>\n",
       "    <tr>\n",
       "      <th>18</th>\n",
       "      <td>0</td>\n",
       "      <td>400281.136913</td>\n",
       "      <td>53</td>\n",
       "      <td>среднее</td>\n",
       "      <td>1</td>\n",
       "      <td>вдовец / вдова</td>\n",
       "      <td>2</td>\n",
       "      <td>F</td>\n",
       "      <td>пенсионер</td>\n",
       "      <td>0</td>\n",
       "      <td>56823.777243</td>\n",
       "      <td>на покупку подержанного автомобиля</td>\n",
       "    </tr>\n",
       "    <tr>\n",
       "      <th>19</th>\n",
       "      <td>0</td>\n",
       "      <td>-10038.818549</td>\n",
       "      <td>48</td>\n",
       "      <td>СРЕДНЕЕ</td>\n",
       "      <td>1</td>\n",
       "      <td>в разводе</td>\n",
       "      <td>3</td>\n",
       "      <td>F</td>\n",
       "      <td>сотрудник</td>\n",
       "      <td>0</td>\n",
       "      <td>242831.107982</td>\n",
       "      <td>на покупку своего автомобиля</td>\n",
       "    </tr>\n",
       "  </tbody>\n",
       "</table>\n",
       "</div>"
      ],
      "text/plain": [
       "    children  days_employed  dob_years            education  education_id  \\\n",
       "0          1   -8437.673028         42               высшее             0   \n",
       "1          1   -4024.803754         36              среднее             1   \n",
       "2          0   -5623.422610         33              Среднее             1   \n",
       "3          3   -4124.747207         32              среднее             1   \n",
       "4          0  340266.072047         53              среднее             1   \n",
       "5          0    -926.185831         27               высшее             0   \n",
       "6          0   -2879.202052         43               высшее             0   \n",
       "7          0    -152.779569         50              СРЕДНЕЕ             1   \n",
       "8          2   -6929.865299         35               ВЫСШЕЕ             0   \n",
       "9          0   -2188.756445         41              среднее             1   \n",
       "10         2   -4171.483647         36               высшее             0   \n",
       "11         0    -792.701887         40              среднее             1   \n",
       "12         0            NaN         65              среднее             1   \n",
       "13         0   -1846.641941         54  неоконченное высшее             2   \n",
       "14         0   -1844.956182         56               высшее             0   \n",
       "15         1    -972.364419         26              среднее             1   \n",
       "16         0   -1719.934226         35              среднее             1   \n",
       "17         0   -2369.999720         33               высшее             0   \n",
       "18         0  400281.136913         53              среднее             1   \n",
       "19         0  -10038.818549         48              СРЕДНЕЕ             1   \n",
       "\n",
       "       family_status  family_status_id gender income_type  debt  \\\n",
       "0    женат / замужем                 0      F   сотрудник     0   \n",
       "1    женат / замужем                 0      F   сотрудник     0   \n",
       "2    женат / замужем                 0      M   сотрудник     0   \n",
       "3    женат / замужем                 0      M   сотрудник     0   \n",
       "4   гражданский брак                 1      F   пенсионер     0   \n",
       "5   гражданский брак                 1      M   компаньон     0   \n",
       "6    женат / замужем                 0      F   компаньон     0   \n",
       "7    женат / замужем                 0      M   сотрудник     0   \n",
       "8   гражданский брак                 1      F   сотрудник     0   \n",
       "9    женат / замужем                 0      M   сотрудник     0   \n",
       "10   женат / замужем                 0      M   компаньон     0   \n",
       "11   женат / замужем                 0      F   сотрудник     0   \n",
       "12  гражданский брак                 1      M   пенсионер     0   \n",
       "13   женат / замужем                 0      F   сотрудник     0   \n",
       "14  гражданский брак                 1      F   компаньон     1   \n",
       "15   женат / замужем                 0      F   сотрудник     0   \n",
       "16   женат / замужем                 0      F   сотрудник     0   \n",
       "17  гражданский брак                 1      M   сотрудник     0   \n",
       "18    вдовец / вдова                 2      F   пенсионер     0   \n",
       "19         в разводе                 3      F   сотрудник     0   \n",
       "\n",
       "     total_income                                 purpose  \n",
       "0   253875.639453                           покупка жилья  \n",
       "1   112080.014102                 приобретение автомобиля  \n",
       "2   145885.952297                           покупка жилья  \n",
       "3   267628.550329              дополнительное образование  \n",
       "4   158616.077870                         сыграть свадьбу  \n",
       "5   255763.565419                           покупка жилья  \n",
       "6   240525.971920                       операции с жильем  \n",
       "7   135823.934197                             образование  \n",
       "8    95856.832424                   на проведение свадьбы  \n",
       "9   144425.938277                 покупка жилья для семьи  \n",
       "10  113943.491460                    покупка недвижимости  \n",
       "11   77069.234271       покупка коммерческой недвижимости  \n",
       "12            NaN                         сыграть свадьбу  \n",
       "13  130458.228857                 приобретение автомобиля  \n",
       "14  165127.911772              покупка жилой недвижимости  \n",
       "15  116820.904450  строительство собственной недвижимости  \n",
       "16  289202.704229                            недвижимость  \n",
       "17   90410.586745              строительство недвижимости  \n",
       "18   56823.777243      на покупку подержанного автомобиля  \n",
       "19  242831.107982            на покупку своего автомобиля  "
      ]
     },
     "execution_count": 3,
     "metadata": {},
     "output_type": "execute_result"
    }
   ],
   "source": [
    "data.head(20)"
   ]
  },
  {
   "cell_type": "markdown",
   "id": "de1fe211",
   "metadata": {},
   "source": [
    "<div class=\"alert alert-block alert-success\">\n",
    "<b>Комментарий ревьюера:</b> \n",
    "\n",
    "✔️ Также в последствии можно использовать метод describe(), он показывает некоторые статистические данные, в общем тоже полезный метод https://www.javatpoint.com/pandas-dataframe-describe#:~:text=The%20describe()%20method%20is,sets%20of%20mixed%20data%20types.\n",
    "  </div>"
   ]
  },
  {
   "cell_type": "markdown",
   "id": "65da28f7",
   "metadata": {
    "deletable": false,
    "editable": false,
    "id": "1c12e233"
   },
   "source": [
    "**Задание 3. Выведите основную информацию о датафрейме с помощью метода `info()`.**"
   ]
  },
  {
   "cell_type": "code",
   "execution_count": 4,
   "id": "fc55c001",
   "metadata": {
    "deletable": false,
    "id": "2b757bca",
    "outputId": "15376089-8dad-46c9-b520-c05248d43158"
   },
   "outputs": [
    {
     "name": "stdout",
     "output_type": "stream",
     "text": [
      "<class 'pandas.core.frame.DataFrame'>\n",
      "RangeIndex: 21525 entries, 0 to 21524\n",
      "Data columns (total 12 columns):\n",
      " #   Column            Non-Null Count  Dtype  \n",
      "---  ------            --------------  -----  \n",
      " 0   children          21525 non-null  int64  \n",
      " 1   days_employed     19351 non-null  float64\n",
      " 2   dob_years         21525 non-null  int64  \n",
      " 3   education         21525 non-null  object \n",
      " 4   education_id      21525 non-null  int64  \n",
      " 5   family_status     21525 non-null  object \n",
      " 6   family_status_id  21525 non-null  int64  \n",
      " 7   gender            21525 non-null  object \n",
      " 8   income_type       21525 non-null  object \n",
      " 9   debt              21525 non-null  int64  \n",
      " 10  total_income      19351 non-null  float64\n",
      " 11  purpose           21525 non-null  object \n",
      "dtypes: float64(2), int64(5), object(5)\n",
      "memory usage: 2.0+ MB\n"
     ]
    }
   ],
   "source": [
    "data.info()"
   ]
  },
  {
   "cell_type": "markdown",
   "id": "4e8635f7",
   "metadata": {
    "deletable": false,
    "editable": false,
    "id": "333ec665"
   },
   "source": [
    "## Предобработка данных"
   ]
  },
  {
   "cell_type": "markdown",
   "id": "cd9c6ce9",
   "metadata": {
    "deletable": false,
    "editable": false,
    "id": "02d92d53"
   },
   "source": [
    "### Удаление пропусков"
   ]
  },
  {
   "cell_type": "markdown",
   "id": "9b497447",
   "metadata": {
    "deletable": false,
    "editable": false,
    "id": "cd84967c"
   },
   "source": [
    "**Задание 4. Выведите количество пропущенных значений для каждого столбца. Используйте комбинацию двух методов.**"
   ]
  },
  {
   "cell_type": "code",
   "execution_count": 5,
   "id": "2f0fd038",
   "metadata": {
    "deletable": false,
    "id": "7f9b2309",
    "outputId": "81f4d817-781c-465c-ed15-91ce4446810d"
   },
   "outputs": [
    {
     "data": {
      "text/plain": [
       "children               0\n",
       "days_employed       2174\n",
       "dob_years              0\n",
       "education              0\n",
       "education_id           0\n",
       "family_status          0\n",
       "family_status_id       0\n",
       "gender                 0\n",
       "income_type            0\n",
       "debt                   0\n",
       "total_income        2174\n",
       "purpose                0\n",
       "dtype: int64"
      ]
     },
     "execution_count": 5,
     "metadata": {},
     "output_type": "execute_result"
    }
   ],
   "source": [
    "data.isna().sum()"
   ]
  },
  {
   "cell_type": "markdown",
   "id": "4d9dd160",
   "metadata": {},
   "source": [
    "<div class=\"alert alert-block alert-success\">\n",
    "<b>Комментарий ревьюера:</b>\n",
    "\n",
    "✔️ Изучить долю пропущенных пропусков можно еще с помощью `data.isna().mean()*100`\n",
    "  </div>"
   ]
  },
  {
   "cell_type": "markdown",
   "id": "7ed2f7e5",
   "metadata": {
    "deletable": false,
    "editable": false,
    "id": "db86e27b"
   },
   "source": [
    "**Задание 5. В двух столбцах есть пропущенные значения. Один из них — `days_employed`. Пропуски в этом столбце вы обработаете на следующем этапе. Другой столбец с пропущенными значениями — `total_income` — хранит данные о доходах. На сумму дохода сильнее всего влияет тип занятости, поэтому заполнить пропуски в этом столбце нужно медианным значением по каждому типу из столбца `income_type`. Например, у человека с типом занятости `сотрудник` пропуск в столбце `total_income` должен быть заполнен медианным доходом среди всех записей с тем же типом.**"
   ]
  },
  {
   "cell_type": "code",
   "execution_count": 6,
   "id": "63e31325",
   "metadata": {
    "deletable": false,
    "id": "42006a93"
   },
   "outputs": [],
   "source": [
    "for t in data['income_type'].unique():\n",
    "    data.loc[(data['income_type'] == t) & (data['total_income'].isna()), 'total_income'] = \\\n",
    "    data.loc[(data['income_type'] == t), 'total_income'].median()"
   ]
  },
  {
   "cell_type": "markdown",
   "id": "ed51ad00",
   "metadata": {},
   "source": [
    "<div class=\"alert alert-block alert-success\">\n",
    "<b>Комментарий ревьюера:</b>\n",
    "\n",
    " ✔️  Можно также использовать следующую конструкцию `data['total_income'] = data['total_income'].fillna(data.groupby(['income_type'])['total_income'].transform('median'))`\n",
    "Функция transform() в принципе полезная https://pandas.pydata.org/pandas-docs/stable/reference/api/pandas.DataFrame.transform.html\n",
    "  </div>"
   ]
  },
  {
   "cell_type": "markdown",
   "id": "1e746695",
   "metadata": {
    "deletable": false,
    "editable": false,
    "id": "89da5ece"
   },
   "source": [
    "### Обработка аномальных значений"
   ]
  },
  {
   "cell_type": "markdown",
   "id": "5e0d27f0",
   "metadata": {
    "deletable": false,
    "editable": false,
    "id": "57964554"
   },
   "source": [
    "**Задание 6. В данных могут встречаться артефакты (аномалии) — значения, которые не отражают действительность и появились по какой-то ошибке. таким артефактом будет отрицательное количество дней трудового стажа в столбце `days_employed`. Для реальных данных это нормально. Обработайте значения в этом столбце: замените все отрицательные значения положительными с помощью метода `abs()`.**"
   ]
  },
  {
   "cell_type": "code",
   "execution_count": 7,
   "id": "68057d4f",
   "metadata": {
    "deletable": false,
    "id": "f6f055bf"
   },
   "outputs": [],
   "source": [
    "data['days_employed'] = data['days_employed'].abs()"
   ]
  },
  {
   "cell_type": "markdown",
   "id": "635dd972",
   "metadata": {
    "deletable": false,
    "editable": false,
    "id": "6107dd2f"
   },
   "source": [
    "**Задание 7. Для каждого типа занятости выведите медианное значение трудового стажа `days_employed` в днях.**"
   ]
  },
  {
   "cell_type": "code",
   "execution_count": 8,
   "id": "629588d5",
   "metadata": {
    "deletable": false,
    "id": "85a5faf6",
    "outputId": "801ef80e-522b-4668-f34e-565af7432bcf"
   },
   "outputs": [
    {
     "data": {
      "text/plain": [
       "income_type\n",
       "безработный        366413.652744\n",
       "в декрете            3296.759962\n",
       "госслужащий          2689.368353\n",
       "компаньон            1547.382223\n",
       "пенсионер          365213.306266\n",
       "предприниматель       520.848083\n",
       "сотрудник            1574.202821\n",
       "студент               578.751554\n",
       "Name: days_employed, dtype: float64"
      ]
     },
     "execution_count": 8,
     "metadata": {},
     "output_type": "execute_result"
    }
   ],
   "source": [
    "data.groupby('income_type')['days_employed'].agg('median')"
   ]
  },
  {
   "cell_type": "markdown",
   "id": "c9eff4dc",
   "metadata": {
    "deletable": false,
    "editable": false,
    "id": "38d1a030"
   },
   "source": [
    "У двух типов (безработные и пенсионеры) получатся аномально большие значения. Исправить такие значения сложно, поэтому оставьте их как есть. Тем более этот столбец не понадобится вам для исследования."
   ]
  },
  {
   "cell_type": "markdown",
   "id": "dae11caf",
   "metadata": {
    "deletable": false,
    "editable": false,
    "id": "d8a9f147"
   },
   "source": [
    "**Задание 8. Выведите перечень уникальных значений столбца `children`.**"
   ]
  },
  {
   "cell_type": "code",
   "execution_count": 9,
   "id": "7d1f71bd",
   "metadata": {
    "deletable": false,
    "id": "ef5056eb",
    "outputId": "6975b15c-7f95-4697-d16d-a0c79b657b03"
   },
   "outputs": [
    {
     "data": {
      "text/plain": [
       "array([ 1,  0,  3,  2, -1,  4, 20,  5])"
      ]
     },
     "execution_count": 9,
     "metadata": {},
     "output_type": "execute_result"
    }
   ],
   "source": [
    "data['children'].unique()"
   ]
  },
  {
   "cell_type": "markdown",
   "id": "93bfa290",
   "metadata": {
    "deletable": false,
    "editable": false,
    "id": "40b9ebf2"
   },
   "source": [
    "**Задание 9. В столбце `children` есть два аномальных значения. Удалите строки, в которых встречаются такие аномальные значения из датафрейма `data`.**"
   ]
  },
  {
   "cell_type": "code",
   "execution_count": 10,
   "id": "c884044b",
   "metadata": {
    "deletable": false,
    "id": "3ff9801d"
   },
   "outputs": [],
   "source": [
    "data = data[(data['children'] != -1) & (data['children'] != 20)]"
   ]
  },
  {
   "cell_type": "markdown",
   "id": "8ae26c6b",
   "metadata": {
    "deletable": false,
    "editable": false,
    "id": "bbc4d0ce"
   },
   "source": [
    "**Задание 10. Ещё раз выведите перечень уникальных значений столбца `children`, чтобы убедиться, что артефакты удалены.**"
   ]
  },
  {
   "cell_type": "code",
   "execution_count": 11,
   "id": "497ba9fa",
   "metadata": {
    "deletable": false,
    "id": "ad4fa8b7",
    "outputId": "b2097101-d49d-44d9-901b-32a65c9463d1"
   },
   "outputs": [
    {
     "data": {
      "text/plain": [
       "array([1, 0, 3, 2, 4, 5])"
      ]
     },
     "execution_count": 11,
     "metadata": {},
     "output_type": "execute_result"
    }
   ],
   "source": [
    "data['children'].unique()"
   ]
  },
  {
   "cell_type": "markdown",
   "id": "bf695c86",
   "metadata": {
    "deletable": false,
    "editable": false,
    "id": "75440b63"
   },
   "source": [
    "### Удаление пропусков (продолжение)"
   ]
  },
  {
   "cell_type": "markdown",
   "id": "7e6fa4b7",
   "metadata": {
    "deletable": false,
    "editable": false,
    "id": "f4ea573f"
   },
   "source": [
    "**Задание 11. Заполните пропуски в столбце `days_employed` медианными значениями по каждого типа занятости `income_type`.**"
   ]
  },
  {
   "cell_type": "code",
   "execution_count": 12,
   "id": "45d8cf61",
   "metadata": {
    "deletable": false,
    "id": "af6b1a7e"
   },
   "outputs": [],
   "source": [
    "for t in data['income_type'].unique():\n",
    "    data.loc[(data['income_type'] == t) & (data['days_employed'].isna()), 'days_employed'] = \\\n",
    "    data.loc[(data['income_type'] == t), 'days_employed'].median()"
   ]
  },
  {
   "cell_type": "markdown",
   "id": "4d8a3322",
   "metadata": {
    "deletable": false,
    "editable": false,
    "id": "2753f40d"
   },
   "source": [
    "**Задание 12. Убедитесь, что все пропуски заполнены. Проверьте себя и ещё раз выведите количество пропущенных значений для каждого столбца с помощью двух методов.**"
   ]
  },
  {
   "cell_type": "code",
   "execution_count": 13,
   "id": "e3a06a04",
   "metadata": {
    "deletable": false,
    "id": "55f78bc2",
    "outputId": "8da1e4e1-358e-4e87-98c9-f261bce0a7b2"
   },
   "outputs": [
    {
     "data": {
      "text/plain": [
       "children            0\n",
       "days_employed       0\n",
       "dob_years           0\n",
       "education           0\n",
       "education_id        0\n",
       "family_status       0\n",
       "family_status_id    0\n",
       "gender              0\n",
       "income_type         0\n",
       "debt                0\n",
       "total_income        0\n",
       "purpose             0\n",
       "dtype: int64"
      ]
     },
     "execution_count": 13,
     "metadata": {},
     "output_type": "execute_result"
    }
   ],
   "source": [
    "data.isna().sum()"
   ]
  },
  {
   "cell_type": "markdown",
   "id": "19680a48",
   "metadata": {
    "deletable": false,
    "editable": false,
    "id": "ddc81e43"
   },
   "source": [
    "### Изменение типов данных"
   ]
  },
  {
   "cell_type": "markdown",
   "id": "28af8ff2",
   "metadata": {
    "deletable": false,
    "editable": false,
    "id": "42d19d24"
   },
   "source": [
    "**Задание 13. Замените вещественный тип данных в столбце `total_income` на целочисленный с помощью метода `astype()`.**"
   ]
  },
  {
   "cell_type": "code",
   "execution_count": 14,
   "id": "182a9e87",
   "metadata": {
    "deletable": false,
    "id": "920b65ad"
   },
   "outputs": [],
   "source": [
    "data['total_income'] = data['total_income'].astype(int)"
   ]
  },
  {
   "cell_type": "markdown",
   "id": "6637de6f",
   "metadata": {
    "deletable": false,
    "editable": false,
    "id": "80c420ba"
   },
   "source": [
    "### Обработка дубликатов"
   ]
  },
  {
   "cell_type": "markdown",
   "id": "d5e91ace",
   "metadata": {
    "deletable": false,
    "editable": false
   },
   "source": [
    "**Задание 14. Обработайте неявные дубликаты в столбце `education`. В этом столбце есть одни и те же значения, но записанные по-разному: с использованием заглавных и строчных букв. Приведите их к нижнему регистру. Проверьте остальные столбцы.**"
   ]
  },
  {
   "cell_type": "code",
   "execution_count": 15,
   "id": "6453f0ce",
   "metadata": {
    "deletable": false
   },
   "outputs": [],
   "source": [
    "data['education'] = data['education'].str.lower()"
   ]
  },
  {
   "cell_type": "markdown",
   "id": "7f3200b3",
   "metadata": {
    "deletable": false,
    "editable": false,
    "id": "dc587695"
   },
   "source": [
    "**Задание 15. Выведите на экран количество строк-дубликатов в данных. Если такие строки присутствуют, удалите их.**"
   ]
  },
  {
   "cell_type": "code",
   "execution_count": 16,
   "id": "8c6b99d7",
   "metadata": {
    "deletable": false,
    "id": "3ee445e4",
    "outputId": "9684deba-1934-42d1-99e1-cda61740f822"
   },
   "outputs": [
    {
     "data": {
      "text/plain": [
       "71"
      ]
     },
     "execution_count": 16,
     "metadata": {},
     "output_type": "execute_result"
    }
   ],
   "source": [
    "data.duplicated().sum()"
   ]
  },
  {
   "cell_type": "code",
   "execution_count": 17,
   "id": "0d7fddbd",
   "metadata": {
    "deletable": false,
    "id": "8575fe05"
   },
   "outputs": [],
   "source": [
    "data = data.drop_duplicates()"
   ]
  },
  {
   "cell_type": "markdown",
   "id": "0380515e",
   "metadata": {},
   "source": [
    "<div class=\"alert alert-block alert-success\">\n",
    "<b>Комментарий ревьюера:</b>\n",
    "\n",
    "✔️  От дубликатов избавился, молодец)\n",
    "  </div>"
   ]
  },
  {
   "cell_type": "markdown",
   "id": "dad1dc1e",
   "metadata": {
    "deletable": false,
    "editable": false,
    "id": "9904cf55"
   },
   "source": [
    "### Категоризация данных"
   ]
  },
  {
   "cell_type": "markdown",
   "id": "43952c7d",
   "metadata": {
    "deletable": false,
    "editable": false,
    "id": "72fcc8a2"
   },
   "source": [
    "**Задание 16. На основании диапазонов, указанных ниже, создайте в датафрейме `data` столбец `total_income_category` с категориями:**\n",
    "\n",
    "- 0–30000 — `'E'`;\n",
    "- 30001–50000 — `'D'`;\n",
    "- 50001–200000 — `'C'`;\n",
    "- 200001–1000000 — `'B'`;\n",
    "- 1000001 и выше — `'A'`.\n",
    "\n",
    "\n",
    "**Например, кредитополучателю с доходом 25000 нужно назначить категорию `'E'`, а клиенту, получающему 235000, — `'B'`. Используйте собственную функцию с именем `categorize_income()` и метод `apply()`.**"
   ]
  },
  {
   "cell_type": "code",
   "execution_count": 18,
   "id": "cb119157",
   "metadata": {
    "deletable": false,
    "id": "e1771346"
   },
   "outputs": [],
   "source": [
    "def categorize_income(income):\n",
    "    try:\n",
    "        if 0 <= income <= 30000:\n",
    "            return 'E'\n",
    "        elif 30001 <= income <= 50000:\n",
    "            return 'D'\n",
    "        elif 50001 <= income <= 200000:\n",
    "            return 'C'\n",
    "        elif 200001 <= income <= 1000000:\n",
    "            return 'B'\n",
    "        elif income >= 1000001:\n",
    "            return 'A'\n",
    "    except:\n",
    "        pass"
   ]
  },
  {
   "cell_type": "code",
   "execution_count": 19,
   "id": "30e73b9b",
   "metadata": {
    "deletable": false,
    "id": "d5f3586d"
   },
   "outputs": [],
   "source": [
    "data['total_income_category'] = data['total_income'].apply(categorize_income)"
   ]
  },
  {
   "cell_type": "markdown",
   "id": "fce2745c",
   "metadata": {},
   "source": [
    "<div class=\"alert alert-block alert-success\">\n",
    "<b>Комментарий ревьюера:</b>\n",
    "\n",
    "✔️  Функцию написал правильную, молодец, но применение функции лучше проверять с помощью `value_counts`, вдруг какое то условие не сработало)\n",
    "\n",
    "  </div>"
   ]
  },
  {
   "cell_type": "markdown",
   "id": "54934bea",
   "metadata": {
    "deletable": false,
    "editable": false,
    "id": "dde49b5c"
   },
   "source": [
    "**Задание 17. Выведите на экран перечень уникальных целей взятия кредита из столбца `purpose`.**"
   ]
  },
  {
   "cell_type": "code",
   "execution_count": 20,
   "id": "d464f587",
   "metadata": {
    "deletable": false,
    "id": "f67ce9b3",
    "outputId": "673c12d9-7d7e-4ae0-9812-c622c89dd244"
   },
   "outputs": [
    {
     "data": {
      "text/plain": [
       "array(['покупка жилья', 'приобретение автомобиля',\n",
       "       'дополнительное образование', 'сыграть свадьбу',\n",
       "       'операции с жильем', 'образование', 'на проведение свадьбы',\n",
       "       'покупка жилья для семьи', 'покупка недвижимости',\n",
       "       'покупка коммерческой недвижимости', 'покупка жилой недвижимости',\n",
       "       'строительство собственной недвижимости', 'недвижимость',\n",
       "       'строительство недвижимости', 'на покупку подержанного автомобиля',\n",
       "       'на покупку своего автомобиля',\n",
       "       'операции с коммерческой недвижимостью',\n",
       "       'строительство жилой недвижимости', 'жилье',\n",
       "       'операции со своей недвижимостью', 'автомобили',\n",
       "       'заняться образованием', 'сделка с подержанным автомобилем',\n",
       "       'получение образования', 'автомобиль', 'свадьба',\n",
       "       'получение дополнительного образования', 'покупка своего жилья',\n",
       "       'операции с недвижимостью', 'получение высшего образования',\n",
       "       'свой автомобиль', 'сделка с автомобилем',\n",
       "       'профильное образование', 'высшее образование',\n",
       "       'покупка жилья для сдачи', 'на покупку автомобиля', 'ремонт жилью',\n",
       "       'заняться высшим образованием'], dtype=object)"
      ]
     },
     "execution_count": 20,
     "metadata": {},
     "output_type": "execute_result"
    }
   ],
   "source": [
    "data['purpose'].unique()"
   ]
  },
  {
   "cell_type": "markdown",
   "id": "d6e88458",
   "metadata": {
    "deletable": false,
    "editable": false,
    "id": "85d0aef0"
   },
   "source": [
    "**Задание 18. Создайте функцию, которая на основании данных из столбца `purpose` сформирует новый столбец `purpose_category`, в который войдут следующие категории:**\n",
    "\n",
    "- `'операции с автомобилем'`,\n",
    "- `'операции с недвижимостью'`,\n",
    "- `'проведение свадьбы'`,\n",
    "- `'получение образования'`.\n",
    "\n",
    "**Например, если в столбце `purpose` находится подстрока `'на покупку автомобиля'`, то в столбце `purpose_category` должна появиться строка `'операции с автомобилем'`.**\n",
    "\n",
    "**Используйте собственную функцию с именем `categorize_purpose()` и метод `apply()`. Изучите данные в столбце `purpose` и определите, какие подстроки помогут вам правильно определить категорию.**"
   ]
  },
  {
   "cell_type": "code",
   "execution_count": 21,
   "id": "07aa7a57",
   "metadata": {
    "deletable": false,
    "id": "e149fab4"
   },
   "outputs": [],
   "source": [
    "def categorize_purpose(row):\n",
    "    try:\n",
    "        if 'автом' in row:\n",
    "            return 'операции с автомобилем'\n",
    "        elif 'жил' in row or 'недвиж' in row:\n",
    "            return 'операции с недвижимостью'\n",
    "        elif 'свад' in row:\n",
    "            return 'проведение свадьбы'\n",
    "        elif 'образов' in row:\n",
    "            return 'получение образования'\n",
    "    except:\n",
    "        return 'нет категории'"
   ]
  },
  {
   "cell_type": "code",
   "execution_count": 22,
   "id": "fdd16e53",
   "metadata": {
    "deletable": false,
    "id": "bf36e69b"
   },
   "outputs": [],
   "source": [
    "data['purpose_category'] = data['purpose'].apply(categorize_purpose)"
   ]
  },
  {
   "cell_type": "markdown",
   "id": "8dd075c3",
   "metadata": {},
   "source": [
    "<div class=\"alert alert-block alert-success\">\n",
    "<b>Комментарий ревьюера:</b>\n",
    "\n",
    "✔️ Здесь порядок, но лучше проверять всегда работает ли функция))\n",
    "  </div>"
   ]
  },
  {
   "cell_type": "markdown",
   "id": "417e7c98",
   "metadata": {
    "deletable": false,
    "editable": false,
    "id": "09b242bf"
   },
   "source": [
    "### Шаг 3. Исследуйте данные и ответьте на вопросы"
   ]
  },
  {
   "cell_type": "markdown",
   "id": "6f9c4d26",
   "metadata": {
    "deletable": false,
    "editable": false,
    "id": "c5d66278"
   },
   "source": [
    "#### 3.1 Есть ли зависимость между количеством детей и возвратом кредита в срок?"
   ]
  },
  {
   "cell_type": "markdown",
   "id": "1694716c",
   "metadata": {},
   "source": [
    "Для оценки зависимости между количеством детей и возвратом кредита в срок построим график вероятности просрочки кредита в зависимости от количества детей."
   ]
  },
  {
   "cell_type": "code",
   "execution_count": 23,
   "id": "82a19767",
   "metadata": {
    "deletable": false,
    "id": "2cacfc4a"
   },
   "outputs": [
    {
     "data": {
      "text/html": [
       "<div>\n",
       "<style scoped>\n",
       "    .dataframe tbody tr th:only-of-type {\n",
       "        vertical-align: middle;\n",
       "    }\n",
       "\n",
       "    .dataframe tbody tr th {\n",
       "        vertical-align: top;\n",
       "    }\n",
       "\n",
       "    .dataframe thead th {\n",
       "        text-align: right;\n",
       "    }\n",
       "</style>\n",
       "<table border=\"1\" class=\"dataframe\">\n",
       "  <thead>\n",
       "    <tr style=\"text-align: right;\">\n",
       "      <th></th>\n",
       "      <th>overdue</th>\n",
       "      <th>quantity</th>\n",
       "    </tr>\n",
       "    <tr>\n",
       "      <th>children</th>\n",
       "      <th></th>\n",
       "      <th></th>\n",
       "    </tr>\n",
       "  </thead>\n",
       "  <tbody>\n",
       "    <tr>\n",
       "      <th>0</th>\n",
       "      <td>1063</td>\n",
       "      <td>14091</td>\n",
       "    </tr>\n",
       "    <tr>\n",
       "      <th>1</th>\n",
       "      <td>444</td>\n",
       "      <td>4808</td>\n",
       "    </tr>\n",
       "    <tr>\n",
       "      <th>2</th>\n",
       "      <td>194</td>\n",
       "      <td>2052</td>\n",
       "    </tr>\n",
       "    <tr>\n",
       "      <th>3</th>\n",
       "      <td>27</td>\n",
       "      <td>330</td>\n",
       "    </tr>\n",
       "    <tr>\n",
       "      <th>4</th>\n",
       "      <td>4</td>\n",
       "      <td>41</td>\n",
       "    </tr>\n",
       "    <tr>\n",
       "      <th>5</th>\n",
       "      <td>0</td>\n",
       "      <td>9</td>\n",
       "    </tr>\n",
       "  </tbody>\n",
       "</table>\n",
       "</div>"
      ],
      "text/plain": [
       "          overdue  quantity\n",
       "children                   \n",
       "0            1063     14091\n",
       "1             444      4808\n",
       "2             194      2052\n",
       "3              27       330\n",
       "4               4        41\n",
       "5               0         9"
      ]
     },
     "execution_count": 23,
     "metadata": {},
     "output_type": "execute_result"
    }
   ],
   "source": [
    "#Сгруппируем данные по столбцу 'children' и просумируем по столбцу 'debt'\n",
    "children_debt_group_overdue = data.groupby('children')['debt'].sum()\n",
    "#Сгруппируем данные по столбцу 'children' и вычислим общее количество людей в группах по столбцу 'debt'\n",
    "children_debt_group_quantity = data.groupby('children')['debt'].count()\n",
    "# склеим таблицы для наглядности\n",
    "df1 = pd.DataFrame()\n",
    "df1['overdue'] = children_debt_group_overdue\n",
    "df1['quantity'] = children_debt_group_quantity\n",
    "df1"
   ]
  },
  {
   "cell_type": "markdown",
   "id": "a85a5b9e",
   "metadata": {},
   "source": [
    "<div class=\"alert alert-block alert-warning\">\n",
    "<b>Комментарий ревьюера_V2:</b> \n",
    "\n",
    "⚠️ Зачем нам код старый)) \n",
    "\n",
    "</div>"
   ]
  },
  {
   "cell_type": "markdown",
   "id": "32cd42e4",
   "metadata": {},
   "source": [
    "<div class=\"alert alert-block alert-success\">\n",
    "<b>Комментарий ревьюера_V3:</b> \n",
    "\n",
    "✔️ Молодец, здесь все исправил)) \n",
    "   "
   ]
  },
  {
   "cell_type": "code",
   "execution_count": 47,
   "id": "684eed55",
   "metadata": {},
   "outputs": [
    {
     "data": {
      "text/html": [
       "<div>\n",
       "<style scoped>\n",
       "    .dataframe tbody tr th:only-of-type {\n",
       "        vertical-align: middle;\n",
       "    }\n",
       "\n",
       "    .dataframe tbody tr th {\n",
       "        vertical-align: top;\n",
       "    }\n",
       "\n",
       "    .dataframe thead th {\n",
       "        text-align: right;\n",
       "    }\n",
       "</style>\n",
       "<table border=\"1\" class=\"dataframe\">\n",
       "  <thead>\n",
       "    <tr style=\"text-align: right;\">\n",
       "      <th></th>\n",
       "      <th>count</th>\n",
       "      <th>sum</th>\n",
       "      <th>mean</th>\n",
       "      <th>var</th>\n",
       "      <th>std</th>\n",
       "    </tr>\n",
       "    <tr>\n",
       "      <th>children</th>\n",
       "      <th></th>\n",
       "      <th></th>\n",
       "      <th></th>\n",
       "      <th></th>\n",
       "      <th></th>\n",
       "    </tr>\n",
       "  </thead>\n",
       "  <tbody>\n",
       "    <tr>\n",
       "      <th>0</th>\n",
       "      <td>14091</td>\n",
       "      <td>1063</td>\n",
       "      <td>0.075438</td>\n",
       "      <td>0.069752</td>\n",
       "      <td>0.264107</td>\n",
       "    </tr>\n",
       "    <tr>\n",
       "      <th>1</th>\n",
       "      <td>4808</td>\n",
       "      <td>444</td>\n",
       "      <td>0.092346</td>\n",
       "      <td>0.083836</td>\n",
       "      <td>0.289544</td>\n",
       "    </tr>\n",
       "    <tr>\n",
       "      <th>2</th>\n",
       "      <td>2052</td>\n",
       "      <td>194</td>\n",
       "      <td>0.094542</td>\n",
       "      <td>0.085645</td>\n",
       "      <td>0.292652</td>\n",
       "    </tr>\n",
       "    <tr>\n",
       "      <th>3</th>\n",
       "      <td>330</td>\n",
       "      <td>27</td>\n",
       "      <td>0.081818</td>\n",
       "      <td>0.075352</td>\n",
       "      <td>0.274504</td>\n",
       "    </tr>\n",
       "    <tr>\n",
       "      <th>4</th>\n",
       "      <td>41</td>\n",
       "      <td>4</td>\n",
       "      <td>0.097561</td>\n",
       "      <td>0.090244</td>\n",
       "      <td>0.300406</td>\n",
       "    </tr>\n",
       "    <tr>\n",
       "      <th>5</th>\n",
       "      <td>9</td>\n",
       "      <td>0</td>\n",
       "      <td>0.000000</td>\n",
       "      <td>0.000000</td>\n",
       "      <td>0.000000</td>\n",
       "    </tr>\n",
       "  </tbody>\n",
       "</table>\n",
       "</div>"
      ],
      "text/plain": [
       "          count   sum      mean       var       std\n",
       "children                                           \n",
       "0         14091  1063  0.075438  0.069752  0.264107\n",
       "1          4808   444  0.092346  0.083836  0.289544\n",
       "2          2052   194  0.094542  0.085645  0.292652\n",
       "3           330    27  0.081818  0.075352  0.274504\n",
       "4            41     4  0.097561  0.090244  0.300406\n",
       "5             9     0  0.000000  0.000000  0.000000"
      ]
     },
     "execution_count": 47,
     "metadata": {},
     "output_type": "execute_result"
    }
   ],
   "source": [
    "# рассчитаем вероятность просрчки по группам в процентах\n",
    "df1['debt_probability'] = (children_debt_group_overdue / children_debt_group_quantity) * 100\n",
    "df1 = df1.round({'debt_probability': 2})\n",
    "df1\n",
    "df20 = data.groupby(['children'])['debt'].agg(['count', 'sum', 'mean', 'var', 'std'])\n",
    "df20"
   ]
  },
  {
   "cell_type": "markdown",
   "id": "92746e1d",
   "metadata": {},
   "source": [
    "<div class=\"alert alert-block alert-warning\">\n",
    "<b>Комментарий ревьюера:</b> \n",
    "\n",
    "⚠️ Здесь давай по порядку (это касается изучение всех зависимостей):\n",
    "1) Таблицу отличную построил, но можно это оптимизировать `df2 = data.groupby(['children'])['debt'].agg(['count', 'sum', 'mean'])`. Одна строка и все будет готово)<br>\n",
    "2) В данном случае, нам не нужно использовать print(),таблица прекрасно выведется без этих данных)\n",
    "\n",
    "\n",
    "    \n",
    "  </div>"
   ]
  },
  {
   "cell_type": "markdown",
   "id": "9b4a6c54",
   "metadata": {},
   "source": [
    "<div class=\"alert alert-block alert-success\">\n",
    "<b>Комментарий ревьюера_V2:</b> \n",
    "\n",
    "✔️ Супер, молодец)) Только в следующий раз если речь о процентах, то умножай на 100, это касается столбца \"mean\"))\n",
    "   "
   ]
  },
  {
   "cell_type": "code",
   "execution_count": null,
   "id": "a0b17cff",
   "metadata": {},
   "outputs": [],
   "source": [
    "#Удалим последнюю строку, так как занчение 0 в столбце 'debt_probability' сльно выбивается из общего ряда.\n",
    "df1 = df1[df1['overdue'] != 0]"
   ]
  },
  {
   "cell_type": "code",
   "execution_count": null,
   "id": "d33cb80f",
   "metadata": {},
   "outputs": [],
   "source": [
    "#среднее по всей выборке\n",
    "data['debt'].mean()"
   ]
  },
  {
   "cell_type": "code",
   "execution_count": 28,
   "id": "1d68861a",
   "metadata": {
    "scrolled": true
   },
   "outputs": [
    {
     "data": {
      "image/png": "[encoded data removed]",
      "text/plain": [
       "<Figure size 432x288 with 1 Axes>"
      ]
     },
     "metadata": {
      "needs_background": "light"
     },
     "output_type": "display_data"
    }
   ],
   "source": [
    "#построим искомый график\n",
    "df1.plot(y='debt_probability',kind='bar', title='Kids', xlabel='Количество детей', legend=False, ylabel='Вероятность просрочки', xticks=range(5), yticks=range(1,11));"
   ]
  },
  {
   "cell_type": "markdown",
   "id": "012d03b3",
   "metadata": {},
   "source": [
    "<div class=\"alert alert-block alert-danger\">\n",
    "<b>Комментарий ревьюера:</b> \n",
    "\n",
    "❌ Здесь между данными нет линейной зависимости, поэтому лучше строить столбчатый график, просто добавь kind='bar'. Что еще важно, про название графиков не забываем (plt.title()) https://devpractice.ru/matplotlib-lesson-3-3-text-elements/ <br>\n",
    "От надписи <AxesSubplot:xlabel='Количество детей', ylabel='Вероятность просрочки'> давай избавимся, просто в конце поставь `;` или plt.show().<br>\n",
    "Это касается всех графиков, которые ты строил)\n",
    "  \n",
    "  </div>"
   ]
  },
  {
   "cell_type": "markdown",
   "id": "322f421d",
   "metadata": {},
   "source": [
    "<div class=\"alert alert-block alert-warning\">\n",
    "<b>Комментарий ревьюера_V2:</b> \n",
    "\n",
    "⚠️ Про название графиков не забываем)) Написал об этом выше))\n",
    "\n",
    "</div>"
   ]
  },
  {
   "cell_type": "markdown",
   "id": "da72f3a8",
   "metadata": {},
   "source": [
    "<div class=\"alert alert-block alert-success\">\n",
    "<b>Комментарий ревьюера_V3:</b> \n",
    "\n",
    "✔️ Молодец, про название графиков не забываем))\n",
    "   "
   ]
  },
  {
   "cell_type": "markdown",
   "id": "ea421316",
   "metadata": {
    "deletable": false,
    "id": "3a6b99ec"
   },
   "source": [
    "**Вывод:** \n",
    "Была исследована зависимость между количеством детей и возвратом кредита в срок. Для целей исследования был построен график вероятности просрочки кредита в зависимости от количества детей. \n",
    "Вероятность просрочки кредита была оценена, как отношение количества просрочивших кредит к количеству заемщиков в зависимости от количества детей.   \n",
    "Как видно из графика существует тенденция к увеличению вероятности просрочки при увеличениии количества детей.\n",
    "\n",
    "Имеет место перекос по количеству заемшиков в разных группах. Количество заемщиков без детей в 2 раза больше, чем всех остальных.\n",
    "\n"
   ]
  },
  {
   "cell_type": "markdown",
   "id": "bc8b3fd2",
   "metadata": {},
   "source": [
    "<div class=\"alert alert-block alert-danger\">\n",
    "<b>Комментарий ревьюера:</b> \n",
    "\n",
    "❌ Выводы надо детальными сделать)) \n",
    "  </div>"
   ]
  },
  {
   "cell_type": "markdown",
   "id": "8a4e6c8f",
   "metadata": {},
   "source": [
    "<div class=\"alert alert-block alert-info\">\n",
    "<b>КОММЕНТАРИЙ СТУДЕНТА: </b>\n",
    "    \n",
    "Нужен какой-нибудь пример, как писать выводы. Вообще статистический и исследовательские анализы данных это следующие темы. \n",
    "Прошу поподробнее расписать, что надо писать в подробных выводах. \n",
    "\n",
    "По каким критериям оценивать несбалансированность данных? Есть ли стандартные методы или функции?\n",
    "Как несбалансированность данных влияет на данное исследование? В интеренете я нашел только примеры, как несбалансированность влияет на обучение моделей."
   ]
  },
  {
   "cell_type": "markdown",
   "id": "235d210e",
   "metadata": {},
   "source": [
    "<div class=\"alert alert-block alert-success\">\n",
    "<b>Комментарий ревьюера_V2:</b> \n",
    "\n",
    "✔️ По поводу сбалансированности выборок вы будете дальше изучать, вот есть хорошая статья про это: https://habr.com/ru/company/skillfactory/blog/674880/ Есть куча методов (самый популрный метод шапиро-уилка), которые изучают сбалансированость выборки, но здесь это не тот случае))\n",
    "В выводах нужно отразить просто момент, что сбалансированность групп по данным разная, есть группы которые больше, а есть меньше, в целом в идеале можно было еще укрупнить группы, но на основе проведенного анализа можно сделать вывод, что люди, которые не имеют детей в целом хорошо отдают долг, но в тоже время данные о людях с 4 и 5 детьми малоинформативна, так как данных по ним много))\n",
    "   "
   ]
  },
  {
   "cell_type": "markdown",
   "id": "95b01999",
   "metadata": {},
   "source": [
    "<div class=\"alert alert-block alert-info\">\n",
    "<b>КОММЕНТАРИЙ СТУДЕНТА_V2: </b>\n",
    "    \n",
    "Спасибо отличный материал."
   ]
  },
  {
   "cell_type": "markdown",
   "id": "09af609b",
   "metadata": {
    "deletable": false,
    "editable": false,
    "id": "97be82ca"
   },
   "source": [
    "#### 3.2 Есть ли зависимость между семейным положением и возвратом кредита в срок?"
   ]
  },
  {
   "cell_type": "markdown",
   "id": "a79f4578",
   "metadata": {},
   "source": [
    "Для оценки зависимости между семейным положением и возвратом кредита в срок построим график вероятности просрочки кредита в зависимости от семейного положения."
   ]
  },
  {
   "cell_type": "code",
   "execution_count": 29,
   "id": "6a821005",
   "metadata": {
    "deletable": false,
    "id": "dc3f7ee8"
   },
   "outputs": [
    {
     "data": {
      "text/html": [
       "<div>\n",
       "<style scoped>\n",
       "    .dataframe tbody tr th:only-of-type {\n",
       "        vertical-align: middle;\n",
       "    }\n",
       "\n",
       "    .dataframe tbody tr th {\n",
       "        vertical-align: top;\n",
       "    }\n",
       "\n",
       "    .dataframe thead th {\n",
       "        text-align: right;\n",
       "    }\n",
       "</style>\n",
       "<table border=\"1\" class=\"dataframe\">\n",
       "  <thead>\n",
       "    <tr style=\"text-align: right;\">\n",
       "      <th></th>\n",
       "      <th>overdue</th>\n",
       "      <th>quantity</th>\n",
       "    </tr>\n",
       "    <tr>\n",
       "      <th>family_status</th>\n",
       "      <th></th>\n",
       "      <th></th>\n",
       "    </tr>\n",
       "  </thead>\n",
       "  <tbody>\n",
       "    <tr>\n",
       "      <th>Не женат / не замужем</th>\n",
       "      <td>273</td>\n",
       "      <td>2796</td>\n",
       "    </tr>\n",
       "    <tr>\n",
       "      <th>в разводе</th>\n",
       "      <td>84</td>\n",
       "      <td>1189</td>\n",
       "    </tr>\n",
       "    <tr>\n",
       "      <th>вдовец / вдова</th>\n",
       "      <td>63</td>\n",
       "      <td>951</td>\n",
       "    </tr>\n",
       "    <tr>\n",
       "      <th>гражданский брак</th>\n",
       "      <td>385</td>\n",
       "      <td>4134</td>\n",
       "    </tr>\n",
       "    <tr>\n",
       "      <th>женат / замужем</th>\n",
       "      <td>927</td>\n",
       "      <td>12261</td>\n",
       "    </tr>\n",
       "  </tbody>\n",
       "</table>\n",
       "</div>"
      ],
      "text/plain": [
       "                       overdue  quantity\n",
       "family_status                           \n",
       "Не женат / не замужем      273      2796\n",
       "в разводе                   84      1189\n",
       "вдовец / вдова              63       951\n",
       "гражданский брак           385      4134\n",
       "женат / замужем            927     12261"
      ]
     },
     "execution_count": 29,
     "metadata": {},
     "output_type": "execute_result"
    }
   ],
   "source": [
    "#Сгруппируем данные по столбцу 'family_status' и просумируем по столбцу 'debt'\n",
    "marriage_debt_group_overdue = data.groupby('family_status')['debt'].sum()\n",
    "#Сгруппируем данные по столбцу 'family_status' и вычислим общее количество людей в группах по столбцу 'debt'\n",
    "marriage_debt_group_quantity = data.groupby('family_status')['debt'].count()\n",
    "# склеим таблицы для наглядности\n",
    "df2 = pd.DataFrame()\n",
    "df2['overdue'] = marriage_debt_group_overdue\n",
    "df2['quantity'] = marriage_debt_group_quantity\n",
    "df2"
   ]
  },
  {
   "cell_type": "markdown",
   "id": "2540cc4b",
   "metadata": {},
   "source": [
    "<div class=\"alert alert-block alert-warning\">\n",
    "<b>Комментарий ревьюера_V2:</b> \n",
    "\n",
    "⚠️ Не надо использовать print() при выводе таблиц, в этом просто нет необходимости)) Это касается всего проекта))\n",
    "\n",
    "\n",
    "    \n",
    "  </div>"
   ]
  },
  {
   "cell_type": "markdown",
   "id": "efdf06e9",
   "metadata": {},
   "source": [
    "<div class=\"alert alert-block alert-success\">\n",
    "<b>Комментарий ревьюера_V3:</b> \n",
    "\n",
    "✔️ Можно еще использовать display(), если нужно вывести две таблицы подряд))\n",
    "   "
   ]
  },
  {
   "cell_type": "code",
   "execution_count": 30,
   "id": "f2b65d46",
   "metadata": {},
   "outputs": [
    {
     "data": {
      "text/html": [
       "<div>\n",
       "<style scoped>\n",
       "    .dataframe tbody tr th:only-of-type {\n",
       "        vertical-align: middle;\n",
       "    }\n",
       "\n",
       "    .dataframe tbody tr th {\n",
       "        vertical-align: top;\n",
       "    }\n",
       "\n",
       "    .dataframe thead th {\n",
       "        text-align: right;\n",
       "    }\n",
       "</style>\n",
       "<table border=\"1\" class=\"dataframe\">\n",
       "  <thead>\n",
       "    <tr style=\"text-align: right;\">\n",
       "      <th></th>\n",
       "      <th>overdue</th>\n",
       "      <th>quantity</th>\n",
       "      <th>debt_probability</th>\n",
       "    </tr>\n",
       "    <tr>\n",
       "      <th>family_status</th>\n",
       "      <th></th>\n",
       "      <th></th>\n",
       "      <th></th>\n",
       "    </tr>\n",
       "  </thead>\n",
       "  <tbody>\n",
       "    <tr>\n",
       "      <th>Не женат / не замужем</th>\n",
       "      <td>273</td>\n",
       "      <td>2796</td>\n",
       "      <td>9.76</td>\n",
       "    </tr>\n",
       "    <tr>\n",
       "      <th>в разводе</th>\n",
       "      <td>84</td>\n",
       "      <td>1189</td>\n",
       "      <td>7.06</td>\n",
       "    </tr>\n",
       "    <tr>\n",
       "      <th>вдовец / вдова</th>\n",
       "      <td>63</td>\n",
       "      <td>951</td>\n",
       "      <td>6.62</td>\n",
       "    </tr>\n",
       "    <tr>\n",
       "      <th>гражданский брак</th>\n",
       "      <td>385</td>\n",
       "      <td>4134</td>\n",
       "      <td>9.31</td>\n",
       "    </tr>\n",
       "    <tr>\n",
       "      <th>женат / замужем</th>\n",
       "      <td>927</td>\n",
       "      <td>12261</td>\n",
       "      <td>7.56</td>\n",
       "    </tr>\n",
       "  </tbody>\n",
       "</table>\n",
       "</div>"
      ],
      "text/plain": [
       "                       overdue  quantity  debt_probability\n",
       "family_status                                             \n",
       "Не женат / не замужем      273      2796              9.76\n",
       "в разводе                   84      1189              7.06\n",
       "вдовец / вдова              63       951              6.62\n",
       "гражданский брак           385      4134              9.31\n",
       "женат / замужем            927     12261              7.56"
      ]
     },
     "execution_count": 30,
     "metadata": {},
     "output_type": "execute_result"
    }
   ],
   "source": [
    "# рассчитаем вероятность просрчки по группам в процентах\n",
    "df2['debt_probability'] = (marriage_debt_group_overdue / marriage_debt_group_quantity) * 100\n",
    "df2 = df2.round({'debt_probability': 2})\n",
    "df2"
   ]
  },
  {
   "cell_type": "code",
   "execution_count": 31,
   "id": "7c34d332",
   "metadata": {},
   "outputs": [
    {
     "data": {
      "image/png": "[encoded data removed]",
      "text/plain": [
       "<Figure size 432x288 with 1 Axes>"
      ]
     },
     "metadata": {
      "needs_background": "light"
     },
     "output_type": "display_data"
    }
   ],
   "source": [
    "#построим искомый график\n",
    "df2.plot(y='debt_probability', kind='bar', title='Martial status', legend=False, xlabel='Семейное положение', ylabel='Вероятность просрочки');"
   ]
  },
  {
   "cell_type": "markdown",
   "id": "db8c7da3",
   "metadata": {},
   "source": [
    "<div class=\"alert alert-block alert-success\">\n",
    "<b>Комментарий ревьюера:</b>\n",
    "\n",
    "✔️ Вот здесь отличный график построил, название добавить и все отлично будет))\n",
    "  </div>"
   ]
  },
  {
   "cell_type": "markdown",
   "id": "324c07d9",
   "metadata": {
    "deletable": false,
    "id": "1cef7837"
   },
   "source": [
    "**Вывод:** Была исследована зависимость между семейным положением и возвратом кредита в срок. Для целей исследования был построен график вероятности просрочки кредита в зависимости от семейного положения. \n",
    "Вероятность просрочки кредита была оценена, как отношение количества просрочивших кредит к количеству заемщиков в зависимости от семейного положения.   \n",
    "Исследование показывает, что вероятность просрочки в группах \"Не женат / не замужем\" и \"гражданский брак\" выше, чем в остальных группах примерно на 2 п.п.\n",
    "\n",
    "Имеет место перекос по количеству заемшиков в разных группах. Количество заемщиков в группе \"женат / замужем\" в 2 раза больше, чем всех остальных.\n"
   ]
  },
  {
   "cell_type": "markdown",
   "id": "36272771",
   "metadata": {},
   "source": [
    "<div class=\"alert alert-block alert-warning\">\n",
    "<b>Комментарий ревьюера:</b>\n",
    "\n",
    "⚠️  Обрати внимание на несбалансированность выборок по категориям заемщиков, это тоже можно отразить в выводах)) \n",
    "  </div>"
   ]
  },
  {
   "cell_type": "markdown",
   "id": "946c4a92",
   "metadata": {
    "deletable": false,
    "editable": false,
    "id": "1e8b2fca"
   },
   "source": [
    "#### 3.3 Есть ли зависимость между уровнем дохода и возвратом кредита в срок?"
   ]
  },
  {
   "cell_type": "markdown",
   "id": "b2340683",
   "metadata": {
    "deletable": false,
    "id": "cd7e3720"
   },
   "source": [
    "Для оценки зависимости между уровнем дохода и возвратом кредита в срок построим график вероятности просрочки кредита в зависимости от уровня дохода. Для этого воспользуемся столбцом total_income_category."
   ]
  },
  {
   "cell_type": "code",
   "execution_count": 33,
   "id": "07547d39",
   "metadata": {},
   "outputs": [
    {
     "data": {
      "text/html": [
       "<div>\n",
       "<style scoped>\n",
       "    .dataframe tbody tr th:only-of-type {\n",
       "        vertical-align: middle;\n",
       "    }\n",
       "\n",
       "    .dataframe tbody tr th {\n",
       "        vertical-align: top;\n",
       "    }\n",
       "\n",
       "    .dataframe thead th {\n",
       "        text-align: right;\n",
       "    }\n",
       "</style>\n",
       "<table border=\"1\" class=\"dataframe\">\n",
       "  <thead>\n",
       "    <tr style=\"text-align: right;\">\n",
       "      <th></th>\n",
       "      <th>overdue</th>\n",
       "      <th>quantity</th>\n",
       "    </tr>\n",
       "    <tr>\n",
       "      <th>total_income_category</th>\n",
       "      <th></th>\n",
       "      <th></th>\n",
       "    </tr>\n",
       "  </thead>\n",
       "  <tbody>\n",
       "    <tr>\n",
       "      <th>A</th>\n",
       "      <td>2</td>\n",
       "      <td>25</td>\n",
       "    </tr>\n",
       "    <tr>\n",
       "      <th>B</th>\n",
       "      <td>354</td>\n",
       "      <td>5014</td>\n",
       "    </tr>\n",
       "    <tr>\n",
       "      <th>C</th>\n",
       "      <td>1353</td>\n",
       "      <td>15921</td>\n",
       "    </tr>\n",
       "    <tr>\n",
       "      <th>D</th>\n",
       "      <td>21</td>\n",
       "      <td>349</td>\n",
       "    </tr>\n",
       "    <tr>\n",
       "      <th>E</th>\n",
       "      <td>2</td>\n",
       "      <td>22</td>\n",
       "    </tr>\n",
       "  </tbody>\n",
       "</table>\n",
       "</div>"
      ],
      "text/plain": [
       "                       overdue  quantity\n",
       "total_income_category                   \n",
       "A                            2        25\n",
       "B                          354      5014\n",
       "C                         1353     15921\n",
       "D                           21       349\n",
       "E                            2        22"
      ]
     },
     "execution_count": 33,
     "metadata": {},
     "output_type": "execute_result"
    }
   ],
   "source": [
    "#Сгруппируем данные по столбцу 'total_income_category' и просумируем по столбцу 'debt'\n",
    "income_debt_group_overdue = data.groupby('total_income_category')['debt'].sum()\n",
    "#Сгруппируем данные по столбцу 'total_income_category' и вычислим общее количество людей в группах по столбцу 'debt'\n",
    "income_debt_group_quantity = data.groupby('total_income_category')['debt'].count()\n",
    "# склеим таблицы для наглядности\n",
    "df3 = pd.DataFrame()\n",
    "df3['overdue'] = income_debt_group_overdue\n",
    "df3['quantity'] = income_debt_group_quantity\n",
    "df3"
   ]
  },
  {
   "cell_type": "code",
   "execution_count": 34,
   "id": "d3d1221c",
   "metadata": {},
   "outputs": [
    {
     "data": {
      "text/html": [
       "<div>\n",
       "<style scoped>\n",
       "    .dataframe tbody tr th:only-of-type {\n",
       "        vertical-align: middle;\n",
       "    }\n",
       "\n",
       "    .dataframe tbody tr th {\n",
       "        vertical-align: top;\n",
       "    }\n",
       "\n",
       "    .dataframe thead th {\n",
       "        text-align: right;\n",
       "    }\n",
       "</style>\n",
       "<table border=\"1\" class=\"dataframe\">\n",
       "  <thead>\n",
       "    <tr style=\"text-align: right;\">\n",
       "      <th></th>\n",
       "      <th>overdue</th>\n",
       "      <th>quantity</th>\n",
       "      <th>debt_probability</th>\n",
       "    </tr>\n",
       "    <tr>\n",
       "      <th>total_income_category</th>\n",
       "      <th></th>\n",
       "      <th></th>\n",
       "      <th></th>\n",
       "    </tr>\n",
       "  </thead>\n",
       "  <tbody>\n",
       "    <tr>\n",
       "      <th>A</th>\n",
       "      <td>2</td>\n",
       "      <td>25</td>\n",
       "      <td>8.00</td>\n",
       "    </tr>\n",
       "    <tr>\n",
       "      <th>B</th>\n",
       "      <td>354</td>\n",
       "      <td>5014</td>\n",
       "      <td>7.06</td>\n",
       "    </tr>\n",
       "    <tr>\n",
       "      <th>C</th>\n",
       "      <td>1353</td>\n",
       "      <td>15921</td>\n",
       "      <td>8.50</td>\n",
       "    </tr>\n",
       "    <tr>\n",
       "      <th>D</th>\n",
       "      <td>21</td>\n",
       "      <td>349</td>\n",
       "      <td>6.02</td>\n",
       "    </tr>\n",
       "    <tr>\n",
       "      <th>E</th>\n",
       "      <td>2</td>\n",
       "      <td>22</td>\n",
       "      <td>9.09</td>\n",
       "    </tr>\n",
       "  </tbody>\n",
       "</table>\n",
       "</div>"
      ],
      "text/plain": [
       "                       overdue  quantity  debt_probability\n",
       "total_income_category                                     \n",
       "A                            2        25              8.00\n",
       "B                          354      5014              7.06\n",
       "C                         1353     15921              8.50\n",
       "D                           21       349              6.02\n",
       "E                            2        22              9.09"
      ]
     },
     "execution_count": 34,
     "metadata": {},
     "output_type": "execute_result"
    }
   ],
   "source": [
    "# рассчитаем вероятность просрчки по группам в процентах\n",
    "df3['debt_probability'] = (income_debt_group_overdue / income_debt_group_quantity) * 100\n",
    "df3 = df3.round({'debt_probability': 2})\n",
    "df3"
   ]
  },
  {
   "cell_type": "code",
   "execution_count": 35,
   "id": "328e184c",
   "metadata": {},
   "outputs": [
    {
     "data": {
      "image/png": "[encoded data removed]",
      "text/plain": [
       "<Figure size 432x288 with 1 Axes>"
      ]
     },
     "metadata": {
      "needs_background": "light"
     },
     "output_type": "display_data"
    }
   ],
   "source": [
    "#построим искомый график\n",
    "df3.plot(y='debt_probability', kind='bar', title='Income', legend=False, xlabel='Категория дохода', ylabel='Вероятность просрочки');"
   ]
  },
  {
   "cell_type": "markdown",
   "id": "f482be99",
   "metadata": {
    "deletable": false,
    "id": "e8593def"
   },
   "source": [
    "**Вывод:** Клиенты из категорий А, С и Е имеют более высокий шанс просрочить платеж чем клиенты из категорий В и D.\n",
    "Клиентов в категориях В и С значительно больше, чем во всех остальных. Необходимо перебалансировать грумппы.\n",
    "Откинем группы с количеством клиентов меньше 500. В таком случае мы видим, что группа клиентов с большими доходами имеет меньший шанс просрочить платеж, чем клиенты со средними доходами. "
   ]
  },
  {
   "cell_type": "markdown",
   "id": "02aa4e70",
   "metadata": {},
   "source": [
    "<div class=\"alert alert-block alert-warning\">\n",
    "<b>Комментарий ревьюера:</b>\n",
    "\n",
    "⚠️   Здесь тоже наблюдается несбалансированость в выборках, поэтому можно сравнить две самые большие выборки)) Выводы стараемся делать детальными))\n",
    "  </div>"
   ]
  },
  {
   "cell_type": "markdown",
   "id": "86606a06",
   "metadata": {},
   "source": [
    "<div class=\"alert alert-block alert-info\">\n",
    "<b>КОММЕНТАРИЙ СТУДЕНТА: </b>\n",
    "    \n",
    "Почему 2, а не 3? Я бы вообще все перебалансировал. "
   ]
  },
  {
   "cell_type": "markdown",
   "id": "a3072f7a",
   "metadata": {},
   "source": [
    "<div class=\"alert alert-block alert-success\">\n",
    "<b>Комментарий ревьюера_V2:</b>\n",
    "\n",
    "✔️ В данном случае речь шла о категориях B и С, но в целом идея правильная можно сгруппировать данные в три группы))\n",
    "  </div>"
   ]
  },
  {
   "cell_type": "markdown",
   "id": "ab7b020c",
   "metadata": {
    "deletable": false,
    "editable": false,
    "id": "99ecbd1f"
   },
   "source": [
    "#### 3.4 Как разные цели кредита влияют на его возврат в срок?"
   ]
  },
  {
   "cell_type": "markdown",
   "id": "f54f56ee",
   "metadata": {
    "deletable": false,
    "id": "2b687290"
   },
   "source": [
    "Для оценки зависимости между уровнем дохода и возвратом кредита в срок построим график вероятности просрочки кредита в зависимости от целей."
   ]
  },
  {
   "cell_type": "code",
   "execution_count": 36,
   "id": "2ec3c00a",
   "metadata": {},
   "outputs": [
    {
     "data": {
      "text/html": [
       "<div>\n",
       "<style scoped>\n",
       "    .dataframe tbody tr th:only-of-type {\n",
       "        vertical-align: middle;\n",
       "    }\n",
       "\n",
       "    .dataframe tbody tr th {\n",
       "        vertical-align: top;\n",
       "    }\n",
       "\n",
       "    .dataframe thead th {\n",
       "        text-align: right;\n",
       "    }\n",
       "</style>\n",
       "<table border=\"1\" class=\"dataframe\">\n",
       "  <thead>\n",
       "    <tr style=\"text-align: right;\">\n",
       "      <th></th>\n",
       "      <th>overdue</th>\n",
       "      <th>quantity</th>\n",
       "    </tr>\n",
       "    <tr>\n",
       "      <th>purpose_category</th>\n",
       "      <th></th>\n",
       "      <th></th>\n",
       "    </tr>\n",
       "  </thead>\n",
       "  <tbody>\n",
       "    <tr>\n",
       "      <th>операции с автомобилем</th>\n",
       "      <td>400</td>\n",
       "      <td>4279</td>\n",
       "    </tr>\n",
       "    <tr>\n",
       "      <th>операции с недвижимостью</th>\n",
       "      <td>780</td>\n",
       "      <td>10751</td>\n",
       "    </tr>\n",
       "    <tr>\n",
       "      <th>получение образования</th>\n",
       "      <td>369</td>\n",
       "      <td>3988</td>\n",
       "    </tr>\n",
       "    <tr>\n",
       "      <th>проведение свадьбы</th>\n",
       "      <td>183</td>\n",
       "      <td>2313</td>\n",
       "    </tr>\n",
       "  </tbody>\n",
       "</table>\n",
       "</div>"
      ],
      "text/plain": [
       "                          overdue  quantity\n",
       "purpose_category                           \n",
       "операции с автомобилем        400      4279\n",
       "операции с недвижимостью      780     10751\n",
       "получение образования         369      3988\n",
       "проведение свадьбы            183      2313"
      ]
     },
     "execution_count": 36,
     "metadata": {},
     "output_type": "execute_result"
    }
   ],
   "source": [
    "#Сгруппируем данные по столбцу 'purpose_category' и просумируем по столбцу 'debt'\n",
    "purpose_debt_group_overdue = data.groupby('purpose_category')['debt'].sum()\n",
    "#Сгруппируем данные по столбцу 'purpose_category' и вычислим общее количество людей в группах по столбцу 'debt'\n",
    "purpose_debt_group_quantity = data.groupby('purpose_category')['debt'].count()\n",
    "# склеим таблицы для наглядности\n",
    "df4 = pd.DataFrame()\n",
    "df4['overdue'] = purpose_debt_group_overdue\n",
    "df4['quantity'] = purpose_debt_group_quantity\n",
    "df4"
   ]
  },
  {
   "cell_type": "code",
   "execution_count": 37,
   "id": "17862105",
   "metadata": {
    "scrolled": true
   },
   "outputs": [
    {
     "data": {
      "text/html": [
       "<div>\n",
       "<style scoped>\n",
       "    .dataframe tbody tr th:only-of-type {\n",
       "        vertical-align: middle;\n",
       "    }\n",
       "\n",
       "    .dataframe tbody tr th {\n",
       "        vertical-align: top;\n",
       "    }\n",
       "\n",
       "    .dataframe thead th {\n",
       "        text-align: right;\n",
       "    }\n",
       "</style>\n",
       "<table border=\"1\" class=\"dataframe\">\n",
       "  <thead>\n",
       "    <tr style=\"text-align: right;\">\n",
       "      <th></th>\n",
       "      <th>overdue</th>\n",
       "      <th>quantity</th>\n",
       "      <th>debt_probability</th>\n",
       "    </tr>\n",
       "    <tr>\n",
       "      <th>purpose_category</th>\n",
       "      <th></th>\n",
       "      <th></th>\n",
       "      <th></th>\n",
       "    </tr>\n",
       "  </thead>\n",
       "  <tbody>\n",
       "    <tr>\n",
       "      <th>операции с автомобилем</th>\n",
       "      <td>400</td>\n",
       "      <td>4279</td>\n",
       "      <td>9.35</td>\n",
       "    </tr>\n",
       "    <tr>\n",
       "      <th>операции с недвижимостью</th>\n",
       "      <td>780</td>\n",
       "      <td>10751</td>\n",
       "      <td>7.26</td>\n",
       "    </tr>\n",
       "    <tr>\n",
       "      <th>получение образования</th>\n",
       "      <td>369</td>\n",
       "      <td>3988</td>\n",
       "      <td>9.25</td>\n",
       "    </tr>\n",
       "    <tr>\n",
       "      <th>проведение свадьбы</th>\n",
       "      <td>183</td>\n",
       "      <td>2313</td>\n",
       "      <td>7.91</td>\n",
       "    </tr>\n",
       "  </tbody>\n",
       "</table>\n",
       "</div>"
      ],
      "text/plain": [
       "                          overdue  quantity  debt_probability\n",
       "purpose_category                                             \n",
       "операции с автомобилем        400      4279              9.35\n",
       "операции с недвижимостью      780     10751              7.26\n",
       "получение образования         369      3988              9.25\n",
       "проведение свадьбы            183      2313              7.91"
      ]
     },
     "execution_count": 37,
     "metadata": {},
     "output_type": "execute_result"
    }
   ],
   "source": [
    "# рассчитаем вероятность просрчки по группам в процентах\n",
    "df4['debt_probability'] = (purpose_debt_group_overdue / purpose_debt_group_quantity) * 100\n",
    "df4 = df4.round({'debt_probability': 2})\n",
    "df4"
   ]
  },
  {
   "cell_type": "code",
   "execution_count": 39,
   "id": "ade6391b",
   "metadata": {
    "scrolled": false
   },
   "outputs": [
    {
     "data": {
      "image/png": "[encoded data removed]",
      "text/plain": [
       "<Figure size 432x288 with 1 Axes>"
      ]
     },
     "metadata": {
      "needs_background": "light"
     },
     "output_type": "display_data"
    }
   ],
   "source": [
    "#построим искомый график\n",
    "df4.plot(y='debt_probability', kind='bar', title= 'Goals', legend=False, xlabel='Цели кредита', ylabel='Вероятность просрочки');"
   ]
  },
  {
   "cell_type": "markdown",
   "id": "159e3482",
   "metadata": {
    "deletable": false,
    "id": "b4bb2ce6"
   },
   "source": [
    "**Вывод:** С большей вероятностью просрочат оплату люди берущие кредит для совершений оперций с автомобилем или на получение образования."
   ]
  },
  {
   "cell_type": "markdown",
   "id": "0d548e35",
   "metadata": {},
   "source": [
    "<div class=\"alert alert-block alert-success\">\n",
    "<b>Комментарий ревьюера:</b> \n",
    "\n",
    "✔️ В целом отлично выполнил изучение взаимосвязей, что надо улучшить:\n",
    "1) оптимизировать код;<br>\n",
    "2) название графиков везде сделать;<br>\n",
    "3) проанализировать сбалансированость выборок.<br>\n",
    "4) выводы делаем детальными."
   ]
  },
  {
   "cell_type": "markdown",
   "id": "211541d5",
   "metadata": {
    "deletable": false,
    "editable": false,
    "id": "09c3ac4c"
   },
   "source": [
    "#### 3.5 Приведите возможные причины появления пропусков в исходных данных."
   ]
  },
  {
   "cell_type": "markdown",
   "id": "bdf02e34",
   "metadata": {
    "deletable": false,
    "id": "9da2ceda"
   },
   "source": [
    "*Ответ:* Данные не верно были обработаны. Потеря данных при передаче или копировании. Не было строгих правил формирования. Данные собирались для других целей."
   ]
  },
  {
   "cell_type": "markdown",
   "id": "0c3686bb",
   "metadata": {},
   "source": [
    "<div class=\"alert alert-block alert-success\">\n",
    "<b>Комментарий ревьюера:</b>\n",
    "\n",
    "✔️ Ответ правильный))\n",
    "   \n",
    "  </div>"
   ]
  },
  {
   "cell_type": "markdown",
   "id": "9568e228",
   "metadata": {
    "deletable": false,
    "editable": false,
    "id": "7b0487d6"
   },
   "source": [
    "#### 3.6 Объясните, почему заполнить пропуски медианным значением — лучшее решение для количественных переменных."
   ]
  },
  {
   "cell_type": "markdown",
   "id": "3acc9624",
   "metadata": {
    "deletable": false,
    "id": "7ecf2b8e"
   },
   "source": [
    "*Ответ:* Заполнение пропусков медианным значением лучший выход если в данных присутствуют единичные значения, которые сильно отлоняются от моды и вносят большой вклад в среднее значение. Например: имеется 50 занчений равных 5 и 2 значения равных 1000. В этом случае заполнение пропусков средним значением даст не верное представление о данных."
   ]
  },
  {
   "cell_type": "markdown",
   "id": "bb03c3fc",
   "metadata": {},
   "source": [
    "<div class=\"alert alert-block alert-success\">\n",
    "<b>Комментарий ревьюера:</b>\n",
    "\n",
    "✔️ Согласен медиана менее чувствительна к выбросам))\n",
    "   \n",
    "  </div>"
   ]
  },
  {
   "cell_type": "markdown",
   "id": "d32161c8",
   "metadata": {
    "deletable": false,
    "editable": false,
    "id": "6db5255a"
   },
   "source": [
    "### Шаг 4: общий вывод."
   ]
  },
  {
   "cell_type": "markdown",
   "id": "46d9542b",
   "metadata": {
    "deletable": false,
    "id": "bad65432"
   },
   "source": [
    "В первой части данного раздела будет приведен общий вывод, полученый в рамках данного исследования. В последующих раздела будет приведено обоснование вывода и описаниехода исследования. \n",
    "\n",
    "#### Общий вывод\n",
    "\n",
    "*В наиболее надежные категории заемщиков попали следующие группы:*\n",
    "1. Кредиторы без детей; 2. Женатые, в разводе, вдовцы; 3. Клиенты с доходами от 200 000 до 1 000 000; 4. Указавшие целью операции с недвижимостью или расходы на проведение свадьбы.\n",
    "\n",
    "*Рекомендации по сбору данных:*\n",
    "Выборки по категориям заемщиков - \"женат / замужем; \"операции с недвижимостью\"; \"без детей\"; \"доход категории С\"; - превосходят остальные категории в несколько раз, что сказывается на точности исследования. Необходимо предоставить дополнительные данные по остальным категориям или перебалансировать выборки таким образом, чтобы все категории оказались в сопоставимых размерах.\n",
    "\n",
    "#### Проведние исследования\n",
    "##### Предобработка данных\n",
    "Для корректного проведения исследования были проведены предварительные операции с даннми следующего характера: \n",
    "данные были проверены на наличие явных и неявных дубликатов и пропусков; была проведена проверка данных на наличие аномальных значений; данные были категоризированы.\n",
    "###### Обработка пропусков \n",
    "Пропуски в столбцах **total_income** и **days_employed** были узаполнены медианным значением по каждому типу из столбца **income_type**.\n",
    "###### Обработка аномальных значений\n",
    "Строки с аномальными значениями в столбце **children** были удалены. \n",
    "###### Категоризация данных\n",
    "Был создан столбец **total_income_category** с категориями доходов: А, B, C, D, E. \n",
    "На основании столбца **purpose** был сформирован новый столбец **purpose_category** с категориями: \"операции с автомобилем\", \"операции с недвижимостью\", \"проведение свадьбы\", \"получение образования\".\n",
    "\n",
    "##### Исследование данных\n",
    "######  Исследование зависимости между количеством детей и возвратом кредита в срок\n",
    "\n",
    "Была исследована зависимость между количеством детей и возвратом кредита в срок. Для целей исследования был построен график вероятности просрочки кредита в зависимости от количества детей. \n",
    "Вероятность просрочки кредита была оценена, как отношение количества просрочивших кредит к количеству заемщиков в зависимости от количества детей.\n",
    "В результате исследования удалось проследить зависимость между количеством детей и вероятностью просрочки кредита.\n",
    "<pre style=\"color: #59afe1;font-size: 110%\">\n",
    "- 0 - 7,54%\n",
    "- 1 - 9,23%\n",
    "- 2 - 9,45%\n",
    "</pre>\n",
    "Как видно существует тенденция к увеличению вероятности просрочки при увеличениии количества детей. \n",
    "Остальные группы были отброшены по причине небоьлшого количества строк в выборке.\n",
    "\n",
    "######  Исследование зависимости между семейным положением и возвратом кредита в срок\n",
    "\n",
    "Была исследована зависимость между семейным положением и возвратом кредита в срок. Для целей исследования был построен график вероятности просрочки кредита в зависимости от семейного положения. Вероятность просрочки кредита была оценена, как отношение количества просрочивших кредит к количеству заемщиков в зависимости от семейного положения.\n",
    "Исследование показывает, что вероятность просрочки в группах \"Не женат / не замужем\" и \"гражданский брак\" выше, чем в остальных группах примерно на 2 п.п.\n",
    "<pre style=\"color: #59afe1;font-size: 110%\">\n",
    "- Не женат / не замужем      9.76%\n",
    "- в разводе                  7.06%\n",
    "- вдовец / вдова             6.62%\n",
    "- гражданский брак           9.31%\n",
    "- женат / замужем            7.56%\n",
    "</pre>\n",
    "Имеет место перекос по количеству заемшиков в разных группах. Количество заемщиков в группе \"женат / замужем\" в 2 раза больше, чем всех остальных.\n",
    "\n",
    "######  Исследование зависимости между уровнем дохода и возвратом кредита в срок\n",
    "Была исследована зависимость между уровнем дохода и возвратом кредита в срок. Для целей исследования был построен график вероятности просрочки кредита в зависимости от уровня дохода. Вероятность просрочки кредита была оценена, как отношение количества просрочивших кредит к количеству заемщиков в зависимости от уровня дохода.\n",
    "\n",
    "Предварительный вывод: клиенты из категорий А, С и Е имеют более высокий шанс просрочить платеж чем клиенты из категорий В и D. \n",
    "<pre style=\"color: #59afe1;font-size: 110%\">\n",
    "- A      25      8.00%\n",
    "- B    5014      7.06%\n",
    "- C   15921      8.50%\n",
    "- D     349      6.02%\n",
    "- E      22      9.09%\n",
    "</pre>\n",
    "Можно заметить, что клиентов в категориях В и С значительно больше, чем во всех остальных. \n",
    "Необходимо перебалансировать грумппы. \n",
    "<pre style=\"color: #59afe1;font-size: 110%\">\n",
    "- B    5014      7.06%\n",
    "- C   15921      8.50%\n",
    "</pre>\n",
    "Откинем группы с количеством клиентов меньше 500. В таком случае мы видим, что группа клиентов с большими доходами имеет меньший шанс просрочить платеж, чем клиенты со средними доходами.\n",
    "\n",
    "######  Исследование зависимости между целями кредитования и возвратом кредита в срок\n",
    "\n",
    "Была исследована зависимость между целями кредитования и возвратом кредита в срок. Для целей исследования был построен график вероятности просрочки кредита в зависимости от целей кредитования. Вероятность просрочки кредита была оценена, как отношение количества просрочивших кредит к количеству заемщиков в зависимости от целей кредитования.\n",
    "<pre style=\"color: #59afe1;font-size: 110%\">\n",
    "- операции с автомобилем         9.35%\n",
    "- операции с недвижимостью       7.26%\n",
    "- получение образования          9.25%\n",
    "- проведение свадьбы             7.91%\n",
    "</pre>\n",
    "Из приведенных данных исследования видно, что с большей вероятностью просрочат оплату люди берущие кредит для совершений оперций с автомобилем или на получение образования.\n",
    "\n",
    "\n",
    "#### Заключение\n",
    "\n",
    "Приведенные факты подтверждают выводы приведенные в начале. \n",
    "\n",
    "Некоторые доплнительные выводы: \n",
    "1. Cуществует тенденция к увеличению вероятности просрочки при увеличениии количества детей.\n",
    "2. С большей вероятностью просрочат оплату люди состоящие в гражданском браке или свободные от отношений.\n",
    "3. Клиенты из категорий А, С и Е имеют более высокий шанс просрочить платеж чем клиенты из категорий В и D.\n",
    "4. С большей вероятностью просрочат оплату люди берущие кредит для совершений оперций с автомобилем или на получение образования.\n"
   ]
  },
  {
   "cell_type": "markdown",
   "id": "1e6ffc67",
   "metadata": {},
   "source": [
    "<div class=\"alert alert-block alert-success\">\n",
    "<b>Комментарий ревьюера:</b>\n",
    "\n",
    "✔️ Ох, ничего себе какие выводы написал, молодец прям)) Все подробно и с цифрами)) Супер))\n",
    "   \n",
    "  </div>"
   ]
  },
  {
   "cell_type": "markdown",
   "id": "edbf7f1b",
   "metadata": {},
   "source": [
    "<div class=\"alert alert-block alert-warning\">\n",
    "<b>Комментарий ревьюера_V2:</b> \n",
    "\n",
    "⚠️ Выводы это очень важная часть работы.Что должно быть в выводах в данном проекте:\n",
    "- Отвечаешь на вопрос \"Есть ли зависимость между количеством детей и возвратом кредита в срок?\"\n",
    "- Отвечаешь на вопрос  \"Есть ли зависимость между семейным положением и возвратом кредита в срок?\"\n",
    "- Отвечаешь на вопрос  \"Есть ли зависимость между уровнем дохода и возвратом кредита в срок?\"\n",
    "- Отвечаешь на вопрос  \"Как разные цели кредита влияют на его возврат в срок?\"   \n",
    "- Даешь рекомендацией банку по улучшению сбора данных и скоринга.\n",
    "\n",
    "Нужно добавить сруктуры в вывод: абзацы, маркированные списки, выделение шрифтом - все это делает вывод более легким для чтения.  Не бойся использовать цифры в рекомендациях, это прям нужно делать.  <br>\n",
    "\n",
    "Общий вывод - резюме этой работы. Большинство заказчиков посмотрят сначала его (а некоторые только его). Чтобы выводы не огорошивали заказчика своей очевидностью, стоит добавить в них цифр, всяких корреляций, процентов итд :) Сделай так, чтобы вся найденная в данных информация была отражена в выводе \n",
    "    \n",
    "</div>"
   ]
  },
  {
   "cell_type": "markdown",
   "id": "725fd73b",
   "metadata": {},
   "source": [
    "<div class=\"alert alert-block alert-success\">\n",
    "<b>Комментарий ревьюера:</b>\n",
    "    \n",
    "Александр, отличная работа, мне все понравилось в ней, круто что начал уже строить графики, подправь некоторые моменты и можно будет двигаться дальше)) \n",
    "<br> Жду исправленного варианта)\n",
    "  </div>"
   ]
  },
  {
   "cell_type": "markdown",
   "id": "4f0fa649",
   "metadata": {},
   "source": [
    "<div class=\"alert alert-block alert-success\">\n",
    "<b>Комментарий ревьюера:</b>\n",
    "    \n",
    "Александр, отличная работа, прям много чего исправил, молодец, что задавал множество вопросов, было интересно проверять твою работу, но давай улучшим твою работу, а именно:\n",
    "1) Название графиков добавим;\n",
    "2) Избавимся от print() везде, где нужно))<br>\n",
    "\n",
    "<br> Жду исправленного варианта)\n",
    "  </div>"
   ]
  },
  {
   "cell_type": "markdown",
   "id": "b6a22385",
   "metadata": {},
   "source": [
    "<div class=\"alert alert-block alert-info\">\n",
    "<b>КОММЕНТАРИЙ СТУДЕНТА_V2: </b>\n",
    "    \n",
    "Названия добавил, принт убрал."
   ]
  },
  {
   "cell_type": "markdown",
   "id": "d9b67a1c",
   "metadata": {},
   "source": [
    "<div class=\"alert alert-block alert-success\">\n",
    "<b>Комментарий ревьюера_V3:</b> \n",
    "\n",
    "✔️ Александр, теперь работа отличная, можно двигаться дальше)) Успехов в дальнейшем обучении))\n",
    "   "
   ]
  }
 ],
 "metadata": {
  "ExecuteTimeLog": [
   {
    "duration": 470,
    "start_time": "2022-08-24T22:25:34.764Z"
   },
   {
    "duration": 20,
    "start_time": "2022-08-24T22:25:35.236Z"
   },
   {
    "duration": 13,
    "start_time": "2022-08-24T22:25:35.257Z"
   },
   {
    "duration": 17,
    "start_time": "2022-08-24T22:25:35.271Z"
   },
   {
    "duration": 36,
    "start_time": "2022-08-24T22:25:35.290Z"
   },
   {
    "duration": 3,
    "start_time": "2022-08-24T22:25:35.327Z"
   },
   {
    "duration": 13,
    "start_time": "2022-08-24T22:25:35.332Z"
   },
   {
    "duration": 4,
    "start_time": "2022-08-24T22:25:35.347Z"
   },
   {
    "duration": 10,
    "start_time": "2022-08-24T22:25:35.353Z"
   },
   {
    "duration": 23,
    "start_time": "2022-08-24T22:25:35.364Z"
   },
   {
    "duration": 33,
    "start_time": "2022-08-24T22:25:35.389Z"
   },
   {
    "duration": 9,
    "start_time": "2022-08-24T22:25:35.423Z"
   },
   {
    "duration": 8,
    "start_time": "2022-08-24T22:25:35.434Z"
   },
   {
    "duration": 14,
    "start_time": "2022-08-24T22:25:35.444Z"
   },
   {
    "duration": 36,
    "start_time": "2022-08-24T22:25:35.459Z"
   },
   {
    "duration": 15,
    "start_time": "2022-08-24T22:25:35.496Z"
   },
   {
    "duration": 3,
    "start_time": "2022-08-24T22:25:35.513Z"
   },
   {
    "duration": 15,
    "start_time": "2022-08-24T22:25:35.517Z"
   },
   {
    "duration": 5,
    "start_time": "2022-08-24T22:25:35.534Z"
   },
   {
    "duration": 5,
    "start_time": "2022-08-24T22:25:35.540Z"
   },
   {
    "duration": 14,
    "start_time": "2022-08-24T22:25:35.546Z"
   },
   {
    "duration": 45,
    "start_time": "2022-08-25T09:35:40.849Z"
   },
   {
    "duration": 753,
    "start_time": "2022-08-25T09:35:51.261Z"
   },
   {
    "duration": 32,
    "start_time": "2022-08-25T09:35:52.017Z"
   },
   {
    "duration": 15,
    "start_time": "2022-08-25T09:35:52.051Z"
   },
   {
    "duration": 10,
    "start_time": "2022-08-25T09:35:52.069Z"
   },
   {
    "duration": 46,
    "start_time": "2022-08-25T09:35:52.081Z"
   },
   {
    "duration": 4,
    "start_time": "2022-08-25T09:35:52.128Z"
   },
   {
    "duration": 9,
    "start_time": "2022-08-25T09:35:52.134Z"
   },
   {
    "duration": 14,
    "start_time": "2022-08-25T09:35:52.145Z"
   },
   {
    "duration": 9,
    "start_time": "2022-08-25T09:35:52.161Z"
   },
   {
    "duration": 4,
    "start_time": "2022-08-25T09:35:52.172Z"
   },
   {
    "duration": 35,
    "start_time": "2022-08-25T09:35:52.177Z"
   },
   {
    "duration": 8,
    "start_time": "2022-08-25T09:35:52.214Z"
   },
   {
    "duration": 4,
    "start_time": "2022-08-25T09:35:52.224Z"
   },
   {
    "duration": 32,
    "start_time": "2022-08-25T09:35:52.230Z"
   },
   {
    "duration": 22,
    "start_time": "2022-08-25T09:35:52.264Z"
   },
   {
    "duration": 16,
    "start_time": "2022-08-25T09:35:52.288Z"
   },
   {
    "duration": 4,
    "start_time": "2022-08-25T09:35:52.305Z"
   },
   {
    "duration": 16,
    "start_time": "2022-08-25T09:35:52.310Z"
   },
   {
    "duration": 6,
    "start_time": "2022-08-25T09:35:52.327Z"
   },
   {
    "duration": 24,
    "start_time": "2022-08-25T09:35:52.334Z"
   },
   {
    "duration": 14,
    "start_time": "2022-08-25T09:35:52.360Z"
   },
   {
    "duration": 10,
    "start_time": "2022-08-25T09:35:53.735Z"
   },
   {
    "duration": 14,
    "start_time": "2022-08-25T09:36:03.371Z"
   },
   {
    "duration": 18,
    "start_time": "2022-08-25T09:36:23.315Z"
   },
   {
    "duration": 39,
    "start_time": "2022-08-25T09:36:24.427Z"
   },
   {
    "duration": 17,
    "start_time": "2022-08-25T09:36:27.546Z"
   },
   {
    "duration": 16,
    "start_time": "2022-08-25T09:36:37.134Z"
   },
   {
    "duration": 6,
    "start_time": "2022-08-25T09:36:57.322Z"
   },
   {
    "duration": 7,
    "start_time": "2022-08-25T09:39:14.538Z"
   },
   {
    "duration": 4,
    "start_time": "2022-08-25T10:41:36.505Z"
   },
   {
    "duration": 588,
    "start_time": "2022-08-25T10:43:08.397Z"
   },
   {
    "duration": 839,
    "start_time": "2022-08-25T10:43:50.125Z"
   },
   {
    "duration": 812,
    "start_time": "2022-08-25T10:43:58.865Z"
   },
   {
    "duration": 130,
    "start_time": "2022-08-25T10:44:03.933Z"
   },
   {
    "duration": 148,
    "start_time": "2022-08-25T10:45:35.228Z"
   },
   {
    "duration": 117,
    "start_time": "2022-08-25T10:47:18.704Z"
   },
   {
    "duration": 9,
    "start_time": "2022-08-25T10:54:22.664Z"
   },
   {
    "duration": 378,
    "start_time": "2022-08-25T10:54:28.474Z"
   },
   {
    "duration": 9,
    "start_time": "2022-08-25T10:54:55.042Z"
   },
   {
    "duration": 8,
    "start_time": "2022-08-25T10:56:29.812Z"
   },
   {
    "duration": 5,
    "start_time": "2022-08-25T10:56:54.454Z"
   },
   {
    "duration": 6,
    "start_time": "2022-08-25T10:58:59.626Z"
   },
   {
    "duration": 8,
    "start_time": "2022-08-25T10:59:27.009Z"
   },
   {
    "duration": 12,
    "start_time": "2022-08-25T11:04:42.075Z"
   },
   {
    "duration": 157,
    "start_time": "2022-08-25T11:06:17.220Z"
   },
   {
    "duration": 11,
    "start_time": "2022-08-25T11:06:22.838Z"
   },
   {
    "duration": 11,
    "start_time": "2022-08-25T11:07:42.033Z"
   },
   {
    "duration": 97,
    "start_time": "2022-08-25T11:08:02.987Z"
   },
   {
    "duration": 10,
    "start_time": "2022-08-25T11:08:06.237Z"
   },
   {
    "duration": 8,
    "start_time": "2022-08-25T11:14:29.846Z"
   },
   {
    "duration": 11,
    "start_time": "2022-08-25T11:16:10.807Z"
   },
   {
    "duration": 9,
    "start_time": "2022-08-25T11:16:10.821Z"
   },
   {
    "duration": 134,
    "start_time": "2022-08-25T11:16:10.831Z"
   },
   {
    "duration": 3,
    "start_time": "2022-08-25T11:16:10.967Z"
   },
   {
    "duration": 5,
    "start_time": "2022-08-25T11:16:10.972Z"
   },
   {
    "duration": 14,
    "start_time": "2022-08-25T11:16:10.979Z"
   },
   {
    "duration": 15,
    "start_time": "2022-08-25T11:21:19.251Z"
   },
   {
    "duration": 12,
    "start_time": "2022-08-25T11:21:51.060Z"
   },
   {
    "duration": 10,
    "start_time": "2022-08-25T11:22:55.020Z"
   },
   {
    "duration": 11,
    "start_time": "2022-08-25T11:23:12.040Z"
   },
   {
    "duration": 12,
    "start_time": "2022-08-25T11:24:50.908Z"
   },
   {
    "duration": 12,
    "start_time": "2022-08-25T11:25:19.290Z"
   },
   {
    "duration": 7,
    "start_time": "2022-08-25T11:25:57.262Z"
   },
   {
    "duration": 132,
    "start_time": "2022-08-25T11:26:11.514Z"
   },
   {
    "duration": 4,
    "start_time": "2022-08-25T12:17:05.750Z"
   },
   {
    "duration": 150,
    "start_time": "2022-08-25T12:17:07.201Z"
   },
   {
    "duration": 122,
    "start_time": "2022-08-25T12:23:31.538Z"
   },
   {
    "duration": 122,
    "start_time": "2022-08-25T12:24:06.650Z"
   },
   {
    "duration": 8,
    "start_time": "2022-08-25T12:24:45.963Z"
   },
   {
    "duration": 119,
    "start_time": "2022-08-25T12:25:01.714Z"
   },
   {
    "duration": 12,
    "start_time": "2022-08-25T13:09:52.407Z"
   },
   {
    "duration": 1239,
    "start_time": "2022-08-25T13:49:50.821Z"
   },
   {
    "duration": 794,
    "start_time": "2022-08-25T13:50:07.085Z"
   },
   {
    "duration": 9,
    "start_time": "2022-08-25T13:50:19.208Z"
   },
   {
    "duration": 8,
    "start_time": "2022-08-25T13:50:19.586Z"
   },
   {
    "duration": 4,
    "start_time": "2022-08-25T13:50:20.029Z"
   },
   {
    "duration": 132,
    "start_time": "2022-08-25T13:50:21.630Z"
   },
   {
    "duration": 132,
    "start_time": "2022-08-25T13:50:32.179Z"
   },
   {
    "duration": 12,
    "start_time": "2022-08-25T13:50:56.963Z"
   },
   {
    "duration": 169,
    "start_time": "2022-08-25T13:51:15.390Z"
   },
   {
    "duration": 115,
    "start_time": "2022-08-25T13:51:32.082Z"
   },
   {
    "duration": 596,
    "start_time": "2022-08-25T13:51:43.691Z"
   },
   {
    "duration": 130,
    "start_time": "2022-08-25T13:51:53.442Z"
   },
   {
    "duration": 117,
    "start_time": "2022-08-25T13:52:39.371Z"
   },
   {
    "duration": 9,
    "start_time": "2022-08-25T13:53:25.299Z"
   },
   {
    "duration": 13,
    "start_time": "2022-08-25T13:53:32.492Z"
   },
   {
    "duration": 9,
    "start_time": "2022-08-25T13:53:33.463Z"
   },
   {
    "duration": 44,
    "start_time": "2022-08-25T13:54:32.855Z"
   },
   {
    "duration": 139,
    "start_time": "2022-08-25T13:54:36.972Z"
   },
   {
    "duration": 39,
    "start_time": "2022-08-25T13:56:08.561Z"
   },
   {
    "duration": 67,
    "start_time": "2022-08-25T13:56:16.316Z"
   },
   {
    "duration": 48,
    "start_time": "2022-08-25T13:57:19.834Z"
   },
   {
    "duration": 151,
    "start_time": "2022-08-25T13:57:22.611Z"
   },
   {
    "duration": 138,
    "start_time": "2022-08-25T13:57:30.208Z"
   },
   {
    "duration": 18,
    "start_time": "2022-08-25T15:22:57.356Z"
   },
   {
    "duration": 11,
    "start_time": "2022-08-25T15:23:54.904Z"
   },
   {
    "duration": 8,
    "start_time": "2022-08-25T15:24:56.340Z"
   },
   {
    "duration": 11,
    "start_time": "2022-08-25T15:27:28.722Z"
   },
   {
    "duration": 1150,
    "start_time": "2022-08-25T15:27:34.511Z"
   },
   {
    "duration": 8,
    "start_time": "2022-08-25T15:27:42.402Z"
   },
   {
    "duration": 101,
    "start_time": "2022-08-25T15:27:43.002Z"
   },
   {
    "duration": 70,
    "start_time": "2022-08-25T21:35:26.342Z"
   },
   {
    "duration": 757,
    "start_time": "2022-08-25T21:35:36.399Z"
   },
   {
    "duration": 21,
    "start_time": "2022-08-25T21:35:37.158Z"
   },
   {
    "duration": 13,
    "start_time": "2022-08-25T21:35:37.181Z"
   },
   {
    "duration": 9,
    "start_time": "2022-08-25T21:35:37.196Z"
   },
   {
    "duration": 33,
    "start_time": "2022-08-25T21:35:37.207Z"
   },
   {
    "duration": 3,
    "start_time": "2022-08-25T21:35:37.241Z"
   },
   {
    "duration": 14,
    "start_time": "2022-08-25T21:35:37.246Z"
   },
   {
    "duration": 4,
    "start_time": "2022-08-25T21:35:37.262Z"
   },
   {
    "duration": 28,
    "start_time": "2022-08-25T21:35:37.268Z"
   },
   {
    "duration": 4,
    "start_time": "2022-08-25T21:35:37.299Z"
   },
   {
    "duration": 35,
    "start_time": "2022-08-25T21:35:37.304Z"
   },
   {
    "duration": 9,
    "start_time": "2022-08-25T21:35:37.340Z"
   },
   {
    "duration": 5,
    "start_time": "2022-08-25T21:35:37.350Z"
   },
   {
    "duration": 31,
    "start_time": "2022-08-25T21:35:37.356Z"
   },
   {
    "duration": 18,
    "start_time": "2022-08-25T21:35:37.388Z"
   },
   {
    "duration": 15,
    "start_time": "2022-08-25T21:35:37.407Z"
   },
   {
    "duration": 3,
    "start_time": "2022-08-25T21:35:37.424Z"
   },
   {
    "duration": 16,
    "start_time": "2022-08-25T21:35:37.429Z"
   },
   {
    "duration": 10,
    "start_time": "2022-08-25T21:35:37.446Z"
   },
   {
    "duration": 4,
    "start_time": "2022-08-25T21:35:37.457Z"
   },
   {
    "duration": 30,
    "start_time": "2022-08-25T21:35:37.463Z"
   },
   {
    "duration": 9,
    "start_time": "2022-08-25T21:35:37.495Z"
   },
   {
    "duration": 10,
    "start_time": "2022-08-25T21:35:39.587Z"
   },
   {
    "duration": 53,
    "start_time": "2022-08-25T21:35:58.159Z"
   },
   {
    "duration": 569,
    "start_time": "2022-08-25T21:36:07.274Z"
   },
   {
    "duration": 120,
    "start_time": "2022-08-25T21:36:23.038Z"
   },
   {
    "duration": 4,
    "start_time": "2022-08-25T21:36:28.274Z"
   },
   {
    "duration": 116,
    "start_time": "2022-08-25T21:36:28.476Z"
   },
   {
    "duration": 8,
    "start_time": "2022-08-25T21:36:48.382Z"
   },
   {
    "duration": 9,
    "start_time": "2022-08-25T21:36:52.191Z"
   },
   {
    "duration": 5,
    "start_time": "2022-08-25T21:37:00.790Z"
   },
   {
    "duration": 10,
    "start_time": "2022-08-25T21:37:07.000Z"
   },
   {
    "duration": 5,
    "start_time": "2022-08-25T21:37:13.798Z"
   },
   {
    "duration": 120,
    "start_time": "2022-08-25T21:38:15.879Z"
   },
   {
    "duration": 215,
    "start_time": "2022-08-25T21:39:55.499Z"
   },
   {
    "duration": 167,
    "start_time": "2022-08-25T21:40:02.355Z"
   },
   {
    "duration": 3,
    "start_time": "2022-08-25T21:45:03.060Z"
   },
   {
    "duration": 121,
    "start_time": "2022-08-25T21:45:03.524Z"
   },
   {
    "duration": 2,
    "start_time": "2022-08-25T21:47:01.211Z"
   },
   {
    "duration": 14,
    "start_time": "2022-08-25T21:48:09.134Z"
   },
   {
    "duration": 12,
    "start_time": "2022-08-25T21:49:00.398Z"
   },
   {
    "duration": 8,
    "start_time": "2022-08-25T21:49:28.085Z"
   },
   {
    "duration": 123,
    "start_time": "2022-08-25T21:50:11.364Z"
   },
   {
    "duration": 50,
    "start_time": "2022-08-26T13:30:40.874Z"
   },
   {
    "duration": 838,
    "start_time": "2022-08-26T13:30:46.416Z"
   },
   {
    "duration": 25,
    "start_time": "2022-08-26T13:30:47.256Z"
   },
   {
    "duration": 16,
    "start_time": "2022-08-26T13:30:47.282Z"
   },
   {
    "duration": 13,
    "start_time": "2022-08-26T13:30:47.300Z"
   },
   {
    "duration": 35,
    "start_time": "2022-08-26T13:30:47.315Z"
   },
   {
    "duration": 3,
    "start_time": "2022-08-26T13:30:47.353Z"
   },
   {
    "duration": 12,
    "start_time": "2022-08-26T13:30:47.359Z"
   },
   {
    "duration": 31,
    "start_time": "2022-08-26T13:30:47.373Z"
   },
   {
    "duration": 12,
    "start_time": "2022-08-26T13:30:47.405Z"
   },
   {
    "duration": 8,
    "start_time": "2022-08-26T13:30:47.420Z"
   },
   {
    "duration": 57,
    "start_time": "2022-08-26T13:30:47.429Z"
   },
   {
    "duration": 25,
    "start_time": "2022-08-26T13:30:47.488Z"
   },
   {
    "duration": 5,
    "start_time": "2022-08-26T13:30:47.516Z"
   },
   {
    "duration": 25,
    "start_time": "2022-08-26T13:30:47.524Z"
   },
   {
    "duration": 23,
    "start_time": "2022-08-26T13:30:47.552Z"
   },
   {
    "duration": 45,
    "start_time": "2022-08-26T13:30:47.577Z"
   },
   {
    "duration": 3,
    "start_time": "2022-08-26T13:30:47.624Z"
   },
   {
    "duration": 19,
    "start_time": "2022-08-26T13:30:47.629Z"
   },
   {
    "duration": 8,
    "start_time": "2022-08-26T13:30:47.650Z"
   },
   {
    "duration": 4,
    "start_time": "2022-08-26T13:30:47.660Z"
   },
   {
    "duration": 40,
    "start_time": "2022-08-26T13:30:47.666Z"
   },
   {
    "duration": 14,
    "start_time": "2022-08-26T13:30:47.708Z"
   },
   {
    "duration": 9,
    "start_time": "2022-08-26T13:30:47.724Z"
   },
   {
    "duration": 15,
    "start_time": "2022-08-26T13:30:47.735Z"
   },
   {
    "duration": 613,
    "start_time": "2022-08-26T13:30:47.752Z"
   },
   {
    "duration": 15,
    "start_time": "2022-08-26T13:30:48.367Z"
   },
   {
    "duration": 33,
    "start_time": "2022-08-26T13:30:48.384Z"
   },
   {
    "duration": 157,
    "start_time": "2022-08-26T13:30:48.422Z"
   },
   {
    "duration": 22,
    "start_time": "2022-08-26T13:30:48.581Z"
   },
   {
    "duration": 20,
    "start_time": "2022-08-26T13:30:48.605Z"
   },
   {
    "duration": 135,
    "start_time": "2022-08-26T13:30:48.627Z"
   },
   {
    "duration": 14,
    "start_time": "2022-08-26T13:30:48.764Z"
   },
   {
    "duration": 33,
    "start_time": "2022-08-26T13:30:48.779Z"
   },
   {
    "duration": 187,
    "start_time": "2022-08-26T13:30:48.814Z"
   },
   {
    "duration": 530,
    "start_time": "2022-08-28T15:02:28.981Z"
   },
   {
    "duration": 19,
    "start_time": "2022-08-28T15:02:29.512Z"
   },
   {
    "duration": 15,
    "start_time": "2022-08-28T15:02:29.532Z"
   },
   {
    "duration": 10,
    "start_time": "2022-08-28T15:02:29.549Z"
   },
   {
    "duration": 46,
    "start_time": "2022-08-28T15:02:29.560Z"
   },
   {
    "duration": 3,
    "start_time": "2022-08-28T15:02:29.608Z"
   },
   {
    "duration": 9,
    "start_time": "2022-08-28T15:02:29.612Z"
   },
   {
    "duration": 4,
    "start_time": "2022-08-28T15:02:29.622Z"
   },
   {
    "duration": 7,
    "start_time": "2022-08-28T15:02:29.627Z"
   },
   {
    "duration": 3,
    "start_time": "2022-08-28T15:02:29.638Z"
   },
   {
    "duration": 35,
    "start_time": "2022-08-28T15:02:29.643Z"
   },
   {
    "duration": 31,
    "start_time": "2022-08-28T15:02:29.680Z"
   },
   {
    "duration": 11,
    "start_time": "2022-08-28T15:02:29.713Z"
   },
   {
    "duration": 11,
    "start_time": "2022-08-28T15:02:29.726Z"
   },
   {
    "duration": 20,
    "start_time": "2022-08-28T15:02:29.738Z"
   },
   {
    "duration": 18,
    "start_time": "2022-08-28T15:02:29.759Z"
   },
   {
    "duration": 29,
    "start_time": "2022-08-28T15:02:29.779Z"
   },
   {
    "duration": 9,
    "start_time": "2022-08-28T15:02:29.810Z"
   },
   {
    "duration": 7,
    "start_time": "2022-08-28T15:02:29.821Z"
   },
   {
    "duration": 4,
    "start_time": "2022-08-28T15:02:29.830Z"
   },
   {
    "duration": 10,
    "start_time": "2022-08-28T15:02:29.837Z"
   },
   {
    "duration": 9,
    "start_time": "2022-08-28T15:02:29.849Z"
   },
   {
    "duration": 90,
    "start_time": "2022-08-28T15:02:29.860Z"
   },
   {
    "duration": 0,
    "start_time": "2022-08-28T15:02:29.951Z"
   },
   {
    "duration": 0,
    "start_time": "2022-08-28T15:02:29.953Z"
   },
   {
    "duration": 0,
    "start_time": "2022-08-28T15:02:29.954Z"
   },
   {
    "duration": 0,
    "start_time": "2022-08-28T15:02:29.955Z"
   },
   {
    "duration": 0,
    "start_time": "2022-08-28T15:02:29.957Z"
   },
   {
    "duration": 0,
    "start_time": "2022-08-28T15:02:29.958Z"
   },
   {
    "duration": 0,
    "start_time": "2022-08-28T15:02:29.958Z"
   },
   {
    "duration": 0,
    "start_time": "2022-08-28T15:02:29.960Z"
   },
   {
    "duration": 0,
    "start_time": "2022-08-28T15:02:29.960Z"
   },
   {
    "duration": 0,
    "start_time": "2022-08-28T15:02:29.961Z"
   },
   {
    "duration": 0,
    "start_time": "2022-08-28T15:02:29.962Z"
   },
   {
    "duration": 66,
    "start_time": "2022-08-28T15:02:43.461Z"
   },
   {
    "duration": 14,
    "start_time": "2022-08-28T15:02:43.529Z"
   },
   {
    "duration": 19,
    "start_time": "2022-08-28T15:02:43.545Z"
   },
   {
    "duration": 8,
    "start_time": "2022-08-28T15:02:43.566Z"
   },
   {
    "duration": 50,
    "start_time": "2022-08-28T15:02:43.576Z"
   },
   {
    "duration": 3,
    "start_time": "2022-08-28T15:02:43.627Z"
   },
   {
    "duration": 10,
    "start_time": "2022-08-28T15:02:43.632Z"
   },
   {
    "duration": 5,
    "start_time": "2022-08-28T15:02:43.643Z"
   },
   {
    "duration": 6,
    "start_time": "2022-08-28T15:02:43.649Z"
   },
   {
    "duration": 7,
    "start_time": "2022-08-28T15:02:43.657Z"
   },
   {
    "duration": 54,
    "start_time": "2022-08-28T15:02:43.665Z"
   },
   {
    "duration": 8,
    "start_time": "2022-08-28T15:02:43.721Z"
   },
   {
    "duration": 3,
    "start_time": "2022-08-28T15:02:43.731Z"
   },
   {
    "duration": 12,
    "start_time": "2022-08-28T15:02:43.736Z"
   },
   {
    "duration": 17,
    "start_time": "2022-08-28T15:02:43.749Z"
   },
   {
    "duration": 44,
    "start_time": "2022-08-28T15:02:43.767Z"
   },
   {
    "duration": 4,
    "start_time": "2022-08-28T15:02:43.812Z"
   },
   {
    "duration": 18,
    "start_time": "2022-08-28T15:02:43.817Z"
   },
   {
    "duration": 7,
    "start_time": "2022-08-28T15:02:43.837Z"
   },
   {
    "duration": 4,
    "start_time": "2022-08-28T15:02:43.845Z"
   },
   {
    "duration": 10,
    "start_time": "2022-08-28T15:02:43.851Z"
   },
   {
    "duration": 13,
    "start_time": "2022-08-28T15:02:43.862Z"
   },
   {
    "duration": 7,
    "start_time": "2022-08-28T15:02:43.876Z"
   },
   {
    "duration": 0,
    "start_time": "2022-08-28T15:02:43.906Z"
   },
   {
    "duration": 0,
    "start_time": "2022-08-28T15:02:43.907Z"
   },
   {
    "duration": 0,
    "start_time": "2022-08-28T15:02:43.908Z"
   },
   {
    "duration": 0,
    "start_time": "2022-08-28T15:02:43.909Z"
   },
   {
    "duration": 0,
    "start_time": "2022-08-28T15:02:43.910Z"
   },
   {
    "duration": 0,
    "start_time": "2022-08-28T15:02:43.911Z"
   },
   {
    "duration": 0,
    "start_time": "2022-08-28T15:02:43.912Z"
   },
   {
    "duration": 0,
    "start_time": "2022-08-28T15:02:43.914Z"
   },
   {
    "duration": 0,
    "start_time": "2022-08-28T15:02:43.916Z"
   },
   {
    "duration": 0,
    "start_time": "2022-08-28T15:02:43.916Z"
   },
   {
    "duration": 9,
    "start_time": "2022-08-28T15:03:02.305Z"
   },
   {
    "duration": 4,
    "start_time": "2022-08-28T15:03:02.464Z"
   },
   {
    "duration": 9,
    "start_time": "2022-08-28T15:03:17.669Z"
   },
   {
    "duration": 9,
    "start_time": "2022-08-28T15:03:18.460Z"
   },
   {
    "duration": 4,
    "start_time": "2022-08-28T15:03:19.313Z"
   },
   {
    "duration": 486,
    "start_time": "2022-08-28T15:03:19.700Z"
   },
   {
    "duration": 12,
    "start_time": "2022-08-28T15:03:20.475Z"
   },
   {
    "duration": 9,
    "start_time": "2022-08-28T15:03:20.627Z"
   },
   {
    "duration": 125,
    "start_time": "2022-08-28T15:03:20.845Z"
   },
   {
    "duration": 11,
    "start_time": "2022-08-28T15:03:21.564Z"
   },
   {
    "duration": 7,
    "start_time": "2022-08-28T15:03:21.735Z"
   },
   {
    "duration": 103,
    "start_time": "2022-08-28T15:03:21.906Z"
   },
   {
    "duration": 12,
    "start_time": "2022-08-28T15:03:22.628Z"
   },
   {
    "duration": 8,
    "start_time": "2022-08-28T15:03:22.796Z"
   },
   {
    "duration": 138,
    "start_time": "2022-08-28T15:03:22.981Z"
   },
   {
    "duration": 8,
    "start_time": "2022-08-28T15:03:55.025Z"
   },
   {
    "duration": 3,
    "start_time": "2022-08-28T15:03:55.461Z"
   },
   {
    "duration": 144,
    "start_time": "2022-08-28T15:03:55.774Z"
   },
   {
    "duration": 12,
    "start_time": "2022-08-28T15:03:56.484Z"
   },
   {
    "duration": 11,
    "start_time": "2022-08-28T15:03:56.659Z"
   },
   {
    "duration": 117,
    "start_time": "2022-08-28T15:03:56.813Z"
   },
   {
    "duration": 10,
    "start_time": "2022-08-28T15:03:57.474Z"
   },
   {
    "duration": 8,
    "start_time": "2022-08-28T15:03:57.630Z"
   },
   {
    "duration": 104,
    "start_time": "2022-08-28T15:03:57.788Z"
   },
   {
    "duration": 12,
    "start_time": "2022-08-28T15:03:58.427Z"
   },
   {
    "duration": 7,
    "start_time": "2022-08-28T15:03:58.577Z"
   },
   {
    "duration": 116,
    "start_time": "2022-08-28T15:03:58.725Z"
   },
   {
    "duration": 98,
    "start_time": "2022-08-28T16:11:00.748Z"
   },
   {
    "duration": 7,
    "start_time": "2022-08-28T16:33:35.309Z"
   },
   {
    "duration": 159,
    "start_time": "2022-08-28T16:33:35.985Z"
   },
   {
    "duration": 10,
    "start_time": "2022-08-28T16:33:37.558Z"
   },
   {
    "duration": 7,
    "start_time": "2022-08-28T16:33:37.891Z"
   },
   {
    "duration": 94,
    "start_time": "2022-08-28T16:33:38.286Z"
   },
   {
    "duration": 12,
    "start_time": "2022-08-28T16:33:39.560Z"
   },
   {
    "duration": 8,
    "start_time": "2022-08-28T16:33:39.904Z"
   },
   {
    "duration": 125,
    "start_time": "2022-08-28T16:33:40.295Z"
   },
   {
    "duration": 109,
    "start_time": "2022-08-29T15:47:55.638Z"
   },
   {
    "duration": 114,
    "start_time": "2022-08-29T15:53:43.456Z"
   },
   {
    "duration": 45,
    "start_time": "2022-08-29T19:02:33.444Z"
   },
   {
    "duration": 700,
    "start_time": "2022-08-29T19:05:20.713Z"
   },
   {
    "duration": 28,
    "start_time": "2022-08-29T19:05:21.415Z"
   },
   {
    "duration": 17,
    "start_time": "2022-08-29T19:05:21.445Z"
   },
   {
    "duration": 11,
    "start_time": "2022-08-29T19:05:21.464Z"
   },
   {
    "duration": 55,
    "start_time": "2022-08-29T19:05:21.477Z"
   },
   {
    "duration": 4,
    "start_time": "2022-08-29T19:05:21.534Z"
   },
   {
    "duration": 28,
    "start_time": "2022-08-29T19:05:21.540Z"
   },
   {
    "duration": 15,
    "start_time": "2022-08-29T19:05:21.570Z"
   },
   {
    "duration": 10,
    "start_time": "2022-08-29T19:05:21.587Z"
   },
   {
    "duration": 8,
    "start_time": "2022-08-29T19:05:21.600Z"
   },
   {
    "duration": 52,
    "start_time": "2022-08-29T19:05:21.610Z"
   },
   {
    "duration": 12,
    "start_time": "2022-08-29T19:05:21.664Z"
   },
   {
    "duration": 9,
    "start_time": "2022-08-29T19:05:21.678Z"
   },
   {
    "duration": 21,
    "start_time": "2022-08-29T19:05:21.689Z"
   },
   {
    "duration": 32,
    "start_time": "2022-08-29T19:05:21.712Z"
   },
   {
    "duration": 19,
    "start_time": "2022-08-29T19:05:21.746Z"
   },
   {
    "duration": 4,
    "start_time": "2022-08-29T19:05:21.766Z"
   },
   {
    "duration": 15,
    "start_time": "2022-08-29T19:05:21.771Z"
   },
   {
    "duration": 10,
    "start_time": "2022-08-29T19:05:21.787Z"
   },
   {
    "duration": 6,
    "start_time": "2022-08-29T19:05:21.799Z"
   },
   {
    "duration": 18,
    "start_time": "2022-08-29T19:05:21.806Z"
   },
   {
    "duration": 11,
    "start_time": "2022-08-29T19:05:21.826Z"
   },
   {
    "duration": 9,
    "start_time": "2022-08-29T19:05:21.839Z"
   },
   {
    "duration": 14,
    "start_time": "2022-08-29T19:05:21.850Z"
   },
   {
    "duration": 538,
    "start_time": "2022-08-29T19:05:21.866Z"
   },
   {
    "duration": 0,
    "start_time": "2022-08-29T19:05:22.406Z"
   },
   {
    "duration": 0,
    "start_time": "2022-08-29T19:05:22.408Z"
   },
   {
    "duration": 0,
    "start_time": "2022-08-29T19:05:22.409Z"
   },
   {
    "duration": 0,
    "start_time": "2022-08-29T19:05:22.410Z"
   },
   {
    "duration": 0,
    "start_time": "2022-08-29T19:05:22.411Z"
   },
   {
    "duration": 0,
    "start_time": "2022-08-29T19:05:22.412Z"
   },
   {
    "duration": 0,
    "start_time": "2022-08-29T19:05:22.413Z"
   },
   {
    "duration": 0,
    "start_time": "2022-08-29T19:05:22.414Z"
   },
   {
    "duration": 0,
    "start_time": "2022-08-29T19:05:22.415Z"
   },
   {
    "duration": 326,
    "start_time": "2022-08-29T19:06:10.109Z"
   },
   {
    "duration": 114,
    "start_time": "2022-08-29T19:06:32.401Z"
   },
   {
    "duration": 94,
    "start_time": "2022-08-29T19:06:36.324Z"
   },
   {
    "duration": 49,
    "start_time": "2022-08-29T19:07:58.843Z"
   },
   {
    "duration": 66,
    "start_time": "2022-08-29T19:08:23.461Z"
   },
   {
    "duration": 100,
    "start_time": "2022-08-29T19:18:55.618Z"
   },
   {
    "duration": 6,
    "start_time": "2022-08-29T19:21:04.101Z"
   },
   {
    "duration": 6,
    "start_time": "2022-08-29T19:21:06.582Z"
   },
   {
    "duration": 8,
    "start_time": "2022-08-29T19:21:12.646Z"
   },
   {
    "duration": 14,
    "start_time": "2022-08-29T19:22:34.370Z"
   },
   {
    "duration": 13,
    "start_time": "2022-08-29T19:22:46.022Z"
   },
   {
    "duration": 109,
    "start_time": "2022-08-29T19:27:04.697Z"
   },
   {
    "duration": 172,
    "start_time": "2022-08-29T19:29:02.960Z"
   },
   {
    "duration": 153,
    "start_time": "2022-08-29T19:34:03.927Z"
   },
   {
    "duration": 211,
    "start_time": "2022-08-29T19:34:13.004Z"
   },
   {
    "duration": 117,
    "start_time": "2022-08-29T19:34:17.837Z"
   },
   {
    "duration": 11,
    "start_time": "2022-08-29T19:34:53.241Z"
   },
   {
    "duration": 9,
    "start_time": "2022-08-29T19:35:35.397Z"
   },
   {
    "duration": 12,
    "start_time": "2022-08-29T19:35:46.653Z"
   },
   {
    "duration": 9,
    "start_time": "2022-08-29T19:35:47.032Z"
   },
   {
    "duration": 135,
    "start_time": "2022-08-29T19:35:47.618Z"
   },
   {
    "duration": 123,
    "start_time": "2022-08-29T19:35:53.087Z"
   },
   {
    "duration": 577,
    "start_time": "2022-08-30T14:09:35.600Z"
   },
   {
    "duration": 30,
    "start_time": "2022-08-30T14:09:36.180Z"
   },
   {
    "duration": 17,
    "start_time": "2022-08-30T14:09:36.212Z"
   },
   {
    "duration": 18,
    "start_time": "2022-08-30T14:09:36.232Z"
   },
   {
    "duration": 62,
    "start_time": "2022-08-30T14:09:36.251Z"
   },
   {
    "duration": 5,
    "start_time": "2022-08-30T14:09:36.315Z"
   },
   {
    "duration": 22,
    "start_time": "2022-08-30T14:09:36.322Z"
   },
   {
    "duration": 5,
    "start_time": "2022-08-30T14:09:36.346Z"
   },
   {
    "duration": 10,
    "start_time": "2022-08-30T14:09:36.353Z"
   },
   {
    "duration": 5,
    "start_time": "2022-08-30T14:09:36.366Z"
   },
   {
    "duration": 48,
    "start_time": "2022-08-30T14:09:36.372Z"
   },
   {
    "duration": 9,
    "start_time": "2022-08-30T14:09:36.422Z"
   },
   {
    "duration": 4,
    "start_time": "2022-08-30T14:09:36.433Z"
   },
   {
    "duration": 17,
    "start_time": "2022-08-30T14:09:36.439Z"
   },
   {
    "duration": 22,
    "start_time": "2022-08-30T14:09:36.457Z"
   },
   {
    "duration": 42,
    "start_time": "2022-08-30T14:09:36.480Z"
   },
   {
    "duration": 4,
    "start_time": "2022-08-30T14:09:36.524Z"
   },
   {
    "duration": 14,
    "start_time": "2022-08-30T14:09:36.530Z"
   },
   {
    "duration": 13,
    "start_time": "2022-08-30T14:09:36.545Z"
   },
   {
    "duration": 5,
    "start_time": "2022-08-30T14:09:36.559Z"
   },
   {
    "duration": 15,
    "start_time": "2022-08-30T14:09:36.565Z"
   },
   {
    "duration": 32,
    "start_time": "2022-08-30T14:09:36.582Z"
   },
   {
    "duration": 10,
    "start_time": "2022-08-30T14:09:36.616Z"
   },
   {
    "duration": 6,
    "start_time": "2022-08-30T14:09:36.628Z"
   },
   {
    "duration": 551,
    "start_time": "2022-08-30T14:09:36.635Z"
   },
   {
    "duration": 19,
    "start_time": "2022-08-30T14:09:37.187Z"
   },
   {
    "duration": 7,
    "start_time": "2022-08-30T14:09:37.208Z"
   },
   {
    "duration": 136,
    "start_time": "2022-08-30T14:09:37.218Z"
   },
   {
    "duration": 10,
    "start_time": "2022-08-30T14:09:37.356Z"
   },
   {
    "duration": 7,
    "start_time": "2022-08-30T14:09:37.368Z"
   },
   {
    "duration": 136,
    "start_time": "2022-08-30T14:09:37.377Z"
   },
   {
    "duration": 13,
    "start_time": "2022-08-30T14:09:37.515Z"
   },
   {
    "duration": 8,
    "start_time": "2022-08-30T14:09:37.530Z"
   },
   {
    "duration": 151,
    "start_time": "2022-08-30T14:09:37.539Z"
   },
   {
    "duration": 63,
    "start_time": "2022-08-31T10:52:20.991Z"
   },
   {
    "duration": 702,
    "start_time": "2022-08-31T10:52:35.938Z"
   },
   {
    "duration": 34,
    "start_time": "2022-08-31T10:52:36.644Z"
   },
   {
    "duration": 17,
    "start_time": "2022-08-31T10:52:36.680Z"
   },
   {
    "duration": 20,
    "start_time": "2022-08-31T10:52:36.700Z"
   },
   {
    "duration": 60,
    "start_time": "2022-08-31T10:52:36.721Z"
   },
   {
    "duration": 4,
    "start_time": "2022-08-31T10:52:36.783Z"
   },
   {
    "duration": 12,
    "start_time": "2022-08-31T10:52:36.789Z"
   },
   {
    "duration": 37,
    "start_time": "2022-08-31T10:52:36.803Z"
   },
   {
    "duration": 16,
    "start_time": "2022-08-31T10:52:36.842Z"
   },
   {
    "duration": 5,
    "start_time": "2022-08-31T10:52:36.861Z"
   },
   {
    "duration": 34,
    "start_time": "2022-08-31T10:52:36.868Z"
   },
   {
    "duration": 16,
    "start_time": "2022-08-31T10:52:36.904Z"
   },
   {
    "duration": 26,
    "start_time": "2022-08-31T10:52:36.923Z"
   },
   {
    "duration": 13,
    "start_time": "2022-08-31T10:52:36.951Z"
   },
   {
    "duration": 27,
    "start_time": "2022-08-31T10:52:36.966Z"
   },
   {
    "duration": 36,
    "start_time": "2022-08-31T10:52:36.994Z"
   },
   {
    "duration": 6,
    "start_time": "2022-08-31T10:52:37.036Z"
   },
   {
    "duration": 10,
    "start_time": "2022-08-31T10:52:37.046Z"
   },
   {
    "duration": 9,
    "start_time": "2022-08-31T10:52:37.058Z"
   },
   {
    "duration": 6,
    "start_time": "2022-08-31T10:52:37.069Z"
   },
   {
    "duration": 13,
    "start_time": "2022-08-31T10:52:37.076Z"
   },
   {
    "duration": 19,
    "start_time": "2022-08-31T10:52:37.090Z"
   },
   {
    "duration": 19,
    "start_time": "2022-08-31T10:52:37.110Z"
   },
   {
    "duration": 21,
    "start_time": "2022-08-31T10:52:37.131Z"
   },
   {
    "duration": 670,
    "start_time": "2022-08-31T10:52:37.154Z"
   },
   {
    "duration": 19,
    "start_time": "2022-08-31T10:52:37.832Z"
   },
   {
    "duration": 10,
    "start_time": "2022-08-31T10:52:37.853Z"
   },
   {
    "duration": 174,
    "start_time": "2022-08-31T10:52:37.867Z"
   },
   {
    "duration": 15,
    "start_time": "2022-08-31T10:52:38.047Z"
   },
   {
    "duration": 8,
    "start_time": "2022-08-31T10:52:38.064Z"
   },
   {
    "duration": 130,
    "start_time": "2022-08-31T10:52:38.074Z"
   },
   {
    "duration": 24,
    "start_time": "2022-08-31T10:52:38.206Z"
   },
   {
    "duration": 23,
    "start_time": "2022-08-31T10:52:38.232Z"
   },
   {
    "duration": 138,
    "start_time": "2022-08-31T10:52:38.257Z"
   },
   {
    "duration": 23,
    "start_time": "2022-08-31T10:52:56.228Z"
   },
   {
    "duration": 17,
    "start_time": "2022-08-31T11:00:07.035Z"
   },
   {
    "duration": 6,
    "start_time": "2022-08-31T15:05:11.092Z"
   },
   {
    "duration": 44,
    "start_time": "2022-09-02T12:05:41.230Z"
   },
   {
    "duration": 513,
    "start_time": "2022-09-02T12:05:47.599Z"
   },
   {
    "duration": 20,
    "start_time": "2022-09-02T12:05:48.114Z"
   },
   {
    "duration": 13,
    "start_time": "2022-09-02T12:05:48.135Z"
   },
   {
    "duration": 11,
    "start_time": "2022-09-02T12:05:48.150Z"
   },
   {
    "duration": 43,
    "start_time": "2022-09-02T12:05:48.163Z"
   },
   {
    "duration": 5,
    "start_time": "2022-09-02T12:05:48.208Z"
   },
   {
    "duration": 26,
    "start_time": "2022-09-02T12:05:48.215Z"
   },
   {
    "duration": 20,
    "start_time": "2022-09-02T12:05:48.242Z"
   },
   {
    "duration": 15,
    "start_time": "2022-09-02T12:05:48.263Z"
   },
   {
    "duration": 15,
    "start_time": "2022-09-02T12:05:48.281Z"
   },
   {
    "duration": 34,
    "start_time": "2022-09-02T12:05:48.297Z"
   },
   {
    "duration": 9,
    "start_time": "2022-09-02T12:05:48.332Z"
   },
   {
    "duration": 11,
    "start_time": "2022-09-02T12:05:48.342Z"
   },
   {
    "duration": 12,
    "start_time": "2022-09-02T12:05:48.354Z"
   },
   {
    "duration": 39,
    "start_time": "2022-09-02T12:05:48.367Z"
   },
   {
    "duration": 15,
    "start_time": "2022-09-02T12:05:48.408Z"
   },
   {
    "duration": 6,
    "start_time": "2022-09-02T12:05:48.424Z"
   },
   {
    "duration": 19,
    "start_time": "2022-09-02T12:05:48.431Z"
   },
   {
    "duration": 12,
    "start_time": "2022-09-02T12:05:48.452Z"
   },
   {
    "duration": 15,
    "start_time": "2022-09-02T12:05:48.466Z"
   },
   {
    "duration": 22,
    "start_time": "2022-09-02T12:05:48.482Z"
   },
   {
    "duration": 19,
    "start_time": "2022-09-02T12:05:48.505Z"
   },
   {
    "duration": 40,
    "start_time": "2022-09-02T12:05:48.525Z"
   },
   {
    "duration": 0,
    "start_time": "2022-09-02T12:05:48.567Z"
   },
   {
    "duration": 0,
    "start_time": "2022-09-02T12:05:48.568Z"
   },
   {
    "duration": 0,
    "start_time": "2022-09-02T12:05:48.568Z"
   },
   {
    "duration": 0,
    "start_time": "2022-09-02T12:05:48.569Z"
   },
   {
    "duration": 0,
    "start_time": "2022-09-02T12:05:48.570Z"
   },
   {
    "duration": 0,
    "start_time": "2022-09-02T12:05:48.571Z"
   },
   {
    "duration": 0,
    "start_time": "2022-09-02T12:05:48.572Z"
   },
   {
    "duration": 0,
    "start_time": "2022-09-02T12:05:48.573Z"
   },
   {
    "duration": 0,
    "start_time": "2022-09-02T12:05:48.574Z"
   },
   {
    "duration": 0,
    "start_time": "2022-09-02T12:05:48.575Z"
   },
   {
    "duration": 0,
    "start_time": "2022-09-02T12:05:48.576Z"
   },
   {
    "duration": 0,
    "start_time": "2022-09-02T12:05:48.577Z"
   },
   {
    "duration": 21,
    "start_time": "2022-09-02T12:05:59.534Z"
   },
   {
    "duration": 498,
    "start_time": "2022-09-02T12:13:17.573Z"
   },
   {
    "duration": 128,
    "start_time": "2022-09-02T12:13:45.663Z"
   },
   {
    "duration": 115,
    "start_time": "2022-09-02T12:21:18.344Z"
   },
   {
    "duration": 13,
    "start_time": "2022-09-02T12:21:39.299Z"
   },
   {
    "duration": 9,
    "start_time": "2022-09-02T12:21:40.535Z"
   },
   {
    "duration": 131,
    "start_time": "2022-09-02T12:22:33.006Z"
   },
   {
    "duration": 16,
    "start_time": "2022-09-02T12:22:53.432Z"
   },
   {
    "duration": 13,
    "start_time": "2022-09-02T12:23:01.866Z"
   },
   {
    "duration": 11,
    "start_time": "2022-09-02T12:23:02.063Z"
   },
   {
    "duration": 175,
    "start_time": "2022-09-02T12:23:02.291Z"
   },
   {
    "duration": 14,
    "start_time": "2022-09-02T12:23:13.848Z"
   },
   {
    "duration": 13,
    "start_time": "2022-09-02T12:23:14.046Z"
   },
   {
    "duration": 109,
    "start_time": "2022-09-02T12:23:14.553Z"
   },
   {
    "duration": 114,
    "start_time": "2022-09-02T12:23:26.699Z"
   },
   {
    "duration": 18,
    "start_time": "2022-09-02T12:26:46.918Z"
   },
   {
    "duration": 98,
    "start_time": "2022-09-02T12:28:01.321Z"
   },
   {
    "duration": 19,
    "start_time": "2022-09-02T12:28:08.017Z"
   },
   {
    "duration": 15,
    "start_time": "2022-09-02T12:28:17.755Z"
   },
   {
    "duration": 23,
    "start_time": "2022-09-02T12:28:33.263Z"
   },
   {
    "duration": 28,
    "start_time": "2022-09-02T12:28:45.796Z"
   },
   {
    "duration": 77,
    "start_time": "2022-09-02T12:29:34.213Z"
   },
   {
    "duration": 16,
    "start_time": "2022-09-02T12:29:42.336Z"
   }
  ],
  "colab": {
   "name": "dpp_template_part2.ipynb",
   "provenance": []
  },
  "kernelspec": {
   "display_name": "Python 3 (ipykernel)",
   "language": "python",
   "name": "python3"
  },
  "language_info": {
   "codemirror_mode": {
    "name": "ipython",
    "version": 3
   },
   "file_extension": ".py",
   "mimetype": "text/x-python",
   "name": "python",
   "nbconvert_exporter": "python",
   "pygments_lexer": "ipython3",
   "version": "3.9.13"
  },
  "toc": {
   "base_numbering": 1,
   "nav_menu": {},
   "number_sections": true,
   "sideBar": true,
   "skip_h1_title": true,
   "title_cell": "Table of Contents",
   "title_sidebar": "Contents",
   "toc_cell": false,
   "toc_position": {
    "height": "calc(100% - 180px)",
    "left": "10px",
    "top": "150px",
    "width": "165px"
   },
   "toc_section_display": true,
   "toc_window_display": false
  }
 },
 "nbformat": 4,
 "nbformat_minor": 5
}
