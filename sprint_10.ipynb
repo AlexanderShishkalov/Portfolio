{
 "cells": [
  {
   "cell_type": "markdown",
   "id": "3a843ab6",
   "metadata": {},
   "source": [
    "# Защита персональных данных клиентов"
   ]
  },
  {
   "cell_type": "markdown",
   "id": "b098e8a4",
   "metadata": {},
   "source": [
    "## Введение"
   ]
  },
  {
   "cell_type": "markdown",
   "id": "5bdc180e",
   "metadata": {},
   "source": [
    "Вам нужно защитить данные клиентов страховой компании «Хоть потоп». Разработайте такой метод преобразования данных, чтобы по ним было сложно восстановить персональную информацию. Обоснуйте корректность его работы.\n",
    "\n",
    "План работы:\n",
    "\n",
    "- EDA\n",
    "- Ответы на вопросы\n",
    "- Алгоритм\n",
    "- Проверка алгоритма\n",
    "\n"
   ]
  },
  {
   "cell_type": "markdown",
   "id": "52a931dc",
   "metadata": {},
   "source": [
    "## EDA"
   ]
  },
  {
   "cell_type": "code",
   "execution_count": 18,
   "id": "5401d6d6",
   "metadata": {},
   "outputs": [],
   "source": [
    "# импорт функций\n",
    "\n",
    "import pandas as pd\n",
    "import numpy as np\n",
    "import seaborn as sns\n",
    "import matplotlib.pyplot as plt\n",
    "\n",
    "# модели\n",
    "from sklearn.linear_model import LinearRegression\n",
    "from sklearn.model_selection import train_test_split\n",
    "\n",
    "# метрики\n",
    "from sklearn.metrics import r2_score\n",
    "\n",
    "# отключаем предупреждения\n",
    "import warnings\n",
    "warnings.filterwarnings('ignore')"
   ]
  },
  {
   "cell_type": "code",
   "execution_count": 2,
   "id": "8732d9bd",
   "metadata": {},
   "outputs": [],
   "source": [
    "# импорт датасета\n",
    "try:\n",
    "    data = pd.read_csv('insurance.csv') \n",
    "except:\n",
    "    data = pd.read_csv('https://code.s3.yandex.net/datasets/insurance.csv')\n"
   ]
  },
  {
   "cell_type": "code",
   "execution_count": 3,
   "id": "b41f0140",
   "metadata": {},
   "outputs": [
    {
     "data": {
      "text/html": [
       "<div>\n",
       "<style scoped>\n",
       "    .dataframe tbody tr th:only-of-type {\n",
       "        vertical-align: middle;\n",
       "    }\n",
       "\n",
       "    .dataframe tbody tr th {\n",
       "        vertical-align: top;\n",
       "    }\n",
       "\n",
       "    .dataframe thead th {\n",
       "        text-align: right;\n",
       "    }\n",
       "</style>\n",
       "<table border=\"1\" class=\"dataframe\">\n",
       "  <thead>\n",
       "    <tr style=\"text-align: right;\">\n",
       "      <th></th>\n",
       "      <th>Пол</th>\n",
       "      <th>Возраст</th>\n",
       "      <th>Зарплата</th>\n",
       "      <th>Члены семьи</th>\n",
       "      <th>Страховые выплаты</th>\n",
       "    </tr>\n",
       "  </thead>\n",
       "  <tbody>\n",
       "    <tr>\n",
       "      <th>0</th>\n",
       "      <td>1</td>\n",
       "      <td>41.0</td>\n",
       "      <td>49600.0</td>\n",
       "      <td>1</td>\n",
       "      <td>0</td>\n",
       "    </tr>\n",
       "    <tr>\n",
       "      <th>1</th>\n",
       "      <td>0</td>\n",
       "      <td>46.0</td>\n",
       "      <td>38000.0</td>\n",
       "      <td>1</td>\n",
       "      <td>1</td>\n",
       "    </tr>\n",
       "    <tr>\n",
       "      <th>2</th>\n",
       "      <td>0</td>\n",
       "      <td>29.0</td>\n",
       "      <td>21000.0</td>\n",
       "      <td>0</td>\n",
       "      <td>0</td>\n",
       "    </tr>\n",
       "    <tr>\n",
       "      <th>3</th>\n",
       "      <td>0</td>\n",
       "      <td>21.0</td>\n",
       "      <td>41700.0</td>\n",
       "      <td>2</td>\n",
       "      <td>0</td>\n",
       "    </tr>\n",
       "    <tr>\n",
       "      <th>4</th>\n",
       "      <td>1</td>\n",
       "      <td>28.0</td>\n",
       "      <td>26100.0</td>\n",
       "      <td>0</td>\n",
       "      <td>0</td>\n",
       "    </tr>\n",
       "  </tbody>\n",
       "</table>\n",
       "</div>"
      ],
      "text/plain": [
       "   Пол  Возраст  Зарплата  Члены семьи  Страховые выплаты\n",
       "0    1     41.0   49600.0            1                  0\n",
       "1    0     46.0   38000.0            1                  1\n",
       "2    0     29.0   21000.0            0                  0\n",
       "3    0     21.0   41700.0            2                  0\n",
       "4    1     28.0   26100.0            0                  0"
      ]
     },
     "execution_count": 3,
     "metadata": {},
     "output_type": "execute_result"
    }
   ],
   "source": [
    "data.head()"
   ]
  },
  {
   "cell_type": "code",
   "execution_count": 4,
   "id": "8901b293",
   "metadata": {
    "scrolled": true
   },
   "outputs": [
    {
     "name": "stdout",
     "output_type": "stream",
     "text": [
      "<class 'pandas.core.frame.DataFrame'>\n",
      "RangeIndex: 5000 entries, 0 to 4999\n",
      "Data columns (total 5 columns):\n",
      " #   Column             Non-Null Count  Dtype  \n",
      "---  ------             --------------  -----  \n",
      " 0   Пол                5000 non-null   int64  \n",
      " 1   Возраст            5000 non-null   float64\n",
      " 2   Зарплата           5000 non-null   float64\n",
      " 3   Члены семьи        5000 non-null   int64  \n",
      " 4   Страховые выплаты  5000 non-null   int64  \n",
      "dtypes: float64(2), int64(3)\n",
      "memory usage: 195.4 KB\n"
     ]
    }
   ],
   "source": [
    "data.info()"
   ]
  },
  {
   "cell_type": "code",
   "execution_count": 5,
   "id": "81d9837a",
   "metadata": {},
   "outputs": [],
   "source": [
    "data.columns = data.columns.str.lower()\n",
    "data.rename(columns={'члены семьи': 'члены_семьи', 'страховые выплаты': 'страховые_выплаты'}, inplace=True)"
   ]
  },
  {
   "cell_type": "code",
   "execution_count": 6,
   "id": "d6d4a17b",
   "metadata": {
    "scrolled": false
   },
   "outputs": [
    {
     "name": "stdout",
     "output_type": "stream",
     "text": [
      "<class 'pandas.core.frame.DataFrame'>\n",
      "RangeIndex: 5000 entries, 0 to 4999\n",
      "Data columns (total 5 columns):\n",
      " #   Column             Non-Null Count  Dtype  \n",
      "---  ------             --------------  -----  \n",
      " 0   пол                5000 non-null   int64  \n",
      " 1   возраст            5000 non-null   float64\n",
      " 2   зарплата           5000 non-null   float64\n",
      " 3   члены_семьи        5000 non-null   int64  \n",
      " 4   страховые_выплаты  5000 non-null   int64  \n",
      "dtypes: float64(2), int64(3)\n",
      "memory usage: 195.4 KB\n"
     ]
    }
   ],
   "source": [
    "data.info()"
   ]
  },
  {
   "cell_type": "code",
   "execution_count": 7,
   "id": "34ab2148",
   "metadata": {},
   "outputs": [
    {
     "data": {
      "text/plain": [
       "False    0.9694\n",
       "True     0.0306\n",
       "dtype: float64"
      ]
     },
     "execution_count": 7,
     "metadata": {},
     "output_type": "execute_result"
    }
   ],
   "source": [
    "data.duplicated().value_counts(normalize=True)"
   ]
  },
  {
   "cell_type": "code",
   "execution_count": 8,
   "id": "8f8bc1d2",
   "metadata": {},
   "outputs": [
    {
     "data": {
      "image/png": "[encoded data removed]",
      "text/plain": [
       "<Figure size 700x700 with 2 Axes>"
      ]
     },
     "metadata": {},
     "output_type": "display_data"
    }
   ],
   "source": [
    "fig, ax = plt.subplots(figsize=(7, 7))\n",
    "\n",
    "sns.heatmap(data.corr().round(2), \n",
    "            vmin=-1, \n",
    "            vmax=1, \n",
    "            annot=True, \n",
    "            annot_kws={'fontsize': 6,})\n",
    "plt.title('Диаграмма корреляции', fontsize=16)\n",
    "plt.xticks(fontsize=10)\n",
    "plt.yticks(fontsize=10)\n",
    "plt.show()"
   ]
  },
  {
   "cell_type": "markdown",
   "id": "0f2fe86a",
   "metadata": {},
   "source": [
    "Вывод:\n",
    "\n",
    "Данные без пропусков, присутствует незначительное количество дубликатов, средняя корреляция целевого признака с параметром возраст. Назвения столбцов приведены к нижнему регистру."
   ]
  },
  {
   "cell_type": "markdown",
   "id": "695787af",
   "metadata": {},
   "source": [
    "## Ответ на вопрос"
   ]
  },
  {
   "cell_type": "markdown",
   "id": "bcf56f9f",
   "metadata": {},
   "source": [
    "Признаки умножают на обратимую матрицу. Изменится ли качество линейной регрессии? (Её можно обучить заново.)\n",
    "a. Изменится. Приведите примеры матриц.\n",
    "b. Не изменится. Укажите, как связаны параметры линейной регрессии в исходной задаче и в преобразованной."
   ]
  },
  {
   "cell_type": "markdown",
   "id": "736e3131",
   "metadata": {},
   "source": [
    "Вырожденные случаи рассматривать не будем. \n",
    "\n",
    "Проведем исследование общего случая. \n",
    "\n",
    "Обозначения:\n",
    "\n",
    "- $X$ — матрица признаков (нулевой столбец состоит из единиц)\n",
    "\n",
    "- $y$ — вектор целевого признака\n",
    "\n",
    "- $P$ — матрица, на которую умножаются признаки\n",
    "\n",
    "- $w$ — вектор весов линейной регрессии (нулевой элемент равен сдвигу)\n",
    "\n",
    "Предсказания:\n",
    "\n",
    "$$\n",
    "a = Xw\n",
    "$$\n",
    "\n",
    "Задача обучения:\n",
    "\n",
    "$$\n",
    "w = \\arg\\min_w MSE(Xw, y)\n",
    "$$\n",
    "\n",
    "Формула обучения:\n",
    "\n",
    "$$\n",
    "w = (X^T X)^{-1} X^T y\n",
    "$$\n",
    "\n",
    "Домножим матрицу признаков на обратимую матрицу P и посмотрим на вектор весов w'\n",
    "\n",
    "$$\n",
    "w' = ((X P)^T X P)^{-1} (X P)^T y = \n",
    "$$\n",
    "\n",
    "Проведем преобразования\n",
    "\n",
    "$$\n",
    "w' =  P^{-1}(X^T X)^{-1}(P^T)^{-1} P^T X^T y\n",
    "$$\n",
    "\n",
    "Сократим $$ (P^T)^{-1} P^T $$\n",
    "\n",
    "\n",
    "$$\n",
    "w' =  P^{-1}(X^T X)^{-1} X^T y\n",
    "$$\n",
    "\n",
    "Подставим в модель предсказания $$X P$$ и $$w'$$\n",
    "\n",
    "$$\n",
    "a' = X P P^{-1} (X^T X)^{-1} X^T = X w\n",
    "$$\n",
    "\n",
    "Мы соктратили и преобразовали $$P P^{-1}$$. $$ (X^T X)^{-1} X^T -> w$$\n",
    "\n",
    "Мы получили исходную формулу. \n",
    "\n",
    "Вывод: при домножении матрицы признаков на обратимую матрицу предсказание линейной реггрессии не меняется.\n",
    "\n",
    "\n",
    "\n",
    "\n",
    "\n",
    "\n",
    "\n",
    "\n",
    "\n"
   ]
  },
  {
   "cell_type": "markdown",
   "id": "906e0d27",
   "metadata": {},
   "source": [
    "## Алгоритм"
   ]
  },
  {
   "cell_type": "markdown",
   "id": "c5c57597",
   "metadata": {},
   "source": [
    "Предложите алгоритм преобразования данных для решения задачи. Обоснуйте, почему качество линейной регрессии не поменяется."
   ]
  },
  {
   "cell_type": "markdown",
   "id": "c5a6dc84",
   "metadata": {},
   "source": [
    "Как было показано при домножении на обратимую матрицу предсказание модели линейной регрессии не меняется. На основании этого предложим следующий алгоритм шифрования персональных данных:\n",
    "\n",
    "1. Создаем случайную матрицу и проверяем ее на обратимость\n",
    "2. Умножаем матрицу признаков на нашу случайную матрицу. Таргеты не трогаем.\n",
    "3. При необходимости восстановить признаки умножам их на матрицу обратную сгенерированной.\n"
   ]
  },
  {
   "cell_type": "markdown",
   "id": "572b9e0d",
   "metadata": {},
   "source": [
    "Качество линейной регрессии не поменяется по причине неизменности преддсказаний модели. Это было покащано в предыдущем пункте."
   ]
  },
  {
   "cell_type": "markdown",
   "id": "63f43da2",
   "metadata": {},
   "source": [
    "## Проверка алгоритма."
   ]
  },
  {
   "cell_type": "markdown",
   "id": "6b9404c9",
   "metadata": {},
   "source": [
    "Обучим модель на оригинальной матрице и на шифрованной матрицу. Сравним r2 метрику. "
   ]
  },
  {
   "cell_type": "code",
   "execution_count": 20,
   "id": "d9829b58",
   "metadata": {
    "scrolled": true
   },
   "outputs": [
    {
     "data": {
      "text/plain": [
       "((5000, 4), (5000,))"
      ]
     },
     "execution_count": 20,
     "metadata": {},
     "output_type": "execute_result"
    }
   ],
   "source": [
    "# выделяем таргет\n",
    "features = data.drop(['страховые_выплаты'], axis=1)\n",
    "target = data['страховые_выплаты']\n",
    "features.shape, target.shape"
   ]
  },
  {
   "cell_type": "code",
   "execution_count": 21,
   "id": "65dcc51f",
   "metadata": {},
   "outputs": [
    {
     "data": {
      "text/plain": [
       "(array([[0.53774169, 0.92428263, 0.32238709, 0.63520261],\n",
       "        [0.44351066, 0.36947939, 0.79269498, 0.25748704],\n",
       "        [0.92652647, 0.46252972, 0.54772691, 0.53962992],\n",
       "        [0.83250055, 0.36560151, 0.57656738, 0.1005298 ]]),\n",
       " array([[-0.37529635, -1.30271506,  0.83910955,  1.20375091],\n",
       "        [ 1.68652708, -0.23923937, -2.13440348,  1.41353735],\n",
       "        [-0.47124356,  1.95247441, -0.3025957 , -0.39900632],\n",
       "        [-0.32287705,  0.46000513,  2.54898326, -2.87338332]]))"
      ]
     },
     "execution_count": 21,
     "metadata": {},
     "output_type": "execute_result"
    }
   ],
   "source": [
    "#зададим случайную матрицу и проверем ее на обратимость\n",
    "flag = True\n",
    "P = None\n",
    "while flag:\n",
    "    P = np.random.uniform(0.1, 1, (features.shape[1], features.shape[1]))\n",
    "    P_ = np.linalg.inv(P)\n",
    "    if np.allclose(P @ P_, np.eye(features.shape[1])):\n",
    "        flag = False\n",
    "P, P_"
   ]
  },
  {
   "cell_type": "markdown",
   "id": "2374e8a3",
   "metadata": {},
   "source": [
    "### Проверка на оригинальном наборе данных"
   ]
  },
  {
   "cell_type": "code",
   "execution_count": 24,
   "id": "fb3e9d33",
   "metadata": {
    "scrolled": false
   },
   "outputs": [
    {
     "data": {
      "text/plain": [
       "((3750, 4), (1250, 4), (3750,), (1250,))"
      ]
     },
     "execution_count": 24,
     "metadata": {},
     "output_type": "execute_result"
    }
   ],
   "source": [
    "#делим на выборки\n",
    "X_train, X_test, y_train, y_test = train_test_split(features, target, test_size = 0.25, random_state=123)\n",
    "X_train.shape, X_test.shape, y_train.shape, y_test.shape"
   ]
  },
  {
   "cell_type": "code",
   "execution_count": 30,
   "id": "a00e2e0b",
   "metadata": {},
   "outputs": [
    {
     "data": {
      "text/html": [
       "<div>\n",
       "<style scoped>\n",
       "    .dataframe tbody tr th:only-of-type {\n",
       "        vertical-align: middle;\n",
       "    }\n",
       "\n",
       "    .dataframe tbody tr th {\n",
       "        vertical-align: top;\n",
       "    }\n",
       "\n",
       "    .dataframe thead th {\n",
       "        text-align: right;\n",
       "    }\n",
       "</style>\n",
       "<table border=\"1\" class=\"dataframe\">\n",
       "  <thead>\n",
       "    <tr style=\"text-align: right;\">\n",
       "      <th></th>\n",
       "      <th>пол</th>\n",
       "      <th>возраст</th>\n",
       "      <th>зарплата</th>\n",
       "      <th>члены_семьи</th>\n",
       "    </tr>\n",
       "  </thead>\n",
       "  <tbody>\n",
       "    <tr>\n",
       "      <th>2413</th>\n",
       "      <td>1</td>\n",
       "      <td>30.0</td>\n",
       "      <td>42600.0</td>\n",
       "      <td>2</td>\n",
       "    </tr>\n",
       "    <tr>\n",
       "      <th>1471</th>\n",
       "      <td>1</td>\n",
       "      <td>30.0</td>\n",
       "      <td>24900.0</td>\n",
       "      <td>1</td>\n",
       "    </tr>\n",
       "    <tr>\n",
       "      <th>1196</th>\n",
       "      <td>0</td>\n",
       "      <td>24.0</td>\n",
       "      <td>45600.0</td>\n",
       "      <td>0</td>\n",
       "    </tr>\n",
       "    <tr>\n",
       "      <th>1509</th>\n",
       "      <td>0</td>\n",
       "      <td>49.0</td>\n",
       "      <td>35300.0</td>\n",
       "      <td>1</td>\n",
       "    </tr>\n",
       "    <tr>\n",
       "      <th>4110</th>\n",
       "      <td>1</td>\n",
       "      <td>30.0</td>\n",
       "      <td>37400.0</td>\n",
       "      <td>0</td>\n",
       "    </tr>\n",
       "  </tbody>\n",
       "</table>\n",
       "</div>"
      ],
      "text/plain": [
       "      пол  возраст  зарплата  члены_семьи\n",
       "2413    1     30.0   42600.0            2\n",
       "1471    1     30.0   24900.0            1\n",
       "1196    0     24.0   45600.0            0\n",
       "1509    0     49.0   35300.0            1\n",
       "4110    1     30.0   37400.0            0"
      ]
     },
     "execution_count": 30,
     "metadata": {},
     "output_type": "execute_result"
    }
   ],
   "source": [
    "X_train.head()"
   ]
  },
  {
   "cell_type": "code",
   "execution_count": 26,
   "id": "d2df7fed",
   "metadata": {},
   "outputs": [
    {
     "data": {
      "text/plain": [
       "0.43018469990933306"
      ]
     },
     "execution_count": 26,
     "metadata": {},
     "output_type": "execute_result"
    }
   ],
   "source": [
    "#обучаем модель и проверяем качество\n",
    "model = LinearRegression()\n",
    "clf = model.fit(X_train, y_train)\n",
    "score = r2_score(y_test, clf.predict(X_test))\n",
    "score"
   ]
  },
  {
   "cell_type": "markdown",
   "id": "88a39c2c",
   "metadata": {},
   "source": [
    "### Проверка на зашифрованном наборе"
   ]
  },
  {
   "cell_type": "code",
   "execution_count": 27,
   "id": "b2792824",
   "metadata": {
    "scrolled": false
   },
   "outputs": [
    {
     "data": {
      "text/plain": [
       "(5000, 4)"
      ]
     },
     "execution_count": 27,
     "metadata": {},
     "output_type": "execute_result"
    }
   ],
   "source": [
    "# шифруем признаки\n",
    "features_safe = features @ P\n",
    "features_safe.shape"
   ]
  },
  {
   "cell_type": "code",
   "execution_count": 32,
   "id": "76c9203a",
   "metadata": {},
   "outputs": [
    {
     "data": {
      "text/html": [
       "<div>\n",
       "<style scoped>\n",
       "    .dataframe tbody tr th:only-of-type {\n",
       "        vertical-align: middle;\n",
       "    }\n",
       "\n",
       "    .dataframe tbody tr th {\n",
       "        vertical-align: top;\n",
       "    }\n",
       "\n",
       "    .dataframe thead th {\n",
       "        text-align: right;\n",
       "    }\n",
       "</style>\n",
       "<table border=\"1\" class=\"dataframe\">\n",
       "  <thead>\n",
       "    <tr style=\"text-align: right;\">\n",
       "      <th></th>\n",
       "      <th>0</th>\n",
       "      <th>1</th>\n",
       "      <th>2</th>\n",
       "      <th>3</th>\n",
       "    </tr>\n",
       "  </thead>\n",
       "  <tbody>\n",
       "    <tr>\n",
       "      <th>0</th>\n",
       "      <td>45975.267183</td>\n",
       "      <td>22957.912723</td>\n",
       "      <td>27200.654139</td>\n",
       "      <td>26776.936941</td>\n",
       "    </tr>\n",
       "    <tr>\n",
       "      <th>1</th>\n",
       "      <td>35229.239921</td>\n",
       "      <td>17593.491069</td>\n",
       "      <td>20850.663082</td>\n",
       "      <td>20517.882053</td>\n",
       "    </tr>\n",
       "    <tr>\n",
       "      <th>2</th>\n",
       "      <td>19469.917718</td>\n",
       "      <td>9723.839053</td>\n",
       "      <td>11525.253245</td>\n",
       "      <td>11339.695532</td>\n",
       "    </tr>\n",
       "    <tr>\n",
       "      <th>3</th>\n",
       "      <td>38647.132601</td>\n",
       "      <td>19295.979655</td>\n",
       "      <td>22858.011838</td>\n",
       "      <td>22508.176126</td>\n",
       "    </tr>\n",
       "    <tr>\n",
       "      <th>4</th>\n",
       "      <td>24195.296956</td>\n",
       "      <td>12083.295436</td>\n",
       "      <td>14318.190174</td>\n",
       "      <td>14092.185861</td>\n",
       "    </tr>\n",
       "  </tbody>\n",
       "</table>\n",
       "</div>"
      ],
      "text/plain": [
       "              0             1             2             3\n",
       "0  45975.267183  22957.912723  27200.654139  26776.936941\n",
       "1  35229.239921  17593.491069  20850.663082  20517.882053\n",
       "2  19469.917718   9723.839053  11525.253245  11339.695532\n",
       "3  38647.132601  19295.979655  22858.011838  22508.176126\n",
       "4  24195.296956  12083.295436  14318.190174  14092.185861"
      ]
     },
     "execution_count": 32,
     "metadata": {},
     "output_type": "execute_result"
    }
   ],
   "source": [
    "features_safe.head()"
   ]
  },
  {
   "cell_type": "code",
   "execution_count": 35,
   "id": "e53a0105",
   "metadata": {},
   "outputs": [
    {
     "data": {
      "text/html": [
       "<div>\n",
       "<style scoped>\n",
       "    .dataframe tbody tr th:only-of-type {\n",
       "        vertical-align: middle;\n",
       "    }\n",
       "\n",
       "    .dataframe tbody tr th {\n",
       "        vertical-align: top;\n",
       "    }\n",
       "\n",
       "    .dataframe thead th {\n",
       "        text-align: right;\n",
       "    }\n",
       "</style>\n",
       "<table border=\"1\" class=\"dataframe\">\n",
       "  <thead>\n",
       "    <tr style=\"text-align: right;\">\n",
       "      <th></th>\n",
       "      <th>0</th>\n",
       "      <th>1</th>\n",
       "      <th>2</th>\n",
       "      <th>3</th>\n",
       "    </tr>\n",
       "  </thead>\n",
       "  <tbody>\n",
       "    <tr>\n",
       "      <th>0</th>\n",
       "      <td>1.0</td>\n",
       "      <td>41.0</td>\n",
       "      <td>49600.0</td>\n",
       "      <td>1.0</td>\n",
       "    </tr>\n",
       "    <tr>\n",
       "      <th>1</th>\n",
       "      <td>0.0</td>\n",
       "      <td>46.0</td>\n",
       "      <td>38000.0</td>\n",
       "      <td>1.0</td>\n",
       "    </tr>\n",
       "    <tr>\n",
       "      <th>2</th>\n",
       "      <td>-0.0</td>\n",
       "      <td>29.0</td>\n",
       "      <td>21000.0</td>\n",
       "      <td>0.0</td>\n",
       "    </tr>\n",
       "    <tr>\n",
       "      <th>3</th>\n",
       "      <td>0.0</td>\n",
       "      <td>21.0</td>\n",
       "      <td>41700.0</td>\n",
       "      <td>2.0</td>\n",
       "    </tr>\n",
       "    <tr>\n",
       "      <th>4</th>\n",
       "      <td>1.0</td>\n",
       "      <td>28.0</td>\n",
       "      <td>26100.0</td>\n",
       "      <td>0.0</td>\n",
       "    </tr>\n",
       "  </tbody>\n",
       "</table>\n",
       "</div>"
      ],
      "text/plain": [
       "     0     1        2    3\n",
       "0  1.0  41.0  49600.0  1.0\n",
       "1  0.0  46.0  38000.0  1.0\n",
       "2 -0.0  29.0  21000.0  0.0\n",
       "3  0.0  21.0  41700.0  2.0\n",
       "4  1.0  28.0  26100.0  0.0"
      ]
     },
     "execution_count": 35,
     "metadata": {},
     "output_type": "execute_result"
    }
   ],
   "source": [
    "# проверим, что данные можно восстановить\n",
    "(features_safe @ P_).round().head()"
   ]
  },
  {
   "cell_type": "code",
   "execution_count": 28,
   "id": "8c06b2eb",
   "metadata": {},
   "outputs": [],
   "source": [
    "X_train_, X_test_, y_train_, y_test_ = train_test_split(features_safe, target, test_size = 0.25, random_state=123)"
   ]
  },
  {
   "cell_type": "code",
   "execution_count": 31,
   "id": "19f6da21",
   "metadata": {
    "scrolled": true
   },
   "outputs": [
    {
     "data": {
      "text/html": [
       "<div>\n",
       "<style scoped>\n",
       "    .dataframe tbody tr th:only-of-type {\n",
       "        vertical-align: middle;\n",
       "    }\n",
       "\n",
       "    .dataframe tbody tr th {\n",
       "        vertical-align: top;\n",
       "    }\n",
       "\n",
       "    .dataframe thead th {\n",
       "        text-align: right;\n",
       "    }\n",
       "</style>\n",
       "<table border=\"1\" class=\"dataframe\">\n",
       "  <thead>\n",
       "    <tr style=\"text-align: right;\">\n",
       "      <th></th>\n",
       "      <th>0</th>\n",
       "      <th>1</th>\n",
       "      <th>2</th>\n",
       "      <th>3</th>\n",
       "    </tr>\n",
       "  </thead>\n",
       "  <tbody>\n",
       "    <tr>\n",
       "      <th>2413</th>\n",
       "      <td>39485.535764</td>\n",
       "      <td>19716.506001</td>\n",
       "      <td>23358.422698</td>\n",
       "      <td>22996.795644</td>\n",
       "    </tr>\n",
       "    <tr>\n",
       "      <th>1471</th>\n",
       "      <td>23085.184711</td>\n",
       "      <td>11529.364330</td>\n",
       "      <td>13663.079840</td>\n",
       "      <td>13445.245456</td>\n",
       "    </tr>\n",
       "    <tr>\n",
       "      <th>1196</th>\n",
       "      <td>42260.251372</td>\n",
       "      <td>21100.222804</td>\n",
       "      <td>24995.371734</td>\n",
       "      <td>24613.304232</td>\n",
       "    </tr>\n",
       "    <tr>\n",
       "      <th>1509</th>\n",
       "      <td>32728.948979</td>\n",
       "      <td>16345.769259</td>\n",
       "      <td>19374.178512</td>\n",
       "      <td>19061.653719</td>\n",
       "    </tr>\n",
       "    <tr>\n",
       "      <th>4110</th>\n",
       "      <td>34665.933109</td>\n",
       "      <td>17310.620247</td>\n",
       "      <td>20509.089636</td>\n",
       "      <td>20190.518978</td>\n",
       "    </tr>\n",
       "  </tbody>\n",
       "</table>\n",
       "</div>"
      ],
      "text/plain": [
       "                 0             1             2             3\n",
       "2413  39485.535764  19716.506001  23358.422698  22996.795644\n",
       "1471  23085.184711  11529.364330  13663.079840  13445.245456\n",
       "1196  42260.251372  21100.222804  24995.371734  24613.304232\n",
       "1509  32728.948979  16345.769259  19374.178512  19061.653719\n",
       "4110  34665.933109  17310.620247  20509.089636  20190.518978"
      ]
     },
     "execution_count": 31,
     "metadata": {},
     "output_type": "execute_result"
    }
   ],
   "source": [
    "X_train_.head()"
   ]
  },
  {
   "cell_type": "code",
   "execution_count": 29,
   "id": "7c533dc1",
   "metadata": {},
   "outputs": [
    {
     "data": {
      "text/plain": [
       "0.43018469990931707"
      ]
     },
     "execution_count": 29,
     "metadata": {},
     "output_type": "execute_result"
    }
   ],
   "source": [
    "#обучаем модель и проверяем качество\n",
    "model_ = LinearRegression()\n",
    "clf_ = model.fit(X_train_, y_train_)\n",
    "score_ = r2_score(y_test_, clf_.predict(X_test_))\n",
    "score_"
   ]
  },
  {
   "cell_type": "markdown",
   "id": "de18be98",
   "metadata": {},
   "source": [
    "## Вывод"
   ]
  },
  {
   "cell_type": "markdown",
   "id": "bb0a2c7d",
   "metadata": {},
   "source": [
    "Мы предложили алгоритм шифрования данных. Проверели его работоспособность и обратимость преобразований. По ходу работы алгоритм был теоретически обоснован. И результатаы были подтверждены практически.\n",
    "\n",
    "Предложенный алгоритм: \n",
    "\n",
    "1. Создаем случайную матрицу и проверяем ее на обратимость\n",
    "2. Умножаем матрицу признаков на нашу случайную матрицу. Таргеты не трогаем.\n",
    "3. При необходимости восстановить признаки умножам их на матрицу обратную сгенерированной.\n",
    "\n",
    "Теоретическое обоснование возможности работы с зашифрованными таким образом данными в п.3 \n",
    "\n",
    "На практике было подверждено, что модели обученные на чистом наборе данных и зашифрованном наборе данных показывают одинаковое качество.\n"
   ]
  }
 ],
 "metadata": {
  "kernelspec": {
   "display_name": "Python 3 (ipykernel)",
   "language": "python",
   "name": "python3"
  },
  "language_info": {
   "codemirror_mode": {
    "name": "ipython",
    "version": 3
   },
   "file_extension": ".py",
   "mimetype": "text/x-python",
   "name": "python",
   "nbconvert_exporter": "python",
   "pygments_lexer": "ipython3",
   "version": "3.9.13"
  },
  "toc": {
   "base_numbering": 1,
   "nav_menu": {},
   "number_sections": true,
   "sideBar": true,
   "skip_h1_title": true,
   "title_cell": "Table of Contents",
   "title_sidebar": "Contents",
   "toc_cell": false,
   "toc_position": {},
   "toc_section_display": true,
   "toc_window_display": true
  },
  "varInspector": {
   "cols": {
    "lenName": 16,
    "lenType": 16,
    "lenVar": 40
   },
   "kernels_config": {
    "python": {
     "delete_cmd_postfix": "",
     "delete_cmd_prefix": "del ",
     "library": "var_list.py",
     "varRefreshCmd": "print(var_dic_list())"
    },
    "r": {
     "delete_cmd_postfix": ") ",
     "delete_cmd_prefix": "rm(",
     "library": "var_list.r",
     "varRefreshCmd": "cat(var_dic_list()) "
    }
   },
   "types_to_exclude": [
    "module",
    "function",
    "builtin_function_or_method",
    "instance",
    "_Feature"
   ],
   "window_display": false
  }
 },
 "nbformat": 4,
 "nbformat_minor": 5
}
