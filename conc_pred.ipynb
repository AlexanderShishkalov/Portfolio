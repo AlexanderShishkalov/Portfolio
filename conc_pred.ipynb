{
 "cells": [
  {
   "cell_type": "markdown",
   "id": "b8eec6a1",
   "metadata": {},
   "source": [
    "<div style=\"border:solid Chocolate 2px; padding: 40px\">\n",
    "\n",
    "<b> Александр, привет!👋</b>\n",
    "\n",
    "Меня зовут Алексей Гриб, и я буду ревьюером твоего проекта. \n",
    "\n",
    "Сразу хочу предложить в дальнейшем общаться на \"ты\" - надеюсь, так будет комфортнее:) Но если это неудобно, обязательно дай знать, и мы придумаем что-нибудь ещё!\n",
    "    \n",
    "Цель ревью - не искать ошибки в твоём проекте, а помочь тебе сделать твою работу ещё лучше, устранив недочёты и приблизив её к реальным задачам аналитика. Поэтому не расстраивайся, если что-то не получилось с первого раза - это нормально, и это поможет тебе вырасти!\n",
    "    \n",
    "Ты можешь найти мои комментарии, обозначенные <font color='green'>зеленым</font>, <font color='gold'>желтым</font> и <font color='red'>красным</font> цветами, например:\n",
    "\n",
    "<br/>\n",
    "\n",
    "<div class=\"alert alert-success\">\n",
    "<h2> Комментарий ревьюера <a class=\"tocSkip\"> </h2>\n",
    "\n",
    "<b>Все отлично!👍:</b> похвала, рекомендации «со звёздочкой», полезные лайфхаки, которые сделают и без того красивое решение ещё более элегантным.\n",
    "</div>\n",
    "\n",
    "<br/>\n",
    "\n",
    "<div class=\"alert alert-warning\">\n",
    "    <h2> Комментарий ревьюера <a class=\"tocSkip\"> </h2>\n",
    "    \n",
    "<b>Некоторые замечания и рекомендации⚠️:</b> некритичные ошибки или развивающие рекомендации на будущее. \n",
    "</div>\n",
    "\n",
    "\n",
    "<br/>\n",
    "<div class=\"alert alert-block alert-danger\">\n",
    "<h2> Комментарий ревьюера <a class=\"tocSkip\"></h2>\n",
    "\n",
    "    \n",
    "<b>На доработку❌:</b>\n",
    "Критичные ошибки, которые обязательно нужно исправить.\n",
    "</div>\n",
    "\n",
    "Я не смогу принять проект, если в нём будет хотя бы одна критичная ошибка или несколько некритичных ошибок - тогда проект нужно будет немного доработать. Но это нестрашно - я обязательно дам тебе подсказку или укажу верное направление.\n",
    "    \n",
    "Пожалуйста, не удаляй мои комментарии, они будут особенно полезны для нашей работы в случае повторной проверки проекта. \n",
    "    \n",
    "Ты также можешь задавать свои вопросы, реагировать на мои комментарии, делать пометки и пояснения - полная творческая свобода! Но маленькая просьба - пускай они будут отличаться от моих комментариев, это поможет избежать путаницы в нашем общении:)\n",
    "Например, вот так:\n",
    "    \n",
    "<div class=\"alert alert-info\">\n",
    "<h2> Комментарий студента <a class=\"tocSkip\"> </h2>\n",
    "\n",
    "*твой текст*\n",
    "</div>\n",
    "    \n",
    "Давай посмотрим на твой проект!"
   ]
  },
  {
   "cell_type": "markdown",
   "id": "6799db1d",
   "metadata": {},
   "source": [
    "# Fancy name"
   ]
  },
  {
   "cell_type": "markdown",
   "id": "ad49ad2a",
   "metadata": {},
   "source": [
    "<div class=\"alert alert-success\">\n",
    "<h2> Комментарий ревьюера <a class=\"tocSkip\"> </h2>\n",
    "\n",
    "<b>Все отлично!👍:</b> И правда Fancy:)"
   ]
  },
  {
   "cell_type": "markdown",
   "id": "0f375a29",
   "metadata": {},
   "source": [
    "## Введение\n",
    "\n",
    "\n",
    "Подготовьте прототип модели машинного обучения для «Цифры». Компания разрабатывает решения для эффективной работы промышленных предприятий.\n",
    "Модель должна предсказать коэффициент восстановления золота из золотосодержащей руды. В вашем распоряжении данные с параметрами добычи и очистки.\n",
    "Модель поможет оптимизировать производство, чтобы не запускать предприятие с убыточными характеристиками.\n",
    "Вам нужно:\n",
    "Подготовить данные;\n",
    "Провести исследовательский анализ данных;\n",
    "Построить и обучить модель.\n",
    "Чтобы выполнить проект, обращайтесь к библиотекам pandas, matplotlib и sklearn. Вам поможет их документация.\n",
    "Следующий урок посвящён технологическому процессу очистки руды. Решите сами, какие детали нужны для построения модели, а какие — нет.\n",
    "\n",
    "\n",
    "\n",
    "\n",
    "\n"
   ]
  },
  {
   "cell_type": "markdown",
   "id": "4532eb20",
   "metadata": {},
   "source": [
    "<div class=\"alert alert-success\">\n",
    "<h2> Комментарий ревьюера <a class=\"tocSkip\"> </h2>\n",
    "\n",
    "<b>Все отлично!👍:</b> Круто, что есть небольшое вступление."
   ]
  },
  {
   "cell_type": "code",
   "execution_count": 2,
   "id": "0a746b08",
   "metadata": {},
   "outputs": [],
   "source": [
    "#!pip install skimpy"
   ]
  },
  {
   "cell_type": "code",
   "execution_count": 3,
   "id": "326290f5",
   "metadata": {},
   "outputs": [],
   "source": [
    "# импорт функций\n",
    "\n",
    "import pandas as pd\n",
    "import matplotlib.pyplot as plt\n",
    "import seaborn as sns\n",
    "import numpy as np\n",
    "\n",
    "# модели\n",
    "from sklearn.linear_model import LogisticRegression\n",
    "from sklearn.ensemble import RandomForestRegressor\n",
    "from sklearn.neighbors import KNeighborsRegressor\n",
    "from sklearn.dummy import DummyRegressor\n",
    "\n",
    "# pipeline \n",
    "from sklearn.pipeline import Pipeline\n",
    "from sklearn.model_selection import RandomizedSearchCV\n",
    "\n",
    "# метрики\n",
    "from sklearn.metrics import mean_squared_error as mse\n",
    "from sklearn.metrics import make_scorer\n",
    "from sklearn.metrics import mean_absolute_error as mae\n",
    "\n",
    "\n",
    "# работа с данными\n",
    "from sklearn.model_selection import train_test_split\n",
    "from sklearn.preprocessing import MinMaxScaler, StandardScaler\n",
    "from sklearn.utils import shuffle\n",
    "from skimpy import skim, clean_columns\n",
    "from scipy import stats\n",
    "\n",
    "\n",
    "# отключаем предупреждения\n",
    "import warnings\n",
    "warnings.filterwarnings('ignore')\n",
    "\n",
    "# настройки\n",
    "from sklearn import set_config\n",
    "set_config(display=\"diagram\")"
   ]
  },
  {
   "cell_type": "markdown",
   "id": "23044fd4",
   "metadata": {},
   "source": [
    "<div class=\"alert alert-success\">\n",
    "<h2> Комментарий ревьюера <a class=\"tocSkip\"> </h2>\n",
    "\n",
    "<b>Все отлично!👍:</b> Библиотеки импортировали - отлично! Спасибо, что перезапускаешь проект перед отправкой на ревью - это важный шаг, который поможет избежать простых и досадных ошибок при воспроизведении решнеия:)\n",
    "</div>"
   ]
  },
  {
   "cell_type": "markdown",
   "id": "90cf8eea",
   "metadata": {},
   "source": [
    "## Обpзор данных"
   ]
  },
  {
   "cell_type": "code",
   "execution_count": 4,
   "id": "7c4dd92a",
   "metadata": {},
   "outputs": [],
   "source": [
    "# импорт датасета\n",
    "try:\n",
    "    df_full = pd.read_csv('gold_recovery_full_new.csv')\n",
    "    df_test = pd.read_csv('gold_recovery_test_new.csv')\n",
    "    df_train = pd.read_csv('gold_recovery_train_new.csv')    \n",
    "except:\n",
    "    df_full = pd.read_csv('https://code.s3.yandex.net/datasets/gold_recovery_full_new.csv')\n",
    "    df_test = pd.read_csv('https://code.s3.yandex.net/datasets/gold_recovery_test_new.csv')\n",
    "    df_train = pd.read_csv('https://code.s3.yandex.net/datasets/gold_recovery_train_new.csv')"
   ]
  },
  {
   "cell_type": "code",
   "execution_count": 5,
   "id": "318bb90d",
   "metadata": {},
   "outputs": [
    {
     "data": {
      "text/html": [
       "<div>\n",
       "<style scoped>\n",
       "    .dataframe tbody tr th:only-of-type {\n",
       "        vertical-align: middle;\n",
       "    }\n",
       "\n",
       "    .dataframe tbody tr th {\n",
       "        vertical-align: top;\n",
       "    }\n",
       "\n",
       "    .dataframe thead th {\n",
       "        text-align: right;\n",
       "    }\n",
       "</style>\n",
       "<table border=\"1\" class=\"dataframe\">\n",
       "  <thead>\n",
       "    <tr style=\"text-align: right;\">\n",
       "      <th></th>\n",
       "      <th>date</th>\n",
       "      <th>final.output.concentrate_ag</th>\n",
       "      <th>final.output.concentrate_pb</th>\n",
       "      <th>final.output.concentrate_sol</th>\n",
       "      <th>final.output.concentrate_au</th>\n",
       "      <th>final.output.recovery</th>\n",
       "      <th>final.output.tail_ag</th>\n",
       "      <th>final.output.tail_pb</th>\n",
       "      <th>final.output.tail_sol</th>\n",
       "      <th>final.output.tail_au</th>\n",
       "      <th>...</th>\n",
       "      <th>secondary_cleaner.state.floatbank4_a_air</th>\n",
       "      <th>secondary_cleaner.state.floatbank4_a_level</th>\n",
       "      <th>secondary_cleaner.state.floatbank4_b_air</th>\n",
       "      <th>secondary_cleaner.state.floatbank4_b_level</th>\n",
       "      <th>secondary_cleaner.state.floatbank5_a_air</th>\n",
       "      <th>secondary_cleaner.state.floatbank5_a_level</th>\n",
       "      <th>secondary_cleaner.state.floatbank5_b_air</th>\n",
       "      <th>secondary_cleaner.state.floatbank5_b_level</th>\n",
       "      <th>secondary_cleaner.state.floatbank6_a_air</th>\n",
       "      <th>secondary_cleaner.state.floatbank6_a_level</th>\n",
       "    </tr>\n",
       "  </thead>\n",
       "  <tbody>\n",
       "    <tr>\n",
       "      <th>0</th>\n",
       "      <td>2016-01-15 00:00:00</td>\n",
       "      <td>6.055403</td>\n",
       "      <td>9.889648</td>\n",
       "      <td>5.507324</td>\n",
       "      <td>42.192020</td>\n",
       "      <td>70.541216</td>\n",
       "      <td>10.411962</td>\n",
       "      <td>0.895447</td>\n",
       "      <td>16.904297</td>\n",
       "      <td>2.143149</td>\n",
       "      <td>...</td>\n",
       "      <td>14.016835</td>\n",
       "      <td>-502.488007</td>\n",
       "      <td>12.099931</td>\n",
       "      <td>-504.715942</td>\n",
       "      <td>9.925633</td>\n",
       "      <td>-498.310211</td>\n",
       "      <td>8.079666</td>\n",
       "      <td>-500.470978</td>\n",
       "      <td>14.151341</td>\n",
       "      <td>-605.841980</td>\n",
       "    </tr>\n",
       "    <tr>\n",
       "      <th>1</th>\n",
       "      <td>2016-01-15 01:00:00</td>\n",
       "      <td>6.029369</td>\n",
       "      <td>9.968944</td>\n",
       "      <td>5.257781</td>\n",
       "      <td>42.701629</td>\n",
       "      <td>69.266198</td>\n",
       "      <td>10.462676</td>\n",
       "      <td>0.927452</td>\n",
       "      <td>16.634514</td>\n",
       "      <td>2.224930</td>\n",
       "      <td>...</td>\n",
       "      <td>13.992281</td>\n",
       "      <td>-505.503262</td>\n",
       "      <td>11.950531</td>\n",
       "      <td>-501.331529</td>\n",
       "      <td>10.039245</td>\n",
       "      <td>-500.169983</td>\n",
       "      <td>7.984757</td>\n",
       "      <td>-500.582168</td>\n",
       "      <td>13.998353</td>\n",
       "      <td>-599.787184</td>\n",
       "    </tr>\n",
       "    <tr>\n",
       "      <th>2</th>\n",
       "      <td>2016-01-15 02:00:00</td>\n",
       "      <td>6.055926</td>\n",
       "      <td>10.213995</td>\n",
       "      <td>5.383759</td>\n",
       "      <td>42.657501</td>\n",
       "      <td>68.116445</td>\n",
       "      <td>10.507046</td>\n",
       "      <td>0.953716</td>\n",
       "      <td>16.208849</td>\n",
       "      <td>2.257889</td>\n",
       "      <td>...</td>\n",
       "      <td>14.015015</td>\n",
       "      <td>-502.520901</td>\n",
       "      <td>11.912783</td>\n",
       "      <td>-501.133383</td>\n",
       "      <td>10.070913</td>\n",
       "      <td>-500.129135</td>\n",
       "      <td>8.013877</td>\n",
       "      <td>-500.517572</td>\n",
       "      <td>14.028663</td>\n",
       "      <td>-601.427363</td>\n",
       "    </tr>\n",
       "    <tr>\n",
       "      <th>3</th>\n",
       "      <td>2016-01-15 03:00:00</td>\n",
       "      <td>6.047977</td>\n",
       "      <td>9.977019</td>\n",
       "      <td>4.858634</td>\n",
       "      <td>42.689819</td>\n",
       "      <td>68.347543</td>\n",
       "      <td>10.422762</td>\n",
       "      <td>0.883763</td>\n",
       "      <td>16.532835</td>\n",
       "      <td>2.146849</td>\n",
       "      <td>...</td>\n",
       "      <td>14.036510</td>\n",
       "      <td>-500.857308</td>\n",
       "      <td>11.999550</td>\n",
       "      <td>-501.193686</td>\n",
       "      <td>9.970366</td>\n",
       "      <td>-499.201640</td>\n",
       "      <td>7.977324</td>\n",
       "      <td>-500.255908</td>\n",
       "      <td>14.005551</td>\n",
       "      <td>-599.996129</td>\n",
       "    </tr>\n",
       "    <tr>\n",
       "      <th>4</th>\n",
       "      <td>2016-01-15 04:00:00</td>\n",
       "      <td>6.148599</td>\n",
       "      <td>10.142511</td>\n",
       "      <td>4.939416</td>\n",
       "      <td>42.774141</td>\n",
       "      <td>66.927016</td>\n",
       "      <td>10.360302</td>\n",
       "      <td>0.792826</td>\n",
       "      <td>16.525686</td>\n",
       "      <td>2.055292</td>\n",
       "      <td>...</td>\n",
       "      <td>14.027298</td>\n",
       "      <td>-499.838632</td>\n",
       "      <td>11.953070</td>\n",
       "      <td>-501.053894</td>\n",
       "      <td>9.925709</td>\n",
       "      <td>-501.686727</td>\n",
       "      <td>7.894242</td>\n",
       "      <td>-500.356035</td>\n",
       "      <td>13.996647</td>\n",
       "      <td>-601.496691</td>\n",
       "    </tr>\n",
       "  </tbody>\n",
       "</table>\n",
       "<p>5 rows × 87 columns</p>\n",
       "</div>"
      ],
      "text/plain": [
       "                  date  final.output.concentrate_ag  \\\n",
       "0  2016-01-15 00:00:00                     6.055403   \n",
       "1  2016-01-15 01:00:00                     6.029369   \n",
       "2  2016-01-15 02:00:00                     6.055926   \n",
       "3  2016-01-15 03:00:00                     6.047977   \n",
       "4  2016-01-15 04:00:00                     6.148599   \n",
       "\n",
       "   final.output.concentrate_pb  final.output.concentrate_sol  \\\n",
       "0                     9.889648                      5.507324   \n",
       "1                     9.968944                      5.257781   \n",
       "2                    10.213995                      5.383759   \n",
       "3                     9.977019                      4.858634   \n",
       "4                    10.142511                      4.939416   \n",
       "\n",
       "   final.output.concentrate_au  final.output.recovery  final.output.tail_ag  \\\n",
       "0                    42.192020              70.541216             10.411962   \n",
       "1                    42.701629              69.266198             10.462676   \n",
       "2                    42.657501              68.116445             10.507046   \n",
       "3                    42.689819              68.347543             10.422762   \n",
       "4                    42.774141              66.927016             10.360302   \n",
       "\n",
       "   final.output.tail_pb  final.output.tail_sol  final.output.tail_au  ...  \\\n",
       "0              0.895447              16.904297              2.143149  ...   \n",
       "1              0.927452              16.634514              2.224930  ...   \n",
       "2              0.953716              16.208849              2.257889  ...   \n",
       "3              0.883763              16.532835              2.146849  ...   \n",
       "4              0.792826              16.525686              2.055292  ...   \n",
       "\n",
       "   secondary_cleaner.state.floatbank4_a_air  \\\n",
       "0                                 14.016835   \n",
       "1                                 13.992281   \n",
       "2                                 14.015015   \n",
       "3                                 14.036510   \n",
       "4                                 14.027298   \n",
       "\n",
       "   secondary_cleaner.state.floatbank4_a_level  \\\n",
       "0                                 -502.488007   \n",
       "1                                 -505.503262   \n",
       "2                                 -502.520901   \n",
       "3                                 -500.857308   \n",
       "4                                 -499.838632   \n",
       "\n",
       "   secondary_cleaner.state.floatbank4_b_air  \\\n",
       "0                                 12.099931   \n",
       "1                                 11.950531   \n",
       "2                                 11.912783   \n",
       "3                                 11.999550   \n",
       "4                                 11.953070   \n",
       "\n",
       "   secondary_cleaner.state.floatbank4_b_level  \\\n",
       "0                                 -504.715942   \n",
       "1                                 -501.331529   \n",
       "2                                 -501.133383   \n",
       "3                                 -501.193686   \n",
       "4                                 -501.053894   \n",
       "\n",
       "   secondary_cleaner.state.floatbank5_a_air  \\\n",
       "0                                  9.925633   \n",
       "1                                 10.039245   \n",
       "2                                 10.070913   \n",
       "3                                  9.970366   \n",
       "4                                  9.925709   \n",
       "\n",
       "   secondary_cleaner.state.floatbank5_a_level  \\\n",
       "0                                 -498.310211   \n",
       "1                                 -500.169983   \n",
       "2                                 -500.129135   \n",
       "3                                 -499.201640   \n",
       "4                                 -501.686727   \n",
       "\n",
       "   secondary_cleaner.state.floatbank5_b_air  \\\n",
       "0                                  8.079666   \n",
       "1                                  7.984757   \n",
       "2                                  8.013877   \n",
       "3                                  7.977324   \n",
       "4                                  7.894242   \n",
       "\n",
       "   secondary_cleaner.state.floatbank5_b_level  \\\n",
       "0                                 -500.470978   \n",
       "1                                 -500.582168   \n",
       "2                                 -500.517572   \n",
       "3                                 -500.255908   \n",
       "4                                 -500.356035   \n",
       "\n",
       "   secondary_cleaner.state.floatbank6_a_air  \\\n",
       "0                                 14.151341   \n",
       "1                                 13.998353   \n",
       "2                                 14.028663   \n",
       "3                                 14.005551   \n",
       "4                                 13.996647   \n",
       "\n",
       "   secondary_cleaner.state.floatbank6_a_level  \n",
       "0                                 -605.841980  \n",
       "1                                 -599.787184  \n",
       "2                                 -601.427363  \n",
       "3                                 -599.996129  \n",
       "4                                 -601.496691  \n",
       "\n",
       "[5 rows x 87 columns]"
      ]
     },
     "execution_count": 5,
     "metadata": {},
     "output_type": "execute_result"
    }
   ],
   "source": [
    "df_full.head()"
   ]
  },
  {
   "cell_type": "code",
   "execution_count": 6,
   "id": "3481bff1",
   "metadata": {},
   "outputs": [
    {
     "data": {
      "text/html": [
       "<div>\n",
       "<style scoped>\n",
       "    .dataframe tbody tr th:only-of-type {\n",
       "        vertical-align: middle;\n",
       "    }\n",
       "\n",
       "    .dataframe tbody tr th {\n",
       "        vertical-align: top;\n",
       "    }\n",
       "\n",
       "    .dataframe thead th {\n",
       "        text-align: right;\n",
       "    }\n",
       "</style>\n",
       "<table border=\"1\" class=\"dataframe\">\n",
       "  <thead>\n",
       "    <tr style=\"text-align: right;\">\n",
       "      <th></th>\n",
       "      <th>date</th>\n",
       "      <th>primary_cleaner.input.sulfate</th>\n",
       "      <th>primary_cleaner.input.depressant</th>\n",
       "      <th>primary_cleaner.input.feed_size</th>\n",
       "      <th>primary_cleaner.input.xanthate</th>\n",
       "      <th>primary_cleaner.state.floatbank8_a_air</th>\n",
       "      <th>primary_cleaner.state.floatbank8_a_level</th>\n",
       "      <th>primary_cleaner.state.floatbank8_b_air</th>\n",
       "      <th>primary_cleaner.state.floatbank8_b_level</th>\n",
       "      <th>primary_cleaner.state.floatbank8_c_air</th>\n",
       "      <th>...</th>\n",
       "      <th>secondary_cleaner.state.floatbank4_a_air</th>\n",
       "      <th>secondary_cleaner.state.floatbank4_a_level</th>\n",
       "      <th>secondary_cleaner.state.floatbank4_b_air</th>\n",
       "      <th>secondary_cleaner.state.floatbank4_b_level</th>\n",
       "      <th>secondary_cleaner.state.floatbank5_a_air</th>\n",
       "      <th>secondary_cleaner.state.floatbank5_a_level</th>\n",
       "      <th>secondary_cleaner.state.floatbank5_b_air</th>\n",
       "      <th>secondary_cleaner.state.floatbank5_b_level</th>\n",
       "      <th>secondary_cleaner.state.floatbank6_a_air</th>\n",
       "      <th>secondary_cleaner.state.floatbank6_a_level</th>\n",
       "    </tr>\n",
       "  </thead>\n",
       "  <tbody>\n",
       "    <tr>\n",
       "      <th>0</th>\n",
       "      <td>2016-09-01 00:59:59</td>\n",
       "      <td>210.800909</td>\n",
       "      <td>14.993118</td>\n",
       "      <td>8.080000</td>\n",
       "      <td>1.005021</td>\n",
       "      <td>1398.981301</td>\n",
       "      <td>-500.225577</td>\n",
       "      <td>1399.144926</td>\n",
       "      <td>-499.919735</td>\n",
       "      <td>1400.102998</td>\n",
       "      <td>...</td>\n",
       "      <td>12.023554</td>\n",
       "      <td>-497.795834</td>\n",
       "      <td>8.016656</td>\n",
       "      <td>-501.289139</td>\n",
       "      <td>7.946562</td>\n",
       "      <td>-432.317850</td>\n",
       "      <td>4.872511</td>\n",
       "      <td>-500.037437</td>\n",
       "      <td>26.705889</td>\n",
       "      <td>-499.709414</td>\n",
       "    </tr>\n",
       "    <tr>\n",
       "      <th>1</th>\n",
       "      <td>2016-09-01 01:59:59</td>\n",
       "      <td>215.392455</td>\n",
       "      <td>14.987471</td>\n",
       "      <td>8.080000</td>\n",
       "      <td>0.990469</td>\n",
       "      <td>1398.777912</td>\n",
       "      <td>-500.057435</td>\n",
       "      <td>1398.055362</td>\n",
       "      <td>-499.778182</td>\n",
       "      <td>1396.151033</td>\n",
       "      <td>...</td>\n",
       "      <td>12.058140</td>\n",
       "      <td>-498.695773</td>\n",
       "      <td>8.130979</td>\n",
       "      <td>-499.634209</td>\n",
       "      <td>7.958270</td>\n",
       "      <td>-525.839648</td>\n",
       "      <td>4.878850</td>\n",
       "      <td>-500.162375</td>\n",
       "      <td>25.019940</td>\n",
       "      <td>-499.819438</td>\n",
       "    </tr>\n",
       "    <tr>\n",
       "      <th>2</th>\n",
       "      <td>2016-09-01 02:59:59</td>\n",
       "      <td>215.259946</td>\n",
       "      <td>12.884934</td>\n",
       "      <td>7.786667</td>\n",
       "      <td>0.996043</td>\n",
       "      <td>1398.493666</td>\n",
       "      <td>-500.868360</td>\n",
       "      <td>1398.860436</td>\n",
       "      <td>-499.764529</td>\n",
       "      <td>1398.075709</td>\n",
       "      <td>...</td>\n",
       "      <td>11.962366</td>\n",
       "      <td>-498.767484</td>\n",
       "      <td>8.096893</td>\n",
       "      <td>-500.827423</td>\n",
       "      <td>8.071056</td>\n",
       "      <td>-500.801673</td>\n",
       "      <td>4.905125</td>\n",
       "      <td>-499.828510</td>\n",
       "      <td>24.994862</td>\n",
       "      <td>-500.622559</td>\n",
       "    </tr>\n",
       "    <tr>\n",
       "      <th>3</th>\n",
       "      <td>2016-09-01 03:59:59</td>\n",
       "      <td>215.336236</td>\n",
       "      <td>12.006805</td>\n",
       "      <td>7.640000</td>\n",
       "      <td>0.863514</td>\n",
       "      <td>1399.618111</td>\n",
       "      <td>-498.863574</td>\n",
       "      <td>1397.440120</td>\n",
       "      <td>-499.211024</td>\n",
       "      <td>1400.129303</td>\n",
       "      <td>...</td>\n",
       "      <td>12.033091</td>\n",
       "      <td>-498.350935</td>\n",
       "      <td>8.074946</td>\n",
       "      <td>-499.474407</td>\n",
       "      <td>7.897085</td>\n",
       "      <td>-500.868509</td>\n",
       "      <td>4.931400</td>\n",
       "      <td>-499.963623</td>\n",
       "      <td>24.948919</td>\n",
       "      <td>-498.709987</td>\n",
       "    </tr>\n",
       "    <tr>\n",
       "      <th>4</th>\n",
       "      <td>2016-09-01 04:59:59</td>\n",
       "      <td>199.099327</td>\n",
       "      <td>10.682530</td>\n",
       "      <td>7.530000</td>\n",
       "      <td>0.805575</td>\n",
       "      <td>1401.268123</td>\n",
       "      <td>-500.808305</td>\n",
       "      <td>1398.128818</td>\n",
       "      <td>-499.504543</td>\n",
       "      <td>1402.172226</td>\n",
       "      <td>...</td>\n",
       "      <td>12.025367</td>\n",
       "      <td>-500.786497</td>\n",
       "      <td>8.054678</td>\n",
       "      <td>-500.397500</td>\n",
       "      <td>8.107890</td>\n",
       "      <td>-509.526725</td>\n",
       "      <td>4.957674</td>\n",
       "      <td>-500.360026</td>\n",
       "      <td>25.003331</td>\n",
       "      <td>-500.856333</td>\n",
       "    </tr>\n",
       "  </tbody>\n",
       "</table>\n",
       "<p>5 rows × 53 columns</p>\n",
       "</div>"
      ],
      "text/plain": [
       "                  date  primary_cleaner.input.sulfate  \\\n",
       "0  2016-09-01 00:59:59                     210.800909   \n",
       "1  2016-09-01 01:59:59                     215.392455   \n",
       "2  2016-09-01 02:59:59                     215.259946   \n",
       "3  2016-09-01 03:59:59                     215.336236   \n",
       "4  2016-09-01 04:59:59                     199.099327   \n",
       "\n",
       "   primary_cleaner.input.depressant  primary_cleaner.input.feed_size  \\\n",
       "0                         14.993118                         8.080000   \n",
       "1                         14.987471                         8.080000   \n",
       "2                         12.884934                         7.786667   \n",
       "3                         12.006805                         7.640000   \n",
       "4                         10.682530                         7.530000   \n",
       "\n",
       "   primary_cleaner.input.xanthate  primary_cleaner.state.floatbank8_a_air  \\\n",
       "0                        1.005021                             1398.981301   \n",
       "1                        0.990469                             1398.777912   \n",
       "2                        0.996043                             1398.493666   \n",
       "3                        0.863514                             1399.618111   \n",
       "4                        0.805575                             1401.268123   \n",
       "\n",
       "   primary_cleaner.state.floatbank8_a_level  \\\n",
       "0                               -500.225577   \n",
       "1                               -500.057435   \n",
       "2                               -500.868360   \n",
       "3                               -498.863574   \n",
       "4                               -500.808305   \n",
       "\n",
       "   primary_cleaner.state.floatbank8_b_air  \\\n",
       "0                             1399.144926   \n",
       "1                             1398.055362   \n",
       "2                             1398.860436   \n",
       "3                             1397.440120   \n",
       "4                             1398.128818   \n",
       "\n",
       "   primary_cleaner.state.floatbank8_b_level  \\\n",
       "0                               -499.919735   \n",
       "1                               -499.778182   \n",
       "2                               -499.764529   \n",
       "3                               -499.211024   \n",
       "4                               -499.504543   \n",
       "\n",
       "   primary_cleaner.state.floatbank8_c_air  ...  \\\n",
       "0                             1400.102998  ...   \n",
       "1                             1396.151033  ...   \n",
       "2                             1398.075709  ...   \n",
       "3                             1400.129303  ...   \n",
       "4                             1402.172226  ...   \n",
       "\n",
       "   secondary_cleaner.state.floatbank4_a_air  \\\n",
       "0                                 12.023554   \n",
       "1                                 12.058140   \n",
       "2                                 11.962366   \n",
       "3                                 12.033091   \n",
       "4                                 12.025367   \n",
       "\n",
       "   secondary_cleaner.state.floatbank4_a_level  \\\n",
       "0                                 -497.795834   \n",
       "1                                 -498.695773   \n",
       "2                                 -498.767484   \n",
       "3                                 -498.350935   \n",
       "4                                 -500.786497   \n",
       "\n",
       "   secondary_cleaner.state.floatbank4_b_air  \\\n",
       "0                                  8.016656   \n",
       "1                                  8.130979   \n",
       "2                                  8.096893   \n",
       "3                                  8.074946   \n",
       "4                                  8.054678   \n",
       "\n",
       "   secondary_cleaner.state.floatbank4_b_level  \\\n",
       "0                                 -501.289139   \n",
       "1                                 -499.634209   \n",
       "2                                 -500.827423   \n",
       "3                                 -499.474407   \n",
       "4                                 -500.397500   \n",
       "\n",
       "   secondary_cleaner.state.floatbank5_a_air  \\\n",
       "0                                  7.946562   \n",
       "1                                  7.958270   \n",
       "2                                  8.071056   \n",
       "3                                  7.897085   \n",
       "4                                  8.107890   \n",
       "\n",
       "   secondary_cleaner.state.floatbank5_a_level  \\\n",
       "0                                 -432.317850   \n",
       "1                                 -525.839648   \n",
       "2                                 -500.801673   \n",
       "3                                 -500.868509   \n",
       "4                                 -509.526725   \n",
       "\n",
       "   secondary_cleaner.state.floatbank5_b_air  \\\n",
       "0                                  4.872511   \n",
       "1                                  4.878850   \n",
       "2                                  4.905125   \n",
       "3                                  4.931400   \n",
       "4                                  4.957674   \n",
       "\n",
       "   secondary_cleaner.state.floatbank5_b_level  \\\n",
       "0                                 -500.037437   \n",
       "1                                 -500.162375   \n",
       "2                                 -499.828510   \n",
       "3                                 -499.963623   \n",
       "4                                 -500.360026   \n",
       "\n",
       "   secondary_cleaner.state.floatbank6_a_air  \\\n",
       "0                                 26.705889   \n",
       "1                                 25.019940   \n",
       "2                                 24.994862   \n",
       "3                                 24.948919   \n",
       "4                                 25.003331   \n",
       "\n",
       "   secondary_cleaner.state.floatbank6_a_level  \n",
       "0                                 -499.709414  \n",
       "1                                 -499.819438  \n",
       "2                                 -500.622559  \n",
       "3                                 -498.709987  \n",
       "4                                 -500.856333  \n",
       "\n",
       "[5 rows x 53 columns]"
      ]
     },
     "execution_count": 6,
     "metadata": {},
     "output_type": "execute_result"
    }
   ],
   "source": [
    "df_test.head()"
   ]
  },
  {
   "cell_type": "code",
   "execution_count": 7,
   "id": "54acf097",
   "metadata": {},
   "outputs": [
    {
     "data": {
      "text/html": [
       "<div>\n",
       "<style scoped>\n",
       "    .dataframe tbody tr th:only-of-type {\n",
       "        vertical-align: middle;\n",
       "    }\n",
       "\n",
       "    .dataframe tbody tr th {\n",
       "        vertical-align: top;\n",
       "    }\n",
       "\n",
       "    .dataframe thead th {\n",
       "        text-align: right;\n",
       "    }\n",
       "</style>\n",
       "<table border=\"1\" class=\"dataframe\">\n",
       "  <thead>\n",
       "    <tr style=\"text-align: right;\">\n",
       "      <th></th>\n",
       "      <th>date</th>\n",
       "      <th>final.output.concentrate_ag</th>\n",
       "      <th>final.output.concentrate_pb</th>\n",
       "      <th>final.output.concentrate_sol</th>\n",
       "      <th>final.output.concentrate_au</th>\n",
       "      <th>final.output.recovery</th>\n",
       "      <th>final.output.tail_ag</th>\n",
       "      <th>final.output.tail_pb</th>\n",
       "      <th>final.output.tail_sol</th>\n",
       "      <th>final.output.tail_au</th>\n",
       "      <th>...</th>\n",
       "      <th>secondary_cleaner.state.floatbank4_a_air</th>\n",
       "      <th>secondary_cleaner.state.floatbank4_a_level</th>\n",
       "      <th>secondary_cleaner.state.floatbank4_b_air</th>\n",
       "      <th>secondary_cleaner.state.floatbank4_b_level</th>\n",
       "      <th>secondary_cleaner.state.floatbank5_a_air</th>\n",
       "      <th>secondary_cleaner.state.floatbank5_a_level</th>\n",
       "      <th>secondary_cleaner.state.floatbank5_b_air</th>\n",
       "      <th>secondary_cleaner.state.floatbank5_b_level</th>\n",
       "      <th>secondary_cleaner.state.floatbank6_a_air</th>\n",
       "      <th>secondary_cleaner.state.floatbank6_a_level</th>\n",
       "    </tr>\n",
       "  </thead>\n",
       "  <tbody>\n",
       "    <tr>\n",
       "      <th>0</th>\n",
       "      <td>2016-01-15 00:00:00</td>\n",
       "      <td>6.055403</td>\n",
       "      <td>9.889648</td>\n",
       "      <td>5.507324</td>\n",
       "      <td>42.192020</td>\n",
       "      <td>70.541216</td>\n",
       "      <td>10.411962</td>\n",
       "      <td>0.895447</td>\n",
       "      <td>16.904297</td>\n",
       "      <td>2.143149</td>\n",
       "      <td>...</td>\n",
       "      <td>14.016835</td>\n",
       "      <td>-502.488007</td>\n",
       "      <td>12.099931</td>\n",
       "      <td>-504.715942</td>\n",
       "      <td>9.925633</td>\n",
       "      <td>-498.310211</td>\n",
       "      <td>8.079666</td>\n",
       "      <td>-500.470978</td>\n",
       "      <td>14.151341</td>\n",
       "      <td>-605.841980</td>\n",
       "    </tr>\n",
       "    <tr>\n",
       "      <th>1</th>\n",
       "      <td>2016-01-15 01:00:00</td>\n",
       "      <td>6.029369</td>\n",
       "      <td>9.968944</td>\n",
       "      <td>5.257781</td>\n",
       "      <td>42.701629</td>\n",
       "      <td>69.266198</td>\n",
       "      <td>10.462676</td>\n",
       "      <td>0.927452</td>\n",
       "      <td>16.634514</td>\n",
       "      <td>2.224930</td>\n",
       "      <td>...</td>\n",
       "      <td>13.992281</td>\n",
       "      <td>-505.503262</td>\n",
       "      <td>11.950531</td>\n",
       "      <td>-501.331529</td>\n",
       "      <td>10.039245</td>\n",
       "      <td>-500.169983</td>\n",
       "      <td>7.984757</td>\n",
       "      <td>-500.582168</td>\n",
       "      <td>13.998353</td>\n",
       "      <td>-599.787184</td>\n",
       "    </tr>\n",
       "    <tr>\n",
       "      <th>2</th>\n",
       "      <td>2016-01-15 02:00:00</td>\n",
       "      <td>6.055926</td>\n",
       "      <td>10.213995</td>\n",
       "      <td>5.383759</td>\n",
       "      <td>42.657501</td>\n",
       "      <td>68.116445</td>\n",
       "      <td>10.507046</td>\n",
       "      <td>0.953716</td>\n",
       "      <td>16.208849</td>\n",
       "      <td>2.257889</td>\n",
       "      <td>...</td>\n",
       "      <td>14.015015</td>\n",
       "      <td>-502.520901</td>\n",
       "      <td>11.912783</td>\n",
       "      <td>-501.133383</td>\n",
       "      <td>10.070913</td>\n",
       "      <td>-500.129135</td>\n",
       "      <td>8.013877</td>\n",
       "      <td>-500.517572</td>\n",
       "      <td>14.028663</td>\n",
       "      <td>-601.427363</td>\n",
       "    </tr>\n",
       "    <tr>\n",
       "      <th>3</th>\n",
       "      <td>2016-01-15 03:00:00</td>\n",
       "      <td>6.047977</td>\n",
       "      <td>9.977019</td>\n",
       "      <td>4.858634</td>\n",
       "      <td>42.689819</td>\n",
       "      <td>68.347543</td>\n",
       "      <td>10.422762</td>\n",
       "      <td>0.883763</td>\n",
       "      <td>16.532835</td>\n",
       "      <td>2.146849</td>\n",
       "      <td>...</td>\n",
       "      <td>14.036510</td>\n",
       "      <td>-500.857308</td>\n",
       "      <td>11.999550</td>\n",
       "      <td>-501.193686</td>\n",
       "      <td>9.970366</td>\n",
       "      <td>-499.201640</td>\n",
       "      <td>7.977324</td>\n",
       "      <td>-500.255908</td>\n",
       "      <td>14.005551</td>\n",
       "      <td>-599.996129</td>\n",
       "    </tr>\n",
       "    <tr>\n",
       "      <th>4</th>\n",
       "      <td>2016-01-15 04:00:00</td>\n",
       "      <td>6.148599</td>\n",
       "      <td>10.142511</td>\n",
       "      <td>4.939416</td>\n",
       "      <td>42.774141</td>\n",
       "      <td>66.927016</td>\n",
       "      <td>10.360302</td>\n",
       "      <td>0.792826</td>\n",
       "      <td>16.525686</td>\n",
       "      <td>2.055292</td>\n",
       "      <td>...</td>\n",
       "      <td>14.027298</td>\n",
       "      <td>-499.838632</td>\n",
       "      <td>11.953070</td>\n",
       "      <td>-501.053894</td>\n",
       "      <td>9.925709</td>\n",
       "      <td>-501.686727</td>\n",
       "      <td>7.894242</td>\n",
       "      <td>-500.356035</td>\n",
       "      <td>13.996647</td>\n",
       "      <td>-601.496691</td>\n",
       "    </tr>\n",
       "  </tbody>\n",
       "</table>\n",
       "<p>5 rows × 87 columns</p>\n",
       "</div>"
      ],
      "text/plain": [
       "                  date  final.output.concentrate_ag  \\\n",
       "0  2016-01-15 00:00:00                     6.055403   \n",
       "1  2016-01-15 01:00:00                     6.029369   \n",
       "2  2016-01-15 02:00:00                     6.055926   \n",
       "3  2016-01-15 03:00:00                     6.047977   \n",
       "4  2016-01-15 04:00:00                     6.148599   \n",
       "\n",
       "   final.output.concentrate_pb  final.output.concentrate_sol  \\\n",
       "0                     9.889648                      5.507324   \n",
       "1                     9.968944                      5.257781   \n",
       "2                    10.213995                      5.383759   \n",
       "3                     9.977019                      4.858634   \n",
       "4                    10.142511                      4.939416   \n",
       "\n",
       "   final.output.concentrate_au  final.output.recovery  final.output.tail_ag  \\\n",
       "0                    42.192020              70.541216             10.411962   \n",
       "1                    42.701629              69.266198             10.462676   \n",
       "2                    42.657501              68.116445             10.507046   \n",
       "3                    42.689819              68.347543             10.422762   \n",
       "4                    42.774141              66.927016             10.360302   \n",
       "\n",
       "   final.output.tail_pb  final.output.tail_sol  final.output.tail_au  ...  \\\n",
       "0              0.895447              16.904297              2.143149  ...   \n",
       "1              0.927452              16.634514              2.224930  ...   \n",
       "2              0.953716              16.208849              2.257889  ...   \n",
       "3              0.883763              16.532835              2.146849  ...   \n",
       "4              0.792826              16.525686              2.055292  ...   \n",
       "\n",
       "   secondary_cleaner.state.floatbank4_a_air  \\\n",
       "0                                 14.016835   \n",
       "1                                 13.992281   \n",
       "2                                 14.015015   \n",
       "3                                 14.036510   \n",
       "4                                 14.027298   \n",
       "\n",
       "   secondary_cleaner.state.floatbank4_a_level  \\\n",
       "0                                 -502.488007   \n",
       "1                                 -505.503262   \n",
       "2                                 -502.520901   \n",
       "3                                 -500.857308   \n",
       "4                                 -499.838632   \n",
       "\n",
       "   secondary_cleaner.state.floatbank4_b_air  \\\n",
       "0                                 12.099931   \n",
       "1                                 11.950531   \n",
       "2                                 11.912783   \n",
       "3                                 11.999550   \n",
       "4                                 11.953070   \n",
       "\n",
       "   secondary_cleaner.state.floatbank4_b_level  \\\n",
       "0                                 -504.715942   \n",
       "1                                 -501.331529   \n",
       "2                                 -501.133383   \n",
       "3                                 -501.193686   \n",
       "4                                 -501.053894   \n",
       "\n",
       "   secondary_cleaner.state.floatbank5_a_air  \\\n",
       "0                                  9.925633   \n",
       "1                                 10.039245   \n",
       "2                                 10.070913   \n",
       "3                                  9.970366   \n",
       "4                                  9.925709   \n",
       "\n",
       "   secondary_cleaner.state.floatbank5_a_level  \\\n",
       "0                                 -498.310211   \n",
       "1                                 -500.169983   \n",
       "2                                 -500.129135   \n",
       "3                                 -499.201640   \n",
       "4                                 -501.686727   \n",
       "\n",
       "   secondary_cleaner.state.floatbank5_b_air  \\\n",
       "0                                  8.079666   \n",
       "1                                  7.984757   \n",
       "2                                  8.013877   \n",
       "3                                  7.977324   \n",
       "4                                  7.894242   \n",
       "\n",
       "   secondary_cleaner.state.floatbank5_b_level  \\\n",
       "0                                 -500.470978   \n",
       "1                                 -500.582168   \n",
       "2                                 -500.517572   \n",
       "3                                 -500.255908   \n",
       "4                                 -500.356035   \n",
       "\n",
       "   secondary_cleaner.state.floatbank6_a_air  \\\n",
       "0                                 14.151341   \n",
       "1                                 13.998353   \n",
       "2                                 14.028663   \n",
       "3                                 14.005551   \n",
       "4                                 13.996647   \n",
       "\n",
       "   secondary_cleaner.state.floatbank6_a_level  \n",
       "0                                 -605.841980  \n",
       "1                                 -599.787184  \n",
       "2                                 -601.427363  \n",
       "3                                 -599.996129  \n",
       "4                                 -601.496691  \n",
       "\n",
       "[5 rows x 87 columns]"
      ]
     },
     "execution_count": 7,
     "metadata": {},
     "output_type": "execute_result"
    }
   ],
   "source": [
    "df_train.head()"
   ]
  },
  {
   "cell_type": "code",
   "execution_count": 8,
   "id": "416efe37",
   "metadata": {
    "scrolled": true
   },
   "outputs": [
    {
     "data": {
      "text/plain": [
       "(19439, 87)"
      ]
     },
     "execution_count": 8,
     "metadata": {},
     "output_type": "execute_result"
    }
   ],
   "source": [
    "df_full.shape"
   ]
  },
  {
   "cell_type": "code",
   "execution_count": 9,
   "id": "d76e64a7",
   "metadata": {},
   "outputs": [],
   "source": [
    "pd.options.display.max_rows = 100"
   ]
  },
  {
   "cell_type": "code",
   "execution_count": 10,
   "id": "1ad29a46",
   "metadata": {
    "scrolled": true
   },
   "outputs": [
    {
     "data": {
      "text/html": [
       "<div>\n",
       "<style scoped>\n",
       "    .dataframe tbody tr th:only-of-type {\n",
       "        vertical-align: middle;\n",
       "    }\n",
       "\n",
       "    .dataframe tbody tr th {\n",
       "        vertical-align: top;\n",
       "    }\n",
       "\n",
       "    .dataframe thead th {\n",
       "        text-align: right;\n",
       "    }\n",
       "</style>\n",
       "<table border=\"1\" class=\"dataframe\">\n",
       "  <thead>\n",
       "    <tr style=\"text-align: right;\">\n",
       "      <th></th>\n",
       "      <th>count</th>\n",
       "      <th>mean</th>\n",
       "      <th>std</th>\n",
       "      <th>min</th>\n",
       "      <th>25%</th>\n",
       "      <th>50%</th>\n",
       "      <th>75%</th>\n",
       "      <th>max</th>\n",
       "    </tr>\n",
       "  </thead>\n",
       "  <tbody>\n",
       "    <tr>\n",
       "      <th>final.output.concentrate_ag</th>\n",
       "      <td>19438.0</td>\n",
       "      <td>5.0</td>\n",
       "      <td>1.0</td>\n",
       "      <td>0.0</td>\n",
       "      <td>4.0</td>\n",
       "      <td>5.0</td>\n",
       "      <td>6.0</td>\n",
       "      <td>16.0</td>\n",
       "    </tr>\n",
       "    <tr>\n",
       "      <th>final.output.concentrate_pb</th>\n",
       "      <td>19438.0</td>\n",
       "      <td>10.0</td>\n",
       "      <td>2.0</td>\n",
       "      <td>0.0</td>\n",
       "      <td>9.0</td>\n",
       "      <td>10.0</td>\n",
       "      <td>11.0</td>\n",
       "      <td>17.0</td>\n",
       "    </tr>\n",
       "    <tr>\n",
       "      <th>final.output.concentrate_sol</th>\n",
       "      <td>19228.0</td>\n",
       "      <td>10.0</td>\n",
       "      <td>3.0</td>\n",
       "      <td>0.0</td>\n",
       "      <td>8.0</td>\n",
       "      <td>9.0</td>\n",
       "      <td>11.0</td>\n",
       "      <td>20.0</td>\n",
       "    </tr>\n",
       "    <tr>\n",
       "      <th>final.output.concentrate_au</th>\n",
       "      <td>19439.0</td>\n",
       "      <td>44.0</td>\n",
       "      <td>5.0</td>\n",
       "      <td>0.0</td>\n",
       "      <td>43.0</td>\n",
       "      <td>45.0</td>\n",
       "      <td>46.0</td>\n",
       "      <td>53.0</td>\n",
       "    </tr>\n",
       "    <tr>\n",
       "      <th>final.output.recovery</th>\n",
       "      <td>19439.0</td>\n",
       "      <td>67.0</td>\n",
       "      <td>10.0</td>\n",
       "      <td>0.0</td>\n",
       "      <td>63.0</td>\n",
       "      <td>68.0</td>\n",
       "      <td>73.0</td>\n",
       "      <td>100.0</td>\n",
       "    </tr>\n",
       "    <tr>\n",
       "      <th>final.output.tail_ag</th>\n",
       "      <td>19438.0</td>\n",
       "      <td>10.0</td>\n",
       "      <td>2.0</td>\n",
       "      <td>0.0</td>\n",
       "      <td>8.0</td>\n",
       "      <td>10.0</td>\n",
       "      <td>11.0</td>\n",
       "      <td>20.0</td>\n",
       "    </tr>\n",
       "    <tr>\n",
       "      <th>final.output.tail_pb</th>\n",
       "      <td>19338.0</td>\n",
       "      <td>3.0</td>\n",
       "      <td>1.0</td>\n",
       "      <td>0.0</td>\n",
       "      <td>2.0</td>\n",
       "      <td>3.0</td>\n",
       "      <td>3.0</td>\n",
       "      <td>6.0</td>\n",
       "    </tr>\n",
       "    <tr>\n",
       "      <th>final.output.tail_sol</th>\n",
       "      <td>19433.0</td>\n",
       "      <td>11.0</td>\n",
       "      <td>3.0</td>\n",
       "      <td>0.0</td>\n",
       "      <td>9.0</td>\n",
       "      <td>11.0</td>\n",
       "      <td>12.0</td>\n",
       "      <td>22.0</td>\n",
       "    </tr>\n",
       "    <tr>\n",
       "      <th>final.output.tail_au</th>\n",
       "      <td>19439.0</td>\n",
       "      <td>3.0</td>\n",
       "      <td>1.0</td>\n",
       "      <td>0.0</td>\n",
       "      <td>2.0</td>\n",
       "      <td>3.0</td>\n",
       "      <td>4.0</td>\n",
       "      <td>8.0</td>\n",
       "    </tr>\n",
       "    <tr>\n",
       "      <th>primary_cleaner.input.sulfate</th>\n",
       "      <td>19415.0</td>\n",
       "      <td>145.0</td>\n",
       "      <td>44.0</td>\n",
       "      <td>0.0</td>\n",
       "      <td>114.0</td>\n",
       "      <td>143.0</td>\n",
       "      <td>175.0</td>\n",
       "      <td>266.0</td>\n",
       "    </tr>\n",
       "    <tr>\n",
       "      <th>primary_cleaner.input.depressant</th>\n",
       "      <td>19402.0</td>\n",
       "      <td>9.0</td>\n",
       "      <td>3.0</td>\n",
       "      <td>0.0</td>\n",
       "      <td>6.0</td>\n",
       "      <td>8.0</td>\n",
       "      <td>11.0</td>\n",
       "      <td>40.0</td>\n",
       "    </tr>\n",
       "    <tr>\n",
       "      <th>primary_cleaner.input.feed_size</th>\n",
       "      <td>19439.0</td>\n",
       "      <td>7.0</td>\n",
       "      <td>1.0</td>\n",
       "      <td>1.0</td>\n",
       "      <td>7.0</td>\n",
       "      <td>7.0</td>\n",
       "      <td>8.0</td>\n",
       "      <td>16.0</td>\n",
       "    </tr>\n",
       "    <tr>\n",
       "      <th>primary_cleaner.input.xanthate</th>\n",
       "      <td>19335.0</td>\n",
       "      <td>1.0</td>\n",
       "      <td>1.0</td>\n",
       "      <td>0.0</td>\n",
       "      <td>1.0</td>\n",
       "      <td>1.0</td>\n",
       "      <td>1.0</td>\n",
       "      <td>4.0</td>\n",
       "    </tr>\n",
       "    <tr>\n",
       "      <th>primary_cleaner.output.concentrate_ag</th>\n",
       "      <td>19439.0</td>\n",
       "      <td>8.0</td>\n",
       "      <td>2.0</td>\n",
       "      <td>0.0</td>\n",
       "      <td>7.0</td>\n",
       "      <td>9.0</td>\n",
       "      <td>10.0</td>\n",
       "      <td>16.0</td>\n",
       "    </tr>\n",
       "    <tr>\n",
       "      <th>primary_cleaner.output.concentrate_pb</th>\n",
       "      <td>19323.0</td>\n",
       "      <td>10.0</td>\n",
       "      <td>3.0</td>\n",
       "      <td>0.0</td>\n",
       "      <td>9.0</td>\n",
       "      <td>10.0</td>\n",
       "      <td>11.0</td>\n",
       "      <td>17.0</td>\n",
       "    </tr>\n",
       "    <tr>\n",
       "      <th>primary_cleaner.output.concentrate_sol</th>\n",
       "      <td>19069.0</td>\n",
       "      <td>10.0</td>\n",
       "      <td>4.0</td>\n",
       "      <td>0.0</td>\n",
       "      <td>8.0</td>\n",
       "      <td>10.0</td>\n",
       "      <td>13.0</td>\n",
       "      <td>22.0</td>\n",
       "    </tr>\n",
       "    <tr>\n",
       "      <th>primary_cleaner.output.concentrate_au</th>\n",
       "      <td>19439.0</td>\n",
       "      <td>32.0</td>\n",
       "      <td>6.0</td>\n",
       "      <td>0.0</td>\n",
       "      <td>30.0</td>\n",
       "      <td>33.0</td>\n",
       "      <td>35.0</td>\n",
       "      <td>46.0</td>\n",
       "    </tr>\n",
       "    <tr>\n",
       "      <th>primary_cleaner.output.tail_ag</th>\n",
       "      <td>19435.0</td>\n",
       "      <td>16.0</td>\n",
       "      <td>4.0</td>\n",
       "      <td>0.0</td>\n",
       "      <td>14.0</td>\n",
       "      <td>16.0</td>\n",
       "      <td>18.0</td>\n",
       "      <td>29.0</td>\n",
       "    </tr>\n",
       "    <tr>\n",
       "      <th>primary_cleaner.output.tail_pb</th>\n",
       "      <td>19418.0</td>\n",
       "      <td>3.0</td>\n",
       "      <td>1.0</td>\n",
       "      <td>0.0</td>\n",
       "      <td>3.0</td>\n",
       "      <td>3.0</td>\n",
       "      <td>4.0</td>\n",
       "      <td>10.0</td>\n",
       "    </tr>\n",
       "    <tr>\n",
       "      <th>primary_cleaner.output.tail_sol</th>\n",
       "      <td>19377.0</td>\n",
       "      <td>8.0</td>\n",
       "      <td>2.0</td>\n",
       "      <td>0.0</td>\n",
       "      <td>7.0</td>\n",
       "      <td>8.0</td>\n",
       "      <td>10.0</td>\n",
       "      <td>22.0</td>\n",
       "    </tr>\n",
       "    <tr>\n",
       "      <th>primary_cleaner.output.tail_au</th>\n",
       "      <td>19439.0</td>\n",
       "      <td>4.0</td>\n",
       "      <td>2.0</td>\n",
       "      <td>0.0</td>\n",
       "      <td>3.0</td>\n",
       "      <td>4.0</td>\n",
       "      <td>5.0</td>\n",
       "      <td>18.0</td>\n",
       "    </tr>\n",
       "    <tr>\n",
       "      <th>primary_cleaner.state.floatbank8_a_air</th>\n",
       "      <td>19435.0</td>\n",
       "      <td>1589.0</td>\n",
       "      <td>129.0</td>\n",
       "      <td>0.0</td>\n",
       "      <td>1505.0</td>\n",
       "      <td>1601.0</td>\n",
       "      <td>1698.0</td>\n",
       "      <td>2103.0</td>\n",
       "    </tr>\n",
       "    <tr>\n",
       "      <th>primary_cleaner.state.floatbank8_a_level</th>\n",
       "      <td>19438.0</td>\n",
       "      <td>-491.0</td>\n",
       "      <td>32.0</td>\n",
       "      <td>-799.0</td>\n",
       "      <td>-500.0</td>\n",
       "      <td>-500.0</td>\n",
       "      <td>-499.0</td>\n",
       "      <td>-57.0</td>\n",
       "    </tr>\n",
       "    <tr>\n",
       "      <th>primary_cleaner.state.floatbank8_b_air</th>\n",
       "      <td>19435.0</td>\n",
       "      <td>1591.0</td>\n",
       "      <td>132.0</td>\n",
       "      <td>0.0</td>\n",
       "      <td>1504.0</td>\n",
       "      <td>1601.0</td>\n",
       "      <td>1699.0</td>\n",
       "      <td>2115.0</td>\n",
       "    </tr>\n",
       "    <tr>\n",
       "      <th>primary_cleaner.state.floatbank8_b_level</th>\n",
       "      <td>19438.0</td>\n",
       "      <td>-492.0</td>\n",
       "      <td>34.0</td>\n",
       "      <td>-800.0</td>\n",
       "      <td>-500.0</td>\n",
       "      <td>-500.0</td>\n",
       "      <td>-499.0</td>\n",
       "      <td>-143.0</td>\n",
       "    </tr>\n",
       "    <tr>\n",
       "      <th>primary_cleaner.state.floatbank8_c_air</th>\n",
       "      <td>19437.0</td>\n",
       "      <td>1587.0</td>\n",
       "      <td>136.0</td>\n",
       "      <td>0.0</td>\n",
       "      <td>1501.0</td>\n",
       "      <td>1600.0</td>\n",
       "      <td>1699.0</td>\n",
       "      <td>2013.0</td>\n",
       "    </tr>\n",
       "    <tr>\n",
       "      <th>primary_cleaner.state.floatbank8_c_level</th>\n",
       "      <td>19438.0</td>\n",
       "      <td>-492.0</td>\n",
       "      <td>33.0</td>\n",
       "      <td>-800.0</td>\n",
       "      <td>-501.0</td>\n",
       "      <td>-500.0</td>\n",
       "      <td>-499.0</td>\n",
       "      <td>-151.0</td>\n",
       "    </tr>\n",
       "    <tr>\n",
       "      <th>primary_cleaner.state.floatbank8_d_air</th>\n",
       "      <td>19436.0</td>\n",
       "      <td>1543.0</td>\n",
       "      <td>246.0</td>\n",
       "      <td>0.0</td>\n",
       "      <td>1494.0</td>\n",
       "      <td>1599.0</td>\n",
       "      <td>1699.0</td>\n",
       "      <td>2399.0</td>\n",
       "    </tr>\n",
       "    <tr>\n",
       "      <th>primary_cleaner.state.floatbank8_d_level</th>\n",
       "      <td>19438.0</td>\n",
       "      <td>-488.0</td>\n",
       "      <td>44.0</td>\n",
       "      <td>-800.0</td>\n",
       "      <td>-500.0</td>\n",
       "      <td>-500.0</td>\n",
       "      <td>-499.0</td>\n",
       "      <td>-31.0</td>\n",
       "    </tr>\n",
       "    <tr>\n",
       "      <th>rougher.calculation.sulfate_to_au_concentrate</th>\n",
       "      <td>19437.0</td>\n",
       "      <td>42171.0</td>\n",
       "      <td>324362.0</td>\n",
       "      <td>-42235197.0</td>\n",
       "      <td>40701.0</td>\n",
       "      <td>44696.0</td>\n",
       "      <td>48168.0</td>\n",
       "      <td>3428099.0</td>\n",
       "    </tr>\n",
       "    <tr>\n",
       "      <th>rougher.calculation.floatbank10_sulfate_to_au_feed</th>\n",
       "      <td>19437.0</td>\n",
       "      <td>3393.0</td>\n",
       "      <td>4944.0</td>\n",
       "      <td>-487.0</td>\n",
       "      <td>2611.0</td>\n",
       "      <td>3018.0</td>\n",
       "      <td>3677.0</td>\n",
       "      <td>629639.0</td>\n",
       "    </tr>\n",
       "    <tr>\n",
       "      <th>rougher.calculation.floatbank11_sulfate_to_au_feed</th>\n",
       "      <td>19437.0</td>\n",
       "      <td>3257.0</td>\n",
       "      <td>5781.0</td>\n",
       "      <td>-265.0</td>\n",
       "      <td>2551.0</td>\n",
       "      <td>2997.0</td>\n",
       "      <td>3602.0</td>\n",
       "      <td>718685.0</td>\n",
       "    </tr>\n",
       "    <tr>\n",
       "      <th>rougher.calculation.au_pb_ratio</th>\n",
       "      <td>19439.0</td>\n",
       "      <td>2.0</td>\n",
       "      <td>1.0</td>\n",
       "      <td>-0.0</td>\n",
       "      <td>2.0</td>\n",
       "      <td>2.0</td>\n",
       "      <td>3.0</td>\n",
       "      <td>39.0</td>\n",
       "    </tr>\n",
       "    <tr>\n",
       "      <th>rougher.input.feed_ag</th>\n",
       "      <td>19439.0</td>\n",
       "      <td>9.0</td>\n",
       "      <td>2.0</td>\n",
       "      <td>0.0</td>\n",
       "      <td>7.0</td>\n",
       "      <td>9.0</td>\n",
       "      <td>10.0</td>\n",
       "      <td>15.0</td>\n",
       "    </tr>\n",
       "    <tr>\n",
       "      <th>rougher.input.feed_pb</th>\n",
       "      <td>19339.0</td>\n",
       "      <td>4.0</td>\n",
       "      <td>1.0</td>\n",
       "      <td>0.0</td>\n",
       "      <td>3.0</td>\n",
       "      <td>4.0</td>\n",
       "      <td>4.0</td>\n",
       "      <td>7.0</td>\n",
       "    </tr>\n",
       "    <tr>\n",
       "      <th>rougher.input.feed_rate</th>\n",
       "      <td>19428.0</td>\n",
       "      <td>478.0</td>\n",
       "      <td>105.0</td>\n",
       "      <td>0.0</td>\n",
       "      <td>417.0</td>\n",
       "      <td>499.0</td>\n",
       "      <td>550.0</td>\n",
       "      <td>718.0</td>\n",
       "    </tr>\n",
       "    <tr>\n",
       "      <th>rougher.input.feed_size</th>\n",
       "      <td>19294.0</td>\n",
       "      <td>59.0</td>\n",
       "      <td>22.0</td>\n",
       "      <td>0.0</td>\n",
       "      <td>47.0</td>\n",
       "      <td>55.0</td>\n",
       "      <td>65.0</td>\n",
       "      <td>485.0</td>\n",
       "    </tr>\n",
       "    <tr>\n",
       "      <th>rougher.input.feed_sol</th>\n",
       "      <td>19340.0</td>\n",
       "      <td>37.0</td>\n",
       "      <td>5.0</td>\n",
       "      <td>0.0</td>\n",
       "      <td>34.0</td>\n",
       "      <td>37.0</td>\n",
       "      <td>40.0</td>\n",
       "      <td>53.0</td>\n",
       "    </tr>\n",
       "    <tr>\n",
       "      <th>rougher.input.feed_au</th>\n",
       "      <td>19439.0</td>\n",
       "      <td>8.0</td>\n",
       "      <td>2.0</td>\n",
       "      <td>0.0</td>\n",
       "      <td>7.0</td>\n",
       "      <td>8.0</td>\n",
       "      <td>10.0</td>\n",
       "      <td>14.0</td>\n",
       "    </tr>\n",
       "    <tr>\n",
       "      <th>rougher.input.floatbank10_sulfate</th>\n",
       "      <td>19405.0</td>\n",
       "      <td>12.0</td>\n",
       "      <td>3.0</td>\n",
       "      <td>0.0</td>\n",
       "      <td>10.0</td>\n",
       "      <td>12.0</td>\n",
       "      <td>15.0</td>\n",
       "      <td>36.0</td>\n",
       "    </tr>\n",
       "    <tr>\n",
       "      <th>rougher.input.floatbank10_xanthate</th>\n",
       "      <td>19431.0</td>\n",
       "      <td>6.0</td>\n",
       "      <td>1.0</td>\n",
       "      <td>0.0</td>\n",
       "      <td>5.0</td>\n",
       "      <td>6.0</td>\n",
       "      <td>7.0</td>\n",
       "      <td>10.0</td>\n",
       "    </tr>\n",
       "    <tr>\n",
       "      <th>rougher.input.floatbank11_sulfate</th>\n",
       "      <td>19395.0</td>\n",
       "      <td>12.0</td>\n",
       "      <td>4.0</td>\n",
       "      <td>0.0</td>\n",
       "      <td>10.0</td>\n",
       "      <td>12.0</td>\n",
       "      <td>15.0</td>\n",
       "      <td>38.0</td>\n",
       "    </tr>\n",
       "    <tr>\n",
       "      <th>rougher.input.floatbank11_xanthate</th>\n",
       "      <td>18986.0</td>\n",
       "      <td>6.0</td>\n",
       "      <td>1.0</td>\n",
       "      <td>0.0</td>\n",
       "      <td>5.0</td>\n",
       "      <td>6.0</td>\n",
       "      <td>7.0</td>\n",
       "      <td>10.0</td>\n",
       "    </tr>\n",
       "    <tr>\n",
       "      <th>rougher.output.concentrate_ag</th>\n",
       "      <td>19439.0</td>\n",
       "      <td>12.0</td>\n",
       "      <td>3.0</td>\n",
       "      <td>0.0</td>\n",
       "      <td>11.0</td>\n",
       "      <td>12.0</td>\n",
       "      <td>14.0</td>\n",
       "      <td>24.0</td>\n",
       "    </tr>\n",
       "    <tr>\n",
       "      <th>rougher.output.concentrate_pb</th>\n",
       "      <td>19439.0</td>\n",
       "      <td>8.0</td>\n",
       "      <td>2.0</td>\n",
       "      <td>0.0</td>\n",
       "      <td>7.0</td>\n",
       "      <td>8.0</td>\n",
       "      <td>9.0</td>\n",
       "      <td>14.0</td>\n",
       "    </tr>\n",
       "    <tr>\n",
       "      <th>rougher.output.concentrate_sol</th>\n",
       "      <td>19416.0</td>\n",
       "      <td>29.0</td>\n",
       "      <td>6.0</td>\n",
       "      <td>0.0</td>\n",
       "      <td>27.0</td>\n",
       "      <td>30.0</td>\n",
       "      <td>32.0</td>\n",
       "      <td>38.0</td>\n",
       "    </tr>\n",
       "    <tr>\n",
       "      <th>rougher.output.concentrate_au</th>\n",
       "      <td>19439.0</td>\n",
       "      <td>20.0</td>\n",
       "      <td>4.0</td>\n",
       "      <td>0.0</td>\n",
       "      <td>19.0</td>\n",
       "      <td>20.0</td>\n",
       "      <td>22.0</td>\n",
       "      <td>29.0</td>\n",
       "    </tr>\n",
       "    <tr>\n",
       "      <th>rougher.output.recovery</th>\n",
       "      <td>19439.0</td>\n",
       "      <td>83.0</td>\n",
       "      <td>14.0</td>\n",
       "      <td>0.0</td>\n",
       "      <td>81.0</td>\n",
       "      <td>86.0</td>\n",
       "      <td>90.0</td>\n",
       "      <td>100.0</td>\n",
       "    </tr>\n",
       "    <tr>\n",
       "      <th>rougher.output.tail_ag</th>\n",
       "      <td>19438.0</td>\n",
       "      <td>6.0</td>\n",
       "      <td>1.0</td>\n",
       "      <td>1.0</td>\n",
       "      <td>5.0</td>\n",
       "      <td>6.0</td>\n",
       "      <td>6.0</td>\n",
       "      <td>13.0</td>\n",
       "    </tr>\n",
       "    <tr>\n",
       "      <th>rougher.output.tail_pb</th>\n",
       "      <td>19439.0</td>\n",
       "      <td>1.0</td>\n",
       "      <td>0.0</td>\n",
       "      <td>0.0</td>\n",
       "      <td>0.0</td>\n",
       "      <td>1.0</td>\n",
       "      <td>1.0</td>\n",
       "      <td>4.0</td>\n",
       "    </tr>\n",
       "    <tr>\n",
       "      <th>rougher.output.tail_sol</th>\n",
       "      <td>19439.0</td>\n",
       "      <td>18.0</td>\n",
       "      <td>3.0</td>\n",
       "      <td>10.0</td>\n",
       "      <td>16.0</td>\n",
       "      <td>18.0</td>\n",
       "      <td>20.0</td>\n",
       "      <td>66.0</td>\n",
       "    </tr>\n",
       "    <tr>\n",
       "      <th>rougher.output.tail_au</th>\n",
       "      <td>19439.0</td>\n",
       "      <td>2.0</td>\n",
       "      <td>1.0</td>\n",
       "      <td>0.0</td>\n",
       "      <td>1.0</td>\n",
       "      <td>2.0</td>\n",
       "      <td>2.0</td>\n",
       "      <td>10.0</td>\n",
       "    </tr>\n",
       "    <tr>\n",
       "      <th>rougher.state.floatbank10_a_air</th>\n",
       "      <td>19438.0</td>\n",
       "      <td>1105.0</td>\n",
       "      <td>161.0</td>\n",
       "      <td>-0.0</td>\n",
       "      <td>1000.0</td>\n",
       "      <td>1001.0</td>\n",
       "      <td>1206.0</td>\n",
       "      <td>1522.0</td>\n",
       "    </tr>\n",
       "    <tr>\n",
       "      <th>rougher.state.floatbank10_a_level</th>\n",
       "      <td>19438.0</td>\n",
       "      <td>-377.0</td>\n",
       "      <td>94.0</td>\n",
       "      <td>-658.0</td>\n",
       "      <td>-500.0</td>\n",
       "      <td>-300.0</td>\n",
       "      <td>-300.0</td>\n",
       "      <td>-274.0</td>\n",
       "    </tr>\n",
       "    <tr>\n",
       "      <th>rougher.state.floatbank10_b_air</th>\n",
       "      <td>19438.0</td>\n",
       "      <td>1320.0</td>\n",
       "      <td>176.0</td>\n",
       "      <td>-1.0</td>\n",
       "      <td>1200.0</td>\n",
       "      <td>1302.0</td>\n",
       "      <td>1449.0</td>\n",
       "      <td>1809.0</td>\n",
       "    </tr>\n",
       "    <tr>\n",
       "      <th>rougher.state.floatbank10_b_level</th>\n",
       "      <td>19438.0</td>\n",
       "      <td>-467.0</td>\n",
       "      <td>55.0</td>\n",
       "      <td>-650.0</td>\n",
       "      <td>-500.0</td>\n",
       "      <td>-500.0</td>\n",
       "      <td>-401.0</td>\n",
       "      <td>-296.0</td>\n",
       "    </tr>\n",
       "    <tr>\n",
       "      <th>rougher.state.floatbank10_c_air</th>\n",
       "      <td>19438.0</td>\n",
       "      <td>1300.0</td>\n",
       "      <td>203.0</td>\n",
       "      <td>-0.0</td>\n",
       "      <td>1151.0</td>\n",
       "      <td>1300.0</td>\n",
       "      <td>1449.0</td>\n",
       "      <td>2499.0</td>\n",
       "    </tr>\n",
       "    <tr>\n",
       "      <th>rougher.state.floatbank10_c_level</th>\n",
       "      <td>19438.0</td>\n",
       "      <td>-468.0</td>\n",
       "      <td>54.0</td>\n",
       "      <td>-648.0</td>\n",
       "      <td>-500.0</td>\n",
       "      <td>-500.0</td>\n",
       "      <td>-401.0</td>\n",
       "      <td>-292.0</td>\n",
       "    </tr>\n",
       "    <tr>\n",
       "      <th>rougher.state.floatbank10_d_air</th>\n",
       "      <td>19439.0</td>\n",
       "      <td>1212.0</td>\n",
       "      <td>204.0</td>\n",
       "      <td>-1.0</td>\n",
       "      <td>1061.0</td>\n",
       "      <td>1202.0</td>\n",
       "      <td>1353.0</td>\n",
       "      <td>1817.0</td>\n",
       "    </tr>\n",
       "    <tr>\n",
       "      <th>rougher.state.floatbank10_d_level</th>\n",
       "      <td>19439.0</td>\n",
       "      <td>-468.0</td>\n",
       "      <td>54.0</td>\n",
       "      <td>-648.0</td>\n",
       "      <td>-500.0</td>\n",
       "      <td>-500.0</td>\n",
       "      <td>-402.0</td>\n",
       "      <td>-76.0</td>\n",
       "    </tr>\n",
       "    <tr>\n",
       "      <th>rougher.state.floatbank10_e_air</th>\n",
       "      <td>19003.0</td>\n",
       "      <td>1081.0</td>\n",
       "      <td>172.0</td>\n",
       "      <td>-2.0</td>\n",
       "      <td>999.0</td>\n",
       "      <td>1050.0</td>\n",
       "      <td>1199.0</td>\n",
       "      <td>1923.0</td>\n",
       "    </tr>\n",
       "    <tr>\n",
       "      <th>rougher.state.floatbank10_e_level</th>\n",
       "      <td>19439.0</td>\n",
       "      <td>-466.0</td>\n",
       "      <td>57.0</td>\n",
       "      <td>-649.0</td>\n",
       "      <td>-500.0</td>\n",
       "      <td>-500.0</td>\n",
       "      <td>-401.0</td>\n",
       "      <td>-140.0</td>\n",
       "    </tr>\n",
       "    <tr>\n",
       "      <th>rougher.state.floatbank10_f_air</th>\n",
       "      <td>19439.0</td>\n",
       "      <td>1025.0</td>\n",
       "      <td>164.0</td>\n",
       "      <td>-3.0</td>\n",
       "      <td>901.0</td>\n",
       "      <td>1000.0</td>\n",
       "      <td>1100.0</td>\n",
       "      <td>1706.0</td>\n",
       "    </tr>\n",
       "    <tr>\n",
       "      <th>rougher.state.floatbank10_f_level</th>\n",
       "      <td>19439.0</td>\n",
       "      <td>-466.0</td>\n",
       "      <td>58.0</td>\n",
       "      <td>-650.0</td>\n",
       "      <td>-501.0</td>\n",
       "      <td>-499.0</td>\n",
       "      <td>-402.0</td>\n",
       "      <td>-192.0</td>\n",
       "    </tr>\n",
       "    <tr>\n",
       "      <th>secondary_cleaner.output.tail_ag</th>\n",
       "      <td>19437.0</td>\n",
       "      <td>15.0</td>\n",
       "      <td>4.0</td>\n",
       "      <td>0.0</td>\n",
       "      <td>13.0</td>\n",
       "      <td>16.0</td>\n",
       "      <td>17.0</td>\n",
       "      <td>23.0</td>\n",
       "    </tr>\n",
       "    <tr>\n",
       "      <th>secondary_cleaner.output.tail_pb</th>\n",
       "      <td>19427.0</td>\n",
       "      <td>6.0</td>\n",
       "      <td>3.0</td>\n",
       "      <td>0.0</td>\n",
       "      <td>4.0</td>\n",
       "      <td>5.0</td>\n",
       "      <td>8.0</td>\n",
       "      <td>17.0</td>\n",
       "    </tr>\n",
       "    <tr>\n",
       "      <th>secondary_cleaner.output.tail_sol</th>\n",
       "      <td>17691.0</td>\n",
       "      <td>7.0</td>\n",
       "      <td>4.0</td>\n",
       "      <td>0.0</td>\n",
       "      <td>4.0</td>\n",
       "      <td>8.0</td>\n",
       "      <td>10.0</td>\n",
       "      <td>26.0</td>\n",
       "    </tr>\n",
       "    <tr>\n",
       "      <th>secondary_cleaner.output.tail_au</th>\n",
       "      <td>19439.0</td>\n",
       "      <td>4.0</td>\n",
       "      <td>2.0</td>\n",
       "      <td>0.0</td>\n",
       "      <td>3.0</td>\n",
       "      <td>4.0</td>\n",
       "      <td>5.0</td>\n",
       "      <td>27.0</td>\n",
       "    </tr>\n",
       "    <tr>\n",
       "      <th>secondary_cleaner.state.floatbank2_a_air</th>\n",
       "      <td>19219.0</td>\n",
       "      <td>29.0</td>\n",
       "      <td>5.0</td>\n",
       "      <td>0.0</td>\n",
       "      <td>25.0</td>\n",
       "      <td>29.0</td>\n",
       "      <td>33.0</td>\n",
       "      <td>53.0</td>\n",
       "    </tr>\n",
       "    <tr>\n",
       "      <th>secondary_cleaner.state.floatbank2_a_level</th>\n",
       "      <td>19438.0</td>\n",
       "      <td>-502.0</td>\n",
       "      <td>54.0</td>\n",
       "      <td>-800.0</td>\n",
       "      <td>-500.0</td>\n",
       "      <td>-500.0</td>\n",
       "      <td>-500.0</td>\n",
       "      <td>-128.0</td>\n",
       "    </tr>\n",
       "    <tr>\n",
       "      <th>secondary_cleaner.state.floatbank2_b_air</th>\n",
       "      <td>19416.0</td>\n",
       "      <td>24.0</td>\n",
       "      <td>6.0</td>\n",
       "      <td>0.0</td>\n",
       "      <td>21.0</td>\n",
       "      <td>25.0</td>\n",
       "      <td>28.0</td>\n",
       "      <td>35.0</td>\n",
       "    </tr>\n",
       "    <tr>\n",
       "      <th>secondary_cleaner.state.floatbank2_b_level</th>\n",
       "      <td>19438.0</td>\n",
       "      <td>-503.0</td>\n",
       "      <td>57.0</td>\n",
       "      <td>-800.0</td>\n",
       "      <td>-500.0</td>\n",
       "      <td>-500.0</td>\n",
       "      <td>-500.0</td>\n",
       "      <td>-212.0</td>\n",
       "    </tr>\n",
       "    <tr>\n",
       "      <th>secondary_cleaner.state.floatbank3_a_air</th>\n",
       "      <td>19426.0</td>\n",
       "      <td>28.0</td>\n",
       "      <td>6.0</td>\n",
       "      <td>0.0</td>\n",
       "      <td>25.0</td>\n",
       "      <td>28.0</td>\n",
       "      <td>33.0</td>\n",
       "      <td>44.0</td>\n",
       "    </tr>\n",
       "    <tr>\n",
       "      <th>secondary_cleaner.state.floatbank3_a_level</th>\n",
       "      <td>19438.0</td>\n",
       "      <td>-486.0</td>\n",
       "      <td>54.0</td>\n",
       "      <td>-800.0</td>\n",
       "      <td>-500.0</td>\n",
       "      <td>-500.0</td>\n",
       "      <td>-499.0</td>\n",
       "      <td>-192.0</td>\n",
       "    </tr>\n",
       "    <tr>\n",
       "      <th>secondary_cleaner.state.floatbank3_b_air</th>\n",
       "      <td>19438.0</td>\n",
       "      <td>22.0</td>\n",
       "      <td>6.0</td>\n",
       "      <td>0.0</td>\n",
       "      <td>19.0</td>\n",
       "      <td>22.0</td>\n",
       "      <td>26.0</td>\n",
       "      <td>35.0</td>\n",
       "    </tr>\n",
       "    <tr>\n",
       "      <th>secondary_cleaner.state.floatbank3_b_level</th>\n",
       "      <td>19438.0</td>\n",
       "      <td>-494.0</td>\n",
       "      <td>43.0</td>\n",
       "      <td>-809.0</td>\n",
       "      <td>-500.0</td>\n",
       "      <td>-500.0</td>\n",
       "      <td>-500.0</td>\n",
       "      <td>-160.0</td>\n",
       "    </tr>\n",
       "    <tr>\n",
       "      <th>secondary_cleaner.state.floatbank4_a_air</th>\n",
       "      <td>19433.0</td>\n",
       "      <td>19.0</td>\n",
       "      <td>5.0</td>\n",
       "      <td>0.0</td>\n",
       "      <td>15.0</td>\n",
       "      <td>18.0</td>\n",
       "      <td>23.0</td>\n",
       "      <td>30.0</td>\n",
       "    </tr>\n",
       "    <tr>\n",
       "      <th>secondary_cleaner.state.floatbank4_a_level</th>\n",
       "      <td>19438.0</td>\n",
       "      <td>-486.0</td>\n",
       "      <td>48.0</td>\n",
       "      <td>-800.0</td>\n",
       "      <td>-501.0</td>\n",
       "      <td>-500.0</td>\n",
       "      <td>-498.0</td>\n",
       "      <td>-245.0</td>\n",
       "    </tr>\n",
       "    <tr>\n",
       "      <th>secondary_cleaner.state.floatbank4_b_air</th>\n",
       "      <td>19438.0</td>\n",
       "      <td>15.0</td>\n",
       "      <td>5.0</td>\n",
       "      <td>0.0</td>\n",
       "      <td>12.0</td>\n",
       "      <td>15.0</td>\n",
       "      <td>19.0</td>\n",
       "      <td>31.0</td>\n",
       "    </tr>\n",
       "    <tr>\n",
       "      <th>secondary_cleaner.state.floatbank4_b_level</th>\n",
       "      <td>19438.0</td>\n",
       "      <td>-461.0</td>\n",
       "      <td>67.0</td>\n",
       "      <td>-801.0</td>\n",
       "      <td>-500.0</td>\n",
       "      <td>-499.0</td>\n",
       "      <td>-400.0</td>\n",
       "      <td>-7.0</td>\n",
       "    </tr>\n",
       "    <tr>\n",
       "      <th>secondary_cleaner.state.floatbank5_a_air</th>\n",
       "      <td>19438.0</td>\n",
       "      <td>16.0</td>\n",
       "      <td>6.0</td>\n",
       "      <td>-0.0</td>\n",
       "      <td>11.0</td>\n",
       "      <td>15.0</td>\n",
       "      <td>18.0</td>\n",
       "      <td>44.0</td>\n",
       "    </tr>\n",
       "    <tr>\n",
       "      <th>secondary_cleaner.state.floatbank5_a_level</th>\n",
       "      <td>19438.0</td>\n",
       "      <td>-489.0</td>\n",
       "      <td>35.0</td>\n",
       "      <td>-797.0</td>\n",
       "      <td>-500.0</td>\n",
       "      <td>-500.0</td>\n",
       "      <td>-498.0</td>\n",
       "      <td>-244.0</td>\n",
       "    </tr>\n",
       "    <tr>\n",
       "      <th>secondary_cleaner.state.floatbank5_b_air</th>\n",
       "      <td>19438.0</td>\n",
       "      <td>12.0</td>\n",
       "      <td>5.0</td>\n",
       "      <td>1.0</td>\n",
       "      <td>9.0</td>\n",
       "      <td>11.0</td>\n",
       "      <td>14.0</td>\n",
       "      <td>28.0</td>\n",
       "    </tr>\n",
       "    <tr>\n",
       "      <th>secondary_cleaner.state.floatbank5_b_level</th>\n",
       "      <td>19438.0</td>\n",
       "      <td>-487.0</td>\n",
       "      <td>38.0</td>\n",
       "      <td>-800.0</td>\n",
       "      <td>-500.0</td>\n",
       "      <td>-500.0</td>\n",
       "      <td>-499.0</td>\n",
       "      <td>-138.0</td>\n",
       "    </tr>\n",
       "    <tr>\n",
       "      <th>secondary_cleaner.state.floatbank6_a_air</th>\n",
       "      <td>19437.0</td>\n",
       "      <td>19.0</td>\n",
       "      <td>6.0</td>\n",
       "      <td>-0.0</td>\n",
       "      <td>15.0</td>\n",
       "      <td>20.0</td>\n",
       "      <td>24.0</td>\n",
       "      <td>32.0</td>\n",
       "    </tr>\n",
       "    <tr>\n",
       "      <th>secondary_cleaner.state.floatbank6_a_level</th>\n",
       "      <td>19438.0</td>\n",
       "      <td>-505.0</td>\n",
       "      <td>38.0</td>\n",
       "      <td>-810.0</td>\n",
       "      <td>-501.0</td>\n",
       "      <td>-500.0</td>\n",
       "      <td>-499.0</td>\n",
       "      <td>-104.0</td>\n",
       "    </tr>\n",
       "  </tbody>\n",
       "</table>\n",
       "</div>"
      ],
      "text/plain": [
       "                                                      count     mean  \\\n",
       "final.output.concentrate_ag                         19438.0      5.0   \n",
       "final.output.concentrate_pb                         19438.0     10.0   \n",
       "final.output.concentrate_sol                        19228.0     10.0   \n",
       "final.output.concentrate_au                         19439.0     44.0   \n",
       "final.output.recovery                               19439.0     67.0   \n",
       "final.output.tail_ag                                19438.0     10.0   \n",
       "final.output.tail_pb                                19338.0      3.0   \n",
       "final.output.tail_sol                               19433.0     11.0   \n",
       "final.output.tail_au                                19439.0      3.0   \n",
       "primary_cleaner.input.sulfate                       19415.0    145.0   \n",
       "primary_cleaner.input.depressant                    19402.0      9.0   \n",
       "primary_cleaner.input.feed_size                     19439.0      7.0   \n",
       "primary_cleaner.input.xanthate                      19335.0      1.0   \n",
       "primary_cleaner.output.concentrate_ag               19439.0      8.0   \n",
       "primary_cleaner.output.concentrate_pb               19323.0     10.0   \n",
       "primary_cleaner.output.concentrate_sol              19069.0     10.0   \n",
       "primary_cleaner.output.concentrate_au               19439.0     32.0   \n",
       "primary_cleaner.output.tail_ag                      19435.0     16.0   \n",
       "primary_cleaner.output.tail_pb                      19418.0      3.0   \n",
       "primary_cleaner.output.tail_sol                     19377.0      8.0   \n",
       "primary_cleaner.output.tail_au                      19439.0      4.0   \n",
       "primary_cleaner.state.floatbank8_a_air              19435.0   1589.0   \n",
       "primary_cleaner.state.floatbank8_a_level            19438.0   -491.0   \n",
       "primary_cleaner.state.floatbank8_b_air              19435.0   1591.0   \n",
       "primary_cleaner.state.floatbank8_b_level            19438.0   -492.0   \n",
       "primary_cleaner.state.floatbank8_c_air              19437.0   1587.0   \n",
       "primary_cleaner.state.floatbank8_c_level            19438.0   -492.0   \n",
       "primary_cleaner.state.floatbank8_d_air              19436.0   1543.0   \n",
       "primary_cleaner.state.floatbank8_d_level            19438.0   -488.0   \n",
       "rougher.calculation.sulfate_to_au_concentrate       19437.0  42171.0   \n",
       "rougher.calculation.floatbank10_sulfate_to_au_feed  19437.0   3393.0   \n",
       "rougher.calculation.floatbank11_sulfate_to_au_feed  19437.0   3257.0   \n",
       "rougher.calculation.au_pb_ratio                     19439.0      2.0   \n",
       "rougher.input.feed_ag                               19439.0      9.0   \n",
       "rougher.input.feed_pb                               19339.0      4.0   \n",
       "rougher.input.feed_rate                             19428.0    478.0   \n",
       "rougher.input.feed_size                             19294.0     59.0   \n",
       "rougher.input.feed_sol                              19340.0     37.0   \n",
       "rougher.input.feed_au                               19439.0      8.0   \n",
       "rougher.input.floatbank10_sulfate                   19405.0     12.0   \n",
       "rougher.input.floatbank10_xanthate                  19431.0      6.0   \n",
       "rougher.input.floatbank11_sulfate                   19395.0     12.0   \n",
       "rougher.input.floatbank11_xanthate                  18986.0      6.0   \n",
       "rougher.output.concentrate_ag                       19439.0     12.0   \n",
       "rougher.output.concentrate_pb                       19439.0      8.0   \n",
       "rougher.output.concentrate_sol                      19416.0     29.0   \n",
       "rougher.output.concentrate_au                       19439.0     20.0   \n",
       "rougher.output.recovery                             19439.0     83.0   \n",
       "rougher.output.tail_ag                              19438.0      6.0   \n",
       "rougher.output.tail_pb                              19439.0      1.0   \n",
       "rougher.output.tail_sol                             19439.0     18.0   \n",
       "rougher.output.tail_au                              19439.0      2.0   \n",
       "rougher.state.floatbank10_a_air                     19438.0   1105.0   \n",
       "rougher.state.floatbank10_a_level                   19438.0   -377.0   \n",
       "rougher.state.floatbank10_b_air                     19438.0   1320.0   \n",
       "rougher.state.floatbank10_b_level                   19438.0   -467.0   \n",
       "rougher.state.floatbank10_c_air                     19438.0   1300.0   \n",
       "rougher.state.floatbank10_c_level                   19438.0   -468.0   \n",
       "rougher.state.floatbank10_d_air                     19439.0   1212.0   \n",
       "rougher.state.floatbank10_d_level                   19439.0   -468.0   \n",
       "rougher.state.floatbank10_e_air                     19003.0   1081.0   \n",
       "rougher.state.floatbank10_e_level                   19439.0   -466.0   \n",
       "rougher.state.floatbank10_f_air                     19439.0   1025.0   \n",
       "rougher.state.floatbank10_f_level                   19439.0   -466.0   \n",
       "secondary_cleaner.output.tail_ag                    19437.0     15.0   \n",
       "secondary_cleaner.output.tail_pb                    19427.0      6.0   \n",
       "secondary_cleaner.output.tail_sol                   17691.0      7.0   \n",
       "secondary_cleaner.output.tail_au                    19439.0      4.0   \n",
       "secondary_cleaner.state.floatbank2_a_air            19219.0     29.0   \n",
       "secondary_cleaner.state.floatbank2_a_level          19438.0   -502.0   \n",
       "secondary_cleaner.state.floatbank2_b_air            19416.0     24.0   \n",
       "secondary_cleaner.state.floatbank2_b_level          19438.0   -503.0   \n",
       "secondary_cleaner.state.floatbank3_a_air            19426.0     28.0   \n",
       "secondary_cleaner.state.floatbank3_a_level          19438.0   -486.0   \n",
       "secondary_cleaner.state.floatbank3_b_air            19438.0     22.0   \n",
       "secondary_cleaner.state.floatbank3_b_level          19438.0   -494.0   \n",
       "secondary_cleaner.state.floatbank4_a_air            19433.0     19.0   \n",
       "secondary_cleaner.state.floatbank4_a_level          19438.0   -486.0   \n",
       "secondary_cleaner.state.floatbank4_b_air            19438.0     15.0   \n",
       "secondary_cleaner.state.floatbank4_b_level          19438.0   -461.0   \n",
       "secondary_cleaner.state.floatbank5_a_air            19438.0     16.0   \n",
       "secondary_cleaner.state.floatbank5_a_level          19438.0   -489.0   \n",
       "secondary_cleaner.state.floatbank5_b_air            19438.0     12.0   \n",
       "secondary_cleaner.state.floatbank5_b_level          19438.0   -487.0   \n",
       "secondary_cleaner.state.floatbank6_a_air            19437.0     19.0   \n",
       "secondary_cleaner.state.floatbank6_a_level          19438.0   -505.0   \n",
       "\n",
       "                                                         std         min  \\\n",
       "final.output.concentrate_ag                              1.0         0.0   \n",
       "final.output.concentrate_pb                              2.0         0.0   \n",
       "final.output.concentrate_sol                             3.0         0.0   \n",
       "final.output.concentrate_au                              5.0         0.0   \n",
       "final.output.recovery                                   10.0         0.0   \n",
       "final.output.tail_ag                                     2.0         0.0   \n",
       "final.output.tail_pb                                     1.0         0.0   \n",
       "final.output.tail_sol                                    3.0         0.0   \n",
       "final.output.tail_au                                     1.0         0.0   \n",
       "primary_cleaner.input.sulfate                           44.0         0.0   \n",
       "primary_cleaner.input.depressant                         3.0         0.0   \n",
       "primary_cleaner.input.feed_size                          1.0         1.0   \n",
       "primary_cleaner.input.xanthate                           1.0         0.0   \n",
       "primary_cleaner.output.concentrate_ag                    2.0         0.0   \n",
       "primary_cleaner.output.concentrate_pb                    3.0         0.0   \n",
       "primary_cleaner.output.concentrate_sol                   4.0         0.0   \n",
       "primary_cleaner.output.concentrate_au                    6.0         0.0   \n",
       "primary_cleaner.output.tail_ag                           4.0         0.0   \n",
       "primary_cleaner.output.tail_pb                           1.0         0.0   \n",
       "primary_cleaner.output.tail_sol                          2.0         0.0   \n",
       "primary_cleaner.output.tail_au                           2.0         0.0   \n",
       "primary_cleaner.state.floatbank8_a_air                 129.0         0.0   \n",
       "primary_cleaner.state.floatbank8_a_level                32.0      -799.0   \n",
       "primary_cleaner.state.floatbank8_b_air                 132.0         0.0   \n",
       "primary_cleaner.state.floatbank8_b_level                34.0      -800.0   \n",
       "primary_cleaner.state.floatbank8_c_air                 136.0         0.0   \n",
       "primary_cleaner.state.floatbank8_c_level                33.0      -800.0   \n",
       "primary_cleaner.state.floatbank8_d_air                 246.0         0.0   \n",
       "primary_cleaner.state.floatbank8_d_level                44.0      -800.0   \n",
       "rougher.calculation.sulfate_to_au_concentrate       324362.0 -42235197.0   \n",
       "rougher.calculation.floatbank10_sulfate_to_au_feed    4944.0      -487.0   \n",
       "rougher.calculation.floatbank11_sulfate_to_au_feed    5781.0      -265.0   \n",
       "rougher.calculation.au_pb_ratio                          1.0        -0.0   \n",
       "rougher.input.feed_ag                                    2.0         0.0   \n",
       "rougher.input.feed_pb                                    1.0         0.0   \n",
       "rougher.input.feed_rate                                105.0         0.0   \n",
       "rougher.input.feed_size                                 22.0         0.0   \n",
       "rougher.input.feed_sol                                   5.0         0.0   \n",
       "rougher.input.feed_au                                    2.0         0.0   \n",
       "rougher.input.floatbank10_sulfate                        3.0         0.0   \n",
       "rougher.input.floatbank10_xanthate                       1.0         0.0   \n",
       "rougher.input.floatbank11_sulfate                        4.0         0.0   \n",
       "rougher.input.floatbank11_xanthate                       1.0         0.0   \n",
       "rougher.output.concentrate_ag                            3.0         0.0   \n",
       "rougher.output.concentrate_pb                            2.0         0.0   \n",
       "rougher.output.concentrate_sol                           6.0         0.0   \n",
       "rougher.output.concentrate_au                            4.0         0.0   \n",
       "rougher.output.recovery                                 14.0         0.0   \n",
       "rougher.output.tail_ag                                   1.0         1.0   \n",
       "rougher.output.tail_pb                                   0.0         0.0   \n",
       "rougher.output.tail_sol                                  3.0        10.0   \n",
       "rougher.output.tail_au                                   1.0         0.0   \n",
       "rougher.state.floatbank10_a_air                        161.0        -0.0   \n",
       "rougher.state.floatbank10_a_level                       94.0      -658.0   \n",
       "rougher.state.floatbank10_b_air                        176.0        -1.0   \n",
       "rougher.state.floatbank10_b_level                       55.0      -650.0   \n",
       "rougher.state.floatbank10_c_air                        203.0        -0.0   \n",
       "rougher.state.floatbank10_c_level                       54.0      -648.0   \n",
       "rougher.state.floatbank10_d_air                        204.0        -1.0   \n",
       "rougher.state.floatbank10_d_level                       54.0      -648.0   \n",
       "rougher.state.floatbank10_e_air                        172.0        -2.0   \n",
       "rougher.state.floatbank10_e_level                       57.0      -649.0   \n",
       "rougher.state.floatbank10_f_air                        164.0        -3.0   \n",
       "rougher.state.floatbank10_f_level                       58.0      -650.0   \n",
       "secondary_cleaner.output.tail_ag                         4.0         0.0   \n",
       "secondary_cleaner.output.tail_pb                         3.0         0.0   \n",
       "secondary_cleaner.output.tail_sol                        4.0         0.0   \n",
       "secondary_cleaner.output.tail_au                         2.0         0.0   \n",
       "secondary_cleaner.state.floatbank2_a_air                 5.0         0.0   \n",
       "secondary_cleaner.state.floatbank2_a_level              54.0      -800.0   \n",
       "secondary_cleaner.state.floatbank2_b_air                 6.0         0.0   \n",
       "secondary_cleaner.state.floatbank2_b_level              57.0      -800.0   \n",
       "secondary_cleaner.state.floatbank3_a_air                 6.0         0.0   \n",
       "secondary_cleaner.state.floatbank3_a_level              54.0      -800.0   \n",
       "secondary_cleaner.state.floatbank3_b_air                 6.0         0.0   \n",
       "secondary_cleaner.state.floatbank3_b_level              43.0      -809.0   \n",
       "secondary_cleaner.state.floatbank4_a_air                 5.0         0.0   \n",
       "secondary_cleaner.state.floatbank4_a_level              48.0      -800.0   \n",
       "secondary_cleaner.state.floatbank4_b_air                 5.0         0.0   \n",
       "secondary_cleaner.state.floatbank4_b_level              67.0      -801.0   \n",
       "secondary_cleaner.state.floatbank5_a_air                 6.0        -0.0   \n",
       "secondary_cleaner.state.floatbank5_a_level              35.0      -797.0   \n",
       "secondary_cleaner.state.floatbank5_b_air                 5.0         1.0   \n",
       "secondary_cleaner.state.floatbank5_b_level              38.0      -800.0   \n",
       "secondary_cleaner.state.floatbank6_a_air                 6.0        -0.0   \n",
       "secondary_cleaner.state.floatbank6_a_level              38.0      -810.0   \n",
       "\n",
       "                                                        25%      50%      75%  \\\n",
       "final.output.concentrate_ag                             4.0      5.0      6.0   \n",
       "final.output.concentrate_pb                             9.0     10.0     11.0   \n",
       "final.output.concentrate_sol                            8.0      9.0     11.0   \n",
       "final.output.concentrate_au                            43.0     45.0     46.0   \n",
       "final.output.recovery                                  63.0     68.0     73.0   \n",
       "final.output.tail_ag                                    8.0     10.0     11.0   \n",
       "final.output.tail_pb                                    2.0      3.0      3.0   \n",
       "final.output.tail_sol                                   9.0     11.0     12.0   \n",
       "final.output.tail_au                                    2.0      3.0      4.0   \n",
       "primary_cleaner.input.sulfate                         114.0    143.0    175.0   \n",
       "primary_cleaner.input.depressant                        6.0      8.0     11.0   \n",
       "primary_cleaner.input.feed_size                         7.0      7.0      8.0   \n",
       "primary_cleaner.input.xanthate                          1.0      1.0      1.0   \n",
       "primary_cleaner.output.concentrate_ag                   7.0      9.0     10.0   \n",
       "primary_cleaner.output.concentrate_pb                   9.0     10.0     11.0   \n",
       "primary_cleaner.output.concentrate_sol                  8.0     10.0     13.0   \n",
       "primary_cleaner.output.concentrate_au                  30.0     33.0     35.0   \n",
       "primary_cleaner.output.tail_ag                         14.0     16.0     18.0   \n",
       "primary_cleaner.output.tail_pb                          3.0      3.0      4.0   \n",
       "primary_cleaner.output.tail_sol                         7.0      8.0     10.0   \n",
       "primary_cleaner.output.tail_au                          3.0      4.0      5.0   \n",
       "primary_cleaner.state.floatbank8_a_air               1505.0   1601.0   1698.0   \n",
       "primary_cleaner.state.floatbank8_a_level             -500.0   -500.0   -499.0   \n",
       "primary_cleaner.state.floatbank8_b_air               1504.0   1601.0   1699.0   \n",
       "primary_cleaner.state.floatbank8_b_level             -500.0   -500.0   -499.0   \n",
       "primary_cleaner.state.floatbank8_c_air               1501.0   1600.0   1699.0   \n",
       "primary_cleaner.state.floatbank8_c_level             -501.0   -500.0   -499.0   \n",
       "primary_cleaner.state.floatbank8_d_air               1494.0   1599.0   1699.0   \n",
       "primary_cleaner.state.floatbank8_d_level             -500.0   -500.0   -499.0   \n",
       "rougher.calculation.sulfate_to_au_concentrate       40701.0  44696.0  48168.0   \n",
       "rougher.calculation.floatbank10_sulfate_to_au_feed   2611.0   3018.0   3677.0   \n",
       "rougher.calculation.floatbank11_sulfate_to_au_feed   2551.0   2997.0   3602.0   \n",
       "rougher.calculation.au_pb_ratio                         2.0      2.0      3.0   \n",
       "rougher.input.feed_ag                                   7.0      9.0     10.0   \n",
       "rougher.input.feed_pb                                   3.0      4.0      4.0   \n",
       "rougher.input.feed_rate                               417.0    499.0    550.0   \n",
       "rougher.input.feed_size                                47.0     55.0     65.0   \n",
       "rougher.input.feed_sol                                 34.0     37.0     40.0   \n",
       "rougher.input.feed_au                                   7.0      8.0     10.0   \n",
       "rougher.input.floatbank10_sulfate                      10.0     12.0     15.0   \n",
       "rougher.input.floatbank10_xanthate                      5.0      6.0      7.0   \n",
       "rougher.input.floatbank11_sulfate                      10.0     12.0     15.0   \n",
       "rougher.input.floatbank11_xanthate                      5.0      6.0      7.0   \n",
       "rougher.output.concentrate_ag                          11.0     12.0     14.0   \n",
       "rougher.output.concentrate_pb                           7.0      8.0      9.0   \n",
       "rougher.output.concentrate_sol                         27.0     30.0     32.0   \n",
       "rougher.output.concentrate_au                          19.0     20.0     22.0   \n",
       "rougher.output.recovery                                81.0     86.0     90.0   \n",
       "rougher.output.tail_ag                                  5.0      6.0      6.0   \n",
       "rougher.output.tail_pb                                  0.0      1.0      1.0   \n",
       "rougher.output.tail_sol                                16.0     18.0     20.0   \n",
       "rougher.output.tail_au                                  1.0      2.0      2.0   \n",
       "rougher.state.floatbank10_a_air                      1000.0   1001.0   1206.0   \n",
       "rougher.state.floatbank10_a_level                    -500.0   -300.0   -300.0   \n",
       "rougher.state.floatbank10_b_air                      1200.0   1302.0   1449.0   \n",
       "rougher.state.floatbank10_b_level                    -500.0   -500.0   -401.0   \n",
       "rougher.state.floatbank10_c_air                      1151.0   1300.0   1449.0   \n",
       "rougher.state.floatbank10_c_level                    -500.0   -500.0   -401.0   \n",
       "rougher.state.floatbank10_d_air                      1061.0   1202.0   1353.0   \n",
       "rougher.state.floatbank10_d_level                    -500.0   -500.0   -402.0   \n",
       "rougher.state.floatbank10_e_air                       999.0   1050.0   1199.0   \n",
       "rougher.state.floatbank10_e_level                    -500.0   -500.0   -401.0   \n",
       "rougher.state.floatbank10_f_air                       901.0   1000.0   1100.0   \n",
       "rougher.state.floatbank10_f_level                    -501.0   -499.0   -402.0   \n",
       "secondary_cleaner.output.tail_ag                       13.0     16.0     17.0   \n",
       "secondary_cleaner.output.tail_pb                        4.0      5.0      8.0   \n",
       "secondary_cleaner.output.tail_sol                       4.0      8.0     10.0   \n",
       "secondary_cleaner.output.tail_au                        3.0      4.0      5.0   \n",
       "secondary_cleaner.state.floatbank2_a_air               25.0     29.0     33.0   \n",
       "secondary_cleaner.state.floatbank2_a_level           -500.0   -500.0   -500.0   \n",
       "secondary_cleaner.state.floatbank2_b_air               21.0     25.0     28.0   \n",
       "secondary_cleaner.state.floatbank2_b_level           -500.0   -500.0   -500.0   \n",
       "secondary_cleaner.state.floatbank3_a_air               25.0     28.0     33.0   \n",
       "secondary_cleaner.state.floatbank3_a_level           -500.0   -500.0   -499.0   \n",
       "secondary_cleaner.state.floatbank3_b_air               19.0     22.0     26.0   \n",
       "secondary_cleaner.state.floatbank3_b_level           -500.0   -500.0   -500.0   \n",
       "secondary_cleaner.state.floatbank4_a_air               15.0     18.0     23.0   \n",
       "secondary_cleaner.state.floatbank4_a_level           -501.0   -500.0   -498.0   \n",
       "secondary_cleaner.state.floatbank4_b_air               12.0     15.0     19.0   \n",
       "secondary_cleaner.state.floatbank4_b_level           -500.0   -499.0   -400.0   \n",
       "secondary_cleaner.state.floatbank5_a_air               11.0     15.0     18.0   \n",
       "secondary_cleaner.state.floatbank5_a_level           -500.0   -500.0   -498.0   \n",
       "secondary_cleaner.state.floatbank5_b_air                9.0     11.0     14.0   \n",
       "secondary_cleaner.state.floatbank5_b_level           -500.0   -500.0   -499.0   \n",
       "secondary_cleaner.state.floatbank6_a_air               15.0     20.0     24.0   \n",
       "secondary_cleaner.state.floatbank6_a_level           -501.0   -500.0   -499.0   \n",
       "\n",
       "                                                          max  \n",
       "final.output.concentrate_ag                              16.0  \n",
       "final.output.concentrate_pb                              17.0  \n",
       "final.output.concentrate_sol                             20.0  \n",
       "final.output.concentrate_au                              53.0  \n",
       "final.output.recovery                                   100.0  \n",
       "final.output.tail_ag                                     20.0  \n",
       "final.output.tail_pb                                      6.0  \n",
       "final.output.tail_sol                                    22.0  \n",
       "final.output.tail_au                                      8.0  \n",
       "primary_cleaner.input.sulfate                           266.0  \n",
       "primary_cleaner.input.depressant                         40.0  \n",
       "primary_cleaner.input.feed_size                          16.0  \n",
       "primary_cleaner.input.xanthate                            4.0  \n",
       "primary_cleaner.output.concentrate_ag                    16.0  \n",
       "primary_cleaner.output.concentrate_pb                    17.0  \n",
       "primary_cleaner.output.concentrate_sol                   22.0  \n",
       "primary_cleaner.output.concentrate_au                    46.0  \n",
       "primary_cleaner.output.tail_ag                           29.0  \n",
       "primary_cleaner.output.tail_pb                           10.0  \n",
       "primary_cleaner.output.tail_sol                          22.0  \n",
       "primary_cleaner.output.tail_au                           18.0  \n",
       "primary_cleaner.state.floatbank8_a_air                 2103.0  \n",
       "primary_cleaner.state.floatbank8_a_level                -57.0  \n",
       "primary_cleaner.state.floatbank8_b_air                 2115.0  \n",
       "primary_cleaner.state.floatbank8_b_level               -143.0  \n",
       "primary_cleaner.state.floatbank8_c_air                 2013.0  \n",
       "primary_cleaner.state.floatbank8_c_level               -151.0  \n",
       "primary_cleaner.state.floatbank8_d_air                 2399.0  \n",
       "primary_cleaner.state.floatbank8_d_level                -31.0  \n",
       "rougher.calculation.sulfate_to_au_concentrate       3428099.0  \n",
       "rougher.calculation.floatbank10_sulfate_to_au_feed   629639.0  \n",
       "rougher.calculation.floatbank11_sulfate_to_au_feed   718685.0  \n",
       "rougher.calculation.au_pb_ratio                          39.0  \n",
       "rougher.input.feed_ag                                    15.0  \n",
       "rougher.input.feed_pb                                     7.0  \n",
       "rougher.input.feed_rate                                 718.0  \n",
       "rougher.input.feed_size                                 485.0  \n",
       "rougher.input.feed_sol                                   53.0  \n",
       "rougher.input.feed_au                                    14.0  \n",
       "rougher.input.floatbank10_sulfate                        36.0  \n",
       "rougher.input.floatbank10_xanthate                       10.0  \n",
       "rougher.input.floatbank11_sulfate                        38.0  \n",
       "rougher.input.floatbank11_xanthate                       10.0  \n",
       "rougher.output.concentrate_ag                            24.0  \n",
       "rougher.output.concentrate_pb                            14.0  \n",
       "rougher.output.concentrate_sol                           38.0  \n",
       "rougher.output.concentrate_au                            29.0  \n",
       "rougher.output.recovery                                 100.0  \n",
       "rougher.output.tail_ag                                   13.0  \n",
       "rougher.output.tail_pb                                    4.0  \n",
       "rougher.output.tail_sol                                  66.0  \n",
       "rougher.output.tail_au                                   10.0  \n",
       "rougher.state.floatbank10_a_air                        1522.0  \n",
       "rougher.state.floatbank10_a_level                      -274.0  \n",
       "rougher.state.floatbank10_b_air                        1809.0  \n",
       "rougher.state.floatbank10_b_level                      -296.0  \n",
       "rougher.state.floatbank10_c_air                        2499.0  \n",
       "rougher.state.floatbank10_c_level                      -292.0  \n",
       "rougher.state.floatbank10_d_air                        1817.0  \n",
       "rougher.state.floatbank10_d_level                       -76.0  \n",
       "rougher.state.floatbank10_e_air                        1923.0  \n",
       "rougher.state.floatbank10_e_level                      -140.0  \n",
       "rougher.state.floatbank10_f_air                        1706.0  \n",
       "rougher.state.floatbank10_f_level                      -192.0  \n",
       "secondary_cleaner.output.tail_ag                         23.0  \n",
       "secondary_cleaner.output.tail_pb                         17.0  \n",
       "secondary_cleaner.output.tail_sol                        26.0  \n",
       "secondary_cleaner.output.tail_au                         27.0  \n",
       "secondary_cleaner.state.floatbank2_a_air                 53.0  \n",
       "secondary_cleaner.state.floatbank2_a_level             -128.0  \n",
       "secondary_cleaner.state.floatbank2_b_air                 35.0  \n",
       "secondary_cleaner.state.floatbank2_b_level             -212.0  \n",
       "secondary_cleaner.state.floatbank3_a_air                 44.0  \n",
       "secondary_cleaner.state.floatbank3_a_level             -192.0  \n",
       "secondary_cleaner.state.floatbank3_b_air                 35.0  \n",
       "secondary_cleaner.state.floatbank3_b_level             -160.0  \n",
       "secondary_cleaner.state.floatbank4_a_air                 30.0  \n",
       "secondary_cleaner.state.floatbank4_a_level             -245.0  \n",
       "secondary_cleaner.state.floatbank4_b_air                 31.0  \n",
       "secondary_cleaner.state.floatbank4_b_level               -7.0  \n",
       "secondary_cleaner.state.floatbank5_a_air                 44.0  \n",
       "secondary_cleaner.state.floatbank5_a_level             -244.0  \n",
       "secondary_cleaner.state.floatbank5_b_air                 28.0  \n",
       "secondary_cleaner.state.floatbank5_b_level             -138.0  \n",
       "secondary_cleaner.state.floatbank6_a_air                 32.0  \n",
       "secondary_cleaner.state.floatbank6_a_level             -104.0  "
      ]
     },
     "execution_count": 10,
     "metadata": {},
     "output_type": "execute_result"
    }
   ],
   "source": [
    "df_full.describe().T.round()"
   ]
  },
  {
   "cell_type": "code",
   "execution_count": 11,
   "id": "eb138cb7",
   "metadata": {
    "scrolled": true
   },
   "outputs": [
    {
     "data": {
      "text/plain": [
       "(14149, 87)"
      ]
     },
     "execution_count": 11,
     "metadata": {},
     "output_type": "execute_result"
    }
   ],
   "source": [
    "df_train.shape"
   ]
  },
  {
   "cell_type": "code",
   "execution_count": 12,
   "id": "4e63910c",
   "metadata": {},
   "outputs": [
    {
     "data": {
      "text/plain": [
       "(5290, 53)"
      ]
     },
     "execution_count": 12,
     "metadata": {},
     "output_type": "execute_result"
    }
   ],
   "source": [
    "df_test.shape"
   ]
  },
  {
   "cell_type": "code",
   "execution_count": 13,
   "id": "350a0f8e",
   "metadata": {
    "scrolled": true
   },
   "outputs": [
    {
     "data": {
      "text/plain": [
       "date                                                   object\n",
       "final.output.concentrate_ag                           float64\n",
       "final.output.concentrate_pb                           float64\n",
       "final.output.concentrate_sol                          float64\n",
       "final.output.concentrate_au                           float64\n",
       "final.output.recovery                                 float64\n",
       "final.output.tail_ag                                  float64\n",
       "final.output.tail_pb                                  float64\n",
       "final.output.tail_sol                                 float64\n",
       "final.output.tail_au                                  float64\n",
       "primary_cleaner.input.sulfate                         float64\n",
       "primary_cleaner.input.depressant                      float64\n",
       "primary_cleaner.input.feed_size                       float64\n",
       "primary_cleaner.input.xanthate                        float64\n",
       "primary_cleaner.output.concentrate_ag                 float64\n",
       "primary_cleaner.output.concentrate_pb                 float64\n",
       "primary_cleaner.output.concentrate_sol                float64\n",
       "primary_cleaner.output.concentrate_au                 float64\n",
       "primary_cleaner.output.tail_ag                        float64\n",
       "primary_cleaner.output.tail_pb                        float64\n",
       "primary_cleaner.output.tail_sol                       float64\n",
       "primary_cleaner.output.tail_au                        float64\n",
       "primary_cleaner.state.floatbank8_a_air                float64\n",
       "primary_cleaner.state.floatbank8_a_level              float64\n",
       "primary_cleaner.state.floatbank8_b_air                float64\n",
       "primary_cleaner.state.floatbank8_b_level              float64\n",
       "primary_cleaner.state.floatbank8_c_air                float64\n",
       "primary_cleaner.state.floatbank8_c_level              float64\n",
       "primary_cleaner.state.floatbank8_d_air                float64\n",
       "primary_cleaner.state.floatbank8_d_level              float64\n",
       "rougher.calculation.sulfate_to_au_concentrate         float64\n",
       "rougher.calculation.floatbank10_sulfate_to_au_feed    float64\n",
       "rougher.calculation.floatbank11_sulfate_to_au_feed    float64\n",
       "rougher.calculation.au_pb_ratio                       float64\n",
       "rougher.input.feed_ag                                 float64\n",
       "rougher.input.feed_pb                                 float64\n",
       "rougher.input.feed_rate                               float64\n",
       "rougher.input.feed_size                               float64\n",
       "rougher.input.feed_sol                                float64\n",
       "rougher.input.feed_au                                 float64\n",
       "rougher.input.floatbank10_sulfate                     float64\n",
       "rougher.input.floatbank10_xanthate                    float64\n",
       "rougher.input.floatbank11_sulfate                     float64\n",
       "rougher.input.floatbank11_xanthate                    float64\n",
       "rougher.output.concentrate_ag                         float64\n",
       "rougher.output.concentrate_pb                         float64\n",
       "rougher.output.concentrate_sol                        float64\n",
       "rougher.output.concentrate_au                         float64\n",
       "rougher.output.recovery                               float64\n",
       "rougher.output.tail_ag                                float64\n",
       "rougher.output.tail_pb                                float64\n",
       "rougher.output.tail_sol                               float64\n",
       "rougher.output.tail_au                                float64\n",
       "rougher.state.floatbank10_a_air                       float64\n",
       "rougher.state.floatbank10_a_level                     float64\n",
       "rougher.state.floatbank10_b_air                       float64\n",
       "rougher.state.floatbank10_b_level                     float64\n",
       "rougher.state.floatbank10_c_air                       float64\n",
       "rougher.state.floatbank10_c_level                     float64\n",
       "rougher.state.floatbank10_d_air                       float64\n",
       "rougher.state.floatbank10_d_level                     float64\n",
       "rougher.state.floatbank10_e_air                       float64\n",
       "rougher.state.floatbank10_e_level                     float64\n",
       "rougher.state.floatbank10_f_air                       float64\n",
       "rougher.state.floatbank10_f_level                     float64\n",
       "secondary_cleaner.output.tail_ag                      float64\n",
       "secondary_cleaner.output.tail_pb                      float64\n",
       "secondary_cleaner.output.tail_sol                     float64\n",
       "secondary_cleaner.output.tail_au                      float64\n",
       "secondary_cleaner.state.floatbank2_a_air              float64\n",
       "secondary_cleaner.state.floatbank2_a_level            float64\n",
       "secondary_cleaner.state.floatbank2_b_air              float64\n",
       "secondary_cleaner.state.floatbank2_b_level            float64\n",
       "secondary_cleaner.state.floatbank3_a_air              float64\n",
       "secondary_cleaner.state.floatbank3_a_level            float64\n",
       "secondary_cleaner.state.floatbank3_b_air              float64\n",
       "secondary_cleaner.state.floatbank3_b_level            float64\n",
       "secondary_cleaner.state.floatbank4_a_air              float64\n",
       "secondary_cleaner.state.floatbank4_a_level            float64\n",
       "secondary_cleaner.state.floatbank4_b_air              float64\n",
       "secondary_cleaner.state.floatbank4_b_level            float64\n",
       "secondary_cleaner.state.floatbank5_a_air              float64\n",
       "secondary_cleaner.state.floatbank5_a_level            float64\n",
       "secondary_cleaner.state.floatbank5_b_air              float64\n",
       "secondary_cleaner.state.floatbank5_b_level            float64\n",
       "secondary_cleaner.state.floatbank6_a_air              float64\n",
       "secondary_cleaner.state.floatbank6_a_level            float64\n",
       "dtype: object"
      ]
     },
     "execution_count": 13,
     "metadata": {},
     "output_type": "execute_result"
    }
   ],
   "source": [
    "df_full.dtypes"
   ]
  },
  {
   "cell_type": "code",
   "execution_count": 14,
   "id": "3a7ae4da",
   "metadata": {},
   "outputs": [
    {
     "data": {
      "text/plain": [
       "False    19439\n",
       "dtype: int64"
      ]
     },
     "execution_count": 14,
     "metadata": {},
     "output_type": "execute_result"
    }
   ],
   "source": [
    "# проверка на дубликаты\n",
    "df_full.duplicated().value_counts()"
   ]
  },
  {
   "cell_type": "code",
   "execution_count": 15,
   "id": "f892c795",
   "metadata": {
    "scrolled": false
   },
   "outputs": [
    {
     "data": {
      "text/html": [
       "<pre style=\"white-space:pre;overflow-x:auto;line-height:normal;font-family:Menlo,'DejaVu Sans Mono',consolas,'Courier New',monospace\"><span style=\"color: #008080; text-decoration-color: #008080; font-weight: bold\">86</span> column names have been cleaned\n",
       "</pre>\n"
      ],
      "text/plain": [
       "\u001b[1;36m86\u001b[0m column names have been cleaned\n"
      ]
     },
     "metadata": {},
     "output_type": "display_data"
    },
    {
     "data": {
      "text/html": [
       "<pre style=\"white-space:pre;overflow-x:auto;line-height:normal;font-family:Menlo,'DejaVu Sans Mono',consolas,'Courier New',monospace\"><span style=\"color: #008080; text-decoration-color: #008080; font-weight: bold\">86</span> column names have been cleaned\n",
       "</pre>\n"
      ],
      "text/plain": [
       "\u001b[1;36m86\u001b[0m column names have been cleaned\n"
      ]
     },
     "metadata": {},
     "output_type": "display_data"
    },
    {
     "data": {
      "text/html": [
       "<pre style=\"white-space:pre;overflow-x:auto;line-height:normal;font-family:Menlo,'DejaVu Sans Mono',consolas,'Courier New',monospace\"><span style=\"color: #008080; text-decoration-color: #008080; font-weight: bold\">52</span> column names have been cleaned\n",
       "</pre>\n"
      ],
      "text/plain": [
       "\u001b[1;36m52\u001b[0m column names have been cleaned\n"
      ]
     },
     "metadata": {},
     "output_type": "display_data"
    }
   ],
   "source": [
    "# clean column names\n",
    "df_train = clean_columns(df_train, case='snake')\n",
    "df_full = clean_columns(df_full, case='snake')\n",
    "df_test = clean_columns(df_test, case='snake')"
   ]
  },
  {
   "cell_type": "code",
   "execution_count": 16,
   "id": "8df313f2",
   "metadata": {
    "scrolled": true
   },
   "outputs": [
    {
     "data": {
      "image/png": "[encoded data removed]",
      "text/plain": [
       "<Figure size 640x480 with 2 Axes>"
      ]
     },
     "metadata": {},
     "output_type": "display_data"
    }
   ],
   "source": [
    "[[ax1, ax2]] = df_full[['rougher_output_recovery', 'final_output_recovery']].hist(bins=100)\n",
    "ax1.set_ylabel('Частота признака')\n",
    "plt.suptitle('Гистограмма распределения целевых переменных')\n",
    "plt.show()"
   ]
  },
  {
   "cell_type": "code",
   "execution_count": 17,
   "id": "b0a10d4b",
   "metadata": {},
   "outputs": [
    {
     "data": {
      "image/png": "[encoded data removed]",
      "text/plain": [
       "<Figure size 640x480 with 1 Axes>"
      ]
     },
     "metadata": {},
     "output_type": "display_data"
    }
   ],
   "source": [
    "data = df_full[['rougher_output_recovery', 'final_output_recovery']]\n",
    "sns.boxplot(data=data)\n",
    "plt.ylabel('Эффективность, %')\n",
    "plt.title('Гистограмма распределения целевых переменных')\n",
    "plt.show()"
   ]
  },
  {
   "cell_type": "markdown",
   "id": "61419a84",
   "metadata": {},
   "source": [
    "<div class=\"alert alert-success\">\n",
    "<h2> Комментарий ревьюера <a class=\"tocSkip\"> </h2>\n",
    "\n",
    "<b>Все отлично!👍:</b>\n",
    "    \n",
    "Данные загрузили - отлично!\n",
    "    \n",
    "Здорово, что ты используешь конструкцию ``try-except`` для путей файлов. Но еще лучше использовать библиотеку `os` - её использование позволит тебе отойти от прописывания путей к файлу (а локальные директории могут меняться часто в зависимости от пользователя) и перейти к автоматическому определению пути к файлу с помощью модуля `path`. Как пример:\n",
    "\n",
    "    import os\n",
    "\n",
    "    pth1 = '/folder_1/data.csv'\n",
    "    pth2 = '/folder_2/data.csv'\n",
    "    \n",
    "    if os.path.exists(pth1):\n",
    "        query_1 = pd.read_csv(pth1)\n",
    "    elif os.path.exists(pth2):\n",
    "        query_1 = pd.read_csv(pth2)\n",
    "    else:\n",
    "        print('Something is wrong')\n",
    "\n",
    "В нём мы указываем только непосредственно директорию с файлом, а уже путь к ней модуль `path` определит самостоятельно.\n",
    "    \n",
    "</div>"
   ]
  },
  {
   "cell_type": "markdown",
   "id": "2cd07d60",
   "metadata": {},
   "source": [
    "<div class=\"alert alert-block alert-danger\">\n",
    "<h2> Комментарий ревьюера <a class=\"tocSkip\"></h2>\n",
    "\n",
    "    \n",
    "<b>На доработку❌:</b>\n",
    "Графикам стоит дать название, а также подписать оси X и Y.\n",
    "</div>"
   ]
  },
  {
   "cell_type": "markdown",
   "id": "476bfd42",
   "metadata": {},
   "source": [
    "<div class=\"alert alert-info\">\n",
    "<h2> Комментарий студента <a class=\"tocSkip\"> </h2>\n",
    "\n",
    "Добавил подписи\n",
    "</div>"
   ]
  },
  {
   "cell_type": "markdown",
   "id": "ae576fde",
   "metadata": {},
   "source": [
    "Выберем колонки для расчета эфективности и проверки работы функции расчета эффективности"
   ]
  },
  {
   "cell_type": "code",
   "execution_count": 18,
   "id": "4b43390e",
   "metadata": {},
   "outputs": [],
   "source": [
    "process = df_train.loc[:, [i for i in df_train.columns if ('au' in i) or 'recovery' in i]]"
   ]
  },
  {
   "cell_type": "code",
   "execution_count": 19,
   "id": "a8d1ecdd",
   "metadata": {
    "scrolled": false
   },
   "outputs": [
    {
     "name": "stdout",
     "output_type": "stream",
     "text": [
      "<class 'pandas.core.frame.DataFrame'>\n",
      "RangeIndex: 14149 entries, 0 to 14148\n",
      "Data columns (total 14 columns):\n",
      " #   Column                                               Non-Null Count  Dtype  \n",
      "---  ------                                               --------------  -----  \n",
      " 0   final_output_concentrate_au                          14149 non-null  float64\n",
      " 1   final_output_recovery                                14149 non-null  float64\n",
      " 2   final_output_tail_au                                 14149 non-null  float64\n",
      " 3   primary_cleaner_output_concentrate_au                14149 non-null  float64\n",
      " 4   primary_cleaner_output_tail_au                       14149 non-null  float64\n",
      " 5   rougher_calculation_sulfate_to_au_concentrate        14148 non-null  float64\n",
      " 6   rougher_calculation_floatbank_10_sulfate_to_au_feed  14148 non-null  float64\n",
      " 7   rougher_calculation_floatbank_11_sulfate_to_au_feed  14148 non-null  float64\n",
      " 8   rougher_calculation_au_pb_ratio                      14149 non-null  float64\n",
      " 9   rougher_input_feed_au                                14149 non-null  float64\n",
      " 10  rougher_output_concentrate_au                        14149 non-null  float64\n",
      " 11  rougher_output_recovery                              14149 non-null  float64\n",
      " 12  rougher_output_tail_au                               14149 non-null  float64\n",
      " 13  secondary_cleaner_output_tail_au                     14149 non-null  float64\n",
      "dtypes: float64(14)\n",
      "memory usage: 1.5 MB\n"
     ]
    }
   ],
   "source": [
    "process.info()"
   ]
  },
  {
   "cell_type": "code",
   "execution_count": 20,
   "id": "3450e468",
   "metadata": {},
   "outputs": [
    {
     "data": {
      "text/html": [
       "<div>\n",
       "<style scoped>\n",
       "    .dataframe tbody tr th:only-of-type {\n",
       "        vertical-align: middle;\n",
       "    }\n",
       "\n",
       "    .dataframe tbody tr th {\n",
       "        vertical-align: top;\n",
       "    }\n",
       "\n",
       "    .dataframe thead th {\n",
       "        text-align: right;\n",
       "    }\n",
       "</style>\n",
       "<table border=\"1\" class=\"dataframe\">\n",
       "  <thead>\n",
       "    <tr style=\"text-align: right;\">\n",
       "      <th></th>\n",
       "      <th>0</th>\n",
       "      <th>1</th>\n",
       "      <th>2</th>\n",
       "      <th>3</th>\n",
       "      <th>4</th>\n",
       "    </tr>\n",
       "  </thead>\n",
       "  <tbody>\n",
       "    <tr>\n",
       "      <th>final_output_concentrate_au</th>\n",
       "      <td>42.192020</td>\n",
       "      <td>42.701629</td>\n",
       "      <td>42.657501</td>\n",
       "      <td>42.689819</td>\n",
       "      <td>42.774141</td>\n",
       "    </tr>\n",
       "    <tr>\n",
       "      <th>final_output_recovery</th>\n",
       "      <td>70.541216</td>\n",
       "      <td>69.266198</td>\n",
       "      <td>68.116445</td>\n",
       "      <td>68.347543</td>\n",
       "      <td>66.927016</td>\n",
       "    </tr>\n",
       "    <tr>\n",
       "      <th>final_output_tail_au</th>\n",
       "      <td>2.143149</td>\n",
       "      <td>2.224930</td>\n",
       "      <td>2.257889</td>\n",
       "      <td>2.146849</td>\n",
       "      <td>2.055292</td>\n",
       "    </tr>\n",
       "    <tr>\n",
       "      <th>primary_cleaner_output_concentrate_au</th>\n",
       "      <td>34.174427</td>\n",
       "      <td>34.118526</td>\n",
       "      <td>33.969464</td>\n",
       "      <td>28.260743</td>\n",
       "      <td>33.044932</td>\n",
       "    </tr>\n",
       "    <tr>\n",
       "      <th>primary_cleaner_output_tail_au</th>\n",
       "      <td>2.106679</td>\n",
       "      <td>2.353017</td>\n",
       "      <td>2.416800</td>\n",
       "      <td>2.262051</td>\n",
       "      <td>2.277073</td>\n",
       "    </tr>\n",
       "    <tr>\n",
       "      <th>rougher_calculation_sulfate_to_au_concentrate</th>\n",
       "      <td>41885.707031</td>\n",
       "      <td>42050.861809</td>\n",
       "      <td>42018.101184</td>\n",
       "      <td>42029.447991</td>\n",
       "      <td>42125.354245</td>\n",
       "    </tr>\n",
       "    <tr>\n",
       "      <th>rougher_calculation_floatbank_10_sulfate_to_au_feed</th>\n",
       "      <td>3481.779053</td>\n",
       "      <td>3498.370979</td>\n",
       "      <td>3495.348910</td>\n",
       "      <td>3498.578313</td>\n",
       "      <td>3494.800771</td>\n",
       "    </tr>\n",
       "    <tr>\n",
       "      <th>rougher_calculation_floatbank_11_sulfate_to_au_feed</th>\n",
       "      <td>3520.337158</td>\n",
       "      <td>3489.981857</td>\n",
       "      <td>3502.359819</td>\n",
       "      <td>3499.162912</td>\n",
       "      <td>3506.679315</td>\n",
       "    </tr>\n",
       "    <tr>\n",
       "      <th>rougher_calculation_au_pb_ratio</th>\n",
       "      <td>2.838687</td>\n",
       "      <td>2.858998</td>\n",
       "      <td>2.945989</td>\n",
       "      <td>3.002340</td>\n",
       "      <td>3.169615</td>\n",
       "    </tr>\n",
       "    <tr>\n",
       "      <th>rougher_input_feed_au</th>\n",
       "      <td>6.486150</td>\n",
       "      <td>6.478583</td>\n",
       "      <td>6.362222</td>\n",
       "      <td>6.118189</td>\n",
       "      <td>5.663707</td>\n",
       "    </tr>\n",
       "    <tr>\n",
       "      <th>rougher_output_concentrate_au</th>\n",
       "      <td>19.793808</td>\n",
       "      <td>20.050975</td>\n",
       "      <td>19.737170</td>\n",
       "      <td>19.320810</td>\n",
       "      <td>19.216101</td>\n",
       "    </tr>\n",
       "    <tr>\n",
       "      <th>rougher_output_recovery</th>\n",
       "      <td>87.107763</td>\n",
       "      <td>86.843261</td>\n",
       "      <td>86.842308</td>\n",
       "      <td>87.226430</td>\n",
       "      <td>86.688794</td>\n",
       "    </tr>\n",
       "    <tr>\n",
       "      <th>rougher_output_tail_au</th>\n",
       "      <td>1.170244</td>\n",
       "      <td>1.184827</td>\n",
       "      <td>1.162562</td>\n",
       "      <td>1.079755</td>\n",
       "      <td>1.012642</td>\n",
       "    </tr>\n",
       "    <tr>\n",
       "      <th>secondary_cleaner_output_tail_au</th>\n",
       "      <td>2.606185</td>\n",
       "      <td>2.488248</td>\n",
       "      <td>2.458187</td>\n",
       "      <td>2.322062</td>\n",
       "      <td>2.330448</td>\n",
       "    </tr>\n",
       "  </tbody>\n",
       "</table>\n",
       "</div>"
      ],
      "text/plain": [
       "                                                               0  \\\n",
       "final_output_concentrate_au                            42.192020   \n",
       "final_output_recovery                                  70.541216   \n",
       "final_output_tail_au                                    2.143149   \n",
       "primary_cleaner_output_concentrate_au                  34.174427   \n",
       "primary_cleaner_output_tail_au                          2.106679   \n",
       "rougher_calculation_sulfate_to_au_concentrate       41885.707031   \n",
       "rougher_calculation_floatbank_10_sulfate_to_au_...   3481.779053   \n",
       "rougher_calculation_floatbank_11_sulfate_to_au_...   3520.337158   \n",
       "rougher_calculation_au_pb_ratio                         2.838687   \n",
       "rougher_input_feed_au                                   6.486150   \n",
       "rougher_output_concentrate_au                          19.793808   \n",
       "rougher_output_recovery                                87.107763   \n",
       "rougher_output_tail_au                                  1.170244   \n",
       "secondary_cleaner_output_tail_au                        2.606185   \n",
       "\n",
       "                                                               1  \\\n",
       "final_output_concentrate_au                            42.701629   \n",
       "final_output_recovery                                  69.266198   \n",
       "final_output_tail_au                                    2.224930   \n",
       "primary_cleaner_output_concentrate_au                  34.118526   \n",
       "primary_cleaner_output_tail_au                          2.353017   \n",
       "rougher_calculation_sulfate_to_au_concentrate       42050.861809   \n",
       "rougher_calculation_floatbank_10_sulfate_to_au_...   3498.370979   \n",
       "rougher_calculation_floatbank_11_sulfate_to_au_...   3489.981857   \n",
       "rougher_calculation_au_pb_ratio                         2.858998   \n",
       "rougher_input_feed_au                                   6.478583   \n",
       "rougher_output_concentrate_au                          20.050975   \n",
       "rougher_output_recovery                                86.843261   \n",
       "rougher_output_tail_au                                  1.184827   \n",
       "secondary_cleaner_output_tail_au                        2.488248   \n",
       "\n",
       "                                                               2  \\\n",
       "final_output_concentrate_au                            42.657501   \n",
       "final_output_recovery                                  68.116445   \n",
       "final_output_tail_au                                    2.257889   \n",
       "primary_cleaner_output_concentrate_au                  33.969464   \n",
       "primary_cleaner_output_tail_au                          2.416800   \n",
       "rougher_calculation_sulfate_to_au_concentrate       42018.101184   \n",
       "rougher_calculation_floatbank_10_sulfate_to_au_...   3495.348910   \n",
       "rougher_calculation_floatbank_11_sulfate_to_au_...   3502.359819   \n",
       "rougher_calculation_au_pb_ratio                         2.945989   \n",
       "rougher_input_feed_au                                   6.362222   \n",
       "rougher_output_concentrate_au                          19.737170   \n",
       "rougher_output_recovery                                86.842308   \n",
       "rougher_output_tail_au                                  1.162562   \n",
       "secondary_cleaner_output_tail_au                        2.458187   \n",
       "\n",
       "                                                               3             4  \n",
       "final_output_concentrate_au                            42.689819     42.774141  \n",
       "final_output_recovery                                  68.347543     66.927016  \n",
       "final_output_tail_au                                    2.146849      2.055292  \n",
       "primary_cleaner_output_concentrate_au                  28.260743     33.044932  \n",
       "primary_cleaner_output_tail_au                          2.262051      2.277073  \n",
       "rougher_calculation_sulfate_to_au_concentrate       42029.447991  42125.354245  \n",
       "rougher_calculation_floatbank_10_sulfate_to_au_...   3498.578313   3494.800771  \n",
       "rougher_calculation_floatbank_11_sulfate_to_au_...   3499.162912   3506.679315  \n",
       "rougher_calculation_au_pb_ratio                         3.002340      3.169615  \n",
       "rougher_input_feed_au                                   6.118189      5.663707  \n",
       "rougher_output_concentrate_au                          19.320810     19.216101  \n",
       "rougher_output_recovery                                87.226430     86.688794  \n",
       "rougher_output_tail_au                                  1.079755      1.012642  \n",
       "secondary_cleaner_output_tail_au                        2.322062      2.330448  "
      ]
     },
     "execution_count": 20,
     "metadata": {},
     "output_type": "execute_result"
    }
   ],
   "source": [
    "process.head().T"
   ]
  },
  {
   "cell_type": "code",
   "execution_count": 21,
   "id": "39cb7ac4",
   "metadata": {},
   "outputs": [],
   "source": [
    "# функция для расчета эффективности\n",
    "def rec(f: float, c: float, t: float) -> float:\n",
    "    \"\"\"\n",
    "    Функция принимает на фход \n",
    "    f — доля золота в концентрате после флотации/очистки;\n",
    "    c — доля золота в сырье/концентрате до флотации/очистки;\n",
    "    t — доля золота в отвальных хвостах после флотации/очистки.\n",
    "    \n",
    "    возвращает Эффективность обогащения в процентах\n",
    "    \"\"\"\n",
    "    return 100 * (c * (f - t)) / (f * (c - t))\n"
   ]
  },
  {
   "cell_type": "code",
   "execution_count": 22,
   "id": "37f142e0",
   "metadata": {},
   "outputs": [],
   "source": [
    "# расчет для флотации\n",
    "\n",
    "f_r = process.loc[0, 'rougher_input_feed_au']\n",
    "c_r = process.loc[0, 'rougher_output_concentrate_au']\n",
    "t_r = process.loc[0, 'rougher_output_tail_au']\n",
    "\n",
    "rec_r = rec(f_r, c_r, t_r)"
   ]
  },
  {
   "cell_type": "code",
   "execution_count": 23,
   "id": "554a819f",
   "metadata": {
    "scrolled": true
   },
   "outputs": [
    {
     "data": {
      "text/plain": [
       "87.10776292825425"
      ]
     },
     "metadata": {},
     "output_type": "display_data"
    },
    {
     "data": {
      "text/plain": [
       "87.10776292825425"
      ]
     },
     "metadata": {},
     "output_type": "display_data"
    }
   ],
   "source": [
    "display(rec_r, process.loc[0, 'rougher_output_recovery'])"
   ]
  },
  {
   "cell_type": "code",
   "execution_count": 24,
   "id": "d8bf6a44",
   "metadata": {},
   "outputs": [],
   "source": [
    "# расчет общей эффективности\n",
    "\n",
    "f_fin = process.loc[0, 'rougher_input_feed_au']\n",
    "c_fin = process.loc[0, 'final_output_concentrate_au']\n",
    "t_fin = process.loc[0, 'final_output_tail_au']\n",
    "\n",
    "rec_fin = rec(f_fin, c_fin, t_fin)"
   ]
  },
  {
   "cell_type": "code",
   "execution_count": 25,
   "id": "4d728d5e",
   "metadata": {},
   "outputs": [
    {
     "data": {
      "text/plain": [
       "70.54121591421571"
      ]
     },
     "execution_count": 25,
     "metadata": {},
     "output_type": "execute_result"
    }
   ],
   "source": [
    "rec_fin"
   ]
  },
  {
   "cell_type": "markdown",
   "id": "3001df7b",
   "metadata": {},
   "source": [
    "### Проверка MAE"
   ]
  },
  {
   "cell_type": "code",
   "execution_count": 26,
   "id": "97dea182",
   "metadata": {},
   "outputs": [],
   "source": [
    "# adding new column with ccalsulation to test dataset\n",
    "df_train['rougher_calculation_check_output_recovery'] = df_train.apply(\n",
    "    lambda row: rec(row['rougher_input_feed_au'], \n",
    "                    row['rougher_output_concentrate_au'], \n",
    "                   row['rougher_output_tail_au']), axis=1)\n"
   ]
  },
  {
   "cell_type": "code",
   "execution_count": 27,
   "id": "84ba0692",
   "metadata": {},
   "outputs": [
    {
     "data": {
      "text/plain": [
       "0        87.107763\n",
       "1        86.843261\n",
       "2        86.842308\n",
       "3        87.226430\n",
       "4        86.688794\n",
       "           ...    \n",
       "14144    89.574376\n",
       "14145    87.724007\n",
       "14146    88.890579\n",
       "14147    89.858126\n",
       "14148    89.514960\n",
       "Name: rougher_calculation_check_output_recovery, Length: 14149, dtype: float64"
      ]
     },
     "execution_count": 27,
     "metadata": {},
     "output_type": "execute_result"
    }
   ],
   "source": [
    "df_train['rougher_calculation_check_output_recovery']"
   ]
  },
  {
   "cell_type": "code",
   "execution_count": 28,
   "id": "f09d70a7",
   "metadata": {},
   "outputs": [
    {
     "data": {
      "text/plain": [
       "1.1131451184435918e-14"
      ]
     },
     "execution_count": 28,
     "metadata": {},
     "output_type": "execute_result"
    }
   ],
   "source": [
    "# calculating mae for train dataset\n",
    "err = mae(df_train['rougher_output_recovery'], df_train['rougher_calculation_check_output_recovery'])\n",
    "err"
   ]
  },
  {
   "cell_type": "markdown",
   "id": "e33d47e6",
   "metadata": {},
   "source": [
    "Вывод: ошибка незначительна, вычисления верны."
   ]
  },
  {
   "cell_type": "markdown",
   "id": "4f2a06fd",
   "metadata": {},
   "source": [
    "<div class=\"alert alert-success\">\n",
    "<h2> Комментарий ревьюера <a class=\"tocSkip\"> </h2>\n",
    "\n",
    "<b>Все отлично!👍:</b> Оценили `MAE` между исходным и расчётным значением эффективности обогащения и убедились, что эффективность обогащения рассчитана правильно - отлично!\n",
    "</div>"
   ]
  },
  {
   "cell_type": "markdown",
   "id": "12812664",
   "metadata": {},
   "source": [
    "### Анализ признаков для тестовой выборки"
   ]
  },
  {
   "cell_type": "code",
   "execution_count": 29,
   "id": "70be1000",
   "metadata": {},
   "outputs": [],
   "source": [
    "# comparing sets of columns\n",
    "\n",
    "fetures_exluded = set(df_full.columns) - set(df_test.columns)"
   ]
  },
  {
   "cell_type": "code",
   "execution_count": 30,
   "id": "9314b075",
   "metadata": {},
   "outputs": [
    {
     "data": {
      "text/plain": [
       "{'final_output_concentrate_ag',\n",
       " 'final_output_concentrate_au',\n",
       " 'final_output_concentrate_pb',\n",
       " 'final_output_concentrate_sol',\n",
       " 'final_output_recovery',\n",
       " 'final_output_tail_ag',\n",
       " 'final_output_tail_au',\n",
       " 'final_output_tail_pb',\n",
       " 'final_output_tail_sol',\n",
       " 'primary_cleaner_output_concentrate_ag',\n",
       " 'primary_cleaner_output_concentrate_au',\n",
       " 'primary_cleaner_output_concentrate_pb',\n",
       " 'primary_cleaner_output_concentrate_sol',\n",
       " 'primary_cleaner_output_tail_ag',\n",
       " 'primary_cleaner_output_tail_au',\n",
       " 'primary_cleaner_output_tail_pb',\n",
       " 'primary_cleaner_output_tail_sol',\n",
       " 'rougher_calculation_au_pb_ratio',\n",
       " 'rougher_calculation_floatbank_10_sulfate_to_au_feed',\n",
       " 'rougher_calculation_floatbank_11_sulfate_to_au_feed',\n",
       " 'rougher_calculation_sulfate_to_au_concentrate',\n",
       " 'rougher_output_concentrate_ag',\n",
       " 'rougher_output_concentrate_au',\n",
       " 'rougher_output_concentrate_pb',\n",
       " 'rougher_output_concentrate_sol',\n",
       " 'rougher_output_recovery',\n",
       " 'rougher_output_tail_ag',\n",
       " 'rougher_output_tail_au',\n",
       " 'rougher_output_tail_pb',\n",
       " 'rougher_output_tail_sol',\n",
       " 'secondary_cleaner_output_tail_ag',\n",
       " 'secondary_cleaner_output_tail_au',\n",
       " 'secondary_cleaner_output_tail_pb',\n",
       " 'secondary_cleaner_output_tail_sol'}"
      ]
     },
     "execution_count": 30,
     "metadata": {},
     "output_type": "execute_result"
    }
   ],
   "source": [
    "fetures_exluded"
   ]
  },
  {
   "cell_type": "markdown",
   "id": "e2811032",
   "metadata": {},
   "source": [
    "Вывод: из тестовой выборки исключены признаки выходов и расчетов."
   ]
  },
  {
   "cell_type": "markdown",
   "id": "15117cc1",
   "metadata": {},
   "source": [
    "<div class=\"alert alert-success\">\n",
    "<h2> Комментарий ревьюера <a class=\"tocSkip\"> </h2>\n",
    "\n",
    "<b>Все отлично!👍:</b> Проанализировали разницу в признаках между выборками.\n",
    "</div>"
   ]
  },
  {
   "cell_type": "markdown",
   "id": "6581908a",
   "metadata": {},
   "source": [
    "<div class=\"alert alert-block alert-danger\">\n",
    "<h2> Комментарий ревьюера <a class=\"tocSkip\"></h2>\n",
    "\n",
    "    \n",
    "<b>На доработку❌:</b>\n",
    "Как думаешь, почему часть признаков из `train` недоступна в `test`?\n",
    "</div>"
   ]
  },
  {
   "cell_type": "markdown",
   "id": "d6c5986c",
   "metadata": {},
   "source": [
    "<div class=\"alert alert-info\">\n",
    "<h2> Комментарий студента <a class=\"tocSkip\"> </h2>\n",
    "\n",
    "Признаки из теста будут доступны для модели в работе. Остальные нет.\n",
    " </div>"
   ]
  },
  {
   "cell_type": "markdown",
   "id": "e5307dd6",
   "metadata": {},
   "source": [
    "### Предобработка данных"
   ]
  },
  {
   "cell_type": "markdown",
   "id": "dd30c242",
   "metadata": {},
   "source": [
    "В ходе этого этапа мы дополним тестовые данные таргетом и проведем обработку пропусков."
   ]
  },
  {
   "cell_type": "code",
   "execution_count": 31,
   "id": "f4c763e7",
   "metadata": {},
   "outputs": [],
   "source": [
    "# transform column 'date' into datetime\n",
    "df_full['date'] = pd.to_datetime(df_full['date'])\n",
    "df_train['date'] = pd.to_datetime(df_train['date'])\n",
    "df_test['date'] = pd.to_datetime(df_test['date'])"
   ]
  },
  {
   "cell_type": "code",
   "execution_count": 32,
   "id": "3f2ba96c",
   "metadata": {},
   "outputs": [],
   "source": [
    "df_full.set_index('date', inplace=True)\n",
    "df_test.set_index('date', inplace=True)\n",
    "df_train.set_index('date', inplace=True)"
   ]
  },
  {
   "cell_type": "code",
   "execution_count": 33,
   "id": "20b481fd",
   "metadata": {},
   "outputs": [
    {
     "data": {
      "text/html": [
       "<div>\n",
       "<style scoped>\n",
       "    .dataframe tbody tr th:only-of-type {\n",
       "        vertical-align: middle;\n",
       "    }\n",
       "\n",
       "    .dataframe tbody tr th {\n",
       "        vertical-align: top;\n",
       "    }\n",
       "\n",
       "    .dataframe thead th {\n",
       "        text-align: right;\n",
       "    }\n",
       "</style>\n",
       "<table border=\"1\" class=\"dataframe\">\n",
       "  <thead>\n",
       "    <tr style=\"text-align: right;\">\n",
       "      <th></th>\n",
       "      <th>final_output_concentrate_ag</th>\n",
       "      <th>final_output_concentrate_pb</th>\n",
       "      <th>final_output_concentrate_sol</th>\n",
       "      <th>final_output_concentrate_au</th>\n",
       "      <th>final_output_recovery</th>\n",
       "      <th>final_output_tail_ag</th>\n",
       "      <th>final_output_tail_pb</th>\n",
       "      <th>final_output_tail_sol</th>\n",
       "      <th>final_output_tail_au</th>\n",
       "      <th>primary_cleaner_input_sulfate</th>\n",
       "      <th>...</th>\n",
       "      <th>secondary_cleaner_state_floatbank_4_a_air</th>\n",
       "      <th>secondary_cleaner_state_floatbank_4_a_level</th>\n",
       "      <th>secondary_cleaner_state_floatbank_4_b_air</th>\n",
       "      <th>secondary_cleaner_state_floatbank_4_b_level</th>\n",
       "      <th>secondary_cleaner_state_floatbank_5_a_air</th>\n",
       "      <th>secondary_cleaner_state_floatbank_5_a_level</th>\n",
       "      <th>secondary_cleaner_state_floatbank_5_b_air</th>\n",
       "      <th>secondary_cleaner_state_floatbank_5_b_level</th>\n",
       "      <th>secondary_cleaner_state_floatbank_6_a_air</th>\n",
       "      <th>secondary_cleaner_state_floatbank_6_a_level</th>\n",
       "    </tr>\n",
       "    <tr>\n",
       "      <th>date</th>\n",
       "      <th></th>\n",
       "      <th></th>\n",
       "      <th></th>\n",
       "      <th></th>\n",
       "      <th></th>\n",
       "      <th></th>\n",
       "      <th></th>\n",
       "      <th></th>\n",
       "      <th></th>\n",
       "      <th></th>\n",
       "      <th></th>\n",
       "      <th></th>\n",
       "      <th></th>\n",
       "      <th></th>\n",
       "      <th></th>\n",
       "      <th></th>\n",
       "      <th></th>\n",
       "      <th></th>\n",
       "      <th></th>\n",
       "      <th></th>\n",
       "      <th></th>\n",
       "    </tr>\n",
       "  </thead>\n",
       "  <tbody>\n",
       "    <tr>\n",
       "      <th>2016-01-15 00:00:00</th>\n",
       "      <td>6.055403</td>\n",
       "      <td>9.889648</td>\n",
       "      <td>5.507324</td>\n",
       "      <td>42.192020</td>\n",
       "      <td>70.541216</td>\n",
       "      <td>10.411962</td>\n",
       "      <td>0.895447</td>\n",
       "      <td>16.904297</td>\n",
       "      <td>2.143149</td>\n",
       "      <td>127.092003</td>\n",
       "      <td>...</td>\n",
       "      <td>14.016835</td>\n",
       "      <td>-502.488007</td>\n",
       "      <td>12.099931</td>\n",
       "      <td>-504.715942</td>\n",
       "      <td>9.925633</td>\n",
       "      <td>-498.310211</td>\n",
       "      <td>8.079666</td>\n",
       "      <td>-500.470978</td>\n",
       "      <td>14.151341</td>\n",
       "      <td>-605.841980</td>\n",
       "    </tr>\n",
       "    <tr>\n",
       "      <th>2016-01-15 01:00:00</th>\n",
       "      <td>6.029369</td>\n",
       "      <td>9.968944</td>\n",
       "      <td>5.257781</td>\n",
       "      <td>42.701629</td>\n",
       "      <td>69.266198</td>\n",
       "      <td>10.462676</td>\n",
       "      <td>0.927452</td>\n",
       "      <td>16.634514</td>\n",
       "      <td>2.224930</td>\n",
       "      <td>125.629232</td>\n",
       "      <td>...</td>\n",
       "      <td>13.992281</td>\n",
       "      <td>-505.503262</td>\n",
       "      <td>11.950531</td>\n",
       "      <td>-501.331529</td>\n",
       "      <td>10.039245</td>\n",
       "      <td>-500.169983</td>\n",
       "      <td>7.984757</td>\n",
       "      <td>-500.582168</td>\n",
       "      <td>13.998353</td>\n",
       "      <td>-599.787184</td>\n",
       "    </tr>\n",
       "    <tr>\n",
       "      <th>2016-01-15 02:00:00</th>\n",
       "      <td>6.055926</td>\n",
       "      <td>10.213995</td>\n",
       "      <td>5.383759</td>\n",
       "      <td>42.657501</td>\n",
       "      <td>68.116445</td>\n",
       "      <td>10.507046</td>\n",
       "      <td>0.953716</td>\n",
       "      <td>16.208849</td>\n",
       "      <td>2.257889</td>\n",
       "      <td>123.819808</td>\n",
       "      <td>...</td>\n",
       "      <td>14.015015</td>\n",
       "      <td>-502.520901</td>\n",
       "      <td>11.912783</td>\n",
       "      <td>-501.133383</td>\n",
       "      <td>10.070913</td>\n",
       "      <td>-500.129135</td>\n",
       "      <td>8.013877</td>\n",
       "      <td>-500.517572</td>\n",
       "      <td>14.028663</td>\n",
       "      <td>-601.427363</td>\n",
       "    </tr>\n",
       "    <tr>\n",
       "      <th>2016-01-15 03:00:00</th>\n",
       "      <td>6.047977</td>\n",
       "      <td>9.977019</td>\n",
       "      <td>4.858634</td>\n",
       "      <td>42.689819</td>\n",
       "      <td>68.347543</td>\n",
       "      <td>10.422762</td>\n",
       "      <td>0.883763</td>\n",
       "      <td>16.532835</td>\n",
       "      <td>2.146849</td>\n",
       "      <td>122.270188</td>\n",
       "      <td>...</td>\n",
       "      <td>14.036510</td>\n",
       "      <td>-500.857308</td>\n",
       "      <td>11.999550</td>\n",
       "      <td>-501.193686</td>\n",
       "      <td>9.970366</td>\n",
       "      <td>-499.201640</td>\n",
       "      <td>7.977324</td>\n",
       "      <td>-500.255908</td>\n",
       "      <td>14.005551</td>\n",
       "      <td>-599.996129</td>\n",
       "    </tr>\n",
       "    <tr>\n",
       "      <th>2016-01-15 04:00:00</th>\n",
       "      <td>6.148599</td>\n",
       "      <td>10.142511</td>\n",
       "      <td>4.939416</td>\n",
       "      <td>42.774141</td>\n",
       "      <td>66.927016</td>\n",
       "      <td>10.360302</td>\n",
       "      <td>0.792826</td>\n",
       "      <td>16.525686</td>\n",
       "      <td>2.055292</td>\n",
       "      <td>117.988169</td>\n",
       "      <td>...</td>\n",
       "      <td>14.027298</td>\n",
       "      <td>-499.838632</td>\n",
       "      <td>11.953070</td>\n",
       "      <td>-501.053894</td>\n",
       "      <td>9.925709</td>\n",
       "      <td>-501.686727</td>\n",
       "      <td>7.894242</td>\n",
       "      <td>-500.356035</td>\n",
       "      <td>13.996647</td>\n",
       "      <td>-601.496691</td>\n",
       "    </tr>\n",
       "  </tbody>\n",
       "</table>\n",
       "<p>5 rows × 86 columns</p>\n",
       "</div>"
      ],
      "text/plain": [
       "                     final_output_concentrate_ag  final_output_concentrate_pb  \\\n",
       "date                                                                            \n",
       "2016-01-15 00:00:00                     6.055403                     9.889648   \n",
       "2016-01-15 01:00:00                     6.029369                     9.968944   \n",
       "2016-01-15 02:00:00                     6.055926                    10.213995   \n",
       "2016-01-15 03:00:00                     6.047977                     9.977019   \n",
       "2016-01-15 04:00:00                     6.148599                    10.142511   \n",
       "\n",
       "                     final_output_concentrate_sol  \\\n",
       "date                                                \n",
       "2016-01-15 00:00:00                      5.507324   \n",
       "2016-01-15 01:00:00                      5.257781   \n",
       "2016-01-15 02:00:00                      5.383759   \n",
       "2016-01-15 03:00:00                      4.858634   \n",
       "2016-01-15 04:00:00                      4.939416   \n",
       "\n",
       "                     final_output_concentrate_au  final_output_recovery  \\\n",
       "date                                                                      \n",
       "2016-01-15 00:00:00                    42.192020              70.541216   \n",
       "2016-01-15 01:00:00                    42.701629              69.266198   \n",
       "2016-01-15 02:00:00                    42.657501              68.116445   \n",
       "2016-01-15 03:00:00                    42.689819              68.347543   \n",
       "2016-01-15 04:00:00                    42.774141              66.927016   \n",
       "\n",
       "                     final_output_tail_ag  final_output_tail_pb  \\\n",
       "date                                                              \n",
       "2016-01-15 00:00:00             10.411962              0.895447   \n",
       "2016-01-15 01:00:00             10.462676              0.927452   \n",
       "2016-01-15 02:00:00             10.507046              0.953716   \n",
       "2016-01-15 03:00:00             10.422762              0.883763   \n",
       "2016-01-15 04:00:00             10.360302              0.792826   \n",
       "\n",
       "                     final_output_tail_sol  final_output_tail_au  \\\n",
       "date                                                               \n",
       "2016-01-15 00:00:00              16.904297              2.143149   \n",
       "2016-01-15 01:00:00              16.634514              2.224930   \n",
       "2016-01-15 02:00:00              16.208849              2.257889   \n",
       "2016-01-15 03:00:00              16.532835              2.146849   \n",
       "2016-01-15 04:00:00              16.525686              2.055292   \n",
       "\n",
       "                     primary_cleaner_input_sulfate  ...  \\\n",
       "date                                                ...   \n",
       "2016-01-15 00:00:00                     127.092003  ...   \n",
       "2016-01-15 01:00:00                     125.629232  ...   \n",
       "2016-01-15 02:00:00                     123.819808  ...   \n",
       "2016-01-15 03:00:00                     122.270188  ...   \n",
       "2016-01-15 04:00:00                     117.988169  ...   \n",
       "\n",
       "                     secondary_cleaner_state_floatbank_4_a_air  \\\n",
       "date                                                             \n",
       "2016-01-15 00:00:00                                  14.016835   \n",
       "2016-01-15 01:00:00                                  13.992281   \n",
       "2016-01-15 02:00:00                                  14.015015   \n",
       "2016-01-15 03:00:00                                  14.036510   \n",
       "2016-01-15 04:00:00                                  14.027298   \n",
       "\n",
       "                     secondary_cleaner_state_floatbank_4_a_level  \\\n",
       "date                                                               \n",
       "2016-01-15 00:00:00                                  -502.488007   \n",
       "2016-01-15 01:00:00                                  -505.503262   \n",
       "2016-01-15 02:00:00                                  -502.520901   \n",
       "2016-01-15 03:00:00                                  -500.857308   \n",
       "2016-01-15 04:00:00                                  -499.838632   \n",
       "\n",
       "                     secondary_cleaner_state_floatbank_4_b_air  \\\n",
       "date                                                             \n",
       "2016-01-15 00:00:00                                  12.099931   \n",
       "2016-01-15 01:00:00                                  11.950531   \n",
       "2016-01-15 02:00:00                                  11.912783   \n",
       "2016-01-15 03:00:00                                  11.999550   \n",
       "2016-01-15 04:00:00                                  11.953070   \n",
       "\n",
       "                     secondary_cleaner_state_floatbank_4_b_level  \\\n",
       "date                                                               \n",
       "2016-01-15 00:00:00                                  -504.715942   \n",
       "2016-01-15 01:00:00                                  -501.331529   \n",
       "2016-01-15 02:00:00                                  -501.133383   \n",
       "2016-01-15 03:00:00                                  -501.193686   \n",
       "2016-01-15 04:00:00                                  -501.053894   \n",
       "\n",
       "                     secondary_cleaner_state_floatbank_5_a_air  \\\n",
       "date                                                             \n",
       "2016-01-15 00:00:00                                   9.925633   \n",
       "2016-01-15 01:00:00                                  10.039245   \n",
       "2016-01-15 02:00:00                                  10.070913   \n",
       "2016-01-15 03:00:00                                   9.970366   \n",
       "2016-01-15 04:00:00                                   9.925709   \n",
       "\n",
       "                     secondary_cleaner_state_floatbank_5_a_level  \\\n",
       "date                                                               \n",
       "2016-01-15 00:00:00                                  -498.310211   \n",
       "2016-01-15 01:00:00                                  -500.169983   \n",
       "2016-01-15 02:00:00                                  -500.129135   \n",
       "2016-01-15 03:00:00                                  -499.201640   \n",
       "2016-01-15 04:00:00                                  -501.686727   \n",
       "\n",
       "                     secondary_cleaner_state_floatbank_5_b_air  \\\n",
       "date                                                             \n",
       "2016-01-15 00:00:00                                   8.079666   \n",
       "2016-01-15 01:00:00                                   7.984757   \n",
       "2016-01-15 02:00:00                                   8.013877   \n",
       "2016-01-15 03:00:00                                   7.977324   \n",
       "2016-01-15 04:00:00                                   7.894242   \n",
       "\n",
       "                     secondary_cleaner_state_floatbank_5_b_level  \\\n",
       "date                                                               \n",
       "2016-01-15 00:00:00                                  -500.470978   \n",
       "2016-01-15 01:00:00                                  -500.582168   \n",
       "2016-01-15 02:00:00                                  -500.517572   \n",
       "2016-01-15 03:00:00                                  -500.255908   \n",
       "2016-01-15 04:00:00                                  -500.356035   \n",
       "\n",
       "                     secondary_cleaner_state_floatbank_6_a_air  \\\n",
       "date                                                             \n",
       "2016-01-15 00:00:00                                  14.151341   \n",
       "2016-01-15 01:00:00                                  13.998353   \n",
       "2016-01-15 02:00:00                                  14.028663   \n",
       "2016-01-15 03:00:00                                  14.005551   \n",
       "2016-01-15 04:00:00                                  13.996647   \n",
       "\n",
       "                     secondary_cleaner_state_floatbank_6_a_level  \n",
       "date                                                              \n",
       "2016-01-15 00:00:00                                  -605.841980  \n",
       "2016-01-15 01:00:00                                  -599.787184  \n",
       "2016-01-15 02:00:00                                  -601.427363  \n",
       "2016-01-15 03:00:00                                  -599.996129  \n",
       "2016-01-15 04:00:00                                  -601.496691  \n",
       "\n",
       "[5 rows x 86 columns]"
      ]
     },
     "execution_count": 33,
     "metadata": {},
     "output_type": "execute_result"
    }
   ],
   "source": [
    "df_full.head()"
   ]
  },
  {
   "cell_type": "code",
   "execution_count": 34,
   "id": "73b96a89",
   "metadata": {},
   "outputs": [],
   "source": [
    "# adding target to the test dataset\n",
    "df_test[['rougher_output_recovery','final_output_recovery' ]] = \\\n",
    "df_full[['rougher_output_recovery','final_output_recovery' ]]"
   ]
  },
  {
   "cell_type": "code",
   "execution_count": 35,
   "id": "628b099e",
   "metadata": {},
   "outputs": [
    {
     "name": "stdout",
     "output_type": "stream",
     "text": [
      "<class 'pandas.core.frame.DataFrame'>\n",
      "DatetimeIndex: 5290 entries, 2016-09-01 00:59:59 to 2017-12-31 23:59:59\n",
      "Data columns (total 54 columns):\n",
      " #   Column                                       Non-Null Count  Dtype  \n",
      "---  ------                                       --------------  -----  \n",
      " 0   primary_cleaner_input_sulfate                5286 non-null   float64\n",
      " 1   primary_cleaner_input_depressant             5285 non-null   float64\n",
      " 2   primary_cleaner_input_feed_size              5290 non-null   float64\n",
      " 3   primary_cleaner_input_xanthate               5286 non-null   float64\n",
      " 4   primary_cleaner_state_floatbank_8_a_air      5290 non-null   float64\n",
      " 5   primary_cleaner_state_floatbank_8_a_level    5290 non-null   float64\n",
      " 6   primary_cleaner_state_floatbank_8_b_air      5290 non-null   float64\n",
      " 7   primary_cleaner_state_floatbank_8_b_level    5290 non-null   float64\n",
      " 8   primary_cleaner_state_floatbank_8_c_air      5290 non-null   float64\n",
      " 9   primary_cleaner_state_floatbank_8_c_level    5290 non-null   float64\n",
      " 10  primary_cleaner_state_floatbank_8_d_air      5290 non-null   float64\n",
      " 11  primary_cleaner_state_floatbank_8_d_level    5290 non-null   float64\n",
      " 12  rougher_input_feed_ag                        5290 non-null   float64\n",
      " 13  rougher_input_feed_pb                        5290 non-null   float64\n",
      " 14  rougher_input_feed_rate                      5287 non-null   float64\n",
      " 15  rougher_input_feed_size                      5289 non-null   float64\n",
      " 16  rougher_input_feed_sol                       5269 non-null   float64\n",
      " 17  rougher_input_feed_au                        5290 non-null   float64\n",
      " 18  rougher_input_floatbank_10_sulfate           5285 non-null   float64\n",
      " 19  rougher_input_floatbank_10_xanthate          5290 non-null   float64\n",
      " 20  rougher_input_floatbank_11_sulfate           5282 non-null   float64\n",
      " 21  rougher_input_floatbank_11_xanthate          5265 non-null   float64\n",
      " 22  rougher_state_floatbank_10_a_air             5290 non-null   float64\n",
      " 23  rougher_state_floatbank_10_a_level           5290 non-null   float64\n",
      " 24  rougher_state_floatbank_10_b_air             5290 non-null   float64\n",
      " 25  rougher_state_floatbank_10_b_level           5290 non-null   float64\n",
      " 26  rougher_state_floatbank_10_c_air             5290 non-null   float64\n",
      " 27  rougher_state_floatbank_10_c_level           5290 non-null   float64\n",
      " 28  rougher_state_floatbank_10_d_air             5290 non-null   float64\n",
      " 29  rougher_state_floatbank_10_d_level           5290 non-null   float64\n",
      " 30  rougher_state_floatbank_10_e_air             5290 non-null   float64\n",
      " 31  rougher_state_floatbank_10_e_level           5290 non-null   float64\n",
      " 32  rougher_state_floatbank_10_f_air             5290 non-null   float64\n",
      " 33  rougher_state_floatbank_10_f_level           5290 non-null   float64\n",
      " 34  secondary_cleaner_state_floatbank_2_a_air    5287 non-null   float64\n",
      " 35  secondary_cleaner_state_floatbank_2_a_level  5290 non-null   float64\n",
      " 36  secondary_cleaner_state_floatbank_2_b_air    5288 non-null   float64\n",
      " 37  secondary_cleaner_state_floatbank_2_b_level  5290 non-null   float64\n",
      " 38  secondary_cleaner_state_floatbank_3_a_air    5281 non-null   float64\n",
      " 39  secondary_cleaner_state_floatbank_3_a_level  5290 non-null   float64\n",
      " 40  secondary_cleaner_state_floatbank_3_b_air    5290 non-null   float64\n",
      " 41  secondary_cleaner_state_floatbank_3_b_level  5290 non-null   float64\n",
      " 42  secondary_cleaner_state_floatbank_4_a_air    5290 non-null   float64\n",
      " 43  secondary_cleaner_state_floatbank_4_a_level  5290 non-null   float64\n",
      " 44  secondary_cleaner_state_floatbank_4_b_air    5290 non-null   float64\n",
      " 45  secondary_cleaner_state_floatbank_4_b_level  5290 non-null   float64\n",
      " 46  secondary_cleaner_state_floatbank_5_a_air    5290 non-null   float64\n",
      " 47  secondary_cleaner_state_floatbank_5_a_level  5290 non-null   float64\n",
      " 48  secondary_cleaner_state_floatbank_5_b_air    5290 non-null   float64\n",
      " 49  secondary_cleaner_state_floatbank_5_b_level  5290 non-null   float64\n",
      " 50  secondary_cleaner_state_floatbank_6_a_air    5290 non-null   float64\n",
      " 51  secondary_cleaner_state_floatbank_6_a_level  5290 non-null   float64\n",
      " 52  rougher_output_recovery                      5290 non-null   float64\n",
      " 53  final_output_recovery                        5290 non-null   float64\n",
      "dtypes: float64(54)\n",
      "memory usage: 2.2 MB\n"
     ]
    }
   ],
   "source": [
    "df_test.info()"
   ]
  },
  {
   "cell_type": "markdown",
   "id": "56a9fb71",
   "metadata": {},
   "source": [
    "<div class=\"alert alert-success\">\n",
    "<h2> Комментарий ревьюера <a class=\"tocSkip\"> </h2>\n",
    "\n",
    "<b>Все отлично!👍:</b> Добавили в тестовую выборку целевые признаки по индексу-дате - отлично!\n",
    "</div>"
   ]
  },
  {
   "cell_type": "markdown",
   "id": "2398cb63",
   "metadata": {},
   "source": [
    "#### Обработка выбросов"
   ]
  },
  {
   "cell_type": "code",
   "execution_count": 48,
   "id": "54b3f254",
   "metadata": {},
   "outputs": [],
   "source": [
    "col = ['rougher_input_feed_au', \n",
    "         'rougher_output_concentrate_au', \n",
    "         'primary_cleaner_output_concentrate_au', \n",
    "         'final_output_concentrate_au',\n",
    "      'rougher_input_feed_ag', \n",
    "         'rougher_output_concentrate_ag', \n",
    "         'primary_cleaner_output_concentrate_ag', \n",
    "         'final_output_concentrate_ag',\n",
    "      'rougher_input_feed_pb', \n",
    "         'rougher_output_concentrate_pb', \n",
    "         'primary_cleaner_output_concentrate_pb', \n",
    "         'final_output_concentrate_pb']\n",
    "for i in col:\n",
    "    df_full = df_full[df_full[i] > 1]\n",
    "    df_train = df_train[df_train[i] > 1]"
   ]
  },
  {
   "cell_type": "code",
   "execution_count": 49,
   "id": "4025e799",
   "metadata": {},
   "outputs": [],
   "source": [
    "col = ['rougher_input_feed_au', \n",
    "      'rougher_input_feed_ag', \n",
    "      'rougher_input_feed_pb']\n",
    "for i in col:\n",
    "    df_test = df_test[df_test[i] > 1]"
   ]
  },
  {
   "cell_type": "code",
   "execution_count": 50,
   "id": "edcebe16",
   "metadata": {
    "scrolled": true
   },
   "outputs": [
    {
     "data": {
      "image/png": "[encoded data removed]",
      "text/plain": [
       "<Figure size 640x480 with 2 Axes>"
      ]
     },
     "metadata": {},
     "output_type": "display_data"
    }
   ],
   "source": [
    "[[ax1, ax2]] = a[['rougher_output_recovery', 'final_output_recovery']].hist(bins=100)\n",
    "plt.ylabel('Частота признака')\n",
    "plt.suptitle('Гистограмма распределения целевых переменных')\n",
    "plt.show()"
   ]
  },
  {
   "cell_type": "code",
   "execution_count": 51,
   "id": "b96a3c2a",
   "metadata": {},
   "outputs": [
    {
     "data": {
      "image/png": "[encoded data removed]",
      "text/plain": [
       "<Figure size 640x480 with 1 Axes>"
      ]
     },
     "metadata": {},
     "output_type": "display_data"
    }
   ],
   "source": [
    "plt.hist(a.rougher_input_feed_au, color='c', bins=100, label='Сырье')\n",
    "plt.hist(a.rougher_output_concentrate_au, color='g', bins=100, label='Флотатор')\n",
    "plt.hist(a.primary_cleaner_output_concentrate_au, color='r', bins=100, label='Первичная очистка')\n",
    "plt.hist(a.final_output_concentrate_au, color='b', bins=100, label=\"Вторичная очистка\")\n",
    "plt.legend(loc=2)\n",
    "plt.xlabel('Концентрация, %')\n",
    "plt.ylabel('Частота признака')\n",
    "plt.title('Концентрация золота по этапам')\n",
    "plt.show()"
   ]
  },
  {
   "cell_type": "markdown",
   "id": "190c7f00",
   "metadata": {},
   "source": [
    "#### Готовим датасет для обучения"
   ]
  },
  {
   "cell_type": "code",
   "execution_count": 52,
   "id": "3f824911",
   "metadata": {},
   "outputs": [],
   "source": [
    "\n",
    "X = df_train[df_test.columns]\n",
    "X_features = X.drop(['rougher_output_recovery','final_output_recovery' ], axis=1)\n",
    "X_target_r = X['rougher_output_recovery']\n",
    "X_target_f = X['final_output_recovery' ]"
   ]
  },
  {
   "cell_type": "code",
   "execution_count": 53,
   "id": "efbc3581",
   "metadata": {},
   "outputs": [
    {
     "data": {
      "text/plain": [
       "(13332, 52)"
      ]
     },
     "execution_count": 53,
     "metadata": {},
     "output_type": "execute_result"
    }
   ],
   "source": [
    "X_features.shape"
   ]
  },
  {
   "cell_type": "code",
   "execution_count": 54,
   "id": "7a166e93",
   "metadata": {},
   "outputs": [
    {
     "data": {
      "text/plain": [
       "(13332,)"
      ]
     },
     "execution_count": 54,
     "metadata": {},
     "output_type": "execute_result"
    }
   ],
   "source": [
    "X_target_f.shape"
   ]
  },
  {
   "cell_type": "code",
   "execution_count": 55,
   "id": "a8483f3c",
   "metadata": {},
   "outputs": [],
   "source": [
    "# подготовим тестовый датасет\n",
    "Y_features = df_test.drop(['rougher_output_recovery','final_output_recovery' ], axis=1)\n",
    "Y_target_r = df_test['rougher_output_recovery']\n",
    "Y_target_f = df_test['final_output_recovery']"
   ]
  },
  {
   "cell_type": "code",
   "execution_count": 56,
   "id": "47cfc56f",
   "metadata": {},
   "outputs": [
    {
     "data": {
      "text/plain": [
       "(5276, 52)"
      ]
     },
     "execution_count": 56,
     "metadata": {},
     "output_type": "execute_result"
    }
   ],
   "source": [
    "Y_features.shape"
   ]
  },
  {
   "cell_type": "code",
   "execution_count": 57,
   "id": "927e24ab",
   "metadata": {},
   "outputs": [
    {
     "data": {
      "text/plain": [
       "(5276,)"
      ]
     },
     "execution_count": 57,
     "metadata": {},
     "output_type": "execute_result"
    }
   ],
   "source": [
    "Y_target_r.shape"
   ]
  },
  {
   "cell_type": "markdown",
   "id": "b3908fa0",
   "metadata": {},
   "source": [
    "<div class=\"alert alert-success\">\n",
    "<h2> Комментарий ревьюера <a class=\"tocSkip\"> </h2>\n",
    "\n",
    "<b>Все отлично!👍:</b> Синхронизировали выборки по набору признаков, а также выделили признаки для обучения и целевой признак - отлично!\n",
    "</div>"
   ]
  },
  {
   "cell_type": "markdown",
   "id": "bd818a67",
   "metadata": {},
   "source": [
    "Поскольку по условию задачи соседние данные часто похожи заполним пропуски соседними значениями."
   ]
  },
  {
   "cell_type": "code",
   "execution_count": 58,
   "id": "bc36d8ce",
   "metadata": {},
   "outputs": [],
   "source": [
    "X_features.fillna(method='ffill', inplace=True)\n",
    "Y_features.fillna(method='ffill', inplace=True)"
   ]
  },
  {
   "cell_type": "code",
   "execution_count": 59,
   "id": "a408f9f2",
   "metadata": {},
   "outputs": [
    {
     "data": {
      "text/plain": [
       "0"
      ]
     },
     "execution_count": 59,
     "metadata": {},
     "output_type": "execute_result"
    }
   ],
   "source": [
    "X_features[X_features.isna()].count().sum()"
   ]
  },
  {
   "cell_type": "code",
   "execution_count": 60,
   "id": "ee03d589",
   "metadata": {},
   "outputs": [
    {
     "data": {
      "text/plain": [
       "0"
      ]
     },
     "execution_count": 60,
     "metadata": {},
     "output_type": "execute_result"
    }
   ],
   "source": [
    "Y_features[Y_features.isna()].count().sum()"
   ]
  },
  {
   "cell_type": "markdown",
   "id": "a70dd52f",
   "metadata": {},
   "source": [
    "Вывод:\n",
    "\n",
    "В ходе обзора и бработки данных были выявлены и устранены недостатки в данных, проверен расчет эффективности процесса флотации. В тестовую выборку были добавлены целевые признаки."
   ]
  },
  {
   "cell_type": "markdown",
   "id": "fa12b587",
   "metadata": {},
   "source": [
    "<div class=\"alert alert-success\">\n",
    "<h2> Комментарий ревьюера <a class=\"tocSkip\"> </h2>\n",
    "\n",
    "<b>Все отлично!👍:</b> Обработали пропуски с помощью стратегии заполнения `forward fill`, а также пояснили причину выбора такой стратегии - отлично!\n",
    "</div>"
   ]
  },
  {
   "cell_type": "markdown",
   "id": "d7082960",
   "metadata": {},
   "source": [
    "<div class=\"alert alert-warning\">\n",
    "    <h2> Комментарий ревьюера <a class=\"tocSkip\"> </h2>\n",
    "    \n",
    "<b>Некоторые замечания и рекомендации⚠️:</b> \n",
    "\n",
    "Здесь заканчивается стрктурный блок работы - стоит делать промежуточные выводы о проделанной работе, это довольно полезная практика, которая имеет большую ценность для получателя отчёта.\n",
    "        \n",
    "Достаточно будет двух-трёх тезисных предложений об основных шагах и полученных выводах.\n",
    "        \n",
    "</div>"
   ]
  },
  {
   "cell_type": "markdown",
   "id": "687a2938",
   "metadata": {},
   "source": [
    "<div class=\"alert alert-info\">\n",
    "<h2> Комментарий студента <a class=\"tocSkip\"> </h2>\n",
    "\n",
    "Добавил вывод.\n",
    " </div>"
   ]
  },
  {
   "cell_type": "markdown",
   "id": "2bff9f9e",
   "metadata": {},
   "source": [
    "## Анализ данных"
   ]
  },
  {
   "cell_type": "markdown",
   "id": "f97a04b7",
   "metadata": {},
   "source": [
    "### Анализ концентрации металлов"
   ]
  },
  {
   "cell_type": "markdown",
   "id": "228773c5",
   "metadata": {},
   "source": [
    "Посмотрим, как меняется концентрация металлов (Au, Ag, Pb) на различных этапах очистки."
   ]
  },
  {
   "cell_type": "code",
   "execution_count": 61,
   "id": "92134db5",
   "metadata": {},
   "outputs": [],
   "source": [
    "concentrate = pd.DataFrame(data={\n",
    "    'Au': [df_full.rougher_input_feed_au.mean(),\n",
    "           df_full.rougher_output_concentrate_au.mean(), \n",
    "        df_full.primary_cleaner_output_concentrate_au.mean(),\n",
    "        df_full.final_output_concentrate_au.mean()],\n",
    "    'Ag': [df_full.rougher_input_feed_ag.mean(),\n",
    "        df_full.rougher_output_concentrate_ag.mean(), \n",
    "        df_full.primary_cleaner_output_concentrate_ag.mean(),\n",
    "        df_full.final_output_concentrate_ag.mean()],\n",
    "    'Pb': [df_full.rougher_input_feed_pb.mean(),\n",
    "           df_full.rougher_output_concentrate_pb.mean(), \n",
    "        df_full.primary_cleaner_output_concentrate_pb.mean(),\n",
    "        df_full.final_output_concentrate_pb.mean()]},\n",
    "                           index=['feed',\n",
    "                                  'rougher', \n",
    "                                 'primary',\n",
    "                                 'final'])"
   ]
  },
  {
   "cell_type": "code",
   "execution_count": 62,
   "id": "17936ebe",
   "metadata": {},
   "outputs": [
    {
     "data": {
      "text/html": [
       "<div>\n",
       "<style scoped>\n",
       "    .dataframe tbody tr th:only-of-type {\n",
       "        vertical-align: middle;\n",
       "    }\n",
       "\n",
       "    .dataframe tbody tr th {\n",
       "        vertical-align: top;\n",
       "    }\n",
       "\n",
       "    .dataframe thead th {\n",
       "        text-align: right;\n",
       "    }\n",
       "</style>\n",
       "<table border=\"1\" class=\"dataframe\">\n",
       "  <thead>\n",
       "    <tr style=\"text-align: right;\">\n",
       "      <th></th>\n",
       "      <th>Au</th>\n",
       "      <th>Ag</th>\n",
       "      <th>Pb</th>\n",
       "    </tr>\n",
       "  </thead>\n",
       "  <tbody>\n",
       "    <tr>\n",
       "      <th>feed</th>\n",
       "      <td>8.324804</td>\n",
       "      <td>8.818893</td>\n",
       "      <td>3.614690</td>\n",
       "    </tr>\n",
       "    <tr>\n",
       "      <th>rougher</th>\n",
       "      <td>20.236697</td>\n",
       "      <td>12.222408</td>\n",
       "      <td>7.798347</td>\n",
       "    </tr>\n",
       "    <tr>\n",
       "      <th>primary</th>\n",
       "      <td>32.519757</td>\n",
       "      <td>8.587402</td>\n",
       "      <td>9.993993</td>\n",
       "    </tr>\n",
       "    <tr>\n",
       "      <th>final</th>\n",
       "      <td>44.380532</td>\n",
       "      <td>5.194289</td>\n",
       "      <td>10.077441</td>\n",
       "    </tr>\n",
       "  </tbody>\n",
       "</table>\n",
       "</div>"
      ],
      "text/plain": [
       "                Au         Ag         Pb\n",
       "feed      8.324804   8.818893   3.614690\n",
       "rougher  20.236697  12.222408   7.798347\n",
       "primary  32.519757   8.587402   9.993993\n",
       "final    44.380532   5.194289  10.077441"
      ]
     },
     "execution_count": 62,
     "metadata": {},
     "output_type": "execute_result"
    }
   ],
   "source": [
    "concentrate"
   ]
  },
  {
   "cell_type": "code",
   "execution_count": 63,
   "id": "187ea226",
   "metadata": {
    "scrolled": true
   },
   "outputs": [
    {
     "data": {
      "image/png": "[encoded data removed]",
      "text/plain": [
       "<Figure size 640x480 with 1 Axes>"
      ]
     },
     "metadata": {},
     "output_type": "display_data"
    }
   ],
   "source": [
    "plt.hist(df_full.rougher_input_feed_au, color='c', bins=100, label='Сырье')\n",
    "plt.hist(df_full.rougher_output_concentrate_au, color='g', bins=100, label='Флотатор')\n",
    "plt.hist(df_full.primary_cleaner_output_concentrate_au, color='r', bins=100, label='Первичная очистка')\n",
    "plt.hist(df_full.final_output_concentrate_au, color='b', bins=100, label=\"Вторичная очистка\")\n",
    "plt.legend(loc=2)\n",
    "plt.xlabel('Концентрация, %')\n",
    "plt.ylabel('Частота признака')\n",
    "plt.title('Концентрация золота по этапам')\n",
    "plt.show()"
   ]
  },
  {
   "cell_type": "code",
   "execution_count": 64,
   "id": "07fae498",
   "metadata": {},
   "outputs": [
    {
     "data": {
      "image/png": "[encoded data removed]",
      "text/plain": [
       "<Figure size 640x480 with 1 Axes>"
      ]
     },
     "metadata": {},
     "output_type": "display_data"
    }
   ],
   "source": [
    "plt.hist(df_full.rougher_input_feed_ag, color='y', bins=100, histtype='step', label='Сырье')\n",
    "plt.hist(df_full.rougher_output_concentrate_ag, color='g', bins=100, label='Флотатор')\n",
    "plt.hist(df_full.primary_cleaner_output_concentrate_ag, color='r', bins=100, label='Первичная очистка')\n",
    "plt.hist(df_full.final_output_concentrate_ag, color='b', bins=100, label=\"Вторичная очистка\")\n",
    "plt.legend(loc=1)\n",
    "plt.xlabel('Концентрация, %')\n",
    "plt.ylabel('Частота признака')\n",
    "plt.title('Концентрация серебра по этапам')\n",
    "plt.show()"
   ]
  },
  {
   "cell_type": "code",
   "execution_count": 65,
   "id": "7c064dc3",
   "metadata": {},
   "outputs": [
    {
     "data": {
      "image/png": "[encoded data removed]",
      "text/plain": [
       "<Figure size 640x480 with 1 Axes>"
      ]
     },
     "metadata": {},
     "output_type": "display_data"
    }
   ],
   "source": [
    "plt.hist(df_full.rougher_input_feed_pb, color='c', bins=100, label='Сырье')\n",
    "plt.hist(df_full.rougher_output_concentrate_pb, color='g', bins=100, label='Флотатор')\n",
    "plt.hist(df_full.primary_cleaner_output_concentrate_pb, color='r', bins=100, label='Первичная очистка')\n",
    "plt.hist(df_full.final_output_concentrate_pb, color='b', bins=100,  histtype='step', label=\"Вторичная очистка\")\n",
    "plt.legend(loc=2)\n",
    "plt.xlabel('Концентрация, %')\n",
    "plt.ylabel('Частота признака')\n",
    "plt.title('Концентрация свинца по этапам')\n",
    "plt.show()"
   ]
  },
  {
   "cell_type": "markdown",
   "id": "0ce18643",
   "metadata": {},
   "source": [
    "Вывод: концентрация золота растет при движении по этапам; концентрация серебра не имеет зависимости при движении по этапам; концентрация свинца на первой и второй очистке практически одинакова и больше чем после флотатора."
   ]
  },
  {
   "cell_type": "markdown",
   "id": "ed2985d0",
   "metadata": {},
   "source": [
    "<div class=\"alert alert-success\">\n",
    "<h2> Комментарий ревьюера <a class=\"tocSkip\"> </h2>\n",
    "\n",
    "<b>Все отлично!👍:</b> Исследована концентрация металлов на разных стадиях обработки, проанализирована динамика концентрации в зависимости от этапа техпроцесса - отлично, тут всё верно.\n",
    "</div>"
   ]
  },
  {
   "cell_type": "markdown",
   "id": "28b020c1",
   "metadata": {},
   "source": [
    "<div class=\"alert alert-block alert-danger\">\n",
    "<h2> Комментарий ревьюера <a class=\"tocSkip\"></h2>\n",
    "\n",
    "    \n",
    "<b>На доработку❌:</b>\n",
    "Концентрация металлов также доступна на этапе `rougher.input.feed_металл` - стоит добавить этот этап в исследование. \n",
    "    \n",
    "Также нужно подписать оси X и Y.\n",
    "</div>"
   ]
  },
  {
   "cell_type": "markdown",
   "id": "9636a232",
   "metadata": {},
   "source": [
    "<div class=\"alert alert-info\">\n",
    "<h2> Комментарий студента <a class=\"tocSkip\"> </h2>\n",
    "\n",
    "Обновил графики.\n",
    " </div>"
   ]
  },
  {
   "cell_type": "markdown",
   "id": "0cdfd46a",
   "metadata": {},
   "source": [
    "### Анализ распределения гранул"
   ]
  },
  {
   "cell_type": "markdown",
   "id": "6e4b2153",
   "metadata": {},
   "source": [
    "Рассмотрим распределения размеров гранул сырья на обучающей и тестовой выборках. Если распределения сильно отличаются друг от друга, оценка модели будет неправильной."
   ]
  },
  {
   "cell_type": "code",
   "execution_count": 66,
   "id": "337ca82b",
   "metadata": {
    "scrolled": true
   },
   "outputs": [
    {
     "data": {
      "image/png": "[encoded data removed]",
      "text/plain": [
       "<Figure size 640x480 with 1 Axes>"
      ]
     },
     "metadata": {},
     "output_type": "display_data"
    }
   ],
   "source": [
    "plt.hist(df_test.rougher_input_feed_size, color='g', bins=100)\n",
    "plt.hist(df_train.rougher_input_feed_size, color='r', bins=100, histtype='step')\n",
    "plt.legend(['Train','Test'],loc=2)\n",
    "plt.xlabel('Размер гранул')\n",
    "plt.ylabel('Частота признака')\n",
    "plt.title('Гистограмма размера гранул в сырье')\n",
    "plt.show()"
   ]
  },
  {
   "cell_type": "code",
   "execution_count": 67,
   "id": "8404ac4b",
   "metadata": {
    "scrolled": true
   },
   "outputs": [
    {
     "data": {
      "image/png": "[encoded data removed]",
      "text/plain": [
       "<Figure size 640x480 with 1 Axes>"
      ]
     },
     "metadata": {},
     "output_type": "display_data"
    }
   ],
   "source": [
    "plt.hist(df_test.primary_cleaner_input_feed_size, color='g', bins=100)\n",
    "plt.hist(df_train.primary_cleaner_input_feed_size, color='r', bins=100, histtype='step')\n",
    "plt.legend(['Train','Test'],loc=2)\n",
    "plt.xlabel('Размер гранул')\n",
    "plt.ylabel('Частота признака')\n",
    "plt.title('Гистограмма размера гранул на первичной очистке')\n",
    "plt.show()"
   ]
  },
  {
   "cell_type": "markdown",
   "id": "c032b1e8",
   "metadata": {},
   "source": [
    "Проверим гипотезу о оравенстве размеров гранул.\n",
    "Нулевая гипотеза - Средние размеры гранул в тестовой и тренировочной выборках равны."
   ]
  },
  {
   "cell_type": "code",
   "execution_count": 68,
   "id": "5fa8ddac",
   "metadata": {},
   "outputs": [
    {
     "name": "stdout",
     "output_type": "stream",
     "text": [
      "p-значение:  5.672422609050474e-31\n"
     ]
    }
   ],
   "source": [
    "results = stats.ttest_ind(df_test.rougher_input_feed_size, \n",
    "                          df_train.rougher_input_feed_size, \n",
    "                          equal_var = True,\n",
    "                         nan_policy='omit')\n",
    "\n",
    "print('p-значение: ', results.pvalue)"
   ]
  },
  {
   "cell_type": "markdown",
   "id": "afea609e",
   "metadata": {},
   "source": [
    "Значение Pvalue меньше 0,05 - нулевая гипотеза отвергается."
   ]
  },
  {
   "cell_type": "code",
   "execution_count": 69,
   "id": "207edc7d",
   "metadata": {
    "scrolled": false
   },
   "outputs": [
    {
     "name": "stdout",
     "output_type": "stream",
     "text": [
      "p-значение:  2.9201872719236696e-12\n"
     ]
    }
   ],
   "source": [
    "results = stats.ttest_ind(df_test.primary_cleaner_input_feed_size, \n",
    "                          df_train.primary_cleaner_input_feed_size, \n",
    "                          equal_var = True,\n",
    "                         nan_policy='omit')\n",
    "\n",
    "print('p-значение: ', results.pvalue)"
   ]
  },
  {
   "cell_type": "markdown",
   "id": "f67e1490",
   "metadata": {},
   "source": [
    "Вывод: хотя мы отклонили нулевую гипотезу, \"на глаз\" выборки одинаковые. Остальное на совести составителей задания."
   ]
  },
  {
   "cell_type": "markdown",
   "id": "d65d2d42",
   "metadata": {},
   "source": [
    "<div class=\"alert alert-success\">\n",
    "<h2> Комментарий ревьюера <a class=\"tocSkip\"> </h2>\n",
    "\n",
    "<b>Все отлично!👍:</b> Сравнили размеры гранул сырья на обучающей и тесовой выборках для этапов `rougher.input.feed_size` и `primary_cleaner.input.feed_size` - отлично.\n",
    "    \n",
    "Круто, что подошёл к этому с точки зрения применение стат теста, а также отметил противоречивость результата по тесту и на глаз.\n",
    "    \n",
    "Дело здесь больше в том, что сам тест оценивает равенство средних с точки зрения дисперсии, и между группами она действительно отличается, но здесь важно иметь схожесть распределений, чем чёткое равенство средних. Кроме того, сами средние значения практически не отличаются, поэтому мы спокойно можем работать с имеющимися данными:)\n",
    "</div>"
   ]
  },
  {
   "cell_type": "markdown",
   "id": "b1ab171f",
   "metadata": {},
   "source": [
    "<div class=\"alert alert-block alert-danger\">\n",
    "<h2> Комментарий ревьюера <a class=\"tocSkip\"></h2>\n",
    "\n",
    "    \n",
    "<b>На доработку❌:</b>\n",
    "    \n",
    "На графике нужно подписать оси X и Y.\n",
    "</div>"
   ]
  },
  {
   "cell_type": "markdown",
   "id": "5ae41a5f",
   "metadata": {},
   "source": [
    "<div class=\"alert alert-info\">\n",
    "<h2> Комментарий студента <a class=\"tocSkip\"> </h2>\n",
    "\n",
    "Обновил графики.\n",
    " </div>"
   ]
  },
  {
   "cell_type": "markdown",
   "id": "32ea7249",
   "metadata": {},
   "source": [
    "### Исследование суммарной концентрации"
   ]
  },
  {
   "cell_type": "markdown",
   "id": "5541f1d9",
   "metadata": {},
   "source": [
    "Исследуем суммарную концентрацию всех веществ на разных стадиях: в сырье, в черновом и финальном концентратах."
   ]
  },
  {
   "cell_type": "code",
   "execution_count": 70,
   "id": "04ee2d54",
   "metadata": {},
   "outputs": [],
   "source": [
    "feed_conc = pd.Series(df_full.rougher_input_feed_ag + \n",
    "                      df_full.rougher_input_feed_au + \n",
    "                      df_full.rougher_input_feed_pb +  \n",
    "                      df_full.rougher_input_feed_sol)\n",
    "rougher_conc = pd.Series(df_full.rougher_output_concentrate_ag + \n",
    "                      df_full.rougher_output_concentrate_au + \n",
    "                      df_full.rougher_output_concentrate_pb +  \n",
    "                      df_full.rougher_output_concentrate_sol)\n",
    "final_conc = pd.Series(df_full.final_output_concentrate_ag + \n",
    "                      df_full.final_output_concentrate_au + \n",
    "                      df_full.final_output_concentrate_pb +  \n",
    "                      df_full.final_output_concentrate_sol)\n",
    "df_conc = pd.DataFrame(data={'feed': feed_conc,\n",
    "                            'rougher': rougher_conc,\n",
    "                             'final': final_conc})"
   ]
  },
  {
   "cell_type": "code",
   "execution_count": 71,
   "id": "0b1f7297",
   "metadata": {
    "scrolled": true
   },
   "outputs": [
    {
     "name": "stdout",
     "output_type": "stream",
     "text": [
      "<class 'pandas.core.frame.DataFrame'>\n",
      "DatetimeIndex: 18414 entries, 2016-01-15 00:00:00 to 2018-08-18 10:59:59\n",
      "Data columns (total 3 columns):\n",
      " #   Column   Non-Null Count  Dtype  \n",
      "---  ------   --------------  -----  \n",
      " 0   feed     18351 non-null  float64\n",
      " 1   rougher  18398 non-null  float64\n",
      " 2   final    18234 non-null  float64\n",
      "dtypes: float64(3)\n",
      "memory usage: 575.4 KB\n"
     ]
    }
   ],
   "source": [
    "df_conc.info()"
   ]
  },
  {
   "cell_type": "code",
   "execution_count": 72,
   "id": "1f53aec6",
   "metadata": {
    "scrolled": true
   },
   "outputs": [
    {
     "data": {
      "image/png": "[encoded data removed]",
      "text/plain": [
       "<Figure size 640x480 with 1 Axes>"
      ]
     },
     "metadata": {},
     "output_type": "display_data"
    }
   ],
   "source": [
    "plt.hist(df_conc.feed, color='g', bins=100)\n",
    "plt.hist(df_conc.rougher, color='r', bins=100)\n",
    "plt.hist(df_conc.final, color='b', bins=100, histtype='step')\n",
    "plt.legend(['Сырье','Черновой концентрат','Финальный концентрат'],loc=2)\n",
    "plt.title('Концентрация суммарная по этапам')\n",
    "plt.show()"
   ]
  },
  {
   "cell_type": "code",
   "execution_count": 73,
   "id": "8478988d",
   "metadata": {
    "scrolled": true
   },
   "outputs": [
    {
     "data": {
      "text/html": [
       "<div>\n",
       "<style scoped>\n",
       "    .dataframe tbody tr th:only-of-type {\n",
       "        vertical-align: middle;\n",
       "    }\n",
       "\n",
       "    .dataframe tbody tr th {\n",
       "        vertical-align: top;\n",
       "    }\n",
       "\n",
       "    .dataframe thead th {\n",
       "        text-align: right;\n",
       "    }\n",
       "</style>\n",
       "<table border=\"1\" class=\"dataframe\">\n",
       "  <thead>\n",
       "    <tr style=\"text-align: right;\">\n",
       "      <th></th>\n",
       "      <th>feed</th>\n",
       "      <th>rougher</th>\n",
       "      <th>final</th>\n",
       "    </tr>\n",
       "  </thead>\n",
       "  <tbody>\n",
       "    <tr>\n",
       "      <th>count</th>\n",
       "      <td>18351.000000</td>\n",
       "      <td>18398.000000</td>\n",
       "      <td>18234.000000</td>\n",
       "    </tr>\n",
       "    <tr>\n",
       "      <th>mean</th>\n",
       "      <td>57.530066</td>\n",
       "      <td>69.744270</td>\n",
       "      <td>69.258529</td>\n",
       "    </tr>\n",
       "    <tr>\n",
       "      <th>std</th>\n",
       "      <td>6.892533</td>\n",
       "      <td>7.446085</td>\n",
       "      <td>4.885011</td>\n",
       "    </tr>\n",
       "    <tr>\n",
       "      <th>min</th>\n",
       "      <td>10.936233</td>\n",
       "      <td>11.170072</td>\n",
       "      <td>15.130141</td>\n",
       "    </tr>\n",
       "    <tr>\n",
       "      <th>25%</th>\n",
       "      <td>53.725691</td>\n",
       "      <td>66.486737</td>\n",
       "      <td>68.038376</td>\n",
       "    </tr>\n",
       "    <tr>\n",
       "      <th>50%</th>\n",
       "      <td>57.697103</td>\n",
       "      <td>70.397728</td>\n",
       "      <td>69.679231</td>\n",
       "    </tr>\n",
       "    <tr>\n",
       "      <th>75%</th>\n",
       "      <td>62.044815</td>\n",
       "      <td>74.475700</td>\n",
       "      <td>71.429284</td>\n",
       "    </tr>\n",
       "    <tr>\n",
       "      <th>max</th>\n",
       "      <td>76.978947</td>\n",
       "      <td>87.273435</td>\n",
       "      <td>80.210644</td>\n",
       "    </tr>\n",
       "  </tbody>\n",
       "</table>\n",
       "</div>"
      ],
      "text/plain": [
       "               feed       rougher         final\n",
       "count  18351.000000  18398.000000  18234.000000\n",
       "mean      57.530066     69.744270     69.258529\n",
       "std        6.892533      7.446085      4.885011\n",
       "min       10.936233     11.170072     15.130141\n",
       "25%       53.725691     66.486737     68.038376\n",
       "50%       57.697103     70.397728     69.679231\n",
       "75%       62.044815     74.475700     71.429284\n",
       "max       76.978947     87.273435     80.210644"
      ]
     },
     "execution_count": 73,
     "metadata": {},
     "output_type": "execute_result"
    }
   ],
   "source": [
    "df_conc.describe()"
   ]
  },
  {
   "cell_type": "markdown",
   "id": "720bb203",
   "metadata": {},
   "source": [
    "Вывод: после флотатора концентрация веществ в сырье возрастает; в финальном концентрате наблюдается меньшая дисперсия, чем в черновом концентрате."
   ]
  },
  {
   "cell_type": "markdown",
   "id": "5807cbea",
   "metadata": {},
   "source": [
    "<div class=\"alert alert-success\">\n",
    "<h2> Комментарий ревьюера <a class=\"tocSkip\"> </h2>\n",
    "\n",
    "<b>Все отлично!👍:</b> Исследована суммарная концентрация металлов на разных стадиях техпроцесса - отлично!\n",
    "</div>"
   ]
  },
  {
   "cell_type": "markdown",
   "id": "a2009c08",
   "metadata": {},
   "source": [
    "<div class=\"alert alert-block alert-danger\">\n",
    "<h2> Комментарий ревьюера <a class=\"tocSkip\"></h2>\n",
    "\n",
    "    \n",
    "<b>На доработку❌:</b>\n",
    "Давай обратим внимание на левую часть оси Х - там мы можем наблюдать высокий столбик с нулевыми значениями. Как думаешь, имеет ли физический смысл нулевая концентрация металлов? Или, может, это аномалия, которую стоит удалить из данных?\n",
    "    \n",
    "Также на графике нужно подписать оси.\n",
    "</div>"
   ]
  },
  {
   "cell_type": "markdown",
   "id": "1e7e4fae",
   "metadata": {},
   "source": [
    "<div class=\"alert alert-warning\">\n",
    "    <h2> Комментарий ревьюера <a class=\"tocSkip\"> </h2>\n",
    "    \n",
    "<b>Некоторые замечания и рекомендации⚠️:</b> \n",
    "\n",
    "Здесь заканчивается стрктурный блок работы - стоит сделать промежуточные выводы о проделанной работе в блоке."
   ]
  },
  {
   "cell_type": "markdown",
   "id": "1b8dcb78",
   "metadata": {},
   "source": [
    "<div class=\"alert alert-info\">\n",
    "<h2> Комментарий студента <a class=\"tocSkip\"> </h2>\n",
    "\n",
    "Обновил графики. Добавил вывод.\n",
    " </div>"
   ]
  },
  {
   "cell_type": "markdown",
   "id": "2804b622",
   "metadata": {},
   "source": [
    "## Обучение модели"
   ]
  },
  {
   "cell_type": "markdown",
   "id": "055c3b6e",
   "metadata": {},
   "source": [
    "Сравним несколько моделей и выберем лучшую."
   ]
  },
  {
   "cell_type": "code",
   "execution_count": 75,
   "id": "b527d1e0",
   "metadata": {},
   "outputs": [],
   "source": [
    "# функция для расчета sMAPE\n",
    "\n",
    "def smape(true, pred):\n",
    "    \"\"\"\n",
    "    Функция для расчета sMAPE\n",
    "    Принимает массив целевых значений и массив предсказаний\n",
    "    Возвращает значение Symmetric Mean Absolute Percentage Error\n",
    "    \"\"\"\n",
    "    return 100 * 2 * (np.sum(np.abs(pred - true) / (np.abs(true) + np.abs(pred)))) / len(true)"
   ]
  },
  {
   "cell_type": "markdown",
   "id": "024715e6",
   "metadata": {},
   "source": [
    "<div class=\"alert alert-success\">\n",
    "<h2> Комментарий ревьюера <a class=\"tocSkip\"> </h2>\n",
    "\n",
    "<b>Все отлично!👍:</b> Есть функция для частного `sMAPE` - супер!\n",
    "</div>"
   ]
  },
  {
   "cell_type": "code",
   "execution_count": 76,
   "id": "1a2f94fc",
   "metadata": {},
   "outputs": [],
   "source": [
    "# оборачиваем функцию для передачи в кроссвалидатор\n",
    "\n",
    "smape_scorer = make_scorer(smape, greater_is_better=False)"
   ]
  },
  {
   "cell_type": "markdown",
   "id": "b28d7543",
   "metadata": {},
   "source": [
    "<div class=\"alert alert-success\">\n",
    "<h2> Комментарий ревьюера <a class=\"tocSkip\"> </h2>\n",
    "\n",
    "<b>Все отлично!👍:</b> Сделали скорринг для кросс-валидации - супер!\n",
    "</div>"
   ]
  },
  {
   "cell_type": "code",
   "execution_count": 77,
   "id": "19923140",
   "metadata": {
    "scrolled": true
   },
   "outputs": [
    {
     "data": {
      "text/html": [
       "<style>#sk-container-id-1 {color: black;background-color: white;}#sk-container-id-1 pre{padding: 0;}#sk-container-id-1 div.sk-toggleable {background-color: white;}#sk-container-id-1 label.sk-toggleable__label {cursor: pointer;display: block;width: 100%;margin-bottom: 0;padding: 0.3em;box-sizing: border-box;text-align: center;}#sk-container-id-1 label.sk-toggleable__label-arrow:before {content: \"▸\";float: left;margin-right: 0.25em;color: #696969;}#sk-container-id-1 label.sk-toggleable__label-arrow:hover:before {color: black;}#sk-container-id-1 div.sk-estimator:hover label.sk-toggleable__label-arrow:before {color: black;}#sk-container-id-1 div.sk-toggleable__content {max-height: 0;max-width: 0;overflow: hidden;text-align: left;background-color: #f0f8ff;}#sk-container-id-1 div.sk-toggleable__content pre {margin: 0.2em;color: black;border-radius: 0.25em;background-color: #f0f8ff;}#sk-container-id-1 input.sk-toggleable__control:checked~div.sk-toggleable__content {max-height: 200px;max-width: 100%;overflow: auto;}#sk-container-id-1 input.sk-toggleable__control:checked~label.sk-toggleable__label-arrow:before {content: \"▾\";}#sk-container-id-1 div.sk-estimator input.sk-toggleable__control:checked~label.sk-toggleable__label {background-color: #d4ebff;}#sk-container-id-1 div.sk-label input.sk-toggleable__control:checked~label.sk-toggleable__label {background-color: #d4ebff;}#sk-container-id-1 input.sk-hidden--visually {border: 0;clip: rect(1px 1px 1px 1px);clip: rect(1px, 1px, 1px, 1px);height: 1px;margin: -1px;overflow: hidden;padding: 0;position: absolute;width: 1px;}#sk-container-id-1 div.sk-estimator {font-family: monospace;background-color: #f0f8ff;border: 1px dotted black;border-radius: 0.25em;box-sizing: border-box;margin-bottom: 0.5em;}#sk-container-id-1 div.sk-estimator:hover {background-color: #d4ebff;}#sk-container-id-1 div.sk-parallel-item::after {content: \"\";width: 100%;border-bottom: 1px solid gray;flex-grow: 1;}#sk-container-id-1 div.sk-label:hover label.sk-toggleable__label {background-color: #d4ebff;}#sk-container-id-1 div.sk-serial::before {content: \"\";position: absolute;border-left: 1px solid gray;box-sizing: border-box;top: 0;bottom: 0;left: 50%;z-index: 0;}#sk-container-id-1 div.sk-serial {display: flex;flex-direction: column;align-items: center;background-color: white;padding-right: 0.2em;padding-left: 0.2em;position: relative;}#sk-container-id-1 div.sk-item {position: relative;z-index: 1;}#sk-container-id-1 div.sk-parallel {display: flex;align-items: stretch;justify-content: center;background-color: white;position: relative;}#sk-container-id-1 div.sk-item::before, #sk-container-id-1 div.sk-parallel-item::before {content: \"\";position: absolute;border-left: 1px solid gray;box-sizing: border-box;top: 0;bottom: 0;left: 50%;z-index: -1;}#sk-container-id-1 div.sk-parallel-item {display: flex;flex-direction: column;z-index: 1;position: relative;background-color: white;}#sk-container-id-1 div.sk-parallel-item:first-child::after {align-self: flex-end;width: 50%;}#sk-container-id-1 div.sk-parallel-item:last-child::after {align-self: flex-start;width: 50%;}#sk-container-id-1 div.sk-parallel-item:only-child::after {width: 0;}#sk-container-id-1 div.sk-dashed-wrapped {border: 1px dashed gray;margin: 0 0.4em 0.5em 0.4em;box-sizing: border-box;padding-bottom: 0.4em;background-color: white;}#sk-container-id-1 div.sk-label label {font-family: monospace;font-weight: bold;display: inline-block;line-height: 1.2em;}#sk-container-id-1 div.sk-label-container {text-align: center;}#sk-container-id-1 div.sk-container {/* jupyter's `normalize.less` sets `[hidden] { display: none; }` but bootstrap.min.css set `[hidden] { display: none !important; }` so we also need the `!important` here to be able to override the default hidden behavior on the sphinx rendered scikit-learn.org. See: https://github.com/scikit-learn/scikit-learn/issues/21755 */display: inline-block !important;position: relative;}#sk-container-id-1 div.sk-text-repr-fallback {display: none;}</style><div id=\"sk-container-id-1\" class=\"sk-top-container\"><div class=\"sk-text-repr-fallback\"><pre>Pipeline(steps=[(&#x27;scaler&#x27;, StandardScaler()), (&#x27;clf&#x27;, DummyRegressor())])</pre><b>In a Jupyter environment, please rerun this cell to show the HTML representation or trust the notebook. <br />On GitHub, the HTML representation is unable to render, please try loading this page with nbviewer.org.</b></div><div class=\"sk-container\" hidden><div class=\"sk-item sk-dashed-wrapped\"><div class=\"sk-label-container\"><div class=\"sk-label sk-toggleable\"><input class=\"sk-toggleable__control sk-hidden--visually\" id=\"sk-estimator-id-1\" type=\"checkbox\" ><label for=\"sk-estimator-id-1\" class=\"sk-toggleable__label sk-toggleable__label-arrow\">Pipeline</label><div class=\"sk-toggleable__content\"><pre>Pipeline(steps=[(&#x27;scaler&#x27;, StandardScaler()), (&#x27;clf&#x27;, DummyRegressor())])</pre></div></div></div><div class=\"sk-serial\"><div class=\"sk-item\"><div class=\"sk-estimator sk-toggleable\"><input class=\"sk-toggleable__control sk-hidden--visually\" id=\"sk-estimator-id-2\" type=\"checkbox\" ><label for=\"sk-estimator-id-2\" class=\"sk-toggleable__label sk-toggleable__label-arrow\">StandardScaler</label><div class=\"sk-toggleable__content\"><pre>StandardScaler()</pre></div></div></div><div class=\"sk-item\"><div class=\"sk-estimator sk-toggleable\"><input class=\"sk-toggleable__control sk-hidden--visually\" id=\"sk-estimator-id-3\" type=\"checkbox\" ><label for=\"sk-estimator-id-3\" class=\"sk-toggleable__label sk-toggleable__label-arrow\">DummyRegressor</label><div class=\"sk-toggleable__content\"><pre>DummyRegressor()</pre></div></div></div></div></div></div></div>"
      ],
      "text/plain": [
       "Pipeline(steps=[('scaler', StandardScaler()), ('clf', DummyRegressor())])"
      ]
     },
     "execution_count": 77,
     "metadata": {},
     "output_type": "execute_result"
    }
   ],
   "source": [
    "# скейлер обернем в пайплайн\n",
    "pipe = Pipeline([('scaler', StandardScaler()), ('clf', DummyRegressor())])\n",
    "pipe"
   ]
  },
  {
   "cell_type": "code",
   "execution_count": 99,
   "id": "25a2a530",
   "metadata": {},
   "outputs": [],
   "source": [
    "#зададим параметры для кроссвалидации\n",
    "\n",
    "params = [{\n",
    "    'clf': [LogisticRegression(random_state=42)],\n",
    "    'clf__solver': ['saga', 'liblinear'],\n",
    "    'clf__penalty': ['l2', 'l1'],\n",
    "    'clf__C': np.arange(0.1, 0.5, 0.05)  \n",
    "    },\n",
    "    {\n",
    "        'clf': [RandomForestRegressor(random_state=42)],\n",
    "        'clf__n_estimators': np.arange(5,200, 5),\n",
    "        'clf__max_depth': np.arange(3,20,2)\n",
    "    },\n",
    "    {\n",
    "        'clf': [KNeighborsRegressor()],\n",
    "        'clf__n_neighbors': np.arange(5, 50, 5)\n",
    "    }  \n",
    "\n",
    "]\n",
    "\n",
    "grid = RandomizedSearchCV(pipe,\n",
    "                    params,\n",
    "                    n_iter=50,\n",
    "                    cv=5,\n",
    "                    verbose=10,\n",
    "                    random_state=42,\n",
    "                    scoring=smape_scorer,\n",
    "                    n_jobs=-1)"
   ]
  },
  {
   "cell_type": "markdown",
   "id": "3eacd3e8",
   "metadata": {},
   "source": [
    "<div class=\"alert alert-success\">\n",
    "<h2> Комментарий ревьюера <a class=\"tocSkip\"> </h2>\n",
    "\n",
    "<b>Все отлично!👍:</b> Крутая настройка `RandomizedSearchCV`! Здорово, что работаешь с `Pipeline`.\n",
    "</div>"
   ]
  },
  {
   "cell_type": "code",
   "execution_count": 100,
   "id": "0ec4423d",
   "metadata": {
    "scrolled": true
   },
   "outputs": [
    {
     "name": "stdout",
     "output_type": "stream",
     "text": [
      "Fitting 5 folds for each of 50 candidates, totalling 250 fits\n",
      "CPU times: total: 21.8 s\n",
      "Wall time: 15min 45s\n"
     ]
    }
   ],
   "source": [
    "%%time\n",
    "rougher_grid = grid.fit(X_features, X_target_r)"
   ]
  },
  {
   "cell_type": "code",
   "execution_count": 103,
   "id": "b9eac25b",
   "metadata": {
    "scrolled": false
   },
   "outputs": [
    {
     "name": "stdout",
     "output_type": "stream",
     "text": [
      "Fitting 5 folds for each of 50 candidates, totalling 250 fits\n",
      "CPU times: total: 10.6 s\n",
      "Wall time: 16min 37s\n"
     ]
    }
   ],
   "source": [
    "%%time\n",
    "final_grid = grid.fit(X_features, X_target_f)"
   ]
  },
  {
   "cell_type": "code",
   "execution_count": 101,
   "id": "910bc82d",
   "metadata": {
    "scrolled": true
   },
   "outputs": [
    {
     "name": "stdout",
     "output_type": "stream",
     "text": [
      "6.010210581300046\n"
     ]
    }
   ],
   "source": [
    "print(-rougher_grid.best_score_)"
   ]
  },
  {
   "cell_type": "code",
   "execution_count": 104,
   "id": "a3db39c3",
   "metadata": {
    "scrolled": false
   },
   "outputs": [
    {
     "name": "stdout",
     "output_type": "stream",
     "text": [
      "8.42821375852745\n"
     ]
    }
   ],
   "source": [
    "print(-final_grid.best_score_)"
   ]
  },
  {
   "cell_type": "code",
   "execution_count": 102,
   "id": "1407d795",
   "metadata": {
    "scrolled": true
   },
   "outputs": [
    {
     "data": {
      "text/html": [
       "<style>#sk-container-id-4 {color: black;background-color: white;}#sk-container-id-4 pre{padding: 0;}#sk-container-id-4 div.sk-toggleable {background-color: white;}#sk-container-id-4 label.sk-toggleable__label {cursor: pointer;display: block;width: 100%;margin-bottom: 0;padding: 0.3em;box-sizing: border-box;text-align: center;}#sk-container-id-4 label.sk-toggleable__label-arrow:before {content: \"▸\";float: left;margin-right: 0.25em;color: #696969;}#sk-container-id-4 label.sk-toggleable__label-arrow:hover:before {color: black;}#sk-container-id-4 div.sk-estimator:hover label.sk-toggleable__label-arrow:before {color: black;}#sk-container-id-4 div.sk-toggleable__content {max-height: 0;max-width: 0;overflow: hidden;text-align: left;background-color: #f0f8ff;}#sk-container-id-4 div.sk-toggleable__content pre {margin: 0.2em;color: black;border-radius: 0.25em;background-color: #f0f8ff;}#sk-container-id-4 input.sk-toggleable__control:checked~div.sk-toggleable__content {max-height: 200px;max-width: 100%;overflow: auto;}#sk-container-id-4 input.sk-toggleable__control:checked~label.sk-toggleable__label-arrow:before {content: \"▾\";}#sk-container-id-4 div.sk-estimator input.sk-toggleable__control:checked~label.sk-toggleable__label {background-color: #d4ebff;}#sk-container-id-4 div.sk-label input.sk-toggleable__control:checked~label.sk-toggleable__label {background-color: #d4ebff;}#sk-container-id-4 input.sk-hidden--visually {border: 0;clip: rect(1px 1px 1px 1px);clip: rect(1px, 1px, 1px, 1px);height: 1px;margin: -1px;overflow: hidden;padding: 0;position: absolute;width: 1px;}#sk-container-id-4 div.sk-estimator {font-family: monospace;background-color: #f0f8ff;border: 1px dotted black;border-radius: 0.25em;box-sizing: border-box;margin-bottom: 0.5em;}#sk-container-id-4 div.sk-estimator:hover {background-color: #d4ebff;}#sk-container-id-4 div.sk-parallel-item::after {content: \"\";width: 100%;border-bottom: 1px solid gray;flex-grow: 1;}#sk-container-id-4 div.sk-label:hover label.sk-toggleable__label {background-color: #d4ebff;}#sk-container-id-4 div.sk-serial::before {content: \"\";position: absolute;border-left: 1px solid gray;box-sizing: border-box;top: 0;bottom: 0;left: 50%;z-index: 0;}#sk-container-id-4 div.sk-serial {display: flex;flex-direction: column;align-items: center;background-color: white;padding-right: 0.2em;padding-left: 0.2em;position: relative;}#sk-container-id-4 div.sk-item {position: relative;z-index: 1;}#sk-container-id-4 div.sk-parallel {display: flex;align-items: stretch;justify-content: center;background-color: white;position: relative;}#sk-container-id-4 div.sk-item::before, #sk-container-id-4 div.sk-parallel-item::before {content: \"\";position: absolute;border-left: 1px solid gray;box-sizing: border-box;top: 0;bottom: 0;left: 50%;z-index: -1;}#sk-container-id-4 div.sk-parallel-item {display: flex;flex-direction: column;z-index: 1;position: relative;background-color: white;}#sk-container-id-4 div.sk-parallel-item:first-child::after {align-self: flex-end;width: 50%;}#sk-container-id-4 div.sk-parallel-item:last-child::after {align-self: flex-start;width: 50%;}#sk-container-id-4 div.sk-parallel-item:only-child::after {width: 0;}#sk-container-id-4 div.sk-dashed-wrapped {border: 1px dashed gray;margin: 0 0.4em 0.5em 0.4em;box-sizing: border-box;padding-bottom: 0.4em;background-color: white;}#sk-container-id-4 div.sk-label label {font-family: monospace;font-weight: bold;display: inline-block;line-height: 1.2em;}#sk-container-id-4 div.sk-label-container {text-align: center;}#sk-container-id-4 div.sk-container {/* jupyter's `normalize.less` sets `[hidden] { display: none; }` but bootstrap.min.css set `[hidden] { display: none !important; }` so we also need the `!important` here to be able to override the default hidden behavior on the sphinx rendered scikit-learn.org. See: https://github.com/scikit-learn/scikit-learn/issues/21755 */display: inline-block !important;position: relative;}#sk-container-id-4 div.sk-text-repr-fallback {display: none;}</style><div id=\"sk-container-id-4\" class=\"sk-top-container\"><div class=\"sk-text-repr-fallback\"><pre>Pipeline(steps=[(&#x27;scaler&#x27;, StandardScaler()),\n",
       "                (&#x27;clf&#x27;, RandomForestRegressor(max_depth=5, random_state=42))])</pre><b>In a Jupyter environment, please rerun this cell to show the HTML representation or trust the notebook. <br />On GitHub, the HTML representation is unable to render, please try loading this page with nbviewer.org.</b></div><div class=\"sk-container\" hidden><div class=\"sk-item sk-dashed-wrapped\"><div class=\"sk-label-container\"><div class=\"sk-label sk-toggleable\"><input class=\"sk-toggleable__control sk-hidden--visually\" id=\"sk-estimator-id-10\" type=\"checkbox\" ><label for=\"sk-estimator-id-10\" class=\"sk-toggleable__label sk-toggleable__label-arrow\">Pipeline</label><div class=\"sk-toggleable__content\"><pre>Pipeline(steps=[(&#x27;scaler&#x27;, StandardScaler()),\n",
       "                (&#x27;clf&#x27;, RandomForestRegressor(max_depth=5, random_state=42))])</pre></div></div></div><div class=\"sk-serial\"><div class=\"sk-item\"><div class=\"sk-estimator sk-toggleable\"><input class=\"sk-toggleable__control sk-hidden--visually\" id=\"sk-estimator-id-11\" type=\"checkbox\" ><label for=\"sk-estimator-id-11\" class=\"sk-toggleable__label sk-toggleable__label-arrow\">StandardScaler</label><div class=\"sk-toggleable__content\"><pre>StandardScaler()</pre></div></div></div><div class=\"sk-item\"><div class=\"sk-estimator sk-toggleable\"><input class=\"sk-toggleable__control sk-hidden--visually\" id=\"sk-estimator-id-12\" type=\"checkbox\" ><label for=\"sk-estimator-id-12\" class=\"sk-toggleable__label sk-toggleable__label-arrow\">RandomForestRegressor</label><div class=\"sk-toggleable__content\"><pre>RandomForestRegressor(max_depth=5, random_state=42)</pre></div></div></div></div></div></div></div>"
      ],
      "text/plain": [
       "Pipeline(steps=[('scaler', StandardScaler()),\n",
       "                ('clf', RandomForestRegressor(max_depth=5, random_state=42))])"
      ]
     },
     "execution_count": 102,
     "metadata": {},
     "output_type": "execute_result"
    }
   ],
   "source": [
    "rougher_grid.best_estimator_"
   ]
  },
  {
   "cell_type": "code",
   "execution_count": 111,
   "id": "f18daf7b",
   "metadata": {
    "scrolled": true
   },
   "outputs": [
    {
     "data": {
      "text/html": [
       "<style>#sk-container-id-5 {color: black;background-color: white;}#sk-container-id-5 pre{padding: 0;}#sk-container-id-5 div.sk-toggleable {background-color: white;}#sk-container-id-5 label.sk-toggleable__label {cursor: pointer;display: block;width: 100%;margin-bottom: 0;padding: 0.3em;box-sizing: border-box;text-align: center;}#sk-container-id-5 label.sk-toggleable__label-arrow:before {content: \"▸\";float: left;margin-right: 0.25em;color: #696969;}#sk-container-id-5 label.sk-toggleable__label-arrow:hover:before {color: black;}#sk-container-id-5 div.sk-estimator:hover label.sk-toggleable__label-arrow:before {color: black;}#sk-container-id-5 div.sk-toggleable__content {max-height: 0;max-width: 0;overflow: hidden;text-align: left;background-color: #f0f8ff;}#sk-container-id-5 div.sk-toggleable__content pre {margin: 0.2em;color: black;border-radius: 0.25em;background-color: #f0f8ff;}#sk-container-id-5 input.sk-toggleable__control:checked~div.sk-toggleable__content {max-height: 200px;max-width: 100%;overflow: auto;}#sk-container-id-5 input.sk-toggleable__control:checked~label.sk-toggleable__label-arrow:before {content: \"▾\";}#sk-container-id-5 div.sk-estimator input.sk-toggleable__control:checked~label.sk-toggleable__label {background-color: #d4ebff;}#sk-container-id-5 div.sk-label input.sk-toggleable__control:checked~label.sk-toggleable__label {background-color: #d4ebff;}#sk-container-id-5 input.sk-hidden--visually {border: 0;clip: rect(1px 1px 1px 1px);clip: rect(1px, 1px, 1px, 1px);height: 1px;margin: -1px;overflow: hidden;padding: 0;position: absolute;width: 1px;}#sk-container-id-5 div.sk-estimator {font-family: monospace;background-color: #f0f8ff;border: 1px dotted black;border-radius: 0.25em;box-sizing: border-box;margin-bottom: 0.5em;}#sk-container-id-5 div.sk-estimator:hover {background-color: #d4ebff;}#sk-container-id-5 div.sk-parallel-item::after {content: \"\";width: 100%;border-bottom: 1px solid gray;flex-grow: 1;}#sk-container-id-5 div.sk-label:hover label.sk-toggleable__label {background-color: #d4ebff;}#sk-container-id-5 div.sk-serial::before {content: \"\";position: absolute;border-left: 1px solid gray;box-sizing: border-box;top: 0;bottom: 0;left: 50%;z-index: 0;}#sk-container-id-5 div.sk-serial {display: flex;flex-direction: column;align-items: center;background-color: white;padding-right: 0.2em;padding-left: 0.2em;position: relative;}#sk-container-id-5 div.sk-item {position: relative;z-index: 1;}#sk-container-id-5 div.sk-parallel {display: flex;align-items: stretch;justify-content: center;background-color: white;position: relative;}#sk-container-id-5 div.sk-item::before, #sk-container-id-5 div.sk-parallel-item::before {content: \"\";position: absolute;border-left: 1px solid gray;box-sizing: border-box;top: 0;bottom: 0;left: 50%;z-index: -1;}#sk-container-id-5 div.sk-parallel-item {display: flex;flex-direction: column;z-index: 1;position: relative;background-color: white;}#sk-container-id-5 div.sk-parallel-item:first-child::after {align-self: flex-end;width: 50%;}#sk-container-id-5 div.sk-parallel-item:last-child::after {align-self: flex-start;width: 50%;}#sk-container-id-5 div.sk-parallel-item:only-child::after {width: 0;}#sk-container-id-5 div.sk-dashed-wrapped {border: 1px dashed gray;margin: 0 0.4em 0.5em 0.4em;box-sizing: border-box;padding-bottom: 0.4em;background-color: white;}#sk-container-id-5 div.sk-label label {font-family: monospace;font-weight: bold;display: inline-block;line-height: 1.2em;}#sk-container-id-5 div.sk-label-container {text-align: center;}#sk-container-id-5 div.sk-container {/* jupyter's `normalize.less` sets `[hidden] { display: none; }` but bootstrap.min.css set `[hidden] { display: none !important; }` so we also need the `!important` here to be able to override the default hidden behavior on the sphinx rendered scikit-learn.org. See: https://github.com/scikit-learn/scikit-learn/issues/21755 */display: inline-block !important;position: relative;}#sk-container-id-5 div.sk-text-repr-fallback {display: none;}</style><div id=\"sk-container-id-5\" class=\"sk-top-container\"><div class=\"sk-text-repr-fallback\"><pre>Pipeline(steps=[(&#x27;scaler&#x27;, StandardScaler()),\n",
       "                (&#x27;clf&#x27;,\n",
       "                 RandomForestRegressor(max_depth=5, n_estimators=40,\n",
       "                                       random_state=42))])</pre><b>In a Jupyter environment, please rerun this cell to show the HTML representation or trust the notebook. <br />On GitHub, the HTML representation is unable to render, please try loading this page with nbviewer.org.</b></div><div class=\"sk-container\" hidden><div class=\"sk-item sk-dashed-wrapped\"><div class=\"sk-label-container\"><div class=\"sk-label sk-toggleable\"><input class=\"sk-toggleable__control sk-hidden--visually\" id=\"sk-estimator-id-13\" type=\"checkbox\" ><label for=\"sk-estimator-id-13\" class=\"sk-toggleable__label sk-toggleable__label-arrow\">Pipeline</label><div class=\"sk-toggleable__content\"><pre>Pipeline(steps=[(&#x27;scaler&#x27;, StandardScaler()),\n",
       "                (&#x27;clf&#x27;,\n",
       "                 RandomForestRegressor(max_depth=5, n_estimators=40,\n",
       "                                       random_state=42))])</pre></div></div></div><div class=\"sk-serial\"><div class=\"sk-item\"><div class=\"sk-estimator sk-toggleable\"><input class=\"sk-toggleable__control sk-hidden--visually\" id=\"sk-estimator-id-14\" type=\"checkbox\" ><label for=\"sk-estimator-id-14\" class=\"sk-toggleable__label sk-toggleable__label-arrow\">StandardScaler</label><div class=\"sk-toggleable__content\"><pre>StandardScaler()</pre></div></div></div><div class=\"sk-item\"><div class=\"sk-estimator sk-toggleable\"><input class=\"sk-toggleable__control sk-hidden--visually\" id=\"sk-estimator-id-15\" type=\"checkbox\" ><label for=\"sk-estimator-id-15\" class=\"sk-toggleable__label sk-toggleable__label-arrow\">RandomForestRegressor</label><div class=\"sk-toggleable__content\"><pre>RandomForestRegressor(max_depth=5, n_estimators=40, random_state=42)</pre></div></div></div></div></div></div></div>"
      ],
      "text/plain": [
       "Pipeline(steps=[('scaler', StandardScaler()),\n",
       "                ('clf',\n",
       "                 RandomForestRegressor(max_depth=5, n_estimators=40,\n",
       "                                       random_state=42))])"
      ]
     },
     "execution_count": 111,
     "metadata": {},
     "output_type": "execute_result"
    }
   ],
   "source": [
    "final_grid.best_estimator_"
   ]
  },
  {
   "cell_type": "markdown",
   "id": "67f8eaa7",
   "metadata": {},
   "source": [
    "Проверка на адекватность"
   ]
  },
  {
   "cell_type": "code",
   "execution_count": 93,
   "id": "5fd38a8e",
   "metadata": {},
   "outputs": [
    {
     "data": {
      "text/plain": [
       "8.91733035214889"
      ]
     },
     "execution_count": 93,
     "metadata": {},
     "output_type": "execute_result"
    }
   ],
   "source": [
    "model = DummyRegressor()\n",
    "clf = model.fit(X_features, X_target_r)\n",
    "smape(Y_target_r,clf.predict(Y_features))\n"
   ]
  },
  {
   "cell_type": "code",
   "execution_count": 107,
   "id": "4db41a05",
   "metadata": {},
   "outputs": [
    {
     "data": {
      "text/plain": [
       "9.878017310134931"
      ]
     },
     "execution_count": 107,
     "metadata": {},
     "output_type": "execute_result"
    }
   ],
   "source": [
    "clf2 = model.fit(X_features, X_target_f)\n",
    "smape(Y_target_f,clf2.predict(Y_features))\n"
   ]
  },
  {
   "cell_type": "code",
   "execution_count": 112,
   "id": "acbd28df",
   "metadata": {},
   "outputs": [
    {
     "data": {
      "text/plain": [
       "{'mean_fit_time': array([9.67851543e+00, 2.70981305e+01, 5.27143968e+01, 1.77877263e+01,\n",
       "        3.08007717e-02, 3.54302403e+01, 7.83998299e+00, 1.79037337e+01,\n",
       "        3.89928937e+00, 1.03849736e+01, 2.84006119e-02, 4.58860210e+01,\n",
       "        6.06673238e+01, 3.18069702e+01, 2.75632553e+01, 6.02372912e+01,\n",
       "        2.25656816e+01, 2.53529404e+01, 8.09854123e+01, 8.56940128e+01,\n",
       "        3.74021530e-02, 3.26004028e-02, 6.64939275e+00, 5.54039478e-02,\n",
       "        4.89587665e+01, 6.29614091e+00, 9.20548611e+00, 1.83613615e+00,\n",
       "        3.73065259e+01, 7.21662569e+00, 1.34111507e+01, 7.46798763e+01,\n",
       "        6.94153524e+01, 3.22706815e+01, 2.39989079e+01, 1.15526856e+02,\n",
       "        4.29946055e+01, 1.87875995e+01, 3.33504686e+00, 3.08018208e-02,\n",
       "        2.30317092e+00, 5.97832582e+01, 9.30133359e+01, 5.33217754e+01,\n",
       "        1.85151802e+01, 2.67307924e+01, 1.09670162e+01, 1.04406786e+02,\n",
       "        4.48547432e+01, 1.76915249e+01]),\n",
       " 'std_fit_time': array([2.52503188e-01, 5.49603336e-01, 7.52172454e-01, 5.83364922e-01,\n",
       "        2.48069059e-03, 3.40432484e-01, 1.37074717e-01, 3.71352681e-01,\n",
       "        2.07865530e-01, 1.22532500e-01, 4.89435410e-04, 7.72351536e-01,\n",
       "        7.35741186e-01, 3.29457127e-01, 7.02600398e-01, 1.10979841e+00,\n",
       "        2.80998377e-01, 5.66063999e-01, 4.44454569e-01, 2.34832933e+00,\n",
       "        4.45396584e-03, 3.38293874e-03, 3.01920584e-01, 1.59961658e-02,\n",
       "        9.70832378e-01, 1.44231388e-01, 4.45521653e-01, 2.06352758e-01,\n",
       "        9.11845600e-01, 7.07234968e-01, 5.62664630e-01, 7.52734538e-01,\n",
       "        8.64992074e-01, 4.92420219e-01, 6.91980232e-01, 2.29998426e+00,\n",
       "        7.28622120e-01, 4.24742840e-01, 5.56256667e-02, 2.48288846e-03,\n",
       "        1.25576878e-01, 6.92128875e-01, 2.46233572e+00, 1.93370729e+00,\n",
       "        1.01938439e+00, 6.89694141e-01, 4.03589733e-01, 1.11914451e+00,\n",
       "        3.80237690e-01, 6.13544808e-01]),\n",
       " 'mean_score_time': array([0.01500092, 0.0276031 , 0.0478045 , 0.02880263, 0.5526412 ,\n",
       "        0.03360314, 0.0174017 , 0.01860189, 0.01000123, 0.0148016 ,\n",
       "        0.        , 0.04180307, 0.05280433, 0.02940269, 0.02780275,\n",
       "        0.0524045 , 0.02360229, 0.02520242, 0.08460746, 0.0826067 ,\n",
       "        0.        , 0.58204341, 0.01160116, 0.        , 0.04820461,\n",
       "        0.01140046, 0.01700063, 0.01120172, 0.05140357, 0.01220093,\n",
       "        0.01860132, 0.05880513, 0.06520467, 0.0292028 , 0.03660245,\n",
       "        0.09560719, 0.04080353, 0.03000169, 0.00940099, 0.        ,\n",
       "        0.00860171, 0.06360435, 0.07240567, 0.05460448, 0.02040129,\n",
       "        0.03200216, 0.0210021 , 0.10060806, 0.04940515, 0.01860375]),\n",
       " 'std_score_time': array([0.00109524, 0.00241657, 0.00725072, 0.00074954, 0.10474658,\n",
       "        0.00185528, 0.00149672, 0.00080061, 0.0015489 , 0.00074855,\n",
       "        0.        , 0.00421437, 0.00331103, 0.00135702, 0.00222765,\n",
       "        0.00293977, 0.0008004 , 0.00159989, 0.02444399, 0.01521502,\n",
       "        0.        , 0.07767901, 0.00119943, 0.        , 0.00342858,\n",
       "        0.0004894 , 0.00289754, 0.00231497, 0.00708808, 0.00039942,\n",
       "        0.00338204, 0.00213581, 0.01658223, 0.00172013, 0.01307765,\n",
       "        0.01412352, 0.00263873, 0.00063203, 0.0008003 , 0.        ,\n",
       "        0.00049021, 0.01005244, 0.00467241, 0.01249986, 0.00280044,\n",
       "        0.00275628, 0.00209776, 0.00964651, 0.00233166, 0.00475578]),\n",
       " 'param_clf__n_estimators': masked_array(data=[40, 45, 100, 120, --, 80, 55, 35, 10, 35, --, 105, 110,\n",
       "                    85, 50, 95, 75, 40, 145, 140, --, --, 10, --, 155, 20,\n",
       "                    35, 10, 155, 30, 35, 145, 120, 50, 100, 180, 140, 130,\n",
       "                    15, --, 10, 180, 130, 160, 45, 115, 75, 185, 190, 40],\n",
       "              mask=[False, False, False, False,  True, False, False, False,\n",
       "                    False, False,  True, False, False, False, False, False,\n",
       "                    False, False, False, False,  True,  True, False,  True,\n",
       "                    False, False, False, False, False, False, False, False,\n",
       "                    False, False, False, False, False, False, False,  True,\n",
       "                    False, False, False, False, False, False, False, False,\n",
       "                    False, False],\n",
       "        fill_value='?',\n",
       "             dtype=object),\n",
       " 'param_clf__max_depth': masked_array(data=[5, 15, 13, 3, --, 11, 3, 13, 9, 7, --, 11, 15, 9, 15,\n",
       "                    19, 7, 19, 15, 17, --, --, 19, --, 7, 7, 5, 3, 5, 5, 9,\n",
       "                    13, 15, 19, 5, 19, 7, 3, 5, --, 5, 7, 19, 7, 9, 5, 3,\n",
       "                    15, 5, 11],\n",
       "              mask=[False, False, False, False,  True, False, False, False,\n",
       "                    False, False,  True, False, False, False, False, False,\n",
       "                    False, False, False, False,  True,  True, False,  True,\n",
       "                    False, False, False, False, False, False, False, False,\n",
       "                    False, False, False, False, False, False, False,  True,\n",
       "                    False, False, False, False, False, False, False, False,\n",
       "                    False, False],\n",
       "        fill_value='?',\n",
       "             dtype=object),\n",
       " 'param_clf': masked_array(data=[RandomForestRegressor(max_depth=5, n_estimators=40, random_state=42),\n",
       "                    RandomForestRegressor(max_depth=5, n_estimators=40, random_state=42),\n",
       "                    RandomForestRegressor(max_depth=5, n_estimators=40, random_state=42),\n",
       "                    RandomForestRegressor(max_depth=5, n_estimators=40, random_state=42),\n",
       "                    KNeighborsRegressor(),\n",
       "                    RandomForestRegressor(max_depth=5, n_estimators=40, random_state=42),\n",
       "                    RandomForestRegressor(max_depth=5, n_estimators=40, random_state=42),\n",
       "                    RandomForestRegressor(max_depth=5, n_estimators=40, random_state=42),\n",
       "                    RandomForestRegressor(max_depth=5, n_estimators=40, random_state=42),\n",
       "                    RandomForestRegressor(max_depth=5, n_estimators=40, random_state=42),\n",
       "                    LogisticRegression(random_state=42),\n",
       "                    RandomForestRegressor(max_depth=5, n_estimators=40, random_state=42),\n",
       "                    RandomForestRegressor(max_depth=5, n_estimators=40, random_state=42),\n",
       "                    RandomForestRegressor(max_depth=5, n_estimators=40, random_state=42),\n",
       "                    RandomForestRegressor(max_depth=5, n_estimators=40, random_state=42),\n",
       "                    RandomForestRegressor(max_depth=5, n_estimators=40, random_state=42),\n",
       "                    RandomForestRegressor(max_depth=5, n_estimators=40, random_state=42),\n",
       "                    RandomForestRegressor(max_depth=5, n_estimators=40, random_state=42),\n",
       "                    RandomForestRegressor(max_depth=5, n_estimators=40, random_state=42),\n",
       "                    RandomForestRegressor(max_depth=5, n_estimators=40, random_state=42),\n",
       "                    LogisticRegression(random_state=42),\n",
       "                    KNeighborsRegressor(),\n",
       "                    RandomForestRegressor(max_depth=5, n_estimators=40, random_state=42),\n",
       "                    LogisticRegression(random_state=42),\n",
       "                    RandomForestRegressor(max_depth=5, n_estimators=40, random_state=42),\n",
       "                    RandomForestRegressor(max_depth=5, n_estimators=40, random_state=42),\n",
       "                    RandomForestRegressor(max_depth=5, n_estimators=40, random_state=42),\n",
       "                    RandomForestRegressor(max_depth=5, n_estimators=40, random_state=42),\n",
       "                    RandomForestRegressor(max_depth=5, n_estimators=40, random_state=42),\n",
       "                    RandomForestRegressor(max_depth=5, n_estimators=40, random_state=42),\n",
       "                    RandomForestRegressor(max_depth=5, n_estimators=40, random_state=42),\n",
       "                    RandomForestRegressor(max_depth=5, n_estimators=40, random_state=42),\n",
       "                    RandomForestRegressor(max_depth=5, n_estimators=40, random_state=42),\n",
       "                    RandomForestRegressor(max_depth=5, n_estimators=40, random_state=42),\n",
       "                    RandomForestRegressor(max_depth=5, n_estimators=40, random_state=42),\n",
       "                    RandomForestRegressor(max_depth=5, n_estimators=40, random_state=42),\n",
       "                    RandomForestRegressor(max_depth=5, n_estimators=40, random_state=42),\n",
       "                    RandomForestRegressor(max_depth=5, n_estimators=40, random_state=42),\n",
       "                    RandomForestRegressor(max_depth=5, n_estimators=40, random_state=42),\n",
       "                    LogisticRegression(random_state=42),\n",
       "                    RandomForestRegressor(max_depth=5, n_estimators=40, random_state=42),\n",
       "                    RandomForestRegressor(max_depth=5, n_estimators=40, random_state=42),\n",
       "                    RandomForestRegressor(max_depth=5, n_estimators=40, random_state=42),\n",
       "                    RandomForestRegressor(max_depth=5, n_estimators=40, random_state=42),\n",
       "                    RandomForestRegressor(max_depth=5, n_estimators=40, random_state=42),\n",
       "                    RandomForestRegressor(max_depth=5, n_estimators=40, random_state=42),\n",
       "                    RandomForestRegressor(max_depth=5, n_estimators=40, random_state=42),\n",
       "                    RandomForestRegressor(max_depth=5, n_estimators=40, random_state=42),\n",
       "                    RandomForestRegressor(max_depth=5, n_estimators=40, random_state=42),\n",
       "                    RandomForestRegressor(max_depth=5, n_estimators=40, random_state=42)],\n",
       "              mask=[False, False, False, False, False, False, False, False,\n",
       "                    False, False, False, False, False, False, False, False,\n",
       "                    False, False, False, False, False, False, False, False,\n",
       "                    False, False, False, False, False, False, False, False,\n",
       "                    False, False, False, False, False, False, False, False,\n",
       "                    False, False, False, False, False, False, False, False,\n",
       "                    False, False],\n",
       "        fill_value='?',\n",
       "             dtype=object),\n",
       " 'param_clf__n_neighbors': masked_array(data=[--, --, --, --, 25, --, --, --, --, --, --, --, --, --,\n",
       "                    --, --, --, --, --, --, --, 30, --, --, --, --, --, --,\n",
       "                    --, --, --, --, --, --, --, --, --, --, --, --, --, --,\n",
       "                    --, --, --, --, --, --, --, --],\n",
       "              mask=[ True,  True,  True,  True, False,  True,  True,  True,\n",
       "                     True,  True,  True,  True,  True,  True,  True,  True,\n",
       "                     True,  True,  True,  True,  True, False,  True,  True,\n",
       "                     True,  True,  True,  True,  True,  True,  True,  True,\n",
       "                     True,  True,  True,  True,  True,  True,  True,  True,\n",
       "                     True,  True,  True,  True,  True,  True,  True,  True,\n",
       "                     True,  True],\n",
       "        fill_value='?',\n",
       "             dtype=object),\n",
       " 'param_clf__solver': masked_array(data=[--, --, --, --, --, --, --, --, --, --, 'liblinear',\n",
       "                    --, --, --, --, --, --, --, --, --, 'liblinear', --,\n",
       "                    --, 'saga', --, --, --, --, --, --, --, --, --, --, --,\n",
       "                    --, --, --, --, 'liblinear', --, --, --, --, --, --,\n",
       "                    --, --, --, --],\n",
       "              mask=[ True,  True,  True,  True,  True,  True,  True,  True,\n",
       "                     True,  True, False,  True,  True,  True,  True,  True,\n",
       "                     True,  True,  True,  True, False,  True,  True, False,\n",
       "                     True,  True,  True,  True,  True,  True,  True,  True,\n",
       "                     True,  True,  True,  True,  True,  True,  True, False,\n",
       "                     True,  True,  True,  True,  True,  True,  True,  True,\n",
       "                     True,  True],\n",
       "        fill_value='?',\n",
       "             dtype=object),\n",
       " 'param_clf__penalty': masked_array(data=[--, --, --, --, --, --, --, --, --, --, 'l2', --, --,\n",
       "                    --, --, --, --, --, --, --, 'l1', --, --, 'l2', --, --,\n",
       "                    --, --, --, --, --, --, --, --, --, --, --, --, --,\n",
       "                    'l2', --, --, --, --, --, --, --, --, --, --],\n",
       "              mask=[ True,  True,  True,  True,  True,  True,  True,  True,\n",
       "                     True,  True, False,  True,  True,  True,  True,  True,\n",
       "                     True,  True,  True,  True, False,  True,  True, False,\n",
       "                     True,  True,  True,  True,  True,  True,  True,  True,\n",
       "                     True,  True,  True,  True,  True,  True,  True, False,\n",
       "                     True,  True,  True,  True,  True,  True,  True,  True,\n",
       "                     True,  True],\n",
       "        fill_value='?',\n",
       "             dtype=object),\n",
       " 'param_clf__C': masked_array(data=[--, --, --, --, --, --, --, --, --, --,\n",
       "                    0.20000000000000004, --, --, --, --, --, --, --, --,\n",
       "                    --, 0.25000000000000006, --, --, 0.1, --, --, --, --,\n",
       "                    --, --, --, --, --, --, --, --, --, --, --,\n",
       "                    0.40000000000000013, --, --, --, --, --, --, --, --,\n",
       "                    --, --],\n",
       "              mask=[ True,  True,  True,  True,  True,  True,  True,  True,\n",
       "                     True,  True, False,  True,  True,  True,  True,  True,\n",
       "                     True,  True,  True,  True, False,  True,  True, False,\n",
       "                     True,  True,  True,  True,  True,  True,  True,  True,\n",
       "                     True,  True,  True,  True,  True,  True,  True, False,\n",
       "                     True,  True,  True,  True,  True,  True,  True,  True,\n",
       "                     True,  True],\n",
       "        fill_value='?',\n",
       "             dtype=object),\n",
       " 'params': [{'clf__n_estimators': 40,\n",
       "   'clf__max_depth': 5,\n",
       "   'clf': RandomForestRegressor(max_depth=5, n_estimators=40, random_state=42)},\n",
       "  {'clf__n_estimators': 45,\n",
       "   'clf__max_depth': 15,\n",
       "   'clf': RandomForestRegressor(max_depth=5, n_estimators=40, random_state=42)},\n",
       "  {'clf__n_estimators': 100,\n",
       "   'clf__max_depth': 13,\n",
       "   'clf': RandomForestRegressor(max_depth=5, n_estimators=40, random_state=42)},\n",
       "  {'clf__n_estimators': 120,\n",
       "   'clf__max_depth': 3,\n",
       "   'clf': RandomForestRegressor(max_depth=5, n_estimators=40, random_state=42)},\n",
       "  {'clf__n_neighbors': 25, 'clf': KNeighborsRegressor()},\n",
       "  {'clf__n_estimators': 80,\n",
       "   'clf__max_depth': 11,\n",
       "   'clf': RandomForestRegressor(max_depth=5, n_estimators=40, random_state=42)},\n",
       "  {'clf__n_estimators': 55,\n",
       "   'clf__max_depth': 3,\n",
       "   'clf': RandomForestRegressor(max_depth=5, n_estimators=40, random_state=42)},\n",
       "  {'clf__n_estimators': 35,\n",
       "   'clf__max_depth': 13,\n",
       "   'clf': RandomForestRegressor(max_depth=5, n_estimators=40, random_state=42)},\n",
       "  {'clf__n_estimators': 10,\n",
       "   'clf__max_depth': 9,\n",
       "   'clf': RandomForestRegressor(max_depth=5, n_estimators=40, random_state=42)},\n",
       "  {'clf__n_estimators': 35,\n",
       "   'clf__max_depth': 7,\n",
       "   'clf': RandomForestRegressor(max_depth=5, n_estimators=40, random_state=42)},\n",
       "  {'clf__solver': 'liblinear',\n",
       "   'clf__penalty': 'l2',\n",
       "   'clf__C': 0.20000000000000004,\n",
       "   'clf': LogisticRegression(random_state=42)},\n",
       "  {'clf__n_estimators': 105,\n",
       "   'clf__max_depth': 11,\n",
       "   'clf': RandomForestRegressor(max_depth=5, n_estimators=40, random_state=42)},\n",
       "  {'clf__n_estimators': 110,\n",
       "   'clf__max_depth': 15,\n",
       "   'clf': RandomForestRegressor(max_depth=5, n_estimators=40, random_state=42)},\n",
       "  {'clf__n_estimators': 85,\n",
       "   'clf__max_depth': 9,\n",
       "   'clf': RandomForestRegressor(max_depth=5, n_estimators=40, random_state=42)},\n",
       "  {'clf__n_estimators': 50,\n",
       "   'clf__max_depth': 15,\n",
       "   'clf': RandomForestRegressor(max_depth=5, n_estimators=40, random_state=42)},\n",
       "  {'clf__n_estimators': 95,\n",
       "   'clf__max_depth': 19,\n",
       "   'clf': RandomForestRegressor(max_depth=5, n_estimators=40, random_state=42)},\n",
       "  {'clf__n_estimators': 75,\n",
       "   'clf__max_depth': 7,\n",
       "   'clf': RandomForestRegressor(max_depth=5, n_estimators=40, random_state=42)},\n",
       "  {'clf__n_estimators': 40,\n",
       "   'clf__max_depth': 19,\n",
       "   'clf': RandomForestRegressor(max_depth=5, n_estimators=40, random_state=42)},\n",
       "  {'clf__n_estimators': 145,\n",
       "   'clf__max_depth': 15,\n",
       "   'clf': RandomForestRegressor(max_depth=5, n_estimators=40, random_state=42)},\n",
       "  {'clf__n_estimators': 140,\n",
       "   'clf__max_depth': 17,\n",
       "   'clf': RandomForestRegressor(max_depth=5, n_estimators=40, random_state=42)},\n",
       "  {'clf__solver': 'liblinear',\n",
       "   'clf__penalty': 'l1',\n",
       "   'clf__C': 0.25000000000000006,\n",
       "   'clf': LogisticRegression(random_state=42)},\n",
       "  {'clf__n_neighbors': 30, 'clf': KNeighborsRegressor()},\n",
       "  {'clf__n_estimators': 10,\n",
       "   'clf__max_depth': 19,\n",
       "   'clf': RandomForestRegressor(max_depth=5, n_estimators=40, random_state=42)},\n",
       "  {'clf__solver': 'saga',\n",
       "   'clf__penalty': 'l2',\n",
       "   'clf__C': 0.1,\n",
       "   'clf': LogisticRegression(random_state=42)},\n",
       "  {'clf__n_estimators': 155,\n",
       "   'clf__max_depth': 7,\n",
       "   'clf': RandomForestRegressor(max_depth=5, n_estimators=40, random_state=42)},\n",
       "  {'clf__n_estimators': 20,\n",
       "   'clf__max_depth': 7,\n",
       "   'clf': RandomForestRegressor(max_depth=5, n_estimators=40, random_state=42)},\n",
       "  {'clf__n_estimators': 35,\n",
       "   'clf__max_depth': 5,\n",
       "   'clf': RandomForestRegressor(max_depth=5, n_estimators=40, random_state=42)},\n",
       "  {'clf__n_estimators': 10,\n",
       "   'clf__max_depth': 3,\n",
       "   'clf': RandomForestRegressor(max_depth=5, n_estimators=40, random_state=42)},\n",
       "  {'clf__n_estimators': 155,\n",
       "   'clf__max_depth': 5,\n",
       "   'clf': RandomForestRegressor(max_depth=5, n_estimators=40, random_state=42)},\n",
       "  {'clf__n_estimators': 30,\n",
       "   'clf__max_depth': 5,\n",
       "   'clf': RandomForestRegressor(max_depth=5, n_estimators=40, random_state=42)},\n",
       "  {'clf__n_estimators': 35,\n",
       "   'clf__max_depth': 9,\n",
       "   'clf': RandomForestRegressor(max_depth=5, n_estimators=40, random_state=42)},\n",
       "  {'clf__n_estimators': 145,\n",
       "   'clf__max_depth': 13,\n",
       "   'clf': RandomForestRegressor(max_depth=5, n_estimators=40, random_state=42)},\n",
       "  {'clf__n_estimators': 120,\n",
       "   'clf__max_depth': 15,\n",
       "   'clf': RandomForestRegressor(max_depth=5, n_estimators=40, random_state=42)},\n",
       "  {'clf__n_estimators': 50,\n",
       "   'clf__max_depth': 19,\n",
       "   'clf': RandomForestRegressor(max_depth=5, n_estimators=40, random_state=42)},\n",
       "  {'clf__n_estimators': 100,\n",
       "   'clf__max_depth': 5,\n",
       "   'clf': RandomForestRegressor(max_depth=5, n_estimators=40, random_state=42)},\n",
       "  {'clf__n_estimators': 180,\n",
       "   'clf__max_depth': 19,\n",
       "   'clf': RandomForestRegressor(max_depth=5, n_estimators=40, random_state=42)},\n",
       "  {'clf__n_estimators': 140,\n",
       "   'clf__max_depth': 7,\n",
       "   'clf': RandomForestRegressor(max_depth=5, n_estimators=40, random_state=42)},\n",
       "  {'clf__n_estimators': 130,\n",
       "   'clf__max_depth': 3,\n",
       "   'clf': RandomForestRegressor(max_depth=5, n_estimators=40, random_state=42)},\n",
       "  {'clf__n_estimators': 15,\n",
       "   'clf__max_depth': 5,\n",
       "   'clf': RandomForestRegressor(max_depth=5, n_estimators=40, random_state=42)},\n",
       "  {'clf__solver': 'liblinear',\n",
       "   'clf__penalty': 'l2',\n",
       "   'clf__C': 0.40000000000000013,\n",
       "   'clf': LogisticRegression(random_state=42)},\n",
       "  {'clf__n_estimators': 10,\n",
       "   'clf__max_depth': 5,\n",
       "   'clf': RandomForestRegressor(max_depth=5, n_estimators=40, random_state=42)},\n",
       "  {'clf__n_estimators': 180,\n",
       "   'clf__max_depth': 7,\n",
       "   'clf': RandomForestRegressor(max_depth=5, n_estimators=40, random_state=42)},\n",
       "  {'clf__n_estimators': 130,\n",
       "   'clf__max_depth': 19,\n",
       "   'clf': RandomForestRegressor(max_depth=5, n_estimators=40, random_state=42)},\n",
       "  {'clf__n_estimators': 160,\n",
       "   'clf__max_depth': 7,\n",
       "   'clf': RandomForestRegressor(max_depth=5, n_estimators=40, random_state=42)},\n",
       "  {'clf__n_estimators': 45,\n",
       "   'clf__max_depth': 9,\n",
       "   'clf': RandomForestRegressor(max_depth=5, n_estimators=40, random_state=42)},\n",
       "  {'clf__n_estimators': 115,\n",
       "   'clf__max_depth': 5,\n",
       "   'clf': RandomForestRegressor(max_depth=5, n_estimators=40, random_state=42)},\n",
       "  {'clf__n_estimators': 75,\n",
       "   'clf__max_depth': 3,\n",
       "   'clf': RandomForestRegressor(max_depth=5, n_estimators=40, random_state=42)},\n",
       "  {'clf__n_estimators': 185,\n",
       "   'clf__max_depth': 15,\n",
       "   'clf': RandomForestRegressor(max_depth=5, n_estimators=40, random_state=42)},\n",
       "  {'clf__n_estimators': 190,\n",
       "   'clf__max_depth': 5,\n",
       "   'clf': RandomForestRegressor(max_depth=5, n_estimators=40, random_state=42)},\n",
       "  {'clf__n_estimators': 40,\n",
       "   'clf__max_depth': 11,\n",
       "   'clf': RandomForestRegressor(max_depth=5, n_estimators=40, random_state=42)}],\n",
       " 'split0_test_score': array([ -8.62983679,  -8.68599794,  -8.67925965,  -8.97782424,\n",
       "        -10.42535853,  -8.61811899,  -8.95515954,  -8.96043662,\n",
       "         -8.78511693,  -8.51406583,          nan,  -8.5981928 ,\n",
       "         -8.65766078,  -8.6749585 ,  -8.6247906 ,  -8.8072198 ,\n",
       "         -8.52189144,  -8.80836077,  -8.64583154,  -8.68995311,\n",
       "                 nan, -10.41062298,  -9.4479388 ,          nan,\n",
       "         -8.50921469,  -8.70882373,  -8.67357387,  -8.93839221,\n",
       "         -8.63039099,  -8.69850085,  -8.68602975,  -8.66373048,\n",
       "         -8.6542692 ,  -8.68464419,  -8.62681084,  -8.76350818,\n",
       "         -8.53405978,  -8.98138686,  -8.58582176,          nan,\n",
       "         -8.50441032,  -8.5221738 ,  -8.76625464,  -8.50316877,\n",
       "         -8.60654353,  -8.67474181,  -8.9713225 ,  -8.70101689,\n",
       "         -8.63346205,  -8.64328745]),\n",
       " 'split1_test_score': array([ -8.36036201,  -9.76378057, -10.09307511,  -7.68116797,\n",
       "         -9.51570338, -10.24371293,  -7.6704997 ,  -9.94640543,\n",
       "         -9.57755611,  -9.33247662,          nan,  -9.94311123,\n",
       "        -10.24545772,  -9.89660882,  -9.81280739, -10.25727981,\n",
       "         -9.29061441,  -9.97833067, -10.07361303, -10.04073265,\n",
       "                 nan,  -9.46552107, -10.21793267,          nan,\n",
       "         -9.1940765 ,  -8.90870193,  -8.44859804,  -7.7531261 ,\n",
       "         -8.73614049,  -8.41334431,  -9.56959335,  -9.95596191,\n",
       "        -10.21852289,  -9.91231838,  -8.82105408, -10.15810953,\n",
       "         -9.23606161,  -7.68019032,  -8.57304794,          nan,\n",
       "         -8.57798628,  -9.16920893, -10.11751696,  -9.19900189,\n",
       "         -9.41440333,  -8.77712901,  -7.69998948, -10.15873967,\n",
       "         -8.76399465,  -9.75248566]),\n",
       " 'split2_test_score': array([ -8.17384568,  -8.16437642,  -8.2173029 ,  -8.50231806,\n",
       "        -10.56318073,  -8.2134126 ,  -8.57927569,  -8.26716431,\n",
       "         -8.65429758,  -8.27329286,          nan,  -8.1831373 ,\n",
       "         -8.10800047,  -8.29874664,  -8.0979529 ,  -8.2473658 ,\n",
       "         -8.23060123,  -8.24265734,  -8.10994376,  -8.14705502,\n",
       "                 nan, -10.54878803,  -8.39682523,          nan,\n",
       "         -8.22473381,  -8.49127066,  -8.1897837 ,  -8.60005864,\n",
       "         -8.22349189,  -8.18877139,  -8.26816222,  -8.18908044,\n",
       "         -8.0895602 ,  -8.18970749,  -8.25775239,  -8.21425974,\n",
       "         -8.200357  ,  -8.49071519,  -8.2983652 ,          nan,\n",
       "         -8.32089991,  -8.25537471,  -8.1769912 ,  -8.23509251,\n",
       "         -8.26367536,  -8.22688246,  -8.54554525,  -8.1667496 ,\n",
       "         -8.23531466,  -8.25933349]),\n",
       " 'split3_test_score': array([-8.18028567, -8.56683102, -8.40653494, -8.68317463, -8.83648383,\n",
       "        -8.33906834, -8.71797626, -8.71319568, -8.32721586, -8.25758747,\n",
       "                nan, -8.35349859, -8.39329473, -8.25203355, -8.51720795,\n",
       "        -8.50738167, -8.22066196, -8.76132786, -8.40836431, -8.40405101,\n",
       "                nan, -8.75082978, -9.17642811,         nan, -8.17829413,\n",
       "        -8.22462643, -8.18944733, -8.7119334 , -8.12363953, -8.19067342,\n",
       "        -8.42878458, -8.3528604 , -8.415402  , -8.61137055, -8.14968735,\n",
       "        -8.47069476, -8.18479805, -8.68255659, -8.18314904,         nan,\n",
       "        -8.23292998, -8.1908866 , -8.39846501, -8.17826711, -8.34435448,\n",
       "        -8.13728444, -8.71001653, -8.40995274, -8.12858238, -8.49720751]),\n",
       " 'split4_test_score': array([ -8.79673865,  -9.74844037,  -9.44470972,  -9.04001385,\n",
       "         -9.78252965,  -9.31128863,  -9.13247097,  -9.38948717,\n",
       "         -9.34981803,  -9.05631377,          nan,  -9.25750365,\n",
       "         -9.41487687,  -9.27088763,  -9.63406553,  -9.48323077,\n",
       "         -9.15140149,  -9.57419555,  -9.44194449,  -9.39038404,\n",
       "                 nan,  -9.68143654, -10.33520403,          nan,\n",
       "         -8.989894  ,  -9.1582645 ,  -8.75664399,  -9.07399569,\n",
       "         -8.77924413,  -8.7727657 ,  -9.2894274 ,  -9.39211366,\n",
       "         -9.47139647,  -9.54934699,  -8.74880499,  -9.35162959,\n",
       "         -9.00393742,  -9.04945385,  -8.62937989,          nan,\n",
       "         -8.63761939,  -8.95082282,  -9.4852013 ,  -8.9500371 ,\n",
       "         -9.39917767,  -8.76175331,  -9.09995638,  -9.38354611,\n",
       "         -8.75341167,  -9.38064489]),\n",
       " 'mean_test_score': array([-8.42821376, -8.98588526, -8.96817646, -8.57689975, -9.82465122,\n",
       "        -8.9451203 , -8.61107643, -9.05533784, -8.9388009 , -8.68674731,\n",
       "                nan, -8.86708871, -8.96385811, -8.87864703, -8.93736487,\n",
       "        -9.06049557, -8.68303411, -9.07297444, -8.93593943, -8.93443517,\n",
       "                nan, -9.77143968, -9.51486577,         nan, -8.61924263,\n",
       "        -8.69833745, -8.45160939, -8.61550121, -8.4985814 , -8.45281113,\n",
       "        -8.84839946, -8.91074938, -8.96983015, -8.98947752, -8.52082193,\n",
       "        -8.99164036, -8.63184277, -8.57686056, -8.45395277,         nan,\n",
       "        -8.45476918, -8.61769337, -8.98888582, -8.61311348, -8.80563088,\n",
       "        -8.51555821, -8.60536603, -8.964001  , -8.50295308, -8.9065918 ]),\n",
       " 'std_test_score': array([0.24788617, 0.6522311 , 0.70074334, 0.48875501, 0.629281  ,\n",
       "        0.75233597, 0.50741874, 0.57496822, 0.45946501, 0.43324066,\n",
       "               nan, 0.65024882, 0.77430061, 0.62618158, 0.6679279 ,\n",
       "        0.7269472 , 0.45452663, 0.6208805 , 0.72043171, 0.69178462,\n",
       "               nan, 0.65668213, 0.71222073,        nan, 0.40742984,\n",
       "        0.32347329, 0.23647623, 0.4621048 , 0.27160092, 0.246059  ,\n",
       "        0.50074786, 0.66591971, 0.77364679, 0.63884418, 0.26843835,\n",
       "        0.69541237, 0.42405785, 0.49185285, 0.17882389,        nan,\n",
       "        0.15376249, 0.3841113 , 0.71797933, 0.4002154 , 0.50379146,\n",
       "        0.27596937, 0.49249989, 0.72320931, 0.26821206, 0.56500102]),\n",
       " 'rank_test_score': array([ 1, 37, 35, 11, 46, 32, 13, 41, 31, 20, 48, 24, 33, 25, 30, 42, 19,\n",
       "        43, 29, 28, 50, 45, 44, 49, 17, 21,  2, 15,  6,  3, 23, 27, 36, 39,\n",
       "         9, 40, 18, 10,  4, 47,  5, 16, 38, 14, 22,  8, 12, 34,  7, 26])}"
      ]
     },
     "execution_count": 112,
     "metadata": {},
     "output_type": "execute_result"
    }
   ],
   "source": [
    "rougher_grid.cv_results_"
   ]
  },
  {
   "cell_type": "markdown",
   "id": "95646eaa",
   "metadata": {},
   "source": [
    "<div class=\"alert alert-success\">\n",
    "<h2> Комментарий ревьюера <a class=\"tocSkip\"> </h2>\n",
    "\n",
    "<b>Все отлично!👍:</b> По результатам кросс-валидации выбрали лучшую модель - отлично!\n",
    "</div>"
   ]
  },
  {
   "cell_type": "markdown",
   "id": "2d4d1fea",
   "metadata": {},
   "source": [
    "<div class=\"alert alert-block alert-danger\">\n",
    "<h2> Комментарий ревьюера <a class=\"tocSkip\"></h2>\n",
    "\n",
    "    \n",
    "<b>На доработку❌:</b>\n",
    "\n",
    "Как ты мог заметить, твоя метрика имеет отрицательное значение - это особеность работы `make_scorer` с настроенным параметром `greater_is_better=False`: Так как метрика `sMAPE` применяется для задач регрессии, то она тем лучше, чем ниже - это нужно учитывать при создании скорринга для кросс-валидации, так как по умолчанию инструменты кросс-валидации вроде `cross_val_score` и `GridSearchCV/RandomizedSearchCV` умеют только максимизировать метрику качества. Поэтому при создании скорринга с помощью `make_scorer` важно настроить параметр `greater_is_better=False`, чтобы оптимизируемая метрика минимизировалась, а не максимизировалась - таким образом задача максимизации будет решаться через задачу минимизации обратной функции.\n",
    "    \n",
    "Поэтому при выводе метрики на экран её стоит сделать положительной: взять по модулю, домножить на `-1` или просто указать `-` при выводе на экран, вроде `print(-a)`.\n",
    "        \n",
    "</div>"
   ]
  },
  {
   "cell_type": "markdown",
   "id": "39e11920",
   "metadata": {},
   "source": [
    "<div class=\"alert alert-info\">\n",
    "<h2> Комментарий студента <a class=\"tocSkip\"> </h2>\n",
    "\n",
    "Принято. Вывод обновил.\n",
    "</div>"
   ]
  },
  {
   "cell_type": "code",
   "execution_count": 109,
   "id": "085166c5",
   "metadata": {
    "scrolled": true
   },
   "outputs": [],
   "source": [
    "# посчитаем финальную оценку\n",
    "\n",
    "final_smape = 0.25 * smape(Y_target_r, rougher_grid.predict(Y_features)) + \\\n",
    "0.75 * smape(Y_target_f, final_grid.predict(Y_features))"
   ]
  },
  {
   "cell_type": "code",
   "execution_count": 113,
   "id": "eff389b6",
   "metadata": {},
   "outputs": [],
   "source": [
    "dummy_smape = 0.25 * smape(Y_target_r, clf.predict(Y_features)) + \\\n",
    "0.75 * smape(Y_target_f, clf2.predict(Y_features))"
   ]
  },
  {
   "cell_type": "code",
   "execution_count": 114,
   "id": "d51da547",
   "metadata": {},
   "outputs": [
    {
     "data": {
      "text/plain": [
       "14.669702302448382"
      ]
     },
     "execution_count": 114,
     "metadata": {},
     "output_type": "execute_result"
    }
   ],
   "source": [
    "dummy_smape"
   ]
  },
  {
   "cell_type": "code",
   "execution_count": 110,
   "id": "ef42d03c",
   "metadata": {
    "scrolled": true
   },
   "outputs": [
    {
     "data": {
      "text/plain": [
       "14.07444761759416"
      ]
     },
     "execution_count": 110,
     "metadata": {},
     "output_type": "execute_result"
    }
   ],
   "source": [
    "final_smape"
   ]
  },
  {
   "cell_type": "markdown",
   "id": "18b5d94c",
   "metadata": {},
   "source": [
    "Вывод: \n",
    "\n",
    "Мы проверели несколько моделей и получили финальную оценку качества. \n",
    "Лучша модель RandomForestRegressor.\n",
    "Финальная ошибка ~14%."
   ]
  },
  {
   "cell_type": "markdown",
   "id": "5c99ec53",
   "metadata": {},
   "source": [
    "## Вывод"
   ]
  },
  {
   "cell_type": "markdown",
   "id": "dd79e70e",
   "metadata": {},
   "source": [
    "В ходе исследования были выполнены все запанированные этапы.\n",
    "\n",
    "Обзор данных показал наличие пропусков и выбросов. Стоки с пропусками были заполнены методом ffil. Строки с выбросами были удалены. Имена столбцов приведены к snake_case.\n",
    "\n",
    "На этапе подготовки данных мы разбили данные на обучающую и тестовую выборки. Добавили к тестовой выборке столбцы с целевыми признаками из полного датасета.\n",
    "\n",
    "В ходе анализа данных была проанализирована концентрация металлов о этапам. Результаты были сведены в таблицу.\n",
    "\n",
    "|         |      Au |       Ag |       Pb |\n",
    "|:--------|--------:|---------:|---------:|\n",
    "| feed    |  8.3248 |  8.81889 |  3.61469 |\n",
    "| rougher | 20.2367 | 12.2224  |  7.79835 |\n",
    "| primary | 32.5198 |  8.5874  |  9.99399 |\n",
    "| final   | 44.3805 |  5.19429 | 10.0774  |\n",
    "\n",
    "Концентрация золота растет при движении по этапам; концентрация серебра не имеет зависимости при движении по этапам; концентрация свинца на первой и второй очистке практически одинакова и больше чем после флотатора.\n",
    "\n",
    "В ходе исследования было рассотрено 4 модели классификации. \n",
    "- Случайный лес\n",
    "- Линейная регрессия\n",
    "- Метод ближайших соседей\n",
    "\n",
    "Для оценуи точности был использован метод sMOTE. Все модели прошли кросс-валидацию на 5 фолдах.\n",
    "\n",
    "Лучший результат показала модель случайного леса. Адекватность модели была проверена сравнением с dummyRegressor. Модель показала лучший результат, чем dummyRegressor. Проверка была пройдена.\n",
    "\n",
    "Финальная ошибка 14%\n",
    "\n",
    "\n",
    "\n",
    "\n"
   ]
  },
  {
   "cell_type": "markdown",
   "id": "5e55c7ba",
   "metadata": {},
   "source": [
    "<div class=\"alert alert-success\">\n",
    "<h2> Комментарий ревьюера <a class=\"tocSkip\"> </h2>\n",
    "\n",
    "<b>Все отлично!👍:</b> Оценили лучшую модель на тестовой выборке - отлично!\n",
    "</div>"
   ]
  },
  {
   "cell_type": "markdown",
   "id": "f223f0ef",
   "metadata": {},
   "source": [
    "<div class=\"alert alert-block alert-danger\">\n",
    "<h2> Комментарий ревьюера <a class=\"tocSkip\"></h2>\n",
    "\n",
    "    \n",
    "<b>На доработку❌:</b>\n",
    "Очень важно также проверить лучшую модель на адекватность, сравнив качество её предсказаний с качеством модели, которая предсказывала бы константу - вдруг окажется, что не было бы большого смысла заниматься созданием новых признаков, тюнингом и кросс-валидацией моделей, если можно было бы просто предсказывать среднее значение тренировочной выборки? \n",
    "    \n",
    "В качестве константной модели можно использовать `DummyRegressor` (https://scikit-learn.org/stable/modules/generated/sklearn.dummy.DummyRegressor.html) -  эта модель как раз создана для генерирования константных предсказаний.\n",
    "    \n",
    "Важно, чтобы результат тестирования нашей модели на тествой выборке был лучше, чем результат константной модели - в противном случае наша модель является бесполезной, так как все наши усилия над проектом не принесли результата, а можель, просто предсказывющая среднее на `train`, делает нашу работу лучше.\n",
    "    \n",
    "Принцип работы с ней аналогичен тестированию лучшей модели: нужно обучиться на `train`, сделать предикты для `test` и оценить их качество.\n",
    "        </div>"
   ]
  },
  {
   "cell_type": "markdown",
   "id": "6fb212be",
   "metadata": {},
   "source": [
    "<div class=\"alert alert-warning\">\n",
    "    <h2> Комментарий ревьюера <a class=\"tocSkip\"> </h2>\n",
    "    \n",
    "<b>Некоторые замечания и рекомендации⚠️:</b> \n",
    "По завершении проекта стоит сделать итоговый вывод: в него можно включить основные шаги проекта, а также ключевые выводы, полученные в ходе работы над ним.\n",
    "        </div>"
   ]
  },
  {
   "cell_type": "markdown",
   "id": "1b97848d",
   "metadata": {},
   "source": [
    "<div class=\"alert alert-info\">\n",
    "<h2> Комментарий студента <a class=\"tocSkip\"> </h2>\n",
    "\n",
    "Добавил вывод. \n",
    "    \n",
    "    \n",
    "В ходе проверки адекватности модель хоть и показала лучший результата, чем \"болванка\", но он не сильно отличается. Как можно улучшить результат предсказания?\n",
    "</div>"
   ]
  },
  {
   "cell_type": "markdown",
   "id": "60d80a6a",
   "metadata": {},
   "source": [
    "<div style=\"border:solid Chocolate 2px; padding: 40px\">\n",
    "\n",
    "# Комментарий ревьюера: общий вывод по проекту.\n",
    "\n",
    "Алексндр, проект получился на довольно высоком уровне - ты хорошо постарался, молодец!\n",
    "\n",
    "Мне нравится твой аналитический подход к выполнению проекта, ты соблюдаешь структуру работы, выполняешь её последовательно - это очень хорошо! Шаги проекта выполнены по порядку согласно плану проекта, нет смысловых и структурных ям. Важно, что не забываешь про выводы.\n",
    "    \n",
    "В проекте есть неплохая работа с визуализацией: для каждого вопроса подобран верный тип графика, результаты в каждом случае интерпретированы и прокомментированы - отлично!\n",
    "    \n",
    "Работа с моделями также выполнена отлично: исследовано несколько алгоритмов, проведён подбор гиперпараметров с помощью `GridSearchCV`, выполнена промежуточная оценка качества на кросс-валидации - молодец!\n",
    "    \n",
    "Над проектом ещё стоит поработать - есть рекомендации по дополнению некоторых твоих шагов проекта. Такие рекомендации я отметил жёлтыми комментариями. Будет здорово, если ты учтёшь их - так проект станет структурно и содержательно более совершенным.\n",
    "    \n",
    "Также в работе есть критические замечания. К этим замечаниям я оставил пояснительные комментарии красного цвета, в которых перечислил возможные варианты дальнейших действий. Уверен, ты быстро с этим управишься:)\n",
    "    \n",
    "Если о том, что нужно сделать в рамках комментариев, будут возникать вопросы - оставь их, пожалуйста, в комментариях, и я отвечу на них во время следующего ревью.\n",
    "    \n",
    "Также буду рад ответить на любые твои вопросы по проекту или на какие-либо другие, если они у тебя имеются - оставь их в комментариях, и я постараюсь ответить:)\n",
    "    \n",
    "Жду твой проект на повторном ревью. До встречи:)"
   ]
  }
 ],
 "metadata": {
  "ExecuteTimeLog": [
   {
    "duration": 2768,
    "start_time": "2022-12-01T12:30:37.395Z"
   },
   {
    "duration": 0,
    "start_time": "2022-12-01T12:30:40.168Z"
   },
   {
    "duration": 0,
    "start_time": "2022-12-01T12:30:40.171Z"
   },
   {
    "duration": 0,
    "start_time": "2022-12-01T12:30:40.172Z"
   },
   {
    "duration": 0,
    "start_time": "2022-12-01T12:30:40.176Z"
   },
   {
    "duration": 0,
    "start_time": "2022-12-01T12:30:40.177Z"
   },
   {
    "duration": 0,
    "start_time": "2022-12-01T12:30:40.178Z"
   },
   {
    "duration": 0,
    "start_time": "2022-12-01T12:30:40.179Z"
   },
   {
    "duration": 0,
    "start_time": "2022-12-01T12:30:40.180Z"
   },
   {
    "duration": 0,
    "start_time": "2022-12-01T12:30:40.182Z"
   },
   {
    "duration": 0,
    "start_time": "2022-12-01T12:30:40.183Z"
   },
   {
    "duration": 0,
    "start_time": "2022-12-01T12:30:40.185Z"
   },
   {
    "duration": 0,
    "start_time": "2022-12-01T12:30:40.186Z"
   },
   {
    "duration": 0,
    "start_time": "2022-12-01T12:30:40.187Z"
   },
   {
    "duration": 0,
    "start_time": "2022-12-01T12:30:40.189Z"
   },
   {
    "duration": 0,
    "start_time": "2022-12-01T12:30:40.190Z"
   },
   {
    "duration": 0,
    "start_time": "2022-12-01T12:30:40.191Z"
   },
   {
    "duration": 0,
    "start_time": "2022-12-01T12:30:40.192Z"
   },
   {
    "duration": 0,
    "start_time": "2022-12-01T12:30:40.193Z"
   },
   {
    "duration": 0,
    "start_time": "2022-12-01T12:30:40.194Z"
   },
   {
    "duration": 0,
    "start_time": "2022-12-01T12:30:40.195Z"
   },
   {
    "duration": 0,
    "start_time": "2022-12-01T12:30:40.197Z"
   },
   {
    "duration": 0,
    "start_time": "2022-12-01T12:30:40.198Z"
   },
   {
    "duration": 0,
    "start_time": "2022-12-01T12:30:40.199Z"
   },
   {
    "duration": 0,
    "start_time": "2022-12-01T12:30:40.200Z"
   },
   {
    "duration": 0,
    "start_time": "2022-12-01T12:30:40.202Z"
   },
   {
    "duration": 0,
    "start_time": "2022-12-01T12:30:40.203Z"
   },
   {
    "duration": 0,
    "start_time": "2022-12-01T12:30:40.206Z"
   },
   {
    "duration": 0,
    "start_time": "2022-12-01T12:30:40.256Z"
   },
   {
    "duration": 0,
    "start_time": "2022-12-01T12:30:40.258Z"
   },
   {
    "duration": 0,
    "start_time": "2022-12-01T12:30:40.259Z"
   },
   {
    "duration": 0,
    "start_time": "2022-12-01T12:30:40.261Z"
   },
   {
    "duration": 0,
    "start_time": "2022-12-01T12:30:40.262Z"
   },
   {
    "duration": 0,
    "start_time": "2022-12-01T12:30:40.266Z"
   },
   {
    "duration": 0,
    "start_time": "2022-12-01T12:30:40.267Z"
   },
   {
    "duration": 0,
    "start_time": "2022-12-01T12:30:40.269Z"
   },
   {
    "duration": 0,
    "start_time": "2022-12-01T12:30:40.270Z"
   },
   {
    "duration": 0,
    "start_time": "2022-12-01T12:30:40.273Z"
   },
   {
    "duration": 0,
    "start_time": "2022-12-01T12:30:40.273Z"
   },
   {
    "duration": 0,
    "start_time": "2022-12-01T12:30:40.274Z"
   },
   {
    "duration": 0,
    "start_time": "2022-12-01T12:30:40.275Z"
   },
   {
    "duration": 0,
    "start_time": "2022-12-01T12:30:40.276Z"
   },
   {
    "duration": 0,
    "start_time": "2022-12-01T12:30:40.277Z"
   },
   {
    "duration": 0,
    "start_time": "2022-12-01T12:30:40.278Z"
   },
   {
    "duration": 0,
    "start_time": "2022-12-01T12:30:40.279Z"
   },
   {
    "duration": 0,
    "start_time": "2022-12-01T12:30:40.280Z"
   },
   {
    "duration": 0,
    "start_time": "2022-12-01T12:30:40.281Z"
   },
   {
    "duration": 0,
    "start_time": "2022-12-01T12:30:40.282Z"
   },
   {
    "duration": 0,
    "start_time": "2022-12-01T12:30:40.285Z"
   },
   {
    "duration": 0,
    "start_time": "2022-12-01T12:30:40.286Z"
   },
   {
    "duration": 0,
    "start_time": "2022-12-01T12:30:40.288Z"
   },
   {
    "duration": 0,
    "start_time": "2022-12-01T12:30:40.289Z"
   },
   {
    "duration": 0,
    "start_time": "2022-12-01T12:30:40.290Z"
   },
   {
    "duration": 0,
    "start_time": "2022-12-01T12:30:40.292Z"
   },
   {
    "duration": 0,
    "start_time": "2022-12-01T12:30:40.293Z"
   },
   {
    "duration": 0,
    "start_time": "2022-12-01T12:30:40.357Z"
   },
   {
    "duration": 0,
    "start_time": "2022-12-01T12:30:40.359Z"
   },
   {
    "duration": 0,
    "start_time": "2022-12-01T12:30:40.361Z"
   },
   {
    "duration": 0,
    "start_time": "2022-12-01T12:30:40.362Z"
   },
   {
    "duration": 0,
    "start_time": "2022-12-01T12:30:40.364Z"
   },
   {
    "duration": 0,
    "start_time": "2022-12-01T12:30:40.365Z"
   },
   {
    "duration": 0,
    "start_time": "2022-12-01T12:30:40.366Z"
   },
   {
    "duration": 0,
    "start_time": "2022-12-01T12:30:40.367Z"
   },
   {
    "duration": 0,
    "start_time": "2022-12-01T12:30:40.370Z"
   },
   {
    "duration": 0,
    "start_time": "2022-12-01T12:30:40.370Z"
   },
   {
    "duration": 0,
    "start_time": "2022-12-01T12:30:40.371Z"
   },
   {
    "duration": 0,
    "start_time": "2022-12-01T12:30:40.372Z"
   },
   {
    "duration": 20618,
    "start_time": "2022-12-01T12:31:23.583Z"
   },
   {
    "duration": 2396,
    "start_time": "2022-12-01T12:31:44.204Z"
   },
   {
    "duration": 0,
    "start_time": "2022-12-01T12:31:46.605Z"
   },
   {
    "duration": 0,
    "start_time": "2022-12-01T12:31:46.608Z"
   },
   {
    "duration": 0,
    "start_time": "2022-12-01T12:31:46.609Z"
   },
   {
    "duration": 0,
    "start_time": "2022-12-01T12:31:46.611Z"
   },
   {
    "duration": 0,
    "start_time": "2022-12-01T12:31:46.612Z"
   },
   {
    "duration": 0,
    "start_time": "2022-12-01T12:31:46.613Z"
   },
   {
    "duration": 0,
    "start_time": "2022-12-01T12:31:46.614Z"
   },
   {
    "duration": 0,
    "start_time": "2022-12-01T12:31:46.615Z"
   },
   {
    "duration": 0,
    "start_time": "2022-12-01T12:31:46.618Z"
   },
   {
    "duration": 0,
    "start_time": "2022-12-01T12:31:46.619Z"
   },
   {
    "duration": 0,
    "start_time": "2022-12-01T12:31:46.620Z"
   },
   {
    "duration": 0,
    "start_time": "2022-12-01T12:31:46.622Z"
   },
   {
    "duration": 0,
    "start_time": "2022-12-01T12:31:46.623Z"
   },
   {
    "duration": 0,
    "start_time": "2022-12-01T12:31:46.624Z"
   },
   {
    "duration": 0,
    "start_time": "2022-12-01T12:31:46.625Z"
   },
   {
    "duration": 0,
    "start_time": "2022-12-01T12:31:46.626Z"
   },
   {
    "duration": 0,
    "start_time": "2022-12-01T12:31:46.627Z"
   },
   {
    "duration": 0,
    "start_time": "2022-12-01T12:31:46.658Z"
   },
   {
    "duration": 0,
    "start_time": "2022-12-01T12:31:46.659Z"
   },
   {
    "duration": 0,
    "start_time": "2022-12-01T12:31:46.661Z"
   },
   {
    "duration": 0,
    "start_time": "2022-12-01T12:31:46.663Z"
   },
   {
    "duration": 0,
    "start_time": "2022-12-01T12:31:46.665Z"
   },
   {
    "duration": 0,
    "start_time": "2022-12-01T12:31:46.666Z"
   },
   {
    "duration": 0,
    "start_time": "2022-12-01T12:31:46.667Z"
   },
   {
    "duration": 0,
    "start_time": "2022-12-01T12:31:46.669Z"
   },
   {
    "duration": 0,
    "start_time": "2022-12-01T12:31:46.670Z"
   },
   {
    "duration": 0,
    "start_time": "2022-12-01T12:31:46.671Z"
   },
   {
    "duration": 0,
    "start_time": "2022-12-01T12:31:46.672Z"
   },
   {
    "duration": 1,
    "start_time": "2022-12-01T12:31:46.673Z"
   },
   {
    "duration": 0,
    "start_time": "2022-12-01T12:31:46.675Z"
   },
   {
    "duration": 0,
    "start_time": "2022-12-01T12:31:46.676Z"
   },
   {
    "duration": 0,
    "start_time": "2022-12-01T12:31:46.677Z"
   },
   {
    "duration": 0,
    "start_time": "2022-12-01T12:31:46.678Z"
   },
   {
    "duration": 0,
    "start_time": "2022-12-01T12:31:46.678Z"
   },
   {
    "duration": 0,
    "start_time": "2022-12-01T12:31:46.680Z"
   },
   {
    "duration": 0,
    "start_time": "2022-12-01T12:31:46.681Z"
   },
   {
    "duration": 0,
    "start_time": "2022-12-01T12:31:46.682Z"
   },
   {
    "duration": 0,
    "start_time": "2022-12-01T12:31:46.684Z"
   },
   {
    "duration": 0,
    "start_time": "2022-12-01T12:31:46.686Z"
   },
   {
    "duration": 0,
    "start_time": "2022-12-01T12:31:46.687Z"
   },
   {
    "duration": 0,
    "start_time": "2022-12-01T12:31:46.689Z"
   },
   {
    "duration": 0,
    "start_time": "2022-12-01T12:31:46.690Z"
   },
   {
    "duration": 0,
    "start_time": "2022-12-01T12:31:46.691Z"
   },
   {
    "duration": 0,
    "start_time": "2022-12-01T12:31:46.692Z"
   },
   {
    "duration": 0,
    "start_time": "2022-12-01T12:31:46.694Z"
   },
   {
    "duration": 0,
    "start_time": "2022-12-01T12:31:46.756Z"
   },
   {
    "duration": 0,
    "start_time": "2022-12-01T12:31:46.758Z"
   },
   {
    "duration": 0,
    "start_time": "2022-12-01T12:31:46.760Z"
   },
   {
    "duration": 0,
    "start_time": "2022-12-01T12:31:46.762Z"
   },
   {
    "duration": 0,
    "start_time": "2022-12-01T12:31:46.763Z"
   },
   {
    "duration": 0,
    "start_time": "2022-12-01T12:31:46.765Z"
   },
   {
    "duration": 0,
    "start_time": "2022-12-01T12:31:46.766Z"
   },
   {
    "duration": 0,
    "start_time": "2022-12-01T12:31:46.767Z"
   },
   {
    "duration": 0,
    "start_time": "2022-12-01T12:31:46.769Z"
   },
   {
    "duration": 0,
    "start_time": "2022-12-01T12:31:46.771Z"
   },
   {
    "duration": 0,
    "start_time": "2022-12-01T12:31:46.773Z"
   },
   {
    "duration": 0,
    "start_time": "2022-12-01T12:31:46.775Z"
   },
   {
    "duration": 0,
    "start_time": "2022-12-01T12:31:46.776Z"
   },
   {
    "duration": 0,
    "start_time": "2022-12-01T12:31:46.777Z"
   },
   {
    "duration": 0,
    "start_time": "2022-12-01T12:31:46.778Z"
   },
   {
    "duration": 0,
    "start_time": "2022-12-01T12:31:46.779Z"
   },
   {
    "duration": 0,
    "start_time": "2022-12-01T12:31:46.780Z"
   },
   {
    "duration": 0,
    "start_time": "2022-12-01T12:31:46.782Z"
   },
   {
    "duration": 0,
    "start_time": "2022-12-01T12:31:46.784Z"
   },
   {
    "duration": 0,
    "start_time": "2022-12-01T12:31:46.786Z"
   },
   {
    "duration": 0,
    "start_time": "2022-12-01T12:31:46.787Z"
   },
   {
    "duration": 8,
    "start_time": "2022-12-01T12:32:04.575Z"
   },
   {
    "duration": 2213,
    "start_time": "2022-12-01T12:32:04.586Z"
   },
   {
    "duration": 28,
    "start_time": "2022-12-01T12:32:06.801Z"
   },
   {
    "duration": 39,
    "start_time": "2022-12-01T12:32:06.832Z"
   },
   {
    "duration": 144,
    "start_time": "2022-12-01T12:32:06.874Z"
   },
   {
    "duration": 5,
    "start_time": "2022-12-01T12:32:07.020Z"
   },
   {
    "duration": 11,
    "start_time": "2022-12-01T12:32:07.029Z"
   },
   {
    "duration": 335,
    "start_time": "2022-12-01T12:32:07.043Z"
   },
   {
    "duration": 4,
    "start_time": "2022-12-01T12:32:07.380Z"
   },
   {
    "duration": 15,
    "start_time": "2022-12-01T12:32:07.385Z"
   },
   {
    "duration": 15,
    "start_time": "2022-12-01T12:32:07.401Z"
   },
   {
    "duration": 201,
    "start_time": "2022-12-01T12:32:07.418Z"
   },
   {
    "duration": 341,
    "start_time": "2022-12-01T12:32:07.621Z"
   },
   {
    "duration": 981,
    "start_time": "2022-12-01T12:32:07.965Z"
   },
   {
    "duration": 183,
    "start_time": "2022-12-01T12:32:08.947Z"
   },
   {
    "duration": 6,
    "start_time": "2022-12-01T12:32:09.133Z"
   },
   {
    "duration": 13,
    "start_time": "2022-12-01T12:32:09.154Z"
   },
   {
    "duration": 17,
    "start_time": "2022-12-01T12:32:09.169Z"
   },
   {
    "duration": 14,
    "start_time": "2022-12-01T12:32:09.188Z"
   },
   {
    "duration": 14,
    "start_time": "2022-12-01T12:32:09.204Z"
   },
   {
    "duration": 12,
    "start_time": "2022-12-01T12:32:09.220Z"
   },
   {
    "duration": 21,
    "start_time": "2022-12-01T12:32:09.234Z"
   },
   {
    "duration": 13,
    "start_time": "2022-12-01T12:32:09.258Z"
   },
   {
    "duration": 252,
    "start_time": "2022-12-01T12:32:09.273Z"
   },
   {
    "duration": 7,
    "start_time": "2022-12-01T12:32:09.527Z"
   },
   {
    "duration": 19,
    "start_time": "2022-12-01T12:32:09.537Z"
   },
   {
    "duration": 3,
    "start_time": "2022-12-01T12:32:09.558Z"
   },
   {
    "duration": 22,
    "start_time": "2022-12-01T12:32:09.563Z"
   },
   {
    "duration": 24,
    "start_time": "2022-12-01T12:32:09.588Z"
   },
   {
    "duration": 6,
    "start_time": "2022-12-01T12:32:09.615Z"
   },
   {
    "duration": 47,
    "start_time": "2022-12-01T12:32:09.623Z"
   },
   {
    "duration": 11,
    "start_time": "2022-12-01T12:32:09.672Z"
   },
   {
    "duration": 22,
    "start_time": "2022-12-01T12:32:09.685Z"
   },
   {
    "duration": 38,
    "start_time": "2022-12-01T12:32:09.710Z"
   },
   {
    "duration": 5,
    "start_time": "2022-12-01T12:32:09.751Z"
   },
   {
    "duration": 10,
    "start_time": "2022-12-01T12:32:09.760Z"
   },
   {
    "duration": 20,
    "start_time": "2022-12-01T12:32:09.771Z"
   },
   {
    "duration": 15,
    "start_time": "2022-12-01T12:32:09.793Z"
   },
   {
    "duration": 10,
    "start_time": "2022-12-01T12:32:09.810Z"
   },
   {
    "duration": 9,
    "start_time": "2022-12-01T12:32:09.823Z"
   },
   {
    "duration": 25,
    "start_time": "2022-12-01T12:32:09.838Z"
   },
   {
    "duration": 12,
    "start_time": "2022-12-01T12:32:09.865Z"
   },
   {
    "duration": 10,
    "start_time": "2022-12-01T12:32:09.879Z"
   },
   {
    "duration": 17,
    "start_time": "2022-12-01T12:32:09.891Z"
   },
   {
    "duration": 607,
    "start_time": "2022-12-01T12:32:09.910Z"
   },
   {
    "duration": 769,
    "start_time": "2022-12-01T12:32:10.519Z"
   },
   {
    "duration": 583,
    "start_time": "2022-12-01T12:32:11.291Z"
   },
   {
    "duration": 306,
    "start_time": "2022-12-01T12:32:11.877Z"
   },
   {
    "duration": 491,
    "start_time": "2022-12-01T12:32:12.185Z"
   },
   {
    "duration": 9,
    "start_time": "2022-12-01T12:32:12.678Z"
   },
   {
    "duration": 10,
    "start_time": "2022-12-01T12:32:12.690Z"
   },
   {
    "duration": 9,
    "start_time": "2022-12-01T12:32:12.703Z"
   },
   {
    "duration": 13,
    "start_time": "2022-12-01T12:32:12.714Z"
   },
   {
    "duration": 485,
    "start_time": "2022-12-01T12:32:12.756Z"
   },
   {
    "duration": 29,
    "start_time": "2022-12-01T12:32:13.243Z"
   },
   {
    "duration": 4,
    "start_time": "2022-12-01T12:32:13.274Z"
   },
   {
    "duration": 10,
    "start_time": "2022-12-01T12:32:13.280Z"
   },
   {
    "duration": 12,
    "start_time": "2022-12-01T12:32:13.292Z"
   },
   {
    "duration": 11,
    "start_time": "2022-12-01T12:32:13.307Z"
   },
   {
    "duration": 251931,
    "start_time": "2022-12-01T12:32:13.320Z"
   },
   {
    "duration": 16545,
    "start_time": "2022-12-01T12:36:25.254Z"
   },
   {
    "duration": 0,
    "start_time": "2022-12-01T12:36:41.802Z"
   },
   {
    "duration": 0,
    "start_time": "2022-12-01T12:36:41.804Z"
   },
   {
    "duration": 0,
    "start_time": "2022-12-01T12:36:41.805Z"
   },
   {
    "duration": 0,
    "start_time": "2022-12-01T12:36:41.806Z"
   },
   {
    "duration": 0,
    "start_time": "2022-12-01T12:36:41.807Z"
   },
   {
    "duration": 0,
    "start_time": "2022-12-01T12:36:41.808Z"
   },
   {
    "duration": 2864,
    "start_time": "2022-12-01T12:36:46.647Z"
   },
   {
    "duration": 1549,
    "start_time": "2022-12-01T12:36:49.514Z"
   },
   {
    "duration": 1712,
    "start_time": "2022-12-01T12:36:51.065Z"
   },
   {
    "duration": 29,
    "start_time": "2022-12-01T12:36:52.779Z"
   },
   {
    "duration": 46,
    "start_time": "2022-12-01T12:36:52.810Z"
   },
   {
    "duration": 35,
    "start_time": "2022-12-01T12:36:52.858Z"
   },
   {
    "duration": 23,
    "start_time": "2022-12-01T12:36:52.895Z"
   },
   {
    "duration": 28,
    "start_time": "2022-12-01T12:36:52.920Z"
   },
   {
    "duration": 407,
    "start_time": "2022-12-01T12:36:52.951Z"
   },
   {
    "duration": 6,
    "start_time": "2022-12-01T12:36:53.362Z"
   },
   {
    "duration": 10,
    "start_time": "2022-12-01T12:36:53.371Z"
   },
   {
    "duration": 29,
    "start_time": "2022-12-01T12:36:53.384Z"
   },
   {
    "duration": 153,
    "start_time": "2022-12-01T12:36:53.415Z"
   },
   {
    "duration": 92,
    "start_time": "2022-12-01T12:36:53.570Z"
   },
   {
    "duration": 517,
    "start_time": "2022-12-01T12:36:53.664Z"
   },
   {
    "duration": 142,
    "start_time": "2022-12-01T12:36:54.183Z"
   },
   {
    "duration": 6,
    "start_time": "2022-12-01T12:36:54.328Z"
   },
   {
    "duration": 41,
    "start_time": "2022-12-01T12:36:54.336Z"
   },
   {
    "duration": 25,
    "start_time": "2022-12-01T12:36:54.380Z"
   },
   {
    "duration": 12,
    "start_time": "2022-12-01T12:36:54.407Z"
   },
   {
    "duration": 24,
    "start_time": "2022-12-01T12:36:54.422Z"
   },
   {
    "duration": 32,
    "start_time": "2022-12-01T12:36:54.449Z"
   },
   {
    "duration": 13,
    "start_time": "2022-12-01T12:36:54.484Z"
   },
   {
    "duration": 22,
    "start_time": "2022-12-01T12:36:54.499Z"
   },
   {
    "duration": 344,
    "start_time": "2022-12-01T12:36:54.524Z"
   },
   {
    "duration": 12,
    "start_time": "2022-12-01T12:36:54.871Z"
   },
   {
    "duration": 33,
    "start_time": "2022-12-01T12:36:54.885Z"
   },
   {
    "duration": 13,
    "start_time": "2022-12-01T12:36:54.924Z"
   },
   {
    "duration": 13,
    "start_time": "2022-12-01T12:36:54.941Z"
   },
   {
    "duration": 35,
    "start_time": "2022-12-01T12:36:54.956Z"
   },
   {
    "duration": 19,
    "start_time": "2022-12-01T12:36:54.993Z"
   },
   {
    "duration": 35,
    "start_time": "2022-12-01T12:36:55.015Z"
   },
   {
    "duration": 15,
    "start_time": "2022-12-01T12:36:55.053Z"
   },
   {
    "duration": 23,
    "start_time": "2022-12-01T12:36:55.070Z"
   },
   {
    "duration": 17,
    "start_time": "2022-12-01T12:36:55.095Z"
   },
   {
    "duration": 8,
    "start_time": "2022-12-01T12:36:55.115Z"
   },
   {
    "duration": 9,
    "start_time": "2022-12-01T12:36:55.126Z"
   },
   {
    "duration": 21,
    "start_time": "2022-12-01T12:36:55.137Z"
   },
   {
    "duration": 15,
    "start_time": "2022-12-01T12:36:55.160Z"
   },
   {
    "duration": 11,
    "start_time": "2022-12-01T12:36:55.177Z"
   },
   {
    "duration": 11,
    "start_time": "2022-12-01T12:36:55.190Z"
   },
   {
    "duration": 14,
    "start_time": "2022-12-01T12:36:55.204Z"
   },
   {
    "duration": 10,
    "start_time": "2022-12-01T12:36:55.220Z"
   },
   {
    "duration": 32,
    "start_time": "2022-12-01T12:36:55.232Z"
   },
   {
    "duration": 14,
    "start_time": "2022-12-01T12:36:55.266Z"
   },
   {
    "duration": 765,
    "start_time": "2022-12-01T12:36:55.283Z"
   },
   {
    "duration": 664,
    "start_time": "2022-12-01T12:36:56.056Z"
   },
   {
    "duration": 629,
    "start_time": "2022-12-01T12:36:56.722Z"
   },
   {
    "duration": 358,
    "start_time": "2022-12-01T12:36:57.354Z"
   },
   {
    "duration": 502,
    "start_time": "2022-12-01T12:36:57.714Z"
   },
   {
    "duration": 9,
    "start_time": "2022-12-01T12:36:58.218Z"
   },
   {
    "duration": 13,
    "start_time": "2022-12-01T12:36:58.229Z"
   },
   {
    "duration": 10,
    "start_time": "2022-12-01T12:36:58.256Z"
   },
   {
    "duration": 22,
    "start_time": "2022-12-01T12:36:58.268Z"
   },
   {
    "duration": 506,
    "start_time": "2022-12-01T12:36:58.293Z"
   },
   {
    "duration": 21,
    "start_time": "2022-12-01T12:36:58.802Z"
   },
   {
    "duration": 4,
    "start_time": "2022-12-01T12:36:58.825Z"
   },
   {
    "duration": 25,
    "start_time": "2022-12-01T12:36:58.832Z"
   },
   {
    "duration": 25,
    "start_time": "2022-12-01T12:36:58.859Z"
   },
   {
    "duration": 9,
    "start_time": "2022-12-01T12:36:58.886Z"
   },
   {
    "duration": 1606643,
    "start_time": "2022-12-01T12:36:58.897Z"
   },
   {
    "duration": 1501361,
    "start_time": "2022-12-01T13:03:45.542Z"
   },
   {
    "duration": 7,
    "start_time": "2022-12-01T13:28:46.905Z"
   },
   {
    "duration": 15,
    "start_time": "2022-12-01T13:28:46.914Z"
   },
   {
    "duration": 28,
    "start_time": "2022-12-01T13:28:46.931Z"
   },
   {
    "duration": 20,
    "start_time": "2022-12-01T13:28:46.962Z"
   },
   {
    "duration": 25,
    "start_time": "2022-12-01T13:28:46.984Z"
   },
   {
    "duration": 8,
    "start_time": "2022-12-01T13:28:47.011Z"
   },
   {
    "duration": 9,
    "start_time": "2022-12-01T13:46:33.349Z"
   },
   {
    "duration": 8,
    "start_time": "2022-12-01T13:46:39.154Z"
   },
   {
    "duration": 5,
    "start_time": "2022-12-01T13:46:44.150Z"
   },
   {
    "duration": 6,
    "start_time": "2022-12-01T13:46:47.537Z"
   },
   {
    "duration": 6,
    "start_time": "2022-12-01T13:54:47.722Z"
   },
   {
    "duration": 7,
    "start_time": "2022-12-01T13:54:54.677Z"
   },
   {
    "duration": 44,
    "start_time": "2022-12-01T14:26:06.148Z"
   },
   {
    "duration": 18289,
    "start_time": "2022-12-01T14:26:14.574Z"
   },
   {
    "duration": 1730,
    "start_time": "2022-12-01T14:26:32.865Z"
   },
   {
    "duration": 1972,
    "start_time": "2022-12-01T14:26:34.596Z"
   },
   {
    "duration": 29,
    "start_time": "2022-12-01T14:26:36.570Z"
   },
   {
    "duration": 32,
    "start_time": "2022-12-01T14:26:36.600Z"
   },
   {
    "duration": 27,
    "start_time": "2022-12-01T14:26:36.634Z"
   },
   {
    "duration": 8,
    "start_time": "2022-12-01T14:26:36.663Z"
   },
   {
    "duration": 8,
    "start_time": "2022-12-01T14:26:36.672Z"
   },
   {
    "duration": 273,
    "start_time": "2022-12-01T14:26:36.682Z"
   },
   {
    "duration": 4,
    "start_time": "2022-12-01T14:26:36.958Z"
   },
   {
    "duration": 14,
    "start_time": "2022-12-01T14:26:36.963Z"
   },
   {
    "duration": 17,
    "start_time": "2022-12-01T14:26:36.979Z"
   },
   {
    "duration": 104,
    "start_time": "2022-12-01T14:26:36.997Z"
   },
   {
    "duration": 59,
    "start_time": "2022-12-01T14:26:37.103Z"
   },
   {
    "duration": 424,
    "start_time": "2022-12-01T14:26:37.164Z"
   }
  ],
  "kernelspec": {
   "display_name": "Python 3 (ipykernel)",
   "language": "python",
   "name": "python3"
  },
  "language_info": {
   "codemirror_mode": {
    "name": "ipython",
    "version": 3
   },
   "file_extension": ".py",
   "mimetype": "text/x-python",
   "name": "python",
   "nbconvert_exporter": "python",
   "pygments_lexer": "ipython3",
   "version": "3.9.13"
  },
  "toc": {
   "base_numbering": 1,
   "nav_menu": {},
   "number_sections": true,
   "sideBar": true,
   "skip_h1_title": true,
   "title_cell": "Table of Contents",
   "title_sidebar": "Contents",
   "toc_cell": false,
   "toc_position": {
    "height": "calc(100% - 180px)",
    "left": "10px",
    "top": "150px",
    "width": "325.594px"
   },
   "toc_section_display": true,
   "toc_window_display": true
  },
  "varInspector": {
   "cols": {
    "lenName": 16,
    "lenType": 16,
    "lenVar": 40
   },
   "kernels_config": {
    "python": {
     "delete_cmd_postfix": "",
     "delete_cmd_prefix": "del ",
     "library": "var_list.py",
     "varRefreshCmd": "print(var_dic_list())"
    },
    "r": {
     "delete_cmd_postfix": ") ",
     "delete_cmd_prefix": "rm(",
     "library": "var_list.r",
     "varRefreshCmd": "cat(var_dic_list()) "
    }
   },
   "types_to_exclude": [
    "module",
    "function",
    "builtin_function_or_method",
    "instance",
    "_Feature"
   ],
   "window_display": false
  }
 },
 "nbformat": 4,
 "nbformat_minor": 5
}
