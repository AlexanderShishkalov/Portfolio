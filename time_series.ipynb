{
 "cells": [
  {
   "cell_type": "markdown",
   "id": "c7289629",
   "metadata": {},
   "source": [
    "### <font color='orange'>Общее впечатление (ревью 2)</font>\n",
    "* После исправлений проект улучшился и теперь он может быть зачтен.\n",
    "* Для удобства все новые комментарии обозначены фразой \"ревью 2\".\n",
    "* Удачи в дальнейшем обучении и следующих работах!"
   ]
  },
  {
   "cell_type": "markdown",
   "id": "fc231616",
   "metadata": {},
   "source": [
    "# Такси"
   ]
  },
  {
   "cell_type": "markdown",
   "id": "12c088b2",
   "metadata": {},
   "source": [
    "## Введение"
   ]
  },
  {
   "cell_type": "markdown",
   "id": "4bb3890a",
   "metadata": {},
   "source": [
    "Компания «Чётенькое такси» собрала исторические данные о заказах такси в аэропортах. Чтобы привлекать больше водителей в период пиковой нагрузки, нужно спрогнозировать количество заказов такси на следующий час. Значение метрики RMSE на тестовой выборке должно быть не больше 48."
   ]
  },
  {
   "cell_type": "markdown",
   "id": "b259f186",
   "metadata": {},
   "source": [
    "**План**\n",
    "\n",
    "1. EDA\n",
    "2. Data engineering\n",
    "3. Modeling"
   ]
  },
  {
   "cell_type": "markdown",
   "id": "ed695727",
   "metadata": {},
   "source": [
    "### import"
   ]
  },
  {
   "cell_type": "code",
   "execution_count": 10,
   "id": "ed7a85f2",
   "metadata": {},
   "outputs": [],
   "source": [
    "from sklearn.experimental import enable_hist_gradient_boosting"
   ]
  },
  {
   "cell_type": "code",
   "execution_count": 12,
   "id": "3389ec08",
   "metadata": {},
   "outputs": [],
   "source": [
    "# импорт функций\n",
    "\n",
    "import pandas as pd\n",
    "import matplotlib.pyplot as plt\n",
    "import seaborn as sns\n",
    "import numpy as np\n",
    "import plotly.express as px\n",
    "import catboost as cb\n",
    "\n",
    "# модели\n",
    "from sklearn.ensemble import RandomForestRegressor\n",
    "from sklearn.linear_model import LinearRegression, RidgeCV\n",
    "from sklearn.dummy import DummyRegressor\n",
    "from catboost import CatBoostRegressor\n",
    "from sklearn.ensemble import HistGradientBoostingRegressor\n",
    "\n",
    "# работа с данными\n",
    "from sklearn.model_selection import train_test_split, TimeSeriesSplit\n",
    "from sklearn.model_selection import cross_validate\n",
    "from sklearn.preprocessing import MinMaxScaler, StandardScaler\n",
    "from sklearn.compose import make_column_transformer\n",
    "from sklearn.compose import ColumnTransformer\n",
    "from statsmodels.tsa.seasonal import seasonal_decompose\n",
    "\n",
    "\n",
    "# pipeline\n",
    "from sklearn.model_selection import GridSearchCV, RandomizedSearchCV\n",
    "\n",
    "# score\n",
    "from sklearn.metrics import mean_squared_error, make_scorer\n",
    "\n",
    "# отключаем предупреждения\n",
    "import warnings\n",
    "warnings.filterwarnings('ignore')"
   ]
  },
  {
   "cell_type": "markdown",
   "id": "126c213a",
   "metadata": {},
   "source": [
    "<div class=\"alert alert-block alert-success\">\n",
    "<b>Успех:</b> Отлично, что все импорты собраны в первой ячейке ноутбука! Если у того, кто будет запускать твой ноутбук будут отсутствовать некоторые библиотеки, то он это увидит сразу, а не в процессе!\n",
    "</div>"
   ]
  },
  {
   "cell_type": "markdown",
   "id": "22f8afa7",
   "metadata": {},
   "source": [
    "## EDA"
   ]
  },
  {
   "cell_type": "markdown",
   "id": "82719d7f",
   "metadata": {},
   "source": [
    "### Загрузка датасета и первичный осмотр данных"
   ]
  },
  {
   "cell_type": "code",
   "execution_count": 2,
   "id": "8f2ae3d6",
   "metadata": {},
   "outputs": [],
   "source": [
    "try:\n",
    "    data = pd.read_csv('taxi.csv', index_col='datetime', parse_dates=True)\n",
    "except:\n",
    "    data = pd.read_csv('https://code.s3.yandex.net/datasets/taxi.csv', index_col='datetime', parse_dates=True)\n",
    "    "
   ]
  },
  {
   "cell_type": "code",
   "execution_count": 3,
   "id": "cc0276a1",
   "metadata": {
    "scrolled": true
   },
   "outputs": [
    {
     "data": {
      "text/html": [
       "<div>\n",
       "<style scoped>\n",
       "    .dataframe tbody tr th:only-of-type {\n",
       "        vertical-align: middle;\n",
       "    }\n",
       "\n",
       "    .dataframe tbody tr th {\n",
       "        vertical-align: top;\n",
       "    }\n",
       "\n",
       "    .dataframe thead th {\n",
       "        text-align: right;\n",
       "    }\n",
       "</style>\n",
       "<table border=\"1\" class=\"dataframe\">\n",
       "  <thead>\n",
       "    <tr style=\"text-align: right;\">\n",
       "      <th></th>\n",
       "      <th>num_orders</th>\n",
       "    </tr>\n",
       "    <tr>\n",
       "      <th>datetime</th>\n",
       "      <th></th>\n",
       "    </tr>\n",
       "  </thead>\n",
       "  <tbody>\n",
       "    <tr>\n",
       "      <th>2018-03-01 00:00:00</th>\n",
       "      <td>9</td>\n",
       "    </tr>\n",
       "    <tr>\n",
       "      <th>2018-03-01 00:10:00</th>\n",
       "      <td>14</td>\n",
       "    </tr>\n",
       "    <tr>\n",
       "      <th>2018-03-01 00:20:00</th>\n",
       "      <td>28</td>\n",
       "    </tr>\n",
       "    <tr>\n",
       "      <th>2018-03-01 00:30:00</th>\n",
       "      <td>20</td>\n",
       "    </tr>\n",
       "    <tr>\n",
       "      <th>2018-03-01 00:40:00</th>\n",
       "      <td>32</td>\n",
       "    </tr>\n",
       "    <tr>\n",
       "      <th>2018-03-01 00:50:00</th>\n",
       "      <td>21</td>\n",
       "    </tr>\n",
       "    <tr>\n",
       "      <th>2018-03-01 01:00:00</th>\n",
       "      <td>7</td>\n",
       "    </tr>\n",
       "    <tr>\n",
       "      <th>2018-03-01 01:10:00</th>\n",
       "      <td>5</td>\n",
       "    </tr>\n",
       "    <tr>\n",
       "      <th>2018-03-01 01:20:00</th>\n",
       "      <td>17</td>\n",
       "    </tr>\n",
       "    <tr>\n",
       "      <th>2018-03-01 01:30:00</th>\n",
       "      <td>12</td>\n",
       "    </tr>\n",
       "    <tr>\n",
       "      <th>2018-03-01 01:40:00</th>\n",
       "      <td>19</td>\n",
       "    </tr>\n",
       "    <tr>\n",
       "      <th>2018-03-01 01:50:00</th>\n",
       "      <td>25</td>\n",
       "    </tr>\n",
       "    <tr>\n",
       "      <th>2018-03-01 02:00:00</th>\n",
       "      <td>22</td>\n",
       "    </tr>\n",
       "    <tr>\n",
       "      <th>2018-03-01 02:10:00</th>\n",
       "      <td>12</td>\n",
       "    </tr>\n",
       "    <tr>\n",
       "      <th>2018-03-01 02:20:00</th>\n",
       "      <td>19</td>\n",
       "    </tr>\n",
       "    <tr>\n",
       "      <th>2018-03-01 02:30:00</th>\n",
       "      <td>8</td>\n",
       "    </tr>\n",
       "    <tr>\n",
       "      <th>2018-03-01 02:40:00</th>\n",
       "      <td>6</td>\n",
       "    </tr>\n",
       "    <tr>\n",
       "      <th>2018-03-01 02:50:00</th>\n",
       "      <td>4</td>\n",
       "    </tr>\n",
       "    <tr>\n",
       "      <th>2018-03-01 03:00:00</th>\n",
       "      <td>8</td>\n",
       "    </tr>\n",
       "    <tr>\n",
       "      <th>2018-03-01 03:10:00</th>\n",
       "      <td>17</td>\n",
       "    </tr>\n",
       "  </tbody>\n",
       "</table>\n",
       "</div>"
      ],
      "text/plain": [
       "                     num_orders\n",
       "datetime                       \n",
       "2018-03-01 00:00:00           9\n",
       "2018-03-01 00:10:00          14\n",
       "2018-03-01 00:20:00          28\n",
       "2018-03-01 00:30:00          20\n",
       "2018-03-01 00:40:00          32\n",
       "2018-03-01 00:50:00          21\n",
       "2018-03-01 01:00:00           7\n",
       "2018-03-01 01:10:00           5\n",
       "2018-03-01 01:20:00          17\n",
       "2018-03-01 01:30:00          12\n",
       "2018-03-01 01:40:00          19\n",
       "2018-03-01 01:50:00          25\n",
       "2018-03-01 02:00:00          22\n",
       "2018-03-01 02:10:00          12\n",
       "2018-03-01 02:20:00          19\n",
       "2018-03-01 02:30:00           8\n",
       "2018-03-01 02:40:00           6\n",
       "2018-03-01 02:50:00           4\n",
       "2018-03-01 03:00:00           8\n",
       "2018-03-01 03:10:00          17"
      ]
     },
     "execution_count": 3,
     "metadata": {},
     "output_type": "execute_result"
    }
   ],
   "source": [
    "data.head(20)"
   ]
  },
  {
   "cell_type": "code",
   "execution_count": 4,
   "id": "d029c356",
   "metadata": {
    "scrolled": true
   },
   "outputs": [
    {
     "name": "stdout",
     "output_type": "stream",
     "text": [
      "<class 'pandas.core.frame.DataFrame'>\n",
      "DatetimeIndex: 26496 entries, 2018-03-01 00:00:00 to 2018-08-31 23:50:00\n",
      "Data columns (total 1 columns):\n",
      " #   Column      Non-Null Count  Dtype\n",
      "---  ------      --------------  -----\n",
      " 0   num_orders  26496 non-null  int64\n",
      "dtypes: int64(1)\n",
      "memory usage: 414.0 KB\n"
     ]
    }
   ],
   "source": [
    "data.info()"
   ]
  },
  {
   "cell_type": "code",
   "execution_count": 5,
   "id": "bf1b0da6",
   "metadata": {
    "scrolled": true
   },
   "outputs": [
    {
     "data": {
      "text/html": [
       "<div>\n",
       "<style scoped>\n",
       "    .dataframe tbody tr th:only-of-type {\n",
       "        vertical-align: middle;\n",
       "    }\n",
       "\n",
       "    .dataframe tbody tr th {\n",
       "        vertical-align: top;\n",
       "    }\n",
       "\n",
       "    .dataframe thead th {\n",
       "        text-align: right;\n",
       "    }\n",
       "</style>\n",
       "<table border=\"1\" class=\"dataframe\">\n",
       "  <thead>\n",
       "    <tr style=\"text-align: right;\">\n",
       "      <th></th>\n",
       "      <th>count</th>\n",
       "      <th>mean</th>\n",
       "      <th>std</th>\n",
       "      <th>min</th>\n",
       "      <th>25%</th>\n",
       "      <th>50%</th>\n",
       "      <th>75%</th>\n",
       "      <th>max</th>\n",
       "    </tr>\n",
       "  </thead>\n",
       "  <tbody>\n",
       "    <tr>\n",
       "      <th>num_orders</th>\n",
       "      <td>26496.0</td>\n",
       "      <td>14.070463</td>\n",
       "      <td>9.21133</td>\n",
       "      <td>0.0</td>\n",
       "      <td>8.0</td>\n",
       "      <td>13.0</td>\n",
       "      <td>19.0</td>\n",
       "      <td>119.0</td>\n",
       "    </tr>\n",
       "  </tbody>\n",
       "</table>\n",
       "</div>"
      ],
      "text/plain": [
       "              count       mean      std  min  25%   50%   75%    max\n",
       "num_orders  26496.0  14.070463  9.21133  0.0  8.0  13.0  19.0  119.0"
      ]
     },
     "execution_count": 5,
     "metadata": {},
     "output_type": "execute_result"
    }
   ],
   "source": [
    "data.describe().T"
   ]
  },
  {
   "cell_type": "markdown",
   "id": "b9c8a910",
   "metadata": {},
   "source": [
    "Признаки:\n",
    "- num_orders — количество заказов"
   ]
  },
  {
   "cell_type": "markdown",
   "id": "78da7e5f",
   "metadata": {},
   "source": [
    "Вывод: пропусков нет."
   ]
  },
  {
   "cell_type": "markdown",
   "id": "d8ccb385",
   "metadata": {},
   "source": [
    "### Resemple"
   ]
  },
  {
   "cell_type": "code",
   "execution_count": 6,
   "id": "c5690f14",
   "metadata": {
    "scrolled": true
   },
   "outputs": [],
   "source": [
    "data = data.resample('1H').sum()"
   ]
  },
  {
   "cell_type": "code",
   "execution_count": 7,
   "id": "3ecf815a",
   "metadata": {
    "scrolled": true
   },
   "outputs": [
    {
     "data": {
      "image/png": "[encoded data removed]",
      "text/plain": [
       "<Figure size 432x288 with 1 Axes>"
      ]
     },
     "metadata": {
      "needs_background": "light"
     },
     "output_type": "display_data"
    }
   ],
   "source": [
    "data.plot(xlabel='дата', ylabel='количество заказов', title='График заказов');"
   ]
  },
  {
   "cell_type": "code",
   "execution_count": 13,
   "id": "656562e4",
   "metadata": {
    "scrolled": true
   },
   "outputs": [],
   "source": [
    "decomposed = seasonal_decompose(data) "
   ]
  },
  {
   "cell_type": "code",
   "execution_count": 15,
   "id": "2218ebce",
   "metadata": {},
   "outputs": [
    {
     "data": {
      "image/png": "[encoded data removed]",
      "text/plain": [
       "<Figure size 432x576 with 2 Axes>"
      ]
     },
     "metadata": {
      "needs_background": "light"
     },
     "output_type": "display_data"
    }
   ],
   "source": [
    "plt.figure(figsize=(6, 8))\n",
    "plt.subplot(311)\n",
    "decomposed.trend.plot(ax=plt.gca())\n",
    "plt.title('Trend')\n",
    "plt.subplot(312)\n",
    "decomposed.seasonal.plot(ax=plt.gca()) \n",
    "plt.title('Seasonality')\n",
    "plt.tight_layout()"
   ]
  },
  {
   "cell_type": "code",
   "execution_count": 20,
   "id": "ec9d6915",
   "metadata": {},
   "outputs": [
    {
     "data": {
      "image/png": "[encoded data removed]",
      "text/plain": [
       "<Figure size 432x288 with 1 Axes>"
      ]
     },
     "metadata": {
      "needs_background": "light"
     },
     "output_type": "display_data"
    }
   ],
   "source": [
    "decomposed.seasonal['2018-04-01':'2018-04-03'].plot() \n",
    "plt.title('Seasonality');"
   ]
  },
  {
   "cell_type": "markdown",
   "id": "fa8aeebf",
   "metadata": {},
   "source": [
    "Вывод: на графике тренда мы видим рост количества заказов. Сезонность имеет дневной характер."
   ]
  },
  {
   "cell_type": "markdown",
   "id": "333b2660",
   "metadata": {},
   "source": [
    "<div class=\"alert alert-block alert-success\">\n",
    "<b>Успех:</b> Данные загружены корреткно. Радует, что баланс классов был изучен.\n",
    "</div>\n",
    "\n",
    "\n",
    "<div class=\"alert alert-block alert-danger\">\n",
    "<b>Ошибка:</b> Пожалуйста проведи сезонную декомпозицию, построй графики тренда и сезонности, сделай выводы.\n",
    "</div>"
   ]
  },
  {
   "cell_type": "markdown",
   "id": "2b6d6606",
   "metadata": {},
   "source": [
    "<div class=\"alert alert-block alert-warning\">\n",
    "<b>Изменения:</b> Добавил графики сезонности тренда и вывод.\n",
    "</div>"
   ]
  },
  {
   "cell_type": "markdown",
   "id": "2b49cf9c",
   "metadata": {},
   "source": [
    "<div class=\"alert alert-block alert-success\">\n",
    "<b>Успех (ревью 2):</b> Отлично, молодец!\n",
    "</div>"
   ]
  },
  {
   "cell_type": "markdown",
   "id": "ecdef83b",
   "metadata": {},
   "source": [
    "### Добавляем фичи"
   ]
  },
  {
   "cell_type": "code",
   "execution_count": 21,
   "id": "1db0c168",
   "metadata": {},
   "outputs": [],
   "source": [
    "def make_features(data, max_lag, rolling_mean_size):\n",
    "    data['year'] = data.index.year\n",
    "    data['month'] = data.index.month\n",
    "    data['day'] = data.index.day\n",
    "    data['dayofweek'] = data.index.dayofweek\n",
    "    \n",
    "    for lag in range(1, max_lag + 1):\n",
    "        data['lag_{}'.format(lag)] = data['num_orders'].shift(lag)\n",
    "        \n",
    "    data['rolling_mean'] = data['num_orders'].shift().rolling(rolling_mean_size).mean()\n",
    "        \n",
    "    \n",
    "\n",
    "make_features(data, 24,24)"
   ]
  },
  {
   "cell_type": "markdown",
   "id": "d7473793",
   "metadata": {},
   "source": [
    "<div class=\"alert alert-block alert-info\">\n",
    "<b>Совет: </b> Желательно было написать функцию таким образом, чтобы она возвращала новый датафрейм, а не изменяла глобальную переменную.\n",
    "</div>"
   ]
  },
  {
   "cell_type": "markdown",
   "id": "d9928f7f",
   "metadata": {},
   "source": [
    "### Вывод\n",
    "\n",
    "Мы добавили фичи для прогнозирования. Можно риступать к моделированию."
   ]
  },
  {
   "cell_type": "markdown",
   "id": "e904bc2a",
   "metadata": {},
   "source": [
    "## Modeling"
   ]
  },
  {
   "cell_type": "code",
   "execution_count": 22,
   "id": "40e3cdb4",
   "metadata": {
    "scrolled": true
   },
   "outputs": [
    {
     "name": "stdout",
     "output_type": "stream",
     "text": [
      "<class 'pandas.core.frame.DataFrame'>\n",
      "DatetimeIndex: 4416 entries, 2018-03-01 00:00:00 to 2018-08-31 23:00:00\n",
      "Freq: H\n",
      "Data columns (total 30 columns):\n",
      " #   Column        Non-Null Count  Dtype  \n",
      "---  ------        --------------  -----  \n",
      " 0   num_orders    4416 non-null   int64  \n",
      " 1   year          4416 non-null   int64  \n",
      " 2   month         4416 non-null   int64  \n",
      " 3   day           4416 non-null   int64  \n",
      " 4   dayofweek     4416 non-null   int64  \n",
      " 5   lag_1         4415 non-null   float64\n",
      " 6   lag_2         4414 non-null   float64\n",
      " 7   lag_3         4413 non-null   float64\n",
      " 8   lag_4         4412 non-null   float64\n",
      " 9   lag_5         4411 non-null   float64\n",
      " 10  lag_6         4410 non-null   float64\n",
      " 11  lag_7         4409 non-null   float64\n",
      " 12  lag_8         4408 non-null   float64\n",
      " 13  lag_9         4407 non-null   float64\n",
      " 14  lag_10        4406 non-null   float64\n",
      " 15  lag_11        4405 non-null   float64\n",
      " 16  lag_12        4404 non-null   float64\n",
      " 17  lag_13        4403 non-null   float64\n",
      " 18  lag_14        4402 non-null   float64\n",
      " 19  lag_15        4401 non-null   float64\n",
      " 20  lag_16        4400 non-null   float64\n",
      " 21  lag_17        4399 non-null   float64\n",
      " 22  lag_18        4398 non-null   float64\n",
      " 23  lag_19        4397 non-null   float64\n",
      " 24  lag_20        4396 non-null   float64\n",
      " 25  lag_21        4395 non-null   float64\n",
      " 26  lag_22        4394 non-null   float64\n",
      " 27  lag_23        4393 non-null   float64\n",
      " 28  lag_24        4392 non-null   float64\n",
      " 29  rolling_mean  4392 non-null   float64\n",
      "dtypes: float64(25), int64(5)\n",
      "memory usage: 1.0 MB\n"
     ]
    }
   ],
   "source": [
    "data.info()"
   ]
  },
  {
   "cell_type": "code",
   "execution_count": 23,
   "id": "ab3d8170",
   "metadata": {
    "scrolled": false
   },
   "outputs": [
    {
     "data": {
      "text/html": [
       "<div>\n",
       "<style scoped>\n",
       "    .dataframe tbody tr th:only-of-type {\n",
       "        vertical-align: middle;\n",
       "    }\n",
       "\n",
       "    .dataframe tbody tr th {\n",
       "        vertical-align: top;\n",
       "    }\n",
       "\n",
       "    .dataframe thead th {\n",
       "        text-align: right;\n",
       "    }\n",
       "</style>\n",
       "<table border=\"1\" class=\"dataframe\">\n",
       "  <thead>\n",
       "    <tr style=\"text-align: right;\">\n",
       "      <th></th>\n",
       "      <th>num_orders</th>\n",
       "      <th>year</th>\n",
       "      <th>month</th>\n",
       "      <th>day</th>\n",
       "      <th>dayofweek</th>\n",
       "      <th>lag_1</th>\n",
       "      <th>lag_2</th>\n",
       "      <th>lag_3</th>\n",
       "      <th>lag_4</th>\n",
       "      <th>lag_5</th>\n",
       "      <th>...</th>\n",
       "      <th>lag_16</th>\n",
       "      <th>lag_17</th>\n",
       "      <th>lag_18</th>\n",
       "      <th>lag_19</th>\n",
       "      <th>lag_20</th>\n",
       "      <th>lag_21</th>\n",
       "      <th>lag_22</th>\n",
       "      <th>lag_23</th>\n",
       "      <th>lag_24</th>\n",
       "      <th>rolling_mean</th>\n",
       "    </tr>\n",
       "    <tr>\n",
       "      <th>datetime</th>\n",
       "      <th></th>\n",
       "      <th></th>\n",
       "      <th></th>\n",
       "      <th></th>\n",
       "      <th></th>\n",
       "      <th></th>\n",
       "      <th></th>\n",
       "      <th></th>\n",
       "      <th></th>\n",
       "      <th></th>\n",
       "      <th></th>\n",
       "      <th></th>\n",
       "      <th></th>\n",
       "      <th></th>\n",
       "      <th></th>\n",
       "      <th></th>\n",
       "      <th></th>\n",
       "      <th></th>\n",
       "      <th></th>\n",
       "      <th></th>\n",
       "      <th></th>\n",
       "    </tr>\n",
       "  </thead>\n",
       "  <tbody>\n",
       "    <tr>\n",
       "      <th>2018-03-01 00:00:00</th>\n",
       "      <td>124</td>\n",
       "      <td>2018</td>\n",
       "      <td>3</td>\n",
       "      <td>1</td>\n",
       "      <td>3</td>\n",
       "      <td>NaN</td>\n",
       "      <td>NaN</td>\n",
       "      <td>NaN</td>\n",
       "      <td>NaN</td>\n",
       "      <td>NaN</td>\n",
       "      <td>...</td>\n",
       "      <td>NaN</td>\n",
       "      <td>NaN</td>\n",
       "      <td>NaN</td>\n",
       "      <td>NaN</td>\n",
       "      <td>NaN</td>\n",
       "      <td>NaN</td>\n",
       "      <td>NaN</td>\n",
       "      <td>NaN</td>\n",
       "      <td>NaN</td>\n",
       "      <td>NaN</td>\n",
       "    </tr>\n",
       "    <tr>\n",
       "      <th>2018-03-01 01:00:00</th>\n",
       "      <td>85</td>\n",
       "      <td>2018</td>\n",
       "      <td>3</td>\n",
       "      <td>1</td>\n",
       "      <td>3</td>\n",
       "      <td>124.0</td>\n",
       "      <td>NaN</td>\n",
       "      <td>NaN</td>\n",
       "      <td>NaN</td>\n",
       "      <td>NaN</td>\n",
       "      <td>...</td>\n",
       "      <td>NaN</td>\n",
       "      <td>NaN</td>\n",
       "      <td>NaN</td>\n",
       "      <td>NaN</td>\n",
       "      <td>NaN</td>\n",
       "      <td>NaN</td>\n",
       "      <td>NaN</td>\n",
       "      <td>NaN</td>\n",
       "      <td>NaN</td>\n",
       "      <td>NaN</td>\n",
       "    </tr>\n",
       "    <tr>\n",
       "      <th>2018-03-01 02:00:00</th>\n",
       "      <td>71</td>\n",
       "      <td>2018</td>\n",
       "      <td>3</td>\n",
       "      <td>1</td>\n",
       "      <td>3</td>\n",
       "      <td>85.0</td>\n",
       "      <td>124.0</td>\n",
       "      <td>NaN</td>\n",
       "      <td>NaN</td>\n",
       "      <td>NaN</td>\n",
       "      <td>...</td>\n",
       "      <td>NaN</td>\n",
       "      <td>NaN</td>\n",
       "      <td>NaN</td>\n",
       "      <td>NaN</td>\n",
       "      <td>NaN</td>\n",
       "      <td>NaN</td>\n",
       "      <td>NaN</td>\n",
       "      <td>NaN</td>\n",
       "      <td>NaN</td>\n",
       "      <td>NaN</td>\n",
       "    </tr>\n",
       "    <tr>\n",
       "      <th>2018-03-01 03:00:00</th>\n",
       "      <td>66</td>\n",
       "      <td>2018</td>\n",
       "      <td>3</td>\n",
       "      <td>1</td>\n",
       "      <td>3</td>\n",
       "      <td>71.0</td>\n",
       "      <td>85.0</td>\n",
       "      <td>124.0</td>\n",
       "      <td>NaN</td>\n",
       "      <td>NaN</td>\n",
       "      <td>...</td>\n",
       "      <td>NaN</td>\n",
       "      <td>NaN</td>\n",
       "      <td>NaN</td>\n",
       "      <td>NaN</td>\n",
       "      <td>NaN</td>\n",
       "      <td>NaN</td>\n",
       "      <td>NaN</td>\n",
       "      <td>NaN</td>\n",
       "      <td>NaN</td>\n",
       "      <td>NaN</td>\n",
       "    </tr>\n",
       "    <tr>\n",
       "      <th>2018-03-01 04:00:00</th>\n",
       "      <td>43</td>\n",
       "      <td>2018</td>\n",
       "      <td>3</td>\n",
       "      <td>1</td>\n",
       "      <td>3</td>\n",
       "      <td>66.0</td>\n",
       "      <td>71.0</td>\n",
       "      <td>85.0</td>\n",
       "      <td>124.0</td>\n",
       "      <td>NaN</td>\n",
       "      <td>...</td>\n",
       "      <td>NaN</td>\n",
       "      <td>NaN</td>\n",
       "      <td>NaN</td>\n",
       "      <td>NaN</td>\n",
       "      <td>NaN</td>\n",
       "      <td>NaN</td>\n",
       "      <td>NaN</td>\n",
       "      <td>NaN</td>\n",
       "      <td>NaN</td>\n",
       "      <td>NaN</td>\n",
       "    </tr>\n",
       "  </tbody>\n",
       "</table>\n",
       "<p>5 rows × 30 columns</p>\n",
       "</div>"
      ],
      "text/plain": [
       "                     num_orders  year  month  day  dayofweek  lag_1  lag_2  \\\n",
       "datetime                                                                     \n",
       "2018-03-01 00:00:00         124  2018      3    1          3    NaN    NaN   \n",
       "2018-03-01 01:00:00          85  2018      3    1          3  124.0    NaN   \n",
       "2018-03-01 02:00:00          71  2018      3    1          3   85.0  124.0   \n",
       "2018-03-01 03:00:00          66  2018      3    1          3   71.0   85.0   \n",
       "2018-03-01 04:00:00          43  2018      3    1          3   66.0   71.0   \n",
       "\n",
       "                     lag_3  lag_4  lag_5  ...  lag_16  lag_17  lag_18  lag_19  \\\n",
       "datetime                                  ...                                   \n",
       "2018-03-01 00:00:00    NaN    NaN    NaN  ...     NaN     NaN     NaN     NaN   \n",
       "2018-03-01 01:00:00    NaN    NaN    NaN  ...     NaN     NaN     NaN     NaN   \n",
       "2018-03-01 02:00:00    NaN    NaN    NaN  ...     NaN     NaN     NaN     NaN   \n",
       "2018-03-01 03:00:00  124.0    NaN    NaN  ...     NaN     NaN     NaN     NaN   \n",
       "2018-03-01 04:00:00   85.0  124.0    NaN  ...     NaN     NaN     NaN     NaN   \n",
       "\n",
       "                     lag_20  lag_21  lag_22  lag_23  lag_24  rolling_mean  \n",
       "datetime                                                                   \n",
       "2018-03-01 00:00:00     NaN     NaN     NaN     NaN     NaN           NaN  \n",
       "2018-03-01 01:00:00     NaN     NaN     NaN     NaN     NaN           NaN  \n",
       "2018-03-01 02:00:00     NaN     NaN     NaN     NaN     NaN           NaN  \n",
       "2018-03-01 03:00:00     NaN     NaN     NaN     NaN     NaN           NaN  \n",
       "2018-03-01 04:00:00     NaN     NaN     NaN     NaN     NaN           NaN  \n",
       "\n",
       "[5 rows x 30 columns]"
      ]
     },
     "execution_count": 23,
     "metadata": {},
     "output_type": "execute_result"
    }
   ],
   "source": [
    "data.head()"
   ]
  },
  {
   "cell_type": "code",
   "execution_count": 24,
   "id": "0551f2d9",
   "metadata": {
    "scrolled": true
   },
   "outputs": [],
   "source": [
    "# удаляем пустые строки\n",
    "\n",
    "data.dropna(inplace=True)"
   ]
  },
  {
   "cell_type": "markdown",
   "id": "cc2d93df",
   "metadata": {},
   "source": [
    "выделяем таргет и разбиваем на трейн и тест"
   ]
  },
  {
   "cell_type": "code",
   "execution_count": 25,
   "id": "84f29886",
   "metadata": {},
   "outputs": [],
   "source": [
    "y = data['num_orders']\n",
    "X = data.drop('num_orders', axis=1)"
   ]
  },
  {
   "cell_type": "code",
   "execution_count": 26,
   "id": "06971217",
   "metadata": {},
   "outputs": [],
   "source": [
    "X_train, X_test, y_train, y_test = train_test_split(X, y, test_size=0.1, random_state=42, shuffle=False)"
   ]
  },
  {
   "cell_type": "markdown",
   "id": "d8d7948a",
   "metadata": {},
   "source": [
    "<div class=\"alert alert-block alert-success\">\n",
    "<b>Успех:</b> Разбиение было сделано корректно.\n",
    "</div>"
   ]
  },
  {
   "cell_type": "code",
   "execution_count": 27,
   "id": "f2bac302",
   "metadata": {},
   "outputs": [
    {
     "name": "stdout",
     "output_type": "stream",
     "text": [
      "(3952, 29)\n",
      "(440, 29)\n",
      "(3952,)\n",
      "(440,)\n"
     ]
    }
   ],
   "source": [
    "def print_shape(ds):\n",
    "    for i in ds:\n",
    "        print(i.shape)\n",
    "        \n",
    "print_shape([X_train, X_test, y_train, y_test])"
   ]
  },
  {
   "cell_type": "code",
   "execution_count": 28,
   "id": "7381c785",
   "metadata": {},
   "outputs": [],
   "source": [
    "# готовим TimeSeriesSplit для кросс-валидации\n",
    "\n",
    "ts_cv = TimeSeriesSplit(\n",
    "    n_splits=3,\n",
    "    gap=48\n",
    ")"
   ]
  },
  {
   "cell_type": "markdown",
   "id": "13433239",
   "metadata": {},
   "source": [
    "### Random forest"
   ]
  },
  {
   "cell_type": "code",
   "execution_count": 29,
   "id": "aeffdb25",
   "metadata": {},
   "outputs": [],
   "source": [
    "score = make_scorer(mean_squared_error, greater_is_better=False, squared=False)"
   ]
  },
  {
   "cell_type": "code",
   "execution_count": 30,
   "id": "5a961c20",
   "metadata": {},
   "outputs": [],
   "source": [
    "model_rfc = RandomForestRegressor(random_state=42)\n",
    "params = {'n_estimators': range(3, 200, 10),\n",
    "        'max_depth': range(3,50, 4),\n",
    "    'min_samples_split': range(2,50, 5),\n",
    "    'min_samples_leaf': range(2,50, 5),\n",
    "\n",
    "         }\n",
    "\n",
    "grid_cv = RandomizedSearchCV(model_rfc,\n",
    "                    params,\n",
    "                    n_iter=30,\n",
    "                    cv=ts_cv,\n",
    "                    verbose=10,\n",
    "                    random_state=123,\n",
    "                    scoring=score,\n",
    "                    n_jobs=-1,\n",
    "                         error_score='raise')\n",
    "\n",
    "\n"
   ]
  },
  {
   "cell_type": "markdown",
   "id": "2de52beb",
   "metadata": {},
   "source": [
    "<div class=\"alert alert-block alert-success\">\n",
    "<b>Успех:</b> Отлично, что для подбора параметров использовался метод основанный на кросс-валидации с подходящим под данные сплиттером.\n",
    "</div>"
   ]
  },
  {
   "cell_type": "code",
   "execution_count": 31,
   "id": "dd32c4c6",
   "metadata": {
    "scrolled": true
   },
   "outputs": [
    {
     "name": "stdout",
     "output_type": "stream",
     "text": [
      "Fitting 3 folds for each of 30 candidates, totalling 90 fits\n",
      "[CV 1/3; 1/30] START max_depth=39, min_samples_leaf=47, min_samples_split=42, n_estimators=63\n",
      "[CV 1/3; 1/30] END max_depth=39, min_samples_leaf=47, min_samples_split=42, n_estimators=63; total time=   0.3s\n",
      "[CV 2/3; 1/30] START max_depth=39, min_samples_leaf=47, min_samples_split=42, n_estimators=63\n",
      "[CV 2/3; 1/30] END max_depth=39, min_samples_leaf=47, min_samples_split=42, n_estimators=63; total time=   0.6s\n",
      "[CV 3/3; 1/30] START max_depth=39, min_samples_leaf=47, min_samples_split=42, n_estimators=63\n",
      "[CV 3/3; 1/30] END max_depth=39, min_samples_leaf=47, min_samples_split=42, n_estimators=63; total time=   0.9s\n",
      "[CV 1/3; 2/30] START max_depth=31, min_samples_leaf=42, min_samples_split=32, n_estimators=53\n",
      "[CV 1/3; 2/30] END max_depth=31, min_samples_leaf=42, min_samples_split=32, n_estimators=53; total time=   0.2s\n",
      "[CV 2/3; 2/30] START max_depth=31, min_samples_leaf=42, min_samples_split=32, n_estimators=53\n",
      "[CV 2/3; 2/30] END max_depth=31, min_samples_leaf=42, min_samples_split=32, n_estimators=53; total time=   0.5s\n",
      "[CV 3/3; 2/30] START max_depth=31, min_samples_leaf=42, min_samples_split=32, n_estimators=53\n",
      "[CV 3/3; 2/30] END max_depth=31, min_samples_leaf=42, min_samples_split=32, n_estimators=53; total time=   0.8s\n",
      "[CV 1/3; 3/30] START max_depth=35, min_samples_leaf=42, min_samples_split=32, n_estimators=103\n",
      "[CV 1/3; 3/30] END max_depth=35, min_samples_leaf=42, min_samples_split=32, n_estimators=103; total time=   0.5s\n",
      "[CV 2/3; 3/30] START max_depth=35, min_samples_leaf=42, min_samples_split=32, n_estimators=103\n",
      "[CV 2/3; 3/30] END max_depth=35, min_samples_leaf=42, min_samples_split=32, n_estimators=103; total time=   1.0s\n",
      "[CV 3/3; 3/30] START max_depth=35, min_samples_leaf=42, min_samples_split=32, n_estimators=103\n",
      "[CV 3/3; 3/30] END max_depth=35, min_samples_leaf=42, min_samples_split=32, n_estimators=103; total time=   1.5s\n",
      "[CV 1/3; 4/30] START max_depth=43, min_samples_leaf=42, min_samples_split=2, n_estimators=23\n",
      "[CV 1/3; 4/30] END max_depth=43, min_samples_leaf=42, min_samples_split=2, n_estimators=23; total time=   0.1s\n",
      "[CV 2/3; 4/30] START max_depth=43, min_samples_leaf=42, min_samples_split=2, n_estimators=23\n",
      "[CV 2/3; 4/30] END max_depth=43, min_samples_leaf=42, min_samples_split=2, n_estimators=23; total time=   0.2s\n",
      "[CV 3/3; 4/30] START max_depth=43, min_samples_leaf=42, min_samples_split=2, n_estimators=23\n",
      "[CV 3/3; 4/30] END max_depth=43, min_samples_leaf=42, min_samples_split=2, n_estimators=23; total time=   0.4s\n",
      "[CV 1/3; 5/30] START max_depth=31, min_samples_leaf=32, min_samples_split=42, n_estimators=173\n",
      "[CV 1/3; 5/30] END max_depth=31, min_samples_leaf=32, min_samples_split=42, n_estimators=173; total time=   0.8s\n",
      "[CV 2/3; 5/30] START max_depth=31, min_samples_leaf=32, min_samples_split=42, n_estimators=173\n",
      "[CV 2/3; 5/30] END max_depth=31, min_samples_leaf=32, min_samples_split=42, n_estimators=173; total time=   1.8s\n",
      "[CV 3/3; 5/30] START max_depth=31, min_samples_leaf=32, min_samples_split=42, n_estimators=173\n",
      "[CV 3/3; 5/30] END max_depth=31, min_samples_leaf=32, min_samples_split=42, n_estimators=173; total time=   2.7s\n",
      "[CV 1/3; 6/30] START max_depth=15, min_samples_leaf=42, min_samples_split=42, n_estimators=33\n",
      "[CV 1/3; 6/30] END max_depth=15, min_samples_leaf=42, min_samples_split=42, n_estimators=33; total time=   0.2s\n",
      "[CV 2/3; 6/30] START max_depth=15, min_samples_leaf=42, min_samples_split=42, n_estimators=33\n",
      "[CV 2/3; 6/30] END max_depth=15, min_samples_leaf=42, min_samples_split=42, n_estimators=33; total time=   0.3s\n",
      "[CV 3/3; 6/30] START max_depth=15, min_samples_leaf=42, min_samples_split=42, n_estimators=33\n",
      "[CV 3/3; 6/30] END max_depth=15, min_samples_leaf=42, min_samples_split=42, n_estimators=33; total time=   0.5s\n",
      "[CV 1/3; 7/30] START max_depth=27, min_samples_leaf=37, min_samples_split=7, n_estimators=153\n",
      "[CV 1/3; 7/30] END max_depth=27, min_samples_leaf=37, min_samples_split=7, n_estimators=153; total time=   0.7s\n",
      "[CV 2/3; 7/30] START max_depth=27, min_samples_leaf=37, min_samples_split=7, n_estimators=153\n",
      "[CV 2/3; 7/30] END max_depth=27, min_samples_leaf=37, min_samples_split=7, n_estimators=153; total time=   1.5s\n",
      "[CV 3/3; 7/30] START max_depth=27, min_samples_leaf=37, min_samples_split=7, n_estimators=153\n",
      "[CV 3/3; 7/30] END max_depth=27, min_samples_leaf=37, min_samples_split=7, n_estimators=153; total time=   2.3s\n",
      "[CV 1/3; 8/30] START max_depth=47, min_samples_leaf=42, min_samples_split=42, n_estimators=63\n",
      "[CV 1/3; 8/30] END max_depth=47, min_samples_leaf=42, min_samples_split=42, n_estimators=63; total time=   0.3s\n",
      "[CV 2/3; 8/30] START max_depth=47, min_samples_leaf=42, min_samples_split=42, n_estimators=63\n",
      "[CV 2/3; 8/30] END max_depth=47, min_samples_leaf=42, min_samples_split=42, n_estimators=63; total time=   0.6s\n",
      "[CV 3/3; 8/30] START max_depth=47, min_samples_leaf=42, min_samples_split=42, n_estimators=63\n",
      "[CV 3/3; 8/30] END max_depth=47, min_samples_leaf=42, min_samples_split=42, n_estimators=63; total time=   0.9s\n",
      "[CV 1/3; 9/30] START max_depth=47, min_samples_leaf=7, min_samples_split=12, n_estimators=13\n",
      "[CV 1/3; 9/30] END max_depth=47, min_samples_leaf=7, min_samples_split=12, n_estimators=13; total time=   0.1s\n",
      "[CV 2/3; 9/30] START max_depth=47, min_samples_leaf=7, min_samples_split=12, n_estimators=13\n",
      "[CV 2/3; 9/30] END max_depth=47, min_samples_leaf=7, min_samples_split=12, n_estimators=13; total time=   0.2s\n",
      "[CV 3/3; 9/30] START max_depth=47, min_samples_leaf=7, min_samples_split=12, n_estimators=13\n",
      "[CV 3/3; 9/30] END max_depth=47, min_samples_leaf=7, min_samples_split=12, n_estimators=13; total time=   0.3s\n",
      "[CV 1/3; 10/30] START max_depth=3, min_samples_leaf=2, min_samples_split=22, n_estimators=163\n",
      "[CV 1/3; 10/30] END max_depth=3, min_samples_leaf=2, min_samples_split=22, n_estimators=163; total time=   0.5s\n",
      "[CV 2/3; 10/30] START max_depth=3, min_samples_leaf=2, min_samples_split=22, n_estimators=163\n",
      "[CV 2/3; 10/30] END max_depth=3, min_samples_leaf=2, min_samples_split=22, n_estimators=163; total time=   0.9s\n",
      "[CV 3/3; 10/30] START max_depth=3, min_samples_leaf=2, min_samples_split=22, n_estimators=163\n",
      "[CV 3/3; 10/30] END max_depth=3, min_samples_leaf=2, min_samples_split=22, n_estimators=163; total time=   1.3s\n",
      "[CV 1/3; 11/30] START max_depth=47, min_samples_leaf=17, min_samples_split=12, n_estimators=13\n",
      "[CV 1/3; 11/30] END max_depth=47, min_samples_leaf=17, min_samples_split=12, n_estimators=13; total time=   0.1s\n",
      "[CV 2/3; 11/30] START max_depth=47, min_samples_leaf=17, min_samples_split=12, n_estimators=13\n",
      "[CV 2/3; 11/30] END max_depth=47, min_samples_leaf=17, min_samples_split=12, n_estimators=13; total time=   0.2s\n",
      "[CV 3/3; 11/30] START max_depth=47, min_samples_leaf=17, min_samples_split=12, n_estimators=13\n",
      "[CV 3/3; 11/30] END max_depth=47, min_samples_leaf=17, min_samples_split=12, n_estimators=13; total time=   0.2s\n",
      "[CV 1/3; 12/30] START max_depth=47, min_samples_leaf=27, min_samples_split=42, n_estimators=63\n",
      "[CV 1/3; 12/30] END max_depth=47, min_samples_leaf=27, min_samples_split=42, n_estimators=63; total time=   0.3s\n",
      "[CV 2/3; 12/30] START max_depth=47, min_samples_leaf=27, min_samples_split=42, n_estimators=63\n",
      "[CV 2/3; 12/30] END max_depth=47, min_samples_leaf=27, min_samples_split=42, n_estimators=63; total time=   0.7s\n",
      "[CV 3/3; 12/30] START max_depth=47, min_samples_leaf=27, min_samples_split=42, n_estimators=63\n",
      "[CV 3/3; 12/30] END max_depth=47, min_samples_leaf=27, min_samples_split=42, n_estimators=63; total time=   1.0s\n",
      "[CV 1/3; 13/30] START max_depth=43, min_samples_leaf=12, min_samples_split=32, n_estimators=73\n",
      "[CV 1/3; 13/30] END max_depth=43, min_samples_leaf=12, min_samples_split=32, n_estimators=73; total time=   0.4s\n",
      "[CV 2/3; 13/30] START max_depth=43, min_samples_leaf=12, min_samples_split=32, n_estimators=73\n",
      "[CV 2/3; 13/30] END max_depth=43, min_samples_leaf=12, min_samples_split=32, n_estimators=73; total time=   1.0s\n",
      "[CV 3/3; 13/30] START max_depth=43, min_samples_leaf=12, min_samples_split=32, n_estimators=73\n",
      "[CV 3/3; 13/30] END max_depth=43, min_samples_leaf=12, min_samples_split=32, n_estimators=73; total time=   1.4s\n",
      "[CV 1/3; 14/30] START max_depth=43, min_samples_leaf=12, min_samples_split=37, n_estimators=133\n",
      "[CV 1/3; 14/30] END max_depth=43, min_samples_leaf=12, min_samples_split=37, n_estimators=133; total time=   0.8s\n",
      "[CV 2/3; 14/30] START max_depth=43, min_samples_leaf=12, min_samples_split=37, n_estimators=133\n",
      "[CV 2/3; 14/30] END max_depth=43, min_samples_leaf=12, min_samples_split=37, n_estimators=133; total time=   1.7s\n",
      "[CV 3/3; 14/30] START max_depth=43, min_samples_leaf=12, min_samples_split=37, n_estimators=133\n",
      "[CV 3/3; 14/30] END max_depth=43, min_samples_leaf=12, min_samples_split=37, n_estimators=133; total time=   2.6s\n",
      "[CV 1/3; 15/30] START max_depth=11, min_samples_leaf=42, min_samples_split=17, n_estimators=43\n",
      "[CV 1/3; 15/30] END max_depth=11, min_samples_leaf=42, min_samples_split=17, n_estimators=43; total time=   0.2s\n",
      "[CV 2/3; 15/30] START max_depth=11, min_samples_leaf=42, min_samples_split=17, n_estimators=43\n",
      "[CV 2/3; 15/30] END max_depth=11, min_samples_leaf=42, min_samples_split=17, n_estimators=43; total time=   0.4s\n",
      "[CV 3/3; 15/30] START max_depth=11, min_samples_leaf=42, min_samples_split=17, n_estimators=43\n",
      "[CV 3/3; 15/30] END max_depth=11, min_samples_leaf=42, min_samples_split=17, n_estimators=43; total time=   0.6s\n",
      "[CV 1/3; 16/30] START max_depth=3, min_samples_leaf=22, min_samples_split=37, n_estimators=23\n",
      "[CV 1/3; 16/30] END max_depth=3, min_samples_leaf=22, min_samples_split=37, n_estimators=23; total time=   0.1s\n",
      "[CV 2/3; 16/30] START max_depth=3, min_samples_leaf=22, min_samples_split=37, n_estimators=23\n",
      "[CV 2/3; 16/30] END max_depth=3, min_samples_leaf=22, min_samples_split=37, n_estimators=23; total time=   0.1s\n",
      "[CV 3/3; 16/30] START max_depth=3, min_samples_leaf=22, min_samples_split=37, n_estimators=23\n",
      "[CV 3/3; 16/30] END max_depth=3, min_samples_leaf=22, min_samples_split=37, n_estimators=23; total time=   0.2s\n",
      "[CV 1/3; 17/30] START max_depth=47, min_samples_leaf=17, min_samples_split=37, n_estimators=123\n",
      "[CV 1/3; 17/30] END max_depth=47, min_samples_leaf=17, min_samples_split=37, n_estimators=123; total time=   0.7s\n",
      "[CV 2/3; 17/30] START max_depth=47, min_samples_leaf=17, min_samples_split=37, n_estimators=123\n",
      "[CV 2/3; 17/30] END max_depth=47, min_samples_leaf=17, min_samples_split=37, n_estimators=123; total time=   1.5s\n",
      "[CV 3/3; 17/30] START max_depth=47, min_samples_leaf=17, min_samples_split=37, n_estimators=123\n",
      "[CV 3/3; 17/30] END max_depth=47, min_samples_leaf=17, min_samples_split=37, n_estimators=123; total time=   2.4s\n",
      "[CV 1/3; 18/30] START max_depth=3, min_samples_leaf=2, min_samples_split=27, n_estimators=113\n",
      "[CV 1/3; 18/30] END max_depth=3, min_samples_leaf=2, min_samples_split=27, n_estimators=113; total time=   0.4s\n",
      "[CV 2/3; 18/30] START max_depth=3, min_samples_leaf=2, min_samples_split=27, n_estimators=113\n",
      "[CV 2/3; 18/30] END max_depth=3, min_samples_leaf=2, min_samples_split=27, n_estimators=113; total time=   0.6s\n",
      "[CV 3/3; 18/30] START max_depth=3, min_samples_leaf=2, min_samples_split=27, n_estimators=113\n",
      "[CV 3/3; 18/30] END max_depth=3, min_samples_leaf=2, min_samples_split=27, n_estimators=113; total time=   0.9s\n",
      "[CV 1/3; 19/30] START max_depth=7, min_samples_leaf=37, min_samples_split=22, n_estimators=13\n",
      "[CV 1/3; 19/30] END max_depth=7, min_samples_leaf=37, min_samples_split=22, n_estimators=13; total time=   0.1s\n",
      "[CV 2/3; 19/30] START max_depth=7, min_samples_leaf=37, min_samples_split=22, n_estimators=13\n",
      "[CV 2/3; 19/30] END max_depth=7, min_samples_leaf=37, min_samples_split=22, n_estimators=13; total time=   0.1s\n",
      "[CV 3/3; 19/30] START max_depth=7, min_samples_leaf=37, min_samples_split=22, n_estimators=13\n",
      "[CV 3/3; 19/30] END max_depth=7, min_samples_leaf=37, min_samples_split=22, n_estimators=13; total time=   0.2s\n",
      "[CV 1/3; 20/30] START max_depth=35, min_samples_leaf=42, min_samples_split=37, n_estimators=73\n",
      "[CV 1/3; 20/30] END max_depth=35, min_samples_leaf=42, min_samples_split=37, n_estimators=73; total time=   0.3s\n",
      "[CV 2/3; 20/30] START max_depth=35, min_samples_leaf=42, min_samples_split=37, n_estimators=73\n",
      "[CV 2/3; 20/30] END max_depth=35, min_samples_leaf=42, min_samples_split=37, n_estimators=73; total time=   0.7s\n",
      "[CV 3/3; 20/30] START max_depth=35, min_samples_leaf=42, min_samples_split=37, n_estimators=73\n",
      "[CV 3/3; 20/30] END max_depth=35, min_samples_leaf=42, min_samples_split=37, n_estimators=73; total time=   1.1s\n",
      "[CV 1/3; 21/30] START max_depth=7, min_samples_leaf=22, min_samples_split=22, n_estimators=143\n",
      "[CV 1/3; 21/30] END max_depth=7, min_samples_leaf=22, min_samples_split=22, n_estimators=143; total time=   0.7s\n",
      "[CV 2/3; 21/30] START max_depth=7, min_samples_leaf=22, min_samples_split=22, n_estimators=143\n",
      "[CV 2/3; 21/30] END max_depth=7, min_samples_leaf=22, min_samples_split=22, n_estimators=143; total time=   1.5s\n",
      "[CV 3/3; 21/30] START max_depth=7, min_samples_leaf=22, min_samples_split=22, n_estimators=143\n",
      "[CV 3/3; 21/30] END max_depth=7, min_samples_leaf=22, min_samples_split=22, n_estimators=143; total time=   2.3s\n",
      "[CV 1/3; 22/30] START max_depth=7, min_samples_leaf=32, min_samples_split=32, n_estimators=53\n",
      "[CV 1/3; 22/30] END max_depth=7, min_samples_leaf=32, min_samples_split=32, n_estimators=53; total time=   0.3s\n",
      "[CV 2/3; 22/30] START max_depth=7, min_samples_leaf=32, min_samples_split=32, n_estimators=53\n",
      "[CV 2/3; 22/30] END max_depth=7, min_samples_leaf=32, min_samples_split=32, n_estimators=53; total time=   0.5s\n",
      "[CV 3/3; 22/30] START max_depth=7, min_samples_leaf=32, min_samples_split=32, n_estimators=53\n",
      "[CV 3/3; 22/30] END max_depth=7, min_samples_leaf=32, min_samples_split=32, n_estimators=53; total time=   0.8s\n",
      "[CV 1/3; 23/30] START max_depth=31, min_samples_leaf=22, min_samples_split=37, n_estimators=43\n",
      "[CV 1/3; 23/30] END max_depth=31, min_samples_leaf=22, min_samples_split=37, n_estimators=43; total time=   0.2s\n",
      "[CV 2/3; 23/30] START max_depth=31, min_samples_leaf=22, min_samples_split=37, n_estimators=43\n",
      "[CV 2/3; 23/30] END max_depth=31, min_samples_leaf=22, min_samples_split=37, n_estimators=43; total time=   0.5s\n",
      "[CV 3/3; 23/30] START max_depth=31, min_samples_leaf=22, min_samples_split=37, n_estimators=43\n",
      "[CV 3/3; 23/30] END max_depth=31, min_samples_leaf=22, min_samples_split=37, n_estimators=43; total time=   0.8s\n",
      "[CV 1/3; 24/30] START max_depth=35, min_samples_leaf=37, min_samples_split=17, n_estimators=163\n",
      "[CV 1/3; 24/30] END max_depth=35, min_samples_leaf=37, min_samples_split=17, n_estimators=163; total time=   0.8s\n",
      "[CV 2/3; 24/30] START max_depth=35, min_samples_leaf=37, min_samples_split=17, n_estimators=163\n",
      "[CV 2/3; 24/30] END max_depth=35, min_samples_leaf=37, min_samples_split=17, n_estimators=163; total time=   1.6s\n",
      "[CV 3/3; 24/30] START max_depth=35, min_samples_leaf=37, min_samples_split=17, n_estimators=163\n",
      "[CV 3/3; 24/30] END max_depth=35, min_samples_leaf=37, min_samples_split=17, n_estimators=163; total time=   2.4s\n",
      "[CV 1/3; 25/30] START max_depth=15, min_samples_leaf=47, min_samples_split=47, n_estimators=53\n",
      "[CV 1/3; 25/30] END max_depth=15, min_samples_leaf=47, min_samples_split=47, n_estimators=53; total time=   0.2s\n",
      "[CV 2/3; 25/30] START max_depth=15, min_samples_leaf=47, min_samples_split=47, n_estimators=53\n",
      "[CV 2/3; 25/30] END max_depth=15, min_samples_leaf=47, min_samples_split=47, n_estimators=53; total time=   0.5s\n",
      "[CV 3/3; 25/30] START max_depth=15, min_samples_leaf=47, min_samples_split=47, n_estimators=53\n",
      "[CV 3/3; 25/30] END max_depth=15, min_samples_leaf=47, min_samples_split=47, n_estimators=53; total time=   0.7s\n",
      "[CV 1/3; 26/30] START max_depth=39, min_samples_leaf=7, min_samples_split=7, n_estimators=113\n",
      "[CV 1/3; 26/30] END max_depth=39, min_samples_leaf=7, min_samples_split=7, n_estimators=113; total time=   0.8s\n",
      "[CV 2/3; 26/30] START max_depth=39, min_samples_leaf=7, min_samples_split=7, n_estimators=113\n",
      "[CV 2/3; 26/30] END max_depth=39, min_samples_leaf=7, min_samples_split=7, n_estimators=113; total time=   1.8s\n",
      "[CV 3/3; 26/30] START max_depth=39, min_samples_leaf=7, min_samples_split=7, n_estimators=113\n",
      "[CV 3/3; 26/30] END max_depth=39, min_samples_leaf=7, min_samples_split=7, n_estimators=113; total time=   2.7s\n",
      "[CV 1/3; 27/30] START max_depth=27, min_samples_leaf=17, min_samples_split=32, n_estimators=193\n",
      "[CV 1/3; 27/30] END max_depth=27, min_samples_leaf=17, min_samples_split=32, n_estimators=193; total time=   1.2s\n",
      "[CV 2/3; 27/30] START max_depth=27, min_samples_leaf=17, min_samples_split=32, n_estimators=193\n",
      "[CV 2/3; 27/30] END max_depth=27, min_samples_leaf=17, min_samples_split=32, n_estimators=193; total time=   2.4s\n",
      "[CV 3/3; 27/30] START max_depth=27, min_samples_leaf=17, min_samples_split=32, n_estimators=193\n",
      "[CV 3/3; 27/30] END max_depth=27, min_samples_leaf=17, min_samples_split=32, n_estimators=193; total time=   3.7s\n",
      "[CV 1/3; 28/30] START max_depth=15, min_samples_leaf=12, min_samples_split=22, n_estimators=43\n",
      "[CV 1/3; 28/30] END max_depth=15, min_samples_leaf=12, min_samples_split=22, n_estimators=43; total time=   0.3s\n",
      "[CV 2/3; 28/30] START max_depth=15, min_samples_leaf=12, min_samples_split=22, n_estimators=43\n",
      "[CV 2/3; 28/30] END max_depth=15, min_samples_leaf=12, min_samples_split=22, n_estimators=43; total time=   0.6s\n",
      "[CV 3/3; 28/30] START max_depth=15, min_samples_leaf=12, min_samples_split=22, n_estimators=43\n",
      "[CV 3/3; 28/30] END max_depth=15, min_samples_leaf=12, min_samples_split=22, n_estimators=43; total time=   0.9s\n",
      "[CV 1/3; 29/30] START max_depth=35, min_samples_leaf=12, min_samples_split=7, n_estimators=33\n",
      "[CV 1/3; 29/30] END max_depth=35, min_samples_leaf=12, min_samples_split=7, n_estimators=33; total time=   0.2s\n",
      "[CV 2/3; 29/30] START max_depth=35, min_samples_leaf=12, min_samples_split=7, n_estimators=33\n",
      "[CV 2/3; 29/30] END max_depth=35, min_samples_leaf=12, min_samples_split=7, n_estimators=33; total time=   0.5s\n",
      "[CV 3/3; 29/30] START max_depth=35, min_samples_leaf=12, min_samples_split=7, n_estimators=33\n",
      "[CV 3/3; 29/30] END max_depth=35, min_samples_leaf=12, min_samples_split=7, n_estimators=33; total time=   0.7s\n",
      "[CV 1/3; 30/30] START max_depth=47, min_samples_leaf=27, min_samples_split=32, n_estimators=43\n",
      "[CV 1/3; 30/30] END max_depth=47, min_samples_leaf=27, min_samples_split=32, n_estimators=43; total time=   0.2s\n",
      "[CV 2/3; 30/30] START max_depth=47, min_samples_leaf=27, min_samples_split=32, n_estimators=43\n",
      "[CV 2/3; 30/30] END max_depth=47, min_samples_leaf=27, min_samples_split=32, n_estimators=43; total time=   0.5s\n",
      "[CV 3/3; 30/30] START max_depth=47, min_samples_leaf=27, min_samples_split=32, n_estimators=43\n",
      "[CV 3/3; 30/30] END max_depth=47, min_samples_leaf=27, min_samples_split=32, n_estimators=43; total time=   0.7s\n"
     ]
    }
   ],
   "source": [
    "model = grid_cv.fit(X_train, y_train)"
   ]
  },
  {
   "cell_type": "code",
   "execution_count": 32,
   "id": "98011848",
   "metadata": {
    "scrolled": false
   },
   "outputs": [
    {
     "data": {
      "text/plain": [
       "28.092794524036947"
      ]
     },
     "execution_count": 32,
     "metadata": {},
     "output_type": "execute_result"
    }
   ],
   "source": [
    "-model.best_score_"
   ]
  },
  {
   "cell_type": "markdown",
   "id": "410d8d37",
   "metadata": {},
   "source": [
    "### LinearReggression"
   ]
  },
  {
   "cell_type": "code",
   "execution_count": 33,
   "id": "c1c5c7da",
   "metadata": {
    "scrolled": true
   },
   "outputs": [
    {
     "data": {
      "text/plain": [
       "RidgeCV(alphas=array([ 0.1,  1. , 10. ]),\n",
       "        cv=TimeSeriesSplit(gap=48, max_train_size=None, n_splits=3, test_size=None),\n",
       "        scoring=make_scorer(mean_squared_error, greater_is_better=False, squared=False))"
      ]
     },
     "execution_count": 33,
     "metadata": {},
     "output_type": "execute_result"
    }
   ],
   "source": [
    "model_lr = RidgeCV(scoring=score, cv=ts_cv)\n",
    "model_lr.fit(X_train, y_train)\n"
   ]
  },
  {
   "cell_type": "code",
   "execution_count": 34,
   "id": "836669e4",
   "metadata": {},
   "outputs": [
    {
     "data": {
      "text/plain": [
       "27.59588060305639"
      ]
     },
     "execution_count": 34,
     "metadata": {},
     "output_type": "execute_result"
    }
   ],
   "source": [
    "-model_lr.best_score_"
   ]
  },
  {
   "cell_type": "markdown",
   "id": "ef367fc8",
   "metadata": {},
   "source": [
    "### CatBoost"
   ]
  },
  {
   "cell_type": "code",
   "execution_count": 35,
   "id": "61396834",
   "metadata": {},
   "outputs": [],
   "source": [
    "train_dataset = cb.Pool(X_train, \n",
    "                        y_train,\n",
    "#                         model_lr.predict(X_train) \n",
    "                        ) "
   ]
  },
  {
   "cell_type": "code",
   "execution_count": 36,
   "id": "a372c024",
   "metadata": {
    "scrolled": true
   },
   "outputs": [],
   "source": [
    "cb_model = CatBoostRegressor(\n",
    "            loss_function='RMSE',\n",
    "            eval_metric='RMSE',\n",
    "            learning_rate=0.01,\n",
    "            num_boost_round=1000,\n",
    "            early_stopping_rounds=10,\n",
    "            verbose=False,\n",
    "            random_seed=43,\n",
    "                            )\n"
   ]
  },
  {
   "cell_type": "code",
   "execution_count": 37,
   "id": "176dadc1",
   "metadata": {},
   "outputs": [
    {
     "data": {
      "text/plain": [
       "<catboost.core.CatBoostRegressor at 0x7fd59f2ff610>"
      ]
     },
     "execution_count": 37,
     "metadata": {},
     "output_type": "execute_result"
    }
   ],
   "source": [
    "cb_model.fit(X_train, y_train)"
   ]
  },
  {
   "cell_type": "code",
   "execution_count": 38,
   "id": "0243fbbf",
   "metadata": {},
   "outputs": [
    {
     "data": {
      "text/plain": [
       "20.342383947436783"
      ]
     },
     "execution_count": 38,
     "metadata": {},
     "output_type": "execute_result"
    }
   ],
   "source": [
    "cb_model.best_score_['learn']['RMSE']"
   ]
  },
  {
   "cell_type": "markdown",
   "id": "21e69410",
   "metadata": {},
   "source": [
    "###  HistGradientBoostingRegressor"
   ]
  },
  {
   "cell_type": "code",
   "execution_count": 39,
   "id": "96c0a866",
   "metadata": {},
   "outputs": [],
   "source": [
    "model_hgbr = HistGradientBoostingRegressor()    \n",
    "    \n",
    "cv_hgbr = cross_validate(\n",
    "        model_hgbr,\n",
    "        X_train,\n",
    "        y_train,\n",
    "        cv=ts_cv,\n",
    "        scoring=\"neg_root_mean_squared_error\",\n",
    "    )"
   ]
  },
  {
   "cell_type": "code",
   "execution_count": 40,
   "id": "a894d0c9",
   "metadata": {
    "scrolled": false
   },
   "outputs": [
    {
     "data": {
      "text/plain": [
       "27.854378584019173"
      ]
     },
     "execution_count": 40,
     "metadata": {},
     "output_type": "execute_result"
    }
   ],
   "source": [
    "-cv_hgbr['test_score'].mean()"
   ]
  },
  {
   "cell_type": "markdown",
   "id": "20a0a59e",
   "metadata": {},
   "source": [
    "### Вывод"
   ]
  },
  {
   "cell_type": "markdown",
   "id": "677f5167",
   "metadata": {},
   "source": [
    "Лучший результат показал CatBoostRegressor - 20.34"
   ]
  },
  {
   "cell_type": "markdown",
   "id": "accf2408",
   "metadata": {},
   "source": [
    "<div class=\"alert alert-block alert-success\">\n",
    "<b>Успех:</b> Молодец, что попробовал разные модели в этом шаге!\n",
    "</div>"
   ]
  },
  {
   "cell_type": "markdown",
   "id": "ecfed9d5",
   "metadata": {},
   "source": [
    "## Тестирование лучшей модели"
   ]
  },
  {
   "cell_type": "markdown",
   "id": "d4927452",
   "metadata": {},
   "source": [
    "### Проверка на адекватность"
   ]
  },
  {
   "cell_type": "code",
   "execution_count": 41,
   "id": "8220ef5d",
   "metadata": {
    "scrolled": true
   },
   "outputs": [
    {
     "data": {
      "text/plain": [
       "38.70541274453604"
      ]
     },
     "execution_count": 41,
     "metadata": {},
     "output_type": "execute_result"
    }
   ],
   "source": [
    "dummy = DummyRegressor()\n",
    "dummy.fit(X_train, y_train)\n",
    "mean_squared_error(y_train, dummy.predict(X_train), squared=False)"
   ]
  },
  {
   "cell_type": "markdown",
   "id": "6dbc194b",
   "metadata": {},
   "source": [
    "Наша модель показала результат лучше, чем болванка. Тест на адекватность пройден."
   ]
  },
  {
   "cell_type": "markdown",
   "id": "fa5fd41b",
   "metadata": {},
   "source": [
    "### Проверка на тестовых данных"
   ]
  },
  {
   "cell_type": "code",
   "execution_count": 48,
   "id": "47145a2e",
   "metadata": {},
   "outputs": [],
   "source": [
    "y_pred = cb_model.predict(X_test)"
   ]
  },
  {
   "cell_type": "code",
   "execution_count": 43,
   "id": "16bbf019",
   "metadata": {
    "scrolled": true
   },
   "outputs": [
    {
     "data": {
      "text/plain": [
       "43.148859807692524"
      ]
     },
     "execution_count": 43,
     "metadata": {},
     "output_type": "execute_result"
    }
   ],
   "source": [
    "mean_squared_error(y_test, y_pred, squared=False)"
   ]
  },
  {
   "cell_type": "markdown",
   "id": "d5a84138",
   "metadata": {},
   "source": [
    "Вывод: \n",
    "\n",
    "Модель показала значение метрики 43, что лучше чем необходимое значение по техническому заданию."
   ]
  },
  {
   "cell_type": "code",
   "execution_count": 49,
   "id": "c65cfab9",
   "metadata": {},
   "outputs": [],
   "source": [
    "y_pred = pd.Series(data=y_pred, index=y_test.index)"
   ]
  },
  {
   "cell_type": "code",
   "execution_count": 53,
   "id": "80f5d07d",
   "metadata": {},
   "outputs": [
    {
     "data": {
      "image/png": "[encoded data removed]",
      "text/plain": [
       "<Figure size 864x288 with 1 Axes>"
      ]
     },
     "metadata": {
      "needs_background": "light"
     },
     "output_type": "display_data"
    }
   ],
   "source": [
    "last_hours = slice(-40, None)\n",
    "fig, ax = plt.subplots(figsize=(12, 4))\n",
    "fig.suptitle(\"Сравнение предсказания с таргетом\")\n",
    "ax.plot(\n",
    "    y_test[last_hours],\n",
    "    \"x-\",\n",
    "    alpha=0.2,\n",
    "    label=\"Таргет\",\n",
    "    color=\"black\",\n",
    ")\n",
    "ax.plot(\n",
    "    y_pred[last_hours],\n",
    "    \"x-\",\n",
    "    label=\"Catboost_pred\",\n",
    ")\n",
    "_ = ax.legend()"
   ]
  },
  {
   "cell_type": "markdown",
   "id": "0861ac10",
   "metadata": {},
   "source": [
    "<div class=\"alert alert-block alert-success\">\n",
    "<b>Успех:</b> Тестирование было сделано правильно!\n",
    "</div>"
   ]
  },
  {
   "cell_type": "markdown",
   "id": "b082204d",
   "metadata": {},
   "source": [
    "<div class=\"alert alert-block alert-info\">\n",
    "<b>Совет: </b> Финальные предсказания можно было визуализирвоать: графики исходного и предсказанных рядов.\n",
    "</div>"
   ]
  },
  {
   "cell_type": "markdown",
   "id": "f28e81b4",
   "metadata": {},
   "source": [
    "<div class=\"alert alert-block alert-warning\">\n",
    "<b>Изменения:</b> Добавил график исходного и предсказанных рядов.\n",
    "</div>"
   ]
  },
  {
   "cell_type": "markdown",
   "id": "27a9be78",
   "metadata": {},
   "source": [
    "<div class=\"alert alert-block alert-success\">\n",
    "<b>Успех (ревью 2):</b> Спасибо!\n",
    "</div>"
   ]
  },
  {
   "cell_type": "markdown",
   "id": "17cee8e0",
   "metadata": {},
   "source": [
    "## Вывод"
   ]
  },
  {
   "cell_type": "markdown",
   "id": "324dc184",
   "metadata": {},
   "source": [
    "В данном проекте мы строили модель прогнозирования количества заказов. \n",
    "\n",
    "На входе мы получили данные о заказах. В ходе подготовки данные были ресемплерованы с периодом 1 час. Для прогнозирования были добавлены столбцы со значениями отстающих данных, скользящего срднего и календарные признаки.\n",
    "\n",
    "Были построены 4 модели со следующими параметрами на выходе:\n",
    "\n",
    "| model        | RMSE       | \n",
    "| :----------- |:-----------| \n",
    "| RandomForest | 28.09      | \n",
    "| Ridge        | 27.59      | \n",
    "| CatBoost     | 20.34      |\n",
    "| HGBRegressor | 27.85      |\n",
    "\n",
    "\n",
    "Лучший результат показал CatBoostRegressor - 20.34\n",
    "\n",
    "На тестовой выборке лучшая модель показала RMSE = 43, что превосходит необходимое значение по техническому заданию.\n",
    "\n"
   ]
  },
  {
   "cell_type": "markdown",
   "id": "46202195",
   "metadata": {},
   "source": [
    "<div class=\"alert alert-block alert-success\">\n",
    "<b>Успех:</b> Приятно видеть вывод в конце проекта!\n",
    "</div>"
   ]
  }
 ],
 "metadata": {
  "ExecuteTimeLog": [
   {
    "duration": 1789,
    "start_time": "2023-01-18T02:11:23.306Z"
   },
   {
    "duration": 147,
    "start_time": "2023-01-18T02:11:25.403Z"
   },
   {
    "duration": 11,
    "start_time": "2023-01-18T02:11:26.225Z"
   },
   {
    "duration": 10,
    "start_time": "2023-01-18T02:11:26.464Z"
   },
   {
    "duration": 16,
    "start_time": "2023-01-18T02:11:26.729Z"
   },
   {
    "duration": 9,
    "start_time": "2023-01-18T02:11:28.494Z"
   },
   {
    "duration": 299,
    "start_time": "2023-01-18T02:11:29.060Z"
   },
   {
    "duration": 10,
    "start_time": "2023-01-18T02:11:49.982Z"
   },
   {
    "duration": 1121,
    "start_time": "2023-01-18T02:12:37.898Z"
   },
   {
    "duration": 12,
    "start_time": "2023-01-18T02:14:14.723Z"
   },
   {
    "duration": 43,
    "start_time": "2023-01-18T02:14:17.830Z"
   },
   {
    "duration": 6,
    "start_time": "2023-01-18T02:14:48.070Z"
   },
   {
    "duration": 8,
    "start_time": "2023-01-18T02:14:56.274Z"
   },
   {
    "duration": 705,
    "start_time": "2023-01-18T02:16:31.111Z"
   },
   {
    "duration": 510,
    "start_time": "2023-01-18T02:16:47.303Z"
   },
   {
    "duration": 324,
    "start_time": "2023-01-18T02:18:07.215Z"
   },
   {
    "duration": 390,
    "start_time": "2023-01-18T02:18:15.172Z"
   },
   {
    "duration": 201,
    "start_time": "2023-01-18T02:18:29.764Z"
   },
   {
    "duration": 153,
    "start_time": "2023-01-18T02:18:55.642Z"
   },
   {
    "duration": 147,
    "start_time": "2023-01-18T02:23:49.410Z"
   },
   {
    "duration": 23,
    "start_time": "2023-01-18T02:32:22.689Z"
   },
   {
    "duration": 17,
    "start_time": "2023-01-18T02:32:23.397Z"
   },
   {
    "duration": 22,
    "start_time": "2023-01-18T02:32:23.576Z"
   },
   {
    "duration": 9,
    "start_time": "2023-01-18T02:32:23.790Z"
   },
   {
    "duration": 4,
    "start_time": "2023-01-18T02:32:24.128Z"
   },
   {
    "duration": 6,
    "start_time": "2023-01-18T02:32:24.311Z"
   },
   {
    "duration": 4,
    "start_time": "2023-01-18T02:32:24.691Z"
   },
   {
    "duration": 3,
    "start_time": "2023-01-18T02:32:24.882Z"
   },
   {
    "duration": 3,
    "start_time": "2023-01-18T02:32:26.875Z"
   },
   {
    "duration": 4,
    "start_time": "2023-01-18T02:32:27.075Z"
   },
   {
    "duration": 79174,
    "start_time": "2023-01-18T02:32:27.826Z"
   },
   {
    "duration": 4,
    "start_time": "2023-01-18T02:33:47.003Z"
   },
   {
    "duration": 606,
    "start_time": "2023-01-18T02:33:47.013Z"
   },
   {
    "duration": 93,
    "start_time": "2023-01-18T02:33:47.621Z"
   },
   {
    "duration": 12,
    "start_time": "2023-01-18T02:33:47.716Z"
   },
   {
    "duration": 7,
    "start_time": "2023-01-18T02:33:47.729Z"
   },
   {
    "duration": 6541,
    "start_time": "2023-01-18T02:33:47.737Z"
   },
   {
    "duration": 4,
    "start_time": "2023-01-18T02:33:54.279Z"
   },
   {
    "duration": 13230,
    "start_time": "2023-01-18T02:33:54.285Z"
   },
   {
    "duration": 4,
    "start_time": "2023-01-18T02:34:07.518Z"
   },
   {
    "duration": 6,
    "start_time": "2023-01-18T02:34:07.524Z"
   },
   {
    "duration": 7,
    "start_time": "2023-01-18T02:34:07.532Z"
   },
   {
    "duration": 5,
    "start_time": "2023-01-18T02:34:07.540Z"
   },
   {
    "duration": 350,
    "start_time": "2023-01-18T02:34:07.547Z"
   },
   {
    "duration": 152,
    "start_time": "2023-01-18T02:34:17.043Z"
   },
   {
    "duration": 146,
    "start_time": "2023-01-18T02:34:42.144Z"
   },
   {
    "duration": 9,
    "start_time": "2023-01-18T02:35:03.260Z"
   },
   {
    "duration": 4,
    "start_time": "2023-01-18T02:35:11.706Z"
   },
   {
    "duration": 3,
    "start_time": "2023-01-18T02:37:35.825Z"
   },
   {
    "duration": 213,
    "start_time": "2023-01-18T02:37:39.058Z"
   },
   {
    "duration": 201,
    "start_time": "2023-01-18T02:38:00.730Z"
   },
   {
    "duration": 183,
    "start_time": "2023-01-18T02:39:43.928Z"
   },
   {
    "duration": 206,
    "start_time": "2023-01-18T02:39:49.701Z"
   }
  ],
  "kernelspec": {
   "display_name": "Python 3 (ipykernel)",
   "language": "python",
   "name": "python3"
  },
  "language_info": {
   "codemirror_mode": {
    "name": "ipython",
    "version": 3
   },
   "file_extension": ".py",
   "mimetype": "text/x-python",
   "name": "python",
   "nbconvert_exporter": "python",
   "pygments_lexer": "ipython3",
   "version": "3.9.5"
  },
  "toc": {
   "base_numbering": 1,
   "nav_menu": {},
   "number_sections": true,
   "sideBar": true,
   "skip_h1_title": true,
   "title_cell": "Table of Contents",
   "title_sidebar": "Contents",
   "toc_cell": false,
   "toc_position": {
    "height": "calc(100% - 180px)",
    "left": "10px",
    "top": "150px",
    "width": "409.6px"
   },
   "toc_section_display": true,
   "toc_window_display": false
  },
  "varInspector": {
   "cols": {
    "lenName": 16,
    "lenType": 16,
    "lenVar": 40
   },
   "kernels_config": {
    "python": {
     "delete_cmd_postfix": "",
     "delete_cmd_prefix": "del ",
     "library": "var_list.py",
     "varRefreshCmd": "print(var_dic_list())"
    },
    "r": {
     "delete_cmd_postfix": ") ",
     "delete_cmd_prefix": "rm(",
     "library": "var_list.r",
     "varRefreshCmd": "cat(var_dic_list()) "
    }
   },
   "types_to_exclude": [
    "module",
    "function",
    "builtin_function_or_method",
    "instance",
    "_Feature"
   ],
   "window_display": false
  }
 },
 "nbformat": 4,
 "nbformat_minor": 5
}
